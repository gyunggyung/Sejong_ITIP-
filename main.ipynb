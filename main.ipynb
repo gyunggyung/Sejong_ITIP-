{
 "cells": [
  {
   "cell_type": "markdown",
   "metadata": {},
   "source": [
    "## 라이브러리 import"
   ]
  },
  {
   "cell_type": "code",
   "execution_count": 56,
   "metadata": {},
   "outputs": [],
   "source": [
    "import matplotlib.pyplot as plt\n",
    "import matplotlib.image as mpimg\n",
    "import pandas as pd\n",
    "import numpy as np\n",
    "from urllib.parse import urlencode, quote_plus, unquote\n",
    "import json\n",
    "from urllib.request import *\n",
    "from xml.etree.ElementTree import *\n",
    "from math import *\n",
    "import datetime\n",
    "import pytz\n",
    "import gmaps\n",
    "import gmaps.datasets\n",
    "import datetime\n",
    "import time\n",
    "import re\n",
    "from bs4 import BeautifulSoup\n",
    "from selenium import webdriver\n",
    "from selenium.common.exceptions import NoSuchElementException"
   ]
  },
  {
   "cell_type": "markdown",
   "metadata": {},
   "source": [
    "## 현재 위치 가져오기"
   ]
  },
  {
   "cell_type": "code",
   "execution_count": 57,
   "metadata": {},
   "outputs": [],
   "source": [
    "driver = webdriver.Chrome('chromedriver.exe')\n",
    "\n",
    "def get_location():\n",
    "    driver.get(\"https://www.google.co.kr/maps\")\n",
    "    new_url = driver.current_url\n",
    "    while '/@' not in new_url:\n",
    "        time.sleep(0.5)\n",
    "        new_url = driver.current_url\n",
    "\n",
    "    driver.find_element_by_xpath(\"//button[@aria-label='내 위치 보기']\").click()\n",
    "    while new_url == driver.current_url:\n",
    "        time.sleep(0.3)\n",
    "    new_url = driver.current_url\n",
    "\n",
    "    while int(new_url.split(\"/@\")[1].split(\"z\")[0].split(\",\")[2]) < 20:\n",
    "        old_url = new_url\n",
    "        driver.find_element_by_xpath(\"//button[@aria-label='확대']\").click()\n",
    "        driver.implicitly_wait(3)\n",
    "        while old_url == driver.current_url:\n",
    "            time.sleep(0.3)\n",
    "        new_url = driver.current_url\n",
    "        print(new_url)\n",
    "    coordinate = new_url.split('/@')[1].split(',')[0:2]\n",
    "\n",
    "    driver.find_element_by_id(\"searchboxinput\").send_keys(\",\".join(coordinate))\n",
    "    driver.find_element_by_id(\"searchbox-searchbutton\").click()\n",
    "    driver.implicitly_wait(3)\n",
    "    while True:\n",
    "        time.sleep(0.5)\n",
    "        new_url = driver.current_url\n",
    "        print(new_url)\n",
    "        if \"search\" in new_url:\n",
    "            try:\n",
    "                driver.find_element_by_class_name(\"section-result\")\n",
    "            except NoSuchElementException:\n",
    "                print(\"redirecting\")\n",
    "        elif \"place\" in new_url:\n",
    "            try:\n",
    "                place = driver.find_element_by_xpath(\"//span[@class='widget-pane-link']\")\n",
    "            except NoSuchElementException:\n",
    "                print(\"loading\")\n",
    "                time.sleep(0.2)\n",
    "            else:\n",
    "                break\n",
    "    coordinate.reverse()\n",
    "    address = place.text.split(' ')\n",
    "    for s in address:\n",
    "        if s[-1] == '구':\n",
    "            coordinate.append(s)\n",
    "            break\n",
    "\n",
    "    return coordinate"
   ]
  },
  {
   "cell_type": "code",
   "execution_count": 58,
   "metadata": {},
   "outputs": [
    {
     "name": "stdout",
     "output_type": "stream",
     "text": [
      "https://www.google.co.kr/maps/@37.5505441,127.0722199,14z\n",
      "https://www.google.co.kr/maps/@37.5505441,127.0722199,15z\n",
      "https://www.google.co.kr/maps/@37.5505441,127.0722199,16z\n",
      "https://www.google.co.kr/maps/@37.5505441,127.0722199,17z\n",
      "https://www.google.co.kr/maps/@37.5505441,127.0722199,18z\n",
      "https://www.google.co.kr/maps/@37.5505441,127.0722199,19z\n",
      "https://www.google.co.kr/maps/@37.5505441,127.0722199,20z\n",
      "https://www.google.co.kr/maps/search/37.5505441,127.0722199/@37.5505441,127.0722199,20z\n",
      "redirecting\n",
      "https://www.google.co.kr/maps/search/37.5505441,127.0722199/@37.5505441,127.0722199,20z\n",
      "redirecting\n",
      "https://www.google.co.kr/maps/place/37%C2%B033'02.0%22N+127%C2%B004'20.0%22E/@37.5505441,127.0716727,19z/data=!3m1!4b1!4m5!3m4!1s0x0:0x0!8m2!3d37.5505441!4d127.0722199\n"
     ]
    }
   ],
   "source": [
    "Current_location = get_location()\n",
    "driver.close()"
   ]
  },
  {
   "cell_type": "code",
   "execution_count": 59,
   "metadata": {},
   "outputs": [],
   "source": [
    "Longitude, Latitude, stationName = Current_location\n",
    "Longitude, Latitude = float(Longitude), float(Latitude)"
   ]
  },
  {
   "cell_type": "markdown",
   "metadata": {},
   "source": [
    "## 날씨 가져오는 함수들"
   ]
  },
  {
   "cell_type": "code",
<<<<<<< HEAD
   "execution_count": 1,
   "metadata": {},
=======
   "execution_count": 61,
   "metadata": {
    "collapsed": true
   },
>>>>>>> a0869087bcacc2bd46b7628ad28d6193d1e345ac
   "outputs": [],
   "source": [
    "def get_weather_data(longi, latit, key=\"....\"):\n",
    "    grib_date, grib_time = get_grib_date()\n",
    "    grib_url = \"http://newsky2.kma.go.kr/service/SecndSrtpdFrcstInfoService2/ForecastGrib?\"\n",
    "    forecast_date, forecast_time = get_forecast_date()\n",
    "    forecast_url = \"http://newsky2.kma.go.kr/service/SecndSrtpdFrcstInfoService2/ForecastTimeData?\"\n",
    "    nx, ny = longitude_and_latitude_to_cartesian(longi, latit)\n",
    "\n",
    "    grib = urlopen(grib_url+\"serviceKey=\"+key+\"&base_date=\"+grib_date+\"&base_time=\"+grib_time+\"&nx=\"+nx+\"&ny=\"+ny).read().decode(\"utf-8\")\n",
    "    forecast = urlopen(forecast_url+\"serviceKey=\"+key+\"&base_date=\"+forecast_date+\"&base_time=\"+forecast_time+\"&nx=\"+nx+\"&ny=\"+ny).read().decode(\"utf-8\")\n",
    "\n",
    "    grib_data = fromstring(grib)  # 초단기 실황\n",
    "    forecast_data = fromstring(forecast)  # 초단기 예보\n",
    "    # 초단기 날씨 상황에는 정보 누락이 있을 수 있음\n",
    "\n",
    "    data_parsed = {\"T1H\":\"None\", \"RN1\":\"None\", \"PTY\":\"None\", \"SKY\":\"None\", \"LGT\":\"None\", \"WSD\":\"None\"}\n",
    "    for item in forecast_data[1][0]:\n",
    "        if item[2].text in list(data_parsed.keys()):\n",
    "            data_parsed[item[2].text] = item[5].text\n",
    "    for item in grib_data[1][0]:\n",
    "        if item[2].text in list(data_parsed.keys()):\n",
    "            data_parsed[item[2].text] = item[5].text\n",
    "\n",
    "    return data_parsed"
   ]
  },
  {
   "cell_type": "code",
<<<<<<< HEAD
   "execution_count": 61,
   "metadata": {},
=======
   "execution_count": 62,
   "metadata": {
    "collapsed": true
   },
>>>>>>> a0869087bcacc2bd46b7628ad28d6193d1e345ac
   "outputs": [],
   "source": [
    "def get_grib_date():\n",
    "    now = datetime.datetime.now(tz=pytz.timezone(\"Asia/Seoul\"))\n",
    "    date_now = now.strftime(\"%Y%m%d\")\n",
    "    time_now = now.strftime(\"%H\") + \"00\"\n",
    "\n",
    "    return date_now, time_now"
   ]
  },
  {
   "cell_type": "code",
<<<<<<< HEAD
   "execution_count": 62,
   "metadata": {},
=======
   "execution_count": 63,
   "metadata": {
    "collapsed": true
   },
>>>>>>> a0869087bcacc2bd46b7628ad28d6193d1e345ac
   "outputs": [],
   "source": [
    "def get_forecast_date():\n",
    "    now = datetime.datetime.now(tz=pytz.timezone(\"Asia/Seoul\"))\n",
    "    min_chk = datetime.datetime.now(tz=pytz.timezone(\"Asia/Seoul\")).strftime(\"%M\")\n",
    "\n",
    "    if int(min_chk) < 30:\n",
    "        now -= datetime.timedelta(hours=1)\n",
    "    date_now = now.strftime(\"%Y%m%d\")\n",
    "    time_now = now.strftime(\"%H\") + \"30\"\n",
    "\n",
    "    return date_now, time_now"
   ]
  },
  {
   "cell_type": "code",
<<<<<<< HEAD
   "execution_count": 63,
   "metadata": {},
=======
   "execution_count": 64,
   "metadata": {
    "collapsed": true
   },
>>>>>>> a0869087bcacc2bd46b7628ad28d6193d1e345ac
   "outputs": [],
   "source": [
    "def longitude_and_latitude_to_cartesian(longitude, latitude):\n",
    "    lon = float(longitude)\n",
    "    lat = float(latitude)\n",
    "\n",
    "    _Re = 6371.00877\n",
    "    _grid = 5\n",
    "    _slat1 = 30\n",
    "    _slat2 = 60\n",
    "    _olon = 126\n",
    "    _olat = 38\n",
    "    _xo = 210 / _grid\n",
    "    _yo = 675 / _grid\n",
    "\n",
    "    DEGRAD = pi / 180.0\n",
    "    RADDEG = 180.0 / pi\n",
    "\n",
    "    re = _Re / _grid\n",
    "    slat1 = _slat1 * DEGRAD\n",
    "    slat2 = _slat2 * DEGRAD\n",
    "    olon = _olon * DEGRAD\n",
    "    olat = _olat * DEGRAD\n",
    "\n",
    "    sn = tan(pi * 0.25 + slat2 * 0.5) / tan(pi * 0.25 + slat1 * 0.5)\n",
    "    sn = log(cos(slat1) / cos(slat2)) / log(sn)\n",
    "    sf = tan(pi * 0.25 + slat1 * 0.5)\n",
    "    tmp = sf ** sn if sf > 0 else -(abs(sf) ** sn)\n",
    "    sf = tmp * cos(slat1) / sn\n",
    "    ro = tan(pi * 0.25 + olat * 0.5)\n",
    "    ro = re * sf / (ro ** sn if ro > 0 else -(abs(ro) ** sn))\n",
    "\n",
    "    ra = tan(pi * 0.25 + lat * DEGRAD * 0.5)\n",
    "    ra = re * sf / (ra ** sn if ra > 0 else -(abs(ra) ** sn))\n",
    "    theta = lon * DEGRAD - olon\n",
    "    if theta > pi:\n",
    "        theta -= 2.0 * pi\n",
    "    if theta < -pi:\n",
    "        theta += 2.0 * pi\n",
    "    theta *= sn\n",
    "    x = ra * sin(theta) + _xo\n",
    "    y = (ro - ra * cos(theta)) + _yo\n",
    "\n",
    "    return str(int(x+1.5)), str(int(y+1.5))"
   ]
  },
  {
   "cell_type": "markdown",
   "metadata": {},
   "source": [
    "## 미세먼지 가져오기"
   ]
  },
  {
   "cell_type": "code",
<<<<<<< HEAD
   "execution_count": 2,
   "metadata": {},
   "outputs": [
    {
     "ename": "NameError",
     "evalue": "name 'stationName' is not defined",
     "output_type": "error",
     "traceback": [
      "\u001b[1;31m---------------------------------------------------------------------------\u001b[0m",
      "\u001b[1;31mNameError\u001b[0m                                 Traceback (most recent call last)",
      "\u001b[1;32m<ipython-input-2-5c47c1a591d9>\u001b[0m in \u001b[0;36m<module>\u001b[1;34m()\u001b[0m\n\u001b[0;32m      1\u001b[0m \u001b[0murl\u001b[0m \u001b[1;33m=\u001b[0m \u001b[1;34m'http://openapi.airkorea.or.kr/openapi/services/rest/ArpltnInforInqireSvc/getMsrstnAcctoRltmMesureDnsty'\u001b[0m\u001b[1;33m\u001b[0m\u001b[0m\n\u001b[0;32m      2\u001b[0m \u001b[0mservice_key\u001b[0m \u001b[1;33m=\u001b[0m \u001b[1;34m'....'\u001b[0m \u001b[1;31m# FIXME\u001b[0m\u001b[1;33m\u001b[0m\u001b[0m\n\u001b[1;32m----> 3\u001b[1;33m \u001b[0mstationName\u001b[0m \u001b[1;33m=\u001b[0m \u001b[0mstationName\u001b[0m\u001b[1;33m\u001b[0m\u001b[0m\n\u001b[0m",
      "\u001b[1;31mNameError\u001b[0m: name 'stationName' is not defined"
     ]
    }
   ],
=======
   "execution_count": 1,
   "metadata": {
    "collapsed": true
   },
   "outputs": [],
>>>>>>> a0869087bcacc2bd46b7628ad28d6193d1e345ac
   "source": [
    "url = 'http://openapi.airkorea.or.kr/openapi/services/rest/ArpltnInforInqireSvc/getMsrstnAcctoRltmMesureDnsty'\n",
    "service_key = '....' # FIXME\n",
    "stationName = stationName"
   ]
  },
  {
   "cell_type": "code",
<<<<<<< HEAD
   "execution_count": 65,
   "metadata": {},
=======
   "execution_count": 1,
   "metadata": {
    "collapsed": true
   },
>>>>>>> a0869087bcacc2bd46b7628ad28d6193d1e345ac
   "outputs": [],
   "source": [
    "def get_fine_dict_data(service_key, stationName):\n",
    "    decode_key = unquote(service_key)\n",
    "    queryParams = '?' + urlencode({ quote_plus('ServiceKey') : decode_key, quote_plus('stationName'): stationName, quote_plus('dataTerm'): 'daily', quote_plus('_returnType'): 'json', quote_plus('ver'): '1.3', quote_plus('pageNo'): 1})\n",
    "\n",
    "    request = Request(url + queryParams)\n",
    "    request.get_method = lambda: 'GET'\n",
    "    response_body = urlopen(request).read()\n",
    "    response_body = json.loads(response_body)\n",
    "    return  response_body['list'][0]['pm10Grade'],response_body['list'][0]['pm25Grade'],  response_body['list'][0]['dataTime']"
   ]
  },
  {
   "cell_type": "markdown",
   "metadata": {},
   "source": [
    "### 날씨 및 미세먼지 변수만들기"
   ]
  },
  {
   "cell_type": "code",
<<<<<<< HEAD
   "execution_count": 66,
   "metadata": {},
   "outputs": [],
   "source": [
    "weather_dict = get_weather_data(Longitude, Latitude)\n",
=======
   "execution_count": null,
   "metadata": {
    "collapsed": true
   },
   "outputs": [],
   "source": [
    "longitude = 127.073092  # put longitude\n",
    "latitude = 37.550208  # put latitude\n",
    "weather_dict = get_weather_data(long, lati)\n",
>>>>>>> a0869087bcacc2bd46b7628ad28d6193d1e345ac
    "fine_dust, Ultrafine_dust, dataTime = get_fine_dict_data(service_key, stationName)"
   ]
  },
  {
   "cell_type": "markdown",
   "metadata": {},
   "source": [
    "### 날씨 : weather_dict , 미세먼지 : fine_dust , 초미세먼지 : Ultrafine_dust , 미세먼지 시간 : dataTime\n",
    "\n",
    "#### fine_dust\n",
    "    # | 등급\t| 좋음 | 보통 |\t나쁨 | 매우나쁨 |  \n",
    "    # | Grade |\t 1   |\t2   |\t3  |    4     |\n",
    "\n",
    "#### weather_dict\n",
    "    # T1H : 기온\n",
    "    # RN1 : 1시간 강수량\n",
    "    #       (0 - 0mm 또는 없음)\n",
    "    #       (1 - 1mm 미만)\n",
    "    #       (5 - 1~4mm)\n",
    "    #       (10 - 5~9mm)\n",
    "    #       (20 - 10~19mm)\n",
    "    #       (40 - 20~39mm)\n",
    "    #       (70 - 40~69mm)\n",
    "    #       (100 - 70mm 이상)\n",
    "    # PTY : 강수형태 -- 0 - 없음 , 1 - 비 , 2 - 진눈깨비 , 3 - 눈\n",
    "    # SKY : 하늘상태 -- 1 - 맑음 , 2 - 구름조금 , 3 - 구름많음 , 4 - 흐림\n",
    "    # LGT : 낙뢰 -- 0 - 없음 , 1 - 있음\n",
    "    #          또는 0 - 없음 , 1 - 낮음 , 2 - 보통 , 3 - 높음\n",
    "    # WSD : 풍속"
   ]
  },
  {
   "cell_type": "markdown",
   "metadata": {},
   "source": [
    "### 데이터 보기"
   ]
  },
  {
   "cell_type": "code",
<<<<<<< HEAD
   "execution_count": 67,
   "metadata": {},
=======
   "execution_count": 4,
   "metadata": {
    "collapsed": true
   },
>>>>>>> a0869087bcacc2bd46b7628ad28d6193d1e345ac
   "outputs": [],
   "source": [
    "df = pd.read_csv(\"Seoul_Place.csv\")"
   ]
  },
  {
   "cell_type": "markdown",
   "metadata": {},
   "source": [
<<<<<<< HEAD
=======
    "### 데이터 위치 출력"
   ]
  },
  {
   "cell_type": "code",
   "execution_count": 2,
   "metadata": {
    "collapsed": true
   },
   "outputs": [],
   "source": [
    "gmaps.configure(api_key=\"...\") # Your Google API key"
   ]
  },
  {
   "cell_type": "code",
   "execution_count": 71,
   "metadata": {},
   "outputs": [
    {
     "data": {
      "application/vnd.jupyter.widget-view+json": {
       "model_id": "bdff930c4fad4c69b5078fcb5c1fdef1",
       "version_major": 2,
       "version_minor": 0
      },
      "text/plain": [
       "Figure(layout=FigureLayout(height='420px'))"
      ]
     },
     "metadata": {},
     "output_type": "display_data"
    }
   ],
   "source": [
    "df2 = df[['Latitude','Longitude']]\n",
    "fig = gmaps.figure()\n",
    "fig.add_layer(gmaps.heatmap_layer(df2))\n",
    "fig"
   ]
  },
  {
   "cell_type": "markdown",
   "metadata": {},
   "source": [
>>>>>>> a0869087bcacc2bd46b7628ad28d6193d1e345ac
    "# MAIN CODE"
   ]
  },
  {
   "cell_type": "code",
   "execution_count": 68,
   "metadata": {},
   "outputs": [],
   "source": [
    "t = ['Monday', 'Tuesday', 'Wednesday', 'Thursday', 'Friday', 'Saturday', 'Sunday']\n",
    "tt = datetime.datetime.now()\n",
<<<<<<< HEAD
    "n = time.localtime().tm_wday"
=======
    "n = time.localtime().tm_wday\n",
    "print (t[n],tt.hour,tt.minute)"
   ]
  },
  {
   "cell_type": "code",
   "execution_count": 6,
   "metadata": {
    "collapsed": true
   },
   "outputs": [],
   "source": [
    "df[\"Longitude\"]=df[\"Longitude\"]*100\n",
    "df[\"Latitude\"]=df[\"Latitude\"]*100"
>>>>>>> a0869087bcacc2bd46b7628ad28d6193d1e345ac
   ]
  },
  {
   "cell_type": "markdown",
   "metadata": {},
   "source": [
    "## Open시간 필터링"
   ]
  },
  {
   "cell_type": "code",
<<<<<<< HEAD
   "execution_count": 69,
   "metadata": {},
=======
   "execution_count": 7,
   "metadata": {},
   "outputs": [
    {
     "name": "stdout",
     "output_type": "stream",
     "text": [
      "Thursday 18 24 16\n"
     ]
    }
   ],
   "source": [
    "tt = datetime.datetime.now()\n",
    "print (t[n],tt.hour,tt.minute, tt.second)"
   ]
  },
  {
   "cell_type": "code",
   "execution_count": 8,
   "metadata": {
    "collapsed": true
   },
>>>>>>> a0869087bcacc2bd46b7628ad28d6193d1e345ac
   "outputs": [],
   "source": [
    "#Find_Hours_of_use(\"10AM-11PM\")"
   ]
  },
  {
   "cell_type": "code",
<<<<<<< HEAD
   "execution_count": 70,
   "metadata": {},
=======
   "execution_count": 9,
   "metadata": {
    "collapsed": true
   },
>>>>>>> a0869087bcacc2bd46b7628ad28d6193d1e345ac
   "outputs": [],
   "source": [
    "def Find_Hours_of_use(zz):\n",
    "    p1 = re.compile('(AM)+')\n",
    "    m1 = p1.search(zz)\n",
    "    p2 = re.compile('(PM)+')\n",
    "    m2 = p2.search(zz)\n",
    "    p3 = re.compile('(:)+')\n",
    "    m3 = p3.search(zz)\n",
    "    p5 = re.compile('(-)+')\n",
    "    m5 = p5.search(zz)\n",
    "    #print(zz)\n",
    "\n",
    "    i11 = int(re.findall('\\d+', str(m1))[0])\n",
    "    i12 = int(re.findall('\\d+', str(m1))[1])\n",
    "    i21 = int(re.findall('\\d+', str(m2))[0])\n",
    "    i22 = int(re.findall('\\d+', str(m2))[1])\n",
    "    i51 = int(re.findall('\\d+', str(m5))[0])\n",
    "    i52 = int(re.findall('\\d+', str(m5))[1])\n",
    "    if(m3):\n",
    "        i31 = int(re.findall('\\d+', str(m3))[0])\n",
    "        i32 = int(re.findall('\\d+', str(m3))[1])\n",
    "        z2=zz\n",
    "        if(i31<i51):\n",
    "            z2 = zz[i32:]\n",
    "        p4 = re.compile('(:)+')\n",
    "        m4 = p4.search(z2)\n",
    "        if(m4):\n",
    "            i41 = int(re.findall('\\d+', str(m4))[0])\n",
    "            i42 = int(re.findall('\\d+', str(m4))[1])\n",
    "            p5 = re.compile('(-)+')\n",
    "            m5 = p5.search(z2)\n",
    "        else:\n",
    "            i41 = None\n",
    "            i42 = None\n",
    "    else:\n",
    "        i31 = None\n",
    "        i32 = None\n",
    "        z2 = None\n",
    "        i41 = None\n",
    "        i42 = None\n",
    "\n",
    "    i51 = int(re.findall('\\d+', str(m5))[0])\n",
    "    i52 = int(re.findall('\\d+', str(m5))[1])\n",
    "    \n",
    "    if (i31 and i31<i51):\n",
    "        openss = zz[:i11]\n",
    "        opensss = int(openss[:i31])*60 + int(openss[i32:])\n",
    "    else:\n",
    "        opensss = int(zz[:i11])*60 \n",
    "\n",
    "    if i41:\n",
    "        closs = z2[i52:]\n",
    "        i41 -= len(z2)-len(closs)\n",
    "        i42 -= len(z2)-len(closs)\n",
    "        closss = int(closs[:i41])*60 + int(closs[i42:-2])\n",
    "    else:\n",
    "        closss = int(zz[i52:-2])*60\n",
    "\n",
    "    return opensss,closss+12*60"
   ]
  },
  {
   "cell_type": "code",
<<<<<<< HEAD
   "execution_count": 71,
   "metadata": {},
=======
   "execution_count": 10,
   "metadata": {
    "collapsed": true
   },
>>>>>>> a0869087bcacc2bd46b7628ad28d6193d1e345ac
   "outputs": [],
   "source": [
    "def Make_Hours_of_use(timessss,p):\n",
    "    \n",
    "    ##########################\n",
    "    #if(timessss in cp):\n",
    "    #    return -1\n",
    "    ##########################\n",
    "    \n",
    "    if(timessss!=\"Open 24 hours\" and timessss!=\"Closed\"):\n",
    "        return (Find_Hours_of_use(timessss)[p])\n",
    "    elif(timessss==\"Open 24 hours\"):\n",
    "        return (p*24*60)\n",
    "    elif(timessss==\"Closed\"):\n",
    "        return (-1)"
   ]
  },
  {
   "cell_type": "code",
<<<<<<< HEAD
   "execution_count": 72,
   "metadata": {
    "scrolled": true
=======
   "execution_count": 11,
   "metadata": {
    "collapsed": true
   },
   "outputs": [],
   "source": [
    "#[set(df[\"Saturday\"]),set(df[\"Sunday\"]),set(df[\"Monday\"]),set(df[\"Tuesday\"]),set(df[\"Wednesday\"]),set(df[\"Thursday\"]),set(df[\"Friday\"])]\n",
    "#set(df[t[n]])"
   ]
  },
  {
   "cell_type": "code",
   "execution_count": 12,
   "metadata": {
    "collapsed": true
>>>>>>> a0869087bcacc2bd46b7628ad28d6193d1e345ac
   },
   "outputs": [],
   "source": [
    "opentime=[]\n",
    "closetime=[]\n",
    "for dftn in df[t[n]]:\n",
    "    opentime.append(Make_Hours_of_use(dftn,0))\n",
    "    closetime.append(Make_Hours_of_use(dftn,1))"
   ]
  },
  {
   "cell_type": "code",
<<<<<<< HEAD
   "execution_count": 73,
   "metadata": {},
=======
   "execution_count": 13,
   "metadata": {
    "collapsed": true
   },
>>>>>>> a0869087bcacc2bd46b7628ad28d6193d1e345ac
   "outputs": [],
   "source": [
    "df[\"opentime\"]=opentime\n",
    "df[\"closetime\"]=closetime"
   ]
  },
  {
   "cell_type": "code",
   "execution_count": 74,
   "metadata": {},
   "outputs": [],
   "source": [
    "now = tt.hour*60 + tt.minute"
   ]
  },
  {
   "cell_type": "code",
<<<<<<< HEAD
   "execution_count": 75,
   "metadata": {},
=======
   "execution_count": 15,
   "metadata": {
    "collapsed": true
   },
>>>>>>> a0869087bcacc2bd46b7628ad28d6193d1e345ac
   "outputs": [],
   "source": [
    "df= df[(df[\"opentime\"]<now) & (now<df[\"closetime\"])]"
   ]
  },
  {
   "cell_type": "markdown",
   "metadata": {},
   "source": [
    "## 날씨 필터링"
   ]
  },
  {
   "cell_type": "code",
<<<<<<< HEAD
   "execution_count": 76,
   "metadata": {},
=======
   "execution_count": 17,
   "metadata": {
    "collapsed": true
   },
>>>>>>> a0869087bcacc2bd46b7628ad28d6193d1e345ac
   "outputs": [],
   "source": [
    "try:\n",
    "    fine_dust = int(fine_dust)\n",
    "except:\n",
    "    fine_dust=0\n",
    "try: \n",
    "    Ultrafine_dust= int(Ultrafine_dust)\n",
    "except:\n",
    "    Ultrafine_dust= 0\n",
    "try: \n",
    "    T1H = int(weather_dict[\"T1H\"])\n",
    "except:\n",
    "    T1H=0\n",
    "try: \n",
    "    RN1 = float(weather_dict[\"RN1\"])\n",
    "except:\n",
    "    RN1=0\n",
    "try: \n",
    "    PTY = int(weather_dict[\"PTY\"])\n",
    "except:\n",
    "    PTY = 0\n",
    "try:\n",
    "    SKY = int(weather_dict[\"SKY\"])\n",
    "except:\n",
    "    SKY = 0\n",
    "try: \n",
    "    LGT = int(weather_dict[\"LGT\"])\n",
    "except:\n",
    "    LGT = 0\n",
    "try: \n",
    "    WSD = int(weather_dict[\"WSD\"])\n",
    "except:\n",
    "    WSD = 0"
   ]
  },
  {
   "cell_type": "code",
<<<<<<< HEAD
   "execution_count": 77,
   "metadata": {},
=======
   "execution_count": 18,
   "metadata": {
    "collapsed": true
   },
>>>>>>> a0869087bcacc2bd46b7628ad28d6193d1e345ac
   "outputs": [],
   "source": [
    "if (fine_dust>=3 or Ultrafine_dust>=3 or T1H<-5 or 30 <T1H or RN1>=1 or PTY>=1):\n",
    "    df = df[df[\"Indoor/Outdoors\"]!=\"Outdoor\"]\n",
    "    \n",
    "if(fine_dust==4 or Ultrafine_dust==4 or LGT >=1 or WSD >=100or T1H<-15 or 37 <T1H or RN1>=10):\n",
    "    df = df[df[\"Indoor/Outdoors\"]==\"Indoor\"]"
   ]
  },
  {
   "cell_type": "markdown",
   "metadata": {},
   "source": [
    "## 원하는 장소로 필터링"
   ]
  },
  {
   "cell_type": "code",
   "execution_count": 78,
   "metadata": {},
   "outputs": [],
   "source": [
    "#1.음식 먹기\n",
    "EatingFood = [\n",
    "    '딤섬 전문 레스토랑',\n",
    "    '음식점',\n",
    "    '이탈리아 음식점',\n",
    "    '일본 음식점',\n",
    "    '중국 음식점',\n",
    "    '패밀리 레스토랑',\n",
    "    '프랑스 음식점',\n",
    "    '한국식 소고기 전문 음식점',\n",
    "    '한식 고기구이 레스토랑'\n",
    "]\n",
    "\n",
    "#2. 마시기 \n",
    "Drinking = [ '바 & 그릴',\n",
    "    '술집',\n",
    "    '와인 바',\n",
    "    '재즈바',\n",
    "    '카페',\n",
    "    '칵테일바',\n",
    "]\n",
    "\n",
    "#####\n",
    "\n",
    "#3. 의미있는 곳\n",
    "MeaningfulPlace = ['문화유산보존지역',\n",
    "    '불교사찰',\n",
    "    '성당',\n",
    "    '역사유적지',\n",
    "    '역사적 명소'\n",
    "]\n",
    "\n",
    "#4. 밖 인공,자연\n",
    "Outdoors = ['고궁',\n",
    "    '관광명소',\n",
    "    '관광지',\n",
    "    '다리',\n",
    "    '대광장',\n",
    "    '타워',\n",
    "    '공원',\n",
    "    '국립공원',\n",
    "    '산'\n",
    "]\n",
    "\n",
    "#5. 앉아서 보고 듣기\n",
    "SeeAndHear=['공연예술 극장',\n",
    "    '극장',\n",
    "    '영화관',\n",
    "    '자동차극장'\n",
    "]\n",
    "\n",
    "\n",
    "#6. 구경하기 \n",
    "Watch =['미술관',\n",
    "    '박물관'\n",
    "]\n",
    "\n",
    "#7. 놀기\n",
    "Play = ['노래방',\n",
    "    '놀이공원'\n",
    "]\n",
    "\n",
    "#8. 쇼핑하기\n",
    "Shopping=['쇼핑몰',\n",
    "    '시가 전문점',\n",
    "    '시장',\n",
    "    '커피용품 판매점',\n",
    "]\n",
    "\n",
    "#9. 운동하기\n",
    "Exercise = ['건강 센터',\n",
    "    '스포츠 단지',\n",
    "    '스포츠단지'\n",
    "]\n",
    "\n",
    "#10. 복지\n",
    "Welfare =['문화센터',\n",
    "    '정부청사'\n",
    "]"
   ]
  },
  {
   "cell_type": "markdown",
   "metadata": {},
   "source": [
    "### 원하는 장소들을 선택해서 필터링 진행"
   ]
  },
  {
   "cell_type": "code",
   "execution_count": 79,
   "metadata": {},
   "outputs": [],
   "source": [
    "places = [EatingFood,Drinking,Watch]"
   ]
  },
  {
   "cell_type": "code",
   "execution_count": 128,
   "metadata": {},
   "outputs": [],
   "source": [
    "def Hople_Places(place):\n",
    "    hopedf =  df[df[\"Function\"] == \"Fsdfsd\"]\n",
    "    places = place\n",
    "    for p in places:\n",
    "        onehope = df[df[\"Function\"] == p]\n",
    "        hopedf = hopedf.append(onehope)\n",
    "    \n",
    "    return hopedf"
   ]
  },
  {
   "cell_type": "code",
   "execution_count": 131,
   "metadata": {},
   "outputs": [],
   "source": [
    "def Make_Hope_Places(places):\n",
    "    hopedf =  df[df[\"Function\"] == \"Fsdfsd\"]\n",
    "    for place in places:\n",
    "        hdf = Hople_Places(place)\n",
    "        hopedf = hopedf.append(hdf)\n",
    "    return hopedf"
   ]
  },
  {
   "cell_type": "code",
   "execution_count": 133,
   "metadata": {},
   "outputs": [],
   "source": [
    "hopedf = Make_Hope_Places(places)"
   ]
  },
  {
   "cell_type": "code",
   "execution_count": 134,
   "metadata": {},
   "outputs": [],
   "source": [
    "df = hopedf"
   ]
  },
  {
   "cell_type": "markdown",
   "metadata": {},
   "source": [
    "## 거리필터링"
   ]
  },
  {
   "cell_type": "code",
<<<<<<< HEAD
   "execution_count": 136,
   "metadata": {},
=======
   "execution_count": 23,
   "metadata": {
    "collapsed": true
   },
>>>>>>> a0869087bcacc2bd46b7628ad28d6193d1e345ac
   "outputs": [],
   "source": [
    "#위도의 1도간 거리는 114.6km이고 경도의 1도간 거리는 88km가 된다.  \n",
    "def Longitude_Latitude_To_KM(num, clas):\n",
    "    if(clas == \"Latitude\"): #위도\n",
    "        return num * 114.6\n",
    "    elif(clas == \"Longitude\"): #경도 \n",
    "        return num * 88\n",
    "    else:\n",
    "        return 0"
   ]
  },
  {
   "cell_type": "code",
<<<<<<< HEAD
   "execution_count": 137,
   "metadata": {},
=======
   "execution_count": null,
   "metadata": {
    "collapsed": true
   },
>>>>>>> a0869087bcacc2bd46b7628ad28d6193d1e345ac
   "outputs": [],
   "source": [
    "#위도의 1도간 거리는 114.6km이고 경도의 1도간 거리는 88km가 된다.  \n",
    "def KM_To_Longitude_Latitude(num, clas):\n",
    "    if(clas == \"Latitude\"): #위도\n",
    "        return num / 114.6\n",
    "    elif(clas == \"Longitude\"): #경도 \n",
    "        return num / 88\n",
    "    else:\n",
    "        return 0"
   ]
  },
  {
   "cell_type": "code",
<<<<<<< HEAD
   "execution_count": 138,
   "metadata": {},
=======
   "execution_count": 19,
   "metadata": {
    "collapsed": true
   },
>>>>>>> a0869087bcacc2bd46b7628ad28d6193d1e345ac
   "outputs": [],
   "source": [
    "def Distance_filtering(df,lo,la,Odistance,Adistance):\n",
    "    df1 =  df[(lo-Odistance <= df['Longitude'] ) & (df['Longitude'] <=lo+Odistance )]\n",
    "    df2 = df1[(la-Adistance <= df['Latitude'] ) & (df['Latitude'] <=la+Adistance )]\n",
    "    return df2"
   ]
  },
  {
   "cell_type": "code",
   "execution_count": 139,
   "metadata": {},
   "outputs": [],
   "source": [
    "O = KM_To_Longitude_Latitude(1, \"Longitude\")\n",
    "A = KM_To_Longitude_Latitude(1, \"Latitude\")"
   ]
  },
  {
   "cell_type": "code",
   "execution_count": 140,
   "metadata": {},
   "outputs": [
    {
     "name": "stderr",
     "output_type": "stream",
     "text": [
      "C:\\ProgramData\\Anaconda3\\lib\\site-packages\\ipykernel_launcher.py:3: UserWarning: Boolean Series key will be reindexed to match DataFrame index.\n",
      "  This is separate from the ipykernel package so we can avoid doing imports until\n"
     ]
    }
   ],
   "source": [
    "while 1:\n",
    "    Fdf = Distance_filtering(df,Longitude,Latitude,O,A)\n",
    "    if 10 > len(Fdf[\"Name\"]):\n",
    "        O+=0.1\n",
    "        A+=0.02\n",
    "    else:\n",
    "        break"
   ]
  },
  {
   "cell_type": "code",
   "execution_count": 141,
   "metadata": {},
   "outputs": [
    {
     "data": {
      "text/plain": [
       "60"
      ]
     },
     "execution_count": 141,
     "metadata": {},
     "output_type": "execute_result"
    }
   ],
   "source": [
    "len(Fdf[\"Name\"])"
   ]
  },
  {
   "cell_type": "markdown",
   "metadata": {},
   "source": [
    "### 빈것들 0으로 채우기"
   ]
  },
  {
   "cell_type": "code",
   "execution_count": 143,
   "metadata": {
    "scrolled": true
   },
   "outputs": [],
   "source": [
    "Fdf = Fdf.fillna(0)"
   ]
  },
  {
   "cell_type": "markdown",
   "metadata": {},
   "source": [
    "## Socre 계산"
   ]
  },
  {
   "cell_type": "code",
<<<<<<< HEAD
   "execution_count": 144,
   "metadata": {},
=======
   "execution_count": 78,
   "metadata": {
    "collapsed": true
   },
>>>>>>> a0869087bcacc2bd46b7628ad28d6193d1e345ac
   "outputs": [],
   "source": [
    "Score = list(Fdf[\"Score\"])\n",
    "while(1):\n",
    "    try:\n",
    "        Score.remove(0)\n",
    "    except:\n",
    "        break"
   ]
  },
  {
   "cell_type": "markdown",
   "metadata": {},
   "source": [
    "### 초기화\n",
    "    0점으로 즉 비여있는 값들을 제일 낮은 점수 -1로 바꾸기"
   ]
  },
  {
   "cell_type": "code",
<<<<<<< HEAD
   "execution_count": 145,
   "metadata": {},
=======
   "execution_count": null,
   "metadata": {
    "collapsed": true
   },
>>>>>>> a0869087bcacc2bd46b7628ad28d6193d1e345ac
   "outputs": [],
   "source": [
    "zidx = Fdf[Fdf[\"Score\"]==0].index.tolist() \n",
    "ms = min(Score)-1\n",
    "\n",
    "for i in zidx:\n",
    "    Fdf.loc[i,'Score'] = ms"
   ]
  },
  {
   "cell_type": "markdown",
   "metadata": {},
   "source": [
    "### Score 거리 기반으로 변경"
   ]
  },
  {
   "cell_type": "code",
<<<<<<< HEAD
   "execution_count": 146,
   "metadata": {
    "scrolled": true
=======
   "execution_count": null,
   "metadata": {
    "collapsed": true
>>>>>>> a0869087bcacc2bd46b7628ad28d6193d1e345ac
   },
   "outputs": [],
   "source": [
    "idx = Fdf.index.tolist()\n",
    "for i in idx:\n",
    "    Fdf.loc[i,'Score'] = Fdf.loc[i,'Score'] + (abs(Longitude - Fdf.loc[i,'Longitude'])) + (abs(Latitude - Fdf.loc[i,'Latitude']))"
   ]
  },
  {
   "cell_type": "markdown",
   "metadata": {},
   "source": [
    "### Score 추출 및 확률화"
   ]
  },
  {
   "cell_type": "code",
   "execution_count": 147,
   "metadata": {},
   "outputs": [],
   "source": [
    "roulette_dic = {}\n",
    "for i in idx:\n",
    "    roulette_dic[i] = Fdf.loc[i,'Score']"
   ]
  },
  {
   "cell_type": "code",
   "execution_count": 148,
   "metadata": {},
   "outputs": [
    {
     "data": {
      "text/plain": [
       "(60, 221.67534119999974)"
      ]
     },
     "execution_count": 148,
     "metadata": {},
     "output_type": "execute_result"
    }
   ],
   "source": [
    "r_score_l = list(roulette_dic.values())\n",
    "len(r_score_l), sum(r_score_l)"
   ]
  },
  {
   "cell_type": "code",
   "execution_count": 149,
   "metadata": {},
   "outputs": [],
   "source": [
    "for i,s in roulette_dic.items():\n",
    "    roulette_dic[i]= s/sum(r_score_l)"
   ]
  },
  {
   "cell_type": "code",
   "execution_count": 150,
   "metadata": {},
   "outputs": [],
   "source": [
    "r_index_l = list(roulette_dic)"
   ]
  },
  {
   "cell_type": "markdown",
   "metadata": {},
   "source": [
    "### 최종 추천 장소 뽑기 및 출력"
   ]
  },
  {
   "cell_type": "code",
   "execution_count": 151,
   "metadata": {},
   "outputs": [
    {
     "data": {
      "text/plain": [
       "272"
      ]
     },
     "execution_count": 151,
     "metadata": {},
     "output_type": "execute_result"
    }
   ],
   "source": [
    "np.random.choice(r_index_l, p=list(roulette_dic.values()))"
   ]
  },
  {
   "cell_type": "code",
   "execution_count": 152,
   "metadata": {},
   "outputs": [
    {
     "data": {
      "text/plain": [
       "Name                                                         모서리에커피집\n",
       "Function                                                          카페\n",
       "Indoor/Outdoors                                               Indoor\n",
       "Details            로스터리 커피집, Cofffee brewing, 커피티백, 더치커피, 수제카라멜 &...\n",
       "Monday                                                  11:30AM-10PM\n",
       "Tuesday                                                 11:30AM-10PM\n",
       "Wednesday                                               11:30AM-10PM\n",
       "Thursday                                                11:30AM-10PM\n",
       "Friday                                                  11:30AM-10PM\n",
       "Saturday                                                11:30AM-10PM\n",
       "Sunday                                                  11:30AM-10PM\n",
       "Score                                                        4.60594\n",
       "NumOfReviews                                                      13\n",
       "Latitude                                                      37.546\n",
       "Longitude                                                    127.071\n",
       "Image                                                    모서리에커피집.jpg\n",
       "opentime                                                         690\n",
       "closetime                                                       1320\n",
       "Name: 218, dtype: object"
      ]
     },
     "execution_count": 152,
     "metadata": {},
     "output_type": "execute_result"
    }
   ],
   "source": [
    "find_place_idx = np.random.choice(r_index_l, p=list(roulette_dic.values()))\n",
    "find_place = Fdf.loc[find_place_idx]\n",
    "find_place"
   ]
  },
  {
   "cell_type": "code",
   "execution_count": 153,
   "metadata": {},
   "outputs": [
    {
     "name": "stdout",
     "output_type": "stream",
     "text": [
      "모서리에커피집\n",
      "분류 :  카페\n"
     ]
    },
    {
     "data": {
      "image/png": "iVBORw0KGgoAAAANSUhEUgAAAU4AAAD8CAYAAAAYJk2jAAAABHNCSVQICAgIfAhkiAAAAAlwSFlzAAALEgAACxIB0t1+/AAAADl0RVh0U29mdHdhcmUAbWF0cGxvdGxpYiB2ZXJzaW9uIDIuMi4yLCBodHRwOi8vbWF0cGxvdGxpYi5vcmcvhp/UCwAAIABJREFUeJzsvdmvbEt+5/X5RcQactjjOeeeulPde2twGeOWG2hhxqYRRrQQqB+QEPQTCMm8wDPu/4Annhs/IBAImgckUEstN4ZmakELuxu5XbaL6qpy3brzGffeuXdmrrUi4sdDxBoyd+5zz7H7mmvp/KS9M3PlyrVixfD9zb8QVeU1vabX9Jpe08uT+f+7Aa/pNb2m1/SnjV4D52t6Ta/pNb0ivQbO1/SaXtNrekV6DZyv6TW9ptf0ivQaOF/Ta3pNr+kV6TVwvqbX9Jpe0yvSVwacIvIXReT/FZEficivfVX3eU2v6TW9pj9pkq8ijlNELPBD4F8GPgZ+C/i3VfX3/6Hf7DW9ptf0mv6E6auSOP9J4Eeq+hNVbYG/Bvylr+her+k1vabX9CdK7iu67tvAR5PPHwO/fNfJZWF0VjsESAKwpPco5HfpiOz+UMbPMvkse9+BoAB7wrXmgwqIyM4JxhistcP9EUEQrLUYY3DWpt/kr1UhxkiIEVUlxoiI0HmPiMGYdA+R9CQxKmIE099V+zaAqg7vx0cVNJJ7RIGIIiBmfIa++TL8+xIS5MBpvRaiQIgBI4I1dmwHiuq0i3f7DiCGgLVu5/jOGXdqOrfPF73jWfYP95/vunbf4On3/bP2g6BjH4+n6a35o+wd2Pmot8/ZfXhUoW3bNJ+sTQ2Qfubffd8DNzvwvHr40wuUSzn4pey8HLrI7ZHRve/SuhUUG1sEHfpWJuelNZi7YWct7vaH5JamcyfrdZiM6cL99cerSO7foVdHRMn9/tMrfaKqDw50xC36qoDz0Ezf6XER+VXgVwHqyvLP/NIbWFMQQpq2gkVVsFaIISBYrLUDIEECt3wtjDGIdZP3xXiOGMAQI2iAqIrmvxgjUfI1iKmhRhNwuhpUmM1LnK0oioqjoyOKwnLv5IS6rpnPZsyrmohwdb3ipvFcX1/z9NkFT54/YzabU5QlEht+8Rd/kd/73e9zcnLCZrOhLiskg6S1FjQ9j0YPgLV2+BMRLA0UMzREiIFNUBoPkp/BxATEQXb6+db78dXeOgfiMCHXXUNZloQQ+ORnH7FYzHn48CGuqggh4JwbFn8IYWQMItxcXXF2dkbo/KQxcbxLfsYBpPcW/87nOLbPTqaWmnyOkfwMcbj/IRLDMO7E9NvYhfTqQ2J8ISCqhBCGc/v3qd1x5zWdM76ftj/9hfE7zQxPhRgjq9WK1WrFvXv3BsaamDXDPYZrxrGfRBWYXjccuH8Yr8Pta0xfjYLkub8/XwZmng+bAXTyq+gwrmls4vC91UgwJSJCETtONx/h1FPGjohDYsCR5r9qWnOqOqxzYxnWRBJSIhoixhi8D1RVCaQ1HDSNvXMFQqQoCmKM+Cb1oZiIsRGxUIodns3I+Jz/3m80H96eNYfpqwLOj4F3J5/fAT6dnqCqvw78OsDJslIjDu8jzhVoFGIEIyUxBox1GCRLYnZyFTMOrsnvsUg+DiBiEOPy+zzceUL2kt3AvcQhoqj6BNwRuq5FiVQlqApd12GtHQCjc45YVGAE5xwuQFnUFEWRANwYnHNUznJ2copzjotnz1ksFsNTiMgwQay1VLP02xjjcK+iKHG2RI3D+zWVCRQI665lq44oo9VFdJzoU+l1X5LtP6fX6WJK78uyxBjDdrvl4Vtv8uizz+m6DjKQN01DURR474fJ/jKU7tG3V3dex8Uv43sZpemApoUugo4Pecc1Jv07vdVOO/L7CdZGRuCLk7ly6G96+/F12g6Twa0HVxmYf1mWAGy3a2az2e02Ta4jkzb1klwP2KkvX67vDz37oeO350zffvL3d/22B+NRpExry4OGtNaiIDaNbzT5WiKJP4oQUFSmdkSTn1WxYhAS4GkMwxgVpc19k8DVa5P6C0PiWQJqEY10UqVm9v0nMTOjl6evCjh/C/iuiHwAfAL8W8Bfvvt0JQTFuQLfRSRzhCRouKQ+iaAyctEElhkIBcwEMNWkzk1cymIQRCyKEK2OS3UATwZpA6AoSoJG1HuKoiKEls2mwXuo6znWdoRQ4X2gaz2+9NiiwDmL65SitCARJwaNAUFZX9/gnGM+n/PR4yfM53O6riPGyGw2494b9wghST2lEW5ubqiqKoFuVeG9B3HEmDi7WV9iYuQoKo05QTRL1cBUauyBcegzpotjMgIHFmxhLd4H6romhMDDt97kw48/5p133mE+nxNjHBjJlBHtA8t4zVebnNPf9r80pHlhJseY3JuJ1LP//MmksitxquYFHAGV/BnCBDTDjuQXX/B8h/uR2KuP6b4xgLGawdOx3W6p6/ru3++9Hz9PlVFDL4WOn+PO+cLt69xF+3Nmh2TXjHFYre77OmkiJnogYjMjERWSHrk7T3upU0QI2U4xNsEgBDQqxlo6HyZtjFgRNAaKosxCh6ELHjVCUENUgSisu3TPENo8t/L4vwJ9JcCpql5E/gPgbwIW+M9U9fde9JsoEa+BKP0CMFgbidGAcSCCRkmcjGyz0N5mKIiYBJji0mdjE1jGBKQWgxrZWWT9pPCaQNOYBADr7QZrLa4oaTpPYQ0ilq4NPHn8jLJy4APzeUdcKIvZDFeWFEXBqS1Y1gXteoVv1nQ+cvXsMV3X8Zu/+Zu8+fAb/Mqv/AoXFxd0TcPZ/TNEhMvLC8QIZSHUrkKJeO8pq4LLy8tkOkAQW+BjwIaWunAURcmzTUxqDHa0c45jcQswYQ9QmILoeGyz2WCMoTAl4hyqyptvvcMXj55wdnbGYrFAsikkhDAszLvAc9qGL3u981h+DYDGiQUr28VuS9WTOebTuTGmhZsA06d2ZnU8hABRCRlbE4iO14mZuU5V9amHddpmk6XCKXD3qqWqIKLM53MuLp4l1TRrGX3/9cf2JU7dud/4kLpjC55K9VNAPdTn057NPbo3Zwa74HCLHml2NZj+Ol4Uk+9v1FPGFtGIMYKP4JwlxhYcg5AzAGYIE5OFmTCJSBvTe6Og4gYtcxstPgZ8VDbrFh9Te0qXpFXRgBjFGEFsguDSgTMGKwbrBGh5WfqqJE5U9W8Af+Nlz592XKKIEjDGEGLE9EB3B8dMKvzEHpLfj5Ot7/zRptFPSiNpwjpbEmJHWZaDtFFVFRratFCyOt11HderNQClK4Z7RI1YBesMRiB2np/7ue8SY+T45IyLZ88JIfDo0SO6puHo6IirqyuKwmVVWVE1g9pbFMUwiVJ7GqKAdY7Hq2uMwGw2Q2yVO/2wyrYPJnfTBOgkMq9nSfJWHUwOEuHhw4dcXV0NqnxZloPk/sKrT8cu9+UwnvuvO+/Hha8TtX0qVU0X7d0mAzPOh4m9b6qWxxiTqeMlpMqXYwoJ0HvZsP8uxoiY1GE9SLxIGnxZSfGrptuM6e5xH8ZEemdbRGRco4OlJSsKEU0qeP4j5murGeyoxiWw7NpAUThUBR8CF5tAFwOIYRMAm5j5kUlmvrKMOCcULlAVJUbBSiTrodhXNHV8ZcD5KqRAiHmCiRmdn9FO/OqkFWNyL8vkD0sgJMO1GCKSO0IwhUPJHDD/tqzKYZHEmICzrmu8b7ECNiTDSwgd6/U1R0dngMcYRbXDd4F157j6/IrNzTWlEz74zgfMz044PzqirucYp7zzzbf5+OOPcbbkyeefodkEYYyhmM1pQsQ5Q1RwriLGpKo3bQfZIx9iJEafGUiJqke7Bhss3m8pl0c0GtFQYrShNYmBWB2dMvvS5UiBXd9m/6qgSc0ZKLFwLCki4Pz4KLXXdzTRD04szRJT0/Q2pl1pB3rVOwPe4HvuAXsCLr20Fse2S7wNWnc5vfa/DySp0ugE3EK+V4CAEPJq1jw/kmrd7QBe/2pyO8JO3+6CrUzulaRGwZpk5/ReKIs5iwVcrq44OTnBe4/L0r0VkwB+cr3BMnzIDLDz3ZQxpLsro5lhfzymEuc4X3pH7G0VvEc9MSFfP+7wvLCJOGv5/PnP6G62/ONvCYtylvrAeDSuKQGioZBIiEBI2p+qJVpHIzVN19F2io9K10HTprY6I4h0SRMzQlUF6hKKEu4Xs+E5axuBiMFnZ5Di4jaPh0y88a9GXwvghFeRioCJ9PgiitnAfMizbIwZVCMYF0JZVcmOqEoXPNXyiO1mjXOOzWZLVVUYY3j89BHfev8Dzk5PefP996iWx1w3HR3X2Js1s7N7hK6jmCVbpohN9tYsuSXWasCE5IyIeX2Ioc12mT4MRwV8DJismiiRWWW5bhucdPta1gv7dqpK77/u9u9uF0+/r+uK7XaL90nNLUuHMUnFqrLHvf/bUR7vkJoOSXY7fxwGpt6pvj934m17xc5vVQ8Bze7r8P5AH9wlce4fSwBz+7tp9AGkudi2LRrizjixNy5Tlf2uz4facdexXUAf23ZIqhyMInvL7q51W1YGK8Jbb73FzcVzDJdsNwExIanKhaDRJOGoEqIavIFVE2g6T1TPZXeZhs6ktaNqKAqDs8LJvKB0SiERp8lXUNV5fWiLYMEKVpM5Bknhf0nK1y9t/5fR1wY44Tbn02wYVpKIrzraQ3bAUyJ9oMSg6MsutE47p+sSp5qGfxhjMM5kAI0oSmET5z+ez7jZblguZjTbjve/9R5vvf2Qtm0B4bNPv+DZ5TVvvv9NIgb12fOpFiMVlqRqROnjQ4vBqRV7m1eW7kSEGLpsCwrJrjmxGcbYYQyoemaFxYTuFg9RDTsLoe/bQT3qJfo+FIRkj3tZ6r39vVPo8ZMnbLdbvvn2O7RtS9u2zOfzW+O5T4ekn6ntsH8fsvdzKr0lAyTDM+4wh8mz7AJAzyRvq+n7f6hJ0n1auezbCe96nhe93+/hqaSsIQ5OouhzKJS9bZs+CN4HJc7D578s9Sr4YdX8gAS6L8xIIESP95HTkyXts+fUM4uKJQj4sma1bQleWW08XQj4oDRB8TFFw1iXtXRMYp4CMTZEI2wJyUklgYgyr2ti8BiruLyGQheTRUjJds0+ZOo2A3lV8PxaAOeuBDB5KEniv0gONRAFY4aFIaZX8WQYtpi1915Zm3L3/q8oism9dVCfJUSsGKrCYYxhMZsxn88JXaSqa7yP2KJktpjTrtbJq9wG6vkx0QSuP7ng3vlpsvs5S+jgu2++y/X1NVftDZumy/dKoBi8JkANgegnanH02MKlQdbeyQA2aoL0EHHGUlc1NgTUBZSQABMYDeoH+vqWtN6DzY6Lo++8g9dpmmZnop2fnyMi/P4ffJ/333+fk5MT1ptrXHFM6G7HOMIuQE5fXxQzmT6MYDuFsikITQXO3UWfvbDxNrDEGLN3dYhLSH0SY37fJ1FM1N2DEuhtifPQs08Zg4iwXM5ZrS5xVgiSQts0RNTIrsS9D4T5ni9S1V98rL/EbhtvaSN74DkJaRhep1cI0mFQDDVXF59yYoRGN2wb+PipoBYiDdbB3JVUtbAsHCURZyDGQBtzdE3uLxHhYmXBw9PLDHZSIM5SSYd6T2WFN45K6rJIwItiRTCSvPrpMXfNEjv9+ZL0tQBOeFXUTxLml17zBZebdlgIAe89Z0dLyrJkVhUcHR2xurxIcYqSQiqcS1Jt6DwZDyiyA+Xm5oYH994gNivmyyVV6bDzCu9binJOvFZUNsOiCyooHqOCaBy8uqqB1eUVs3nNbDbDiUl22H5yaxyymiSaFz/kfn9MpJOX6eu7JpN1aWFDAroIGCO8+eabfPrpp2y320Gif5kJua8i31KZp8HfcZQnezZxSyIyZnrx8fsdsDl8/1vtEdCot757lWfaP7YfG4ooZVlSFsUwNskRevv3fxxV/VXbP5U4Rw3my34zOryEyA9//BPeul9ijMV3HiuW+6eOoigoxFIVFmc6YueBDkFxzqWwvGyXDCEBnjFwNJ8TA6ybls57vCohQtdCUViCGJ7ceMzG44xwMjOU1lKXyccfYsDK4Ta/Cn0tgFPE4Gx963jKRomIBMQlKdFOmtzHryqRJnpqW2AB5wyiKR7UimSPdcAWluOjE3wTmC0XzOdzjo6WhLajcI52fYmI4L2n2awHG6hKzBKdENTjo0VsgYjQxkBpLaA8efaIcFwxO5pTnC4wdQVlhVXl7csLvvj8EU3ToW2k2Hb4aLnYPme9WnP19JKbmxu8Ro6XBYW1xHIOLqa4zWjw3hOMQgw4wJoUJ2ojqEvSlI1mh/PvLxSJ46KcRilE62/bgl+wyPxEQjYiECNnx+ecHZ/TNA2r1YrtTZPCupxLgfMSkX3744F2DswlMxPR3XPutNX1Uqd2k2cxk9Xe24xlAmL+tpo+aYOqJvNLlupsdjzFGHK4kg6e4iRz9cHUSVJyZjx/kKb3+lnVQBSOlimjrKwchJjcm9Nzp8+uMT1N78tTJU5l8H0smHSZUZKm0wflZ5k6AbHs9N1gwtE+TCqbTHYunKV0GW9UyIKfffEIf6W8961zusvPqMsCHzru14LRNTEGbLCExlM4RwiBorAQAxoCtTFpnprJmg8NALNSoRztTiJCEEOIyk0TaD1sPNx0FjGe49qwKA2zomBuLESP0T7cCxr/p1Ti7LOAEk0DmMf0qBdxBmfSAtUYUR/weCpTszxa8PzyGWVZcnx0ii1Kzs6OcUVBWZa0bYNRePb4CbM6qbi902MqGdRlzXrTYIua0hVsOo+1BaBD54PQGksjBlme4o6XOBE0RkxtKS8uCU1LEzq6uGUdG8xKmfuKQEm9sIgop99YUBQzOh/ougCqFLYEn6SVsrcv+jZFCvSpjJOUxpch1cgtae1LVJcXcegQE2DN5hVfPPqMTz7d8sH73x7iEcdMksP2wikAvozE9KK2TCWkfWC9xUx2JKrbCQPT84TbzpOdmE6FmOevtZa2aQfp7VBL9++VnGoCrrg1Nl/WH3fwpHTeXrjNndKp6CTAojfZMIDzy0pnH330Ec8v19w/SfeuZzbZ/ofxuMsO/UeTAFUVaxSxhvmsoIppXG5yyuX6JuK3hsYJ9sRhKUC6IW7WuZezY/f0tQBOYcw7T9TnUJsJaLpBUjpEsfO4oko2yKpmeXzEbLng6vkVVVHyzffeA1dxcnq2M9F9lti22y1VOSeEmPPlIaXHKaELxDK1s7CWGKEoqkmWg0EjKRAXy7VazmZLzPKYomtxmlLAFkWFlS3q18kWWzquqjXBdHznz76Fjw2dtrQXDRpavIflcs7NzQ0afR9OnJ9411QhpPjD3lH2IvrjTM4X/b7rOmazFApSVRWz2YzVasVsXiVHnLE5wmBcOK+iyt/VFrgNtvtOsUO/mf5u//y7ALRX26c2yjjwrR4yZQjDEmsgRELIIVvODdL6tB0p/9rTdlusmw21AO589i9Ry+86ZpS9ELEJoMouoN11nbto2o9N0yHA8XKO4Lm+Dixqt3Pu/uvL2hsPfZ/SP8CKYm0fw22xJoczkWpBrJtIuGiYzwpO5hUOBRNQ//KgCV8T4GSQJvug6NSBvZ1MxA656Hfl5L517w3OTk4pXUru37YNzfWW5XyGiLC+3jA/qbm+XtOG5Pn13rOoKrarG+qyYr1e79jmelvifL7kerWmrKuUxYTB+4gx2V7ltzmgWcGVdIs1J/6Kc294e1lQzioWcg//5pK22fDkZx9y/eyC7fU1zUNALGdvvIWrSj7++GdsTls++fQp622g2W4xxhFCxIpixBGDJwalMIlLiqZYNZHehRH3TPUj9ZriYLsiF+eY5H3fKZntX4hdlX65XA6gYK3NqZoNP/nJR5ydnbFcLnGuxBi3o+pPVeQdJ8/gJb9tYzykrh+S0A5Jr7vAeVf++WG7a8g9HJTkMFJltDNP7y+ErhvvkxdzCGEAriGGVRWRnP2lmmoTGJMA4A6APNwf4eC50BfySKA5RCdMNJSpRDq1a8oBIBX2JcTbfXt6fs7Se959WKObpyxmEEMK+k/JJMkuvnOv7AhK4/JiTWKfBIuGSFTFTETvOcK8EuLM4ENk03bcbKGLkcubDXUJp8saawzQHLz2Ifp6AOcwMQNg7pQqIanuh6hXq9u2HaSBFNTuiQG8j2w3G2zXsdlsEkcvC7brzTBIfZhSH2bTl5C7vrmhqCowFh8Ua5P9rWka1us1zfqGEALHx8e8vZxR+4L59oKjUHG+PENmFZglVjtmRB7OHnD07Dmbq2sWD+5RzY6Y338Iavg54L/5T/5KLpzhqKs5FxcXFEWJap4YJnn9o49YEycqVW98ehHHnkh7hEH1HPv3xQ6dQwA19l8Kek+Oo8hsVqHquH//Po8ePeLk5ITtdk1Vze689rQdh44fOv9lVPD+yW+dl4W3/q+XHvu42qR1TPErxbfIYM9TOu3ydXupLl2kLAqePXmCiDCfzyhdQdu2uMLcakdvzpjNZqzXN2hVvfDZp/UIhn6YJgrsny7750+iGiZGyz63PDFYk680EWp4EZMabzdf1En9jTdYMThX0Hg/sdOOY7afavplZrl96sF7aAeCmNzGkNIr25BMcrMahFSYRqwliuFi7XHm7jl/iL4WwKkoUVuGNLzcLFEQNUmSMqk2pjHFwWust1uOgqcqSiQqpS2TvWN+xsXqM1wpXD2/IMaAMy4VVehCTvMSrjcbqrrInW8oy2IAUI/n6vKSpgs8v7wCNbxx/xspnpLIbF7gPRjXENZ/yPzxgvNPDfMHZ8TlNyEYjERsCKAwOz+lPn8vGf8bgcLS+eSAsgIPHn6DR49+RGWX+DZSWYf6iDjBis0ZT4wSpwhCzFWDcsD4C7ztqpqk47u+OzBpX8a22INmbyO21tJ1nqOjBaen3+GTTz5DxPLw4fxOCe+Qir3fhrukzv73u8d3gXP/N2GSe77TJh1t3NPv2q4bjvXS0TbH4JrJ8xCVskmL02aHo4gMkuf+M/TXKsuCEJL2U5QWK3er67f67kBf3eqTOIJm+nJ67RFM95nR/nC/aHxEBGuh7TZs4wq/vR6l8xxaFzWp1FOzWZI44cWM/3Y70j2VGPM9rMVgMGJAUv55hSWoIXRQlh1aO9ahYNtFfJwKbi9HXwvg7EmMgo4pl2lgso4RIogQJ+qFyJjvutk0EAVRk4rvOksM0KwuqQtDt7lBbfLSz+sFqhFCKp1mrUXKiutwBUAbYLXuuFqt8T7SbjxlJZwczfmlX3ybGFtk64nRs9lsKJzB4ynFcXJzhRT3qd76Fmdvfo/OK2LANJ6iLNPYhPRIVoCCnBy6phDLb//v/wvV5hl+dQmzU2ZzQ/RCsBVduKGwOcVsVhCuI47I9957m7/345/RuBqnLQJ4HSXzfQwdJYrDqu2Uvkza2/+t9zk9NHSE0NF1HXVds91ueeutb/DkyROsVbyPyas6lKOLk8WoJJN3XmQxLbCoY4FoYwylpLCVLpcXM7aA7BVOgKhYywByPSPcDbKfPke6J0Bo25z+p/gQhpqW294MktNjJSqbzTS9tL9eqidpY7I/2wBHJmcJdTHbfLNQIILvcmGLEKlcwdV6Q/SKKxXvk0Tb+wFSQRpzawzidOh2vPFxbJYZpT2IE40jPavtyxPqvrNp30SW729kUN13IoF9pMBQWpeqhpFSeENMSXMmq+VGZKixmcbIpSgWARMNKrsJC3eBapJc09OKKGhIdXxV8P1cNyla2RZzQug4ch3LwrBplevNn8Jc9Z6S/eTVzr9LORkWs0mL7OLykuOzU8q6oDpeDhy7MBYlqd00JzRNw5OnjyAqJycnHC8qylNPWQhiIpvL5yie0liMgeUygYQr4OR0xj/3r//7fOfnfoHlg7fTGMcE+G3l8DD0eN9ai0dxqHrQNb/089/gv/yNn/L+++/z08eRtvM0PuWu39U3hcA7b7zBz55dEYRUnNccNmm8Kr1sLOZd1Ds4+rjPs7MzfvjDH3L//hspTtWNU3AfDPbbsQ/0MSpeR8mvB9Vpm3vpN70fKyD149+3z3uf88dzeJLkArloqtqV77HeNkjUtCizpGI0qbRJK8qLHNisb3C5IpfkcoFVVY3thAE496mqKlIG2O44vkjavpPJvUCCe9H1Xky3i6tM75NqQChFYehuAs69eGVPbZ3kGpoRnVTAejHdpQUd+r5tt1hr8T6xQ+csRfmnEjh1r+MODWYGwjCpIi7TMI44kTRynGFve1MQ67B2Rufhpz/9nM43NE1DaYTFYsaD+/cI/g8pnfDNN2NyuMRPQZVwY/GTRW2tpYk1IkI1czReuV7f8Pnjz4l/6//k27/w54hqU/xZZsNlHFWBEDvaNlVX39gZRVSMnhIufsD/9d//18Axf/CDD5HjB5gAbReo50Ls+iyO0Z6GwG//7b/NP/vn/xV+/OkjZF6lknpTaeQlRuCQnbCP4dt3BrxCzD2IEnKRks63iAjf+e63ubq84cc//jHf+973djJDXtS2Hlh7CTJMPNwqQB77vsg0jNJZirm9fe3VzQq4nc3TS7FTUlWO5wtEhMLYMW03F8COMQye8fV6TXW0TMWejaEoClrfcLO6ZF4Wqa5o/r1BMNYOc9gYw2xecb26ZrlcDsf2+2ParpehfYlND6yzXrIWkbQ5Sx9HpRPH7I6J+DBwirOUAt1mAwqbxlP24KkmO6NyeFe+piqEiWSbZA7JxXv0Vj/sUjzMTPr2yJiBpRJpfQS1qIFIx/1vzIHrO/tun74mwDkZvDy4U0Px1Pi7b+wfzsnhQDGmBRZDBAPWChIDJ0dznnzxMavVNfUM5vM55/eSwT74luuLT2jbR1hTMC/rlLsecxkyKzQ+gApFURHF4IpUyLfpBFcuOT5ZYpzl2Ue/x1/5D/9d/o2//O9wvWn44Ls/zze/+U2Ojr+RJBKBtmkJGIyrkupgA4Lhulmz8S3b64izFV2MOOeYzWZ0PocjqezY6lSFRVXyg+//Lu+8/SY/e/SIyi14EaPeZVIj3Qau20iTIsJeHjn7yT6d9MkJBx988B5Pnz7OKZsmM73bC6MvuZfmRa9WxjTmIrlgygigxtjhel031gDwWS3tpct0/ihMF73BAAAgAElEQVStTudX4RzWJXAcqvmLUFo39OHQfz7VUhCjqfarGJwRirJis1mj+dnn83nSbHybg9sLRJPCbF1i+oUxKClYvm23eF/vpAi/iP4oEuf+70fnqwx/aUn2Kn5W+weT2eG50HUtxIbgW2bWcONjqoY0UN4ra8IwI0pfWBpSQS4raR0bFfZz8ndpEoWxY4Y6NIcF5yybxqMx2ZXjqwgDfI2AE0ZVfeycA9yx36smHxdJFcFj3min906GkICuLEpEWy6fPkLWK96YOWyxxYQL9MbiXZ1qPGI5WhxnVU4IIRVItQhqHOJScaoGC9GAXudN20qarsMYS13UIEcsFvAb/8NfZ1Y7PvuD/4e/P6+pqzkn5/cSSFhD03VsNg2Pfvwhl8+f8cv/xM/z4x/+IbVdsnpyBbWjmEMhhrbrCL4digkzmSCKYmzF508e88HDh/wjb77Fjz76BC0Wk757MaVwpHTBPrxIRIZ6kf3YHHq/e53bx/qtP3rg6dXh+XxOCIHlcskPf/hD3n33XcqyPHiNqfo9FP4IIcUKTgDZh7QQ/UQd76VTVSVIv2gcpkiJFYt6lp0Zdud1SH/sHQd7nGi/D2KMbLcbiB0YwThLEE9ZJ+ly26y5V51jC8PGb1M/xwT0ItC1uR56LqqtGrBO8rYpxfD8+0zv1aRN2JkNEyCavt4WWmTI0tuN3IikmOvbEufnX3zKWeV4owzgwFjHmHAxGFyHl764cxcSeOaBT0xFUp1OY8dwpRc9424M7vjdoLm4WUp8cUkyFuOwdsmfWolzKl2+yu96higixOlEUNhsbtDQYQkY02Gjpy5OUn56E9FYYIuSKAbfuokkYTBWUBFi16XBNI6yrEAsTRCiQuEqdNthbIXvDF2TJnq9PCJGeL6KrJuWpbNYF7DGY4oSTIm1FUfn5zy+uOCqueaTiw3z5RGz2ZLn60vq4xLftPjgd1Xv3L6eYozYwvHZRx/zzW99QF1VvIqtexeM/2jB8XdRX0Zvqo5XVUXwcSgY/fbbb/PkyRPOz8+ZzRZ3Xmvfxtl7qq21qfSeTyB5vd0OW46c37s32FGfXT7fkSCNMSyq2UEQ6jRmptnvbpoZc+uzZDT++RhQjbS+Sw4QTR6QdbPlZrVKGz50HeeL07yNiwzPM5qaAkVRoNnp5Jwd+u1l6Y8rcR663u25cHtLjkPA2XVKfVTifYeTXKxZX/QsvQTax8aaHIHQhyfdHdv5IhrMDbl9IkL0SXoOAZwj9/vLSfU9fS2AU5WhIGtv7FAU7KRadFYjfJzkIffFVMXixCA2pXV1PkkazhqsLbEhEKLlqCrAWM7u3+PjJ8/RssQHj8ZIGyOu7+CYPHMu710UtN8IztD45Jl3eVdK3/gxp10VW1hUlGZzgzOWjQhN49k4JZRPCGXk3hvn+XxobMTVaYO6o1q5ePQRTZfChWKr2MrQxpA3RTMUhcPbHPTuPd4FpJ7TNg2maXn2+WfMqhnrPId7CVLD6FlOvTw6MQDEjo4V2xeTHq6RaxnK6LFWzYVKVAcg2Q8lSipxHkPMjpu2mld54zeoFzXFuuDTLz7l3Xe+iXNJqQsa6bqQ0+ESGWNS/rcr2GiL7zymcrS+w2fgcFXJ6dExZVnirMVq+t3xfDkAeQ+c1kwq+E9CjOrJDgK9Wpqe+faeQ8kOZ6nLCmug0WTbu7q8wYeUu15XNa60tJsOMZboA50mO3dpHZ2C5oLJzhRoUOrqmGfPnjCbzQZg7bouO476+09te9NYyxxaI8msMZBMwpji2P4RzKc+hnH/n1Ejj8M6TbcPiElVxcipx0+ePKNdgy9v0DpFeJiuRWwSZjShIH01L6OpkE2MvR1zBMo+xCugaNhlDjuMtDfbyHQuRpxJfWZsqhnb+Zatt3jfsTirqOYVWEOna16FvhbAmSiiakgZFJIMyJoqlKuaXINyr0SZ9qCabISQ4sOkXwiBnBGQxPzaOFxVsm0iMaS9jIICQRFbEyYe2JQjH/Jg3PZsJq445eTp/Rg64ekQui45J5al4bPVpzz/4gnf+c4HHC0WGGP4pT/zS9z/83+B/+mv/3c064BfdaikQoQxxrzHUra19qXjpgtXFWk7CgybmzVNs6ExBdWbaZPRvoJ4r9JOF/v+M+3TuJim5+vuIot3e/sP0VTCAgY19MGDB5yenvKTH/+E8/NzTk/PUVXquhzOFSWVyHGp0HQ1KwlrPziA5q5IO406RzmrB4YWSCA8ny0HkJg6nPr2TB0PfhKyNK2O5FzaJqTrOkKWDjvtkJjChlLCRcDkXPOyrLACVVGSCsqP27b4LoVrxc5P7j2NzwxDXdPezDHd1uX2+An7dQBuS9MHHCgTLe/Q/NAD8zwtvpgz2kjbxljL5eUlq9U1RHhw7xzXXA6FO8Y47VQ13w73THszRfbt7h2BBFKJQcuOyVLR2+1Uhm2gITHvonJsW5+ceGZG69dUdRKivI9YLLaobvXLi+hrA5xTB1AanAA61uE8xFWzMAWkbRH6yZU6c7QJASmrQgImBtZdIKpJ2yT0Hj6VbMbqpds4ho3sTerBhnJwQk1tcXZQJ1f+BidC0C2r1RqJydb2+MkzPvhHv8e9N9/k6aNrIqnWZYpfS/1hFCQe2PpABTDEEGjbFGtYlTOwab/zqc2ulwz7aj1TdTH1/+10vbGS0Qig42sGzFTVYs92dZj2wXoqvaqmgPmHDx/y+PFjAJbL451zVUbpSKwZwMaYpNY5Z7E2SaQubyMbJr+f7lne06bZDs887du6rEbbaOj3LRe23mfHTTtUub++vkq229CiveMph7hVVQXWJVtv8OMe58M9Y1rp6QijnT9Xu8o24n774H2atnlnDF+QfnmISe4DZr8OD6nHqiFJ4Zr2vGq7zVDFvq5rqqpk4XI1qBhSsEOEvvvHK2apPsqgvaSC5Mkh1e/ZOjZX0T3n4RhDesfck7Sld8JUw7aLmEIxvYdfHNZUSZB6BfqaAOdeymVviwhJLe9t0Un6m9oiRsO0IKiBLnZJ9NdIjIJ4jwuRsrCcz+c453hy09F2gSB9AHYvKfbqWQoMjnknwuly6ydYjGPwcFrA6bgxJnFWTcOsubLyxnSUtmDTRT58/IQz33FytODyxz/gvW8/4HrdEm1FfX7OzZNrehueDTl0xQeiCcToUCW3OSIRgnq26innc3xhsEVNIek5fNsN5cmMs4OXGXaBbBpPOS6i3lQyBc2J5Jl7Pu3F9Gp2NA1jVXc0VbcSERbLOYvF+4QQ+PTTT7h37wGlswNYAinG0iquLJIXvRDqssR3aU/tYOKYqZPjeI0xucDI6OUHBrXXZ0DswfLZ6jnep+tsNy0hJGbYHcgcGsSgGIfjwXvKsibGwGazwTctNxdXGBHmtaEqSqxNAfBJne7tcGHgPz0o9gDcS7qHxmqHocpUIt3dC2gq0fZ0l3Q5CjL9dXR81tzIMeEhDMzz/v37PFhWFDdPcSKDrXhYO5KckWFH2EgFdZRRwwm5bX5SClEPxMKJCM6MYyGTczQGvIIp5lxeb4hAdWShEFwxQ43Fx8R0X4W+JsAJY2WWFN/V21fY4TrCkI654znbHfjeuKyME7kQQ10m0E1ZKJ4QHDbv/6NR8/bAgemGccnTOaonUwa8I33mSRB8kiISsDKkNlqNhK4jqKYYv6rAOcMbs5oiKMZHJMSk1pC446iSpW0coLdpjdwZIp1GcJZghRg9vt1QGLejFnvvabqW4+XRnk1rN2D8hUMkAhIRJravPDj71zi8OMdj02IO+4Hv1pkB7B4//oI3H35j+L0xJtm7VLFlKsM3BTwjAhNpVDQJxU6F6Ho1fWQETZt2MG2aJvVR0xBj5GZ7MyzSURoxTBn7GFeaQcMaFAsx4kPEaKqW1M/JLkZK65jP51gxbDc5VdNwy2/Sz/1+F9EemHoJuM+CutXXEg+Mg+zM4X2aquq328DB+dHPeessPvihuhOkSID19YZj9YSQNkmM0TAobpKjCSbXSqaovXz4HAjf205TO3Y7aj/aoB+fnryC4Ng2PpkHSodxZTILGIvNKdyv6nj6WgCnJTILGzwGjyXaOSKGTm4w4lJcnhbEKDucIQlzyZHkcyWaylVsNhukIFcvMnRqOCkNbbPC2IKlCk/tjGAs222DNRW4CJPMk17dj1GxVnC56lJZ1wmItkk9EVfQtkqgo65mrLvASSmoFmyjYaEdrRSYmIrZGmPYrjY83bbItuOd2QNOTs5ZP3/K8WzBqjVQrdCgKf0s+uwx9knxtAV+3aKVZdO1zH0kWkMoLRsPNgqYQBev2bYNR6cnYAzPLy9ofcdqdTns9qiqnJ6eIiKcn7yBy/dxzmFyQDeM4JY80jVN0+Z84AM53pnKsqRpGmbzVKBaSbuJ9tfrwTf9jbbhYbtlC++8+zZd1/Hxhx9z7949RITZYonEiLUFT548YXWzoSginrT9RNSANY42B7ArqT6rqrK5aQgx0vhuANsuSzMGm6Wa3MacPxHRwZYJEHUMwu+l7rT3FIh2GIG6dHznvW9RFWWSQn0gdj6FlIkQwg1d17KNnqZtMbOK6NsBJMn92nmPSEFZOshxrMbmZ5ri2OC8iju42DPXsphNADW/io7tlqQq96aTYYzGCtKYPgxQ+rWXvuu6FRsPzgi286w3Leut5503jpBtQ7QQfSBYGSNDYmLAsTcLkDdwi2P1KVSGzfhCb37bkYbTNXonp3NCm5nLYNuOio+CdQU3zRZTWOpFhSvn+ZkTx0pS7WTrmpegrwVwClBbiEZQDE3Y4ANUbpEmvw8EySWfJmK46eV6+k3Q7IQzR3qeFoVxr2ZJtseBS71E+0II1LVNW97KdlAbbXYUFEXyqAYfWVYOE2+IdYV4Zb1u8FqC99TzBW3rKQ3ctFtKa/j82YL/6q/9TY7sccpCwuOKAuscaiZZOmZXJYsxjmExB6SIfmvftm3RaZFoY/FNX4RD+PyzLzDGcDI/pZzNEjPQQIiKc2Ns4zQOU6TfvixJKkbSeyPjObuq7AGOLlnK0Sxd9MJG9pwOFm1jOD095cmTJ5ydnXF9fT3EgG63a6J6bm5SCNBiMaNpOtrmZrA/tu12kqteDOqhIohxFDYDeEj+iz4FMppJ7GT+VSqHlkC4NIIrUsjQ2w+Occ5iJO0PVTpD6Fq6ZkOz2VJYSwgeZyy+awmxgxBzumdIe0rl/ulNDIMJSFMnTU0kfb/sm1SmNtwpE4sx7gInfVm3ib+Aif34gC361nWz5OcjiClotluunz6n89BlYHwh6W6UxZfRjobTf86bIEI/F7OGlWNC0zq1tLlPy7J8QebRq9HXAjg1RmzwOCJBO5wRjDOsY6DLABEgr9DJbpDJfbYz4H0AvM8e+WCAMBZA6NW84d6Daj+qNPthNarJBljXNZDsOca6oQydsw71HVVRYUPAGsGcv8v73/qAj37/D3BuTrfZUs+XrFYrFlVJXTp81xAXb3D2zi9y9aPfwcaWsp5R1AUuFin0RVLNzLRDphCyGcD3UtBkHiQHSmIGveTQNA1M9nOvygVGyiEtsSiE7XY79F/bthR1OamFetv73h/vCzWICBaDnxSDLYsCZ+1OEfFhcZKSFu4yD6gmT7aYBNrHJ0e4wvLoi8ecnp+xWl1Szubcv3+f588vuVpt0AgXz1e5T+JEfTeIWMSkTdCASawvdG3SVKy44RhRwRY0TUMIHSIpk6hwjtoJdV1ycrRIEmmMaHtDCA2O5NFrt4GyKBITV59D18CaiErAGEtn0p44geS86EFvmm9vTZHaPgGY3vTTS+9JekzfTUFhBzjDGJKkmoHzjn43QydMjsfJNhs9I8nrxgXD89Vz2u2WSmBWz5m7eeJC0Esr2ZlkuR0Depimz7V7fJSEpyaGPpQpFYIBUNQIvjNsNg1uWWGL25WmblccfTn6egCnwnbdohoIGilKg7XCotqgriCIpdGKoJbQ53urAVI9PVXBibJeX2Od0LWRGJUgmuxOEcQm+2kfP5kGPm1L0Rvko45hH1MbltiCxnec3TvHNy1ffPEFi8UC5wzRK123oS5q2s2KuhM6Mcz+7L/KTz5/xIefl4Ttc4It+PZ3H/Koc7TXDQRPVVb8wcUj/rVfeJMr/79xv7K0QZifLdFSaLsU3tLGiEGw1iRAySqV9x7vJMfCMewZ7TViyxy/RnLEWGs5rmtsecRZkdVnVWa1pe22RO1Yb64praVtU7WfKnNoa8wAfBojziYx05IM/cnmCn5P25mqe71dMU30vEClV0BHDVPRrAYme6WaFLB8fLxkuVzy0599mCTksgAjFGWJkRYwNF1SY2POtnGuJIZsA1UlyDQGOC/8DEClNbjCsJwvcM7ljCIFDXRtg/dtllw9MQbWl48GW/l6fc1msyH6wNnJEcfLI65vrlKMpgTa9VXKAupSVffQdYhGrBNmpKr4UZKdsKpmg4MxxkhRVPRg06unkGzp/Rj26LFfHHogC8lOPql3KxGjhrCnwUx3EZ3m70dCmgMxICSzFiRZZlEbjuoSqwavjlYDxrdJOjdp0MfW9NvMxCGEcJSGpx79A9lL2awzImpEQ+qXhog1SZPs+px/DJc3DeJgOa9SGyRhRvq+n3PCy+meI30tgFOyVw0pcFZpu5awhXmwGBcwBdSuQQXWPi16I4YoJm+jlQrn9sbpwXYWQew4EKLZdNzbvrKNo5c4oyTDsskOhD5OTGOgruZACr+4f36Pzqcq8qJC7Upi2+GiIfiAK4TFgxMunv6ErVbYwmCqiudb2GrNqumoyznrjcc4+PCLx8y7Du8CqBuCtMUKphN8E4YFb4zBFA6JksuemVucOWreErWvZk92kvRZK9YQu7SVQ1FaFoslm+vrtIBjRDKDaZrkhChLN8TRxpgWv0DOCwdnwOuo2ifvc0tROOB2RsYUAOil/TxmxhisJvDs7Vox5+yH0PLee+/xxRdf0LYNIUqWyCxBBWOSCtrHOnrfImKxLpsqui5pN9ZSlCVVUXC8TPG0dZmcaV3XQYw0m4u0YDUQe/uXKjfrG9q2ZbW6IrTJVlofLWi6wNFiRlFXBA2oVbptg3VJY7C2IkZP227puibb4XzWplKERjKLSLZtZ+k4ppJ7g4NGdveJkgko7TtMd9/32oAOfT/4x3Ua2D85NklXTWsr4khVj3rg8HGDiMFoRLAY4yhMmTZL1ASP6a67CQP7TpxD1G/+JsNr/6xTE0W2NaukqvyaGbHm+hXOMFuUBA0UrkxZe8P1zUvslXuY/ljAKSI/BVakOCKvqn9ORM6B/xZ4H/gp8G+q6vMXX0mRtk3qmwFXFBQ2BY/TBXSd4g+ttRwvWiKZI1OiOBTLxi1xzrHebLC2YNu1WJuyEkJIRX4NSW25bePsPfkHvJSkLUWfPXuGWxma6zWL5Zx/7M/8PKen57Q3Df/H3/o7zIqaqqhoCs/Gb/n484bry4g7ekBNx9XVFVBxdDrnzXc+YH19w+Xlc1arFR99fsH8Dxtmb1TY2Q2urrDWULmSRqBrtonzG4OxjkoEmpvMXcNQPERECNluuG2alGnStnRtoKpScdyu2XJ+ep+j2VGyyYknxJQznhwSDdv1hrZtWSwrQvRcXjWDqeLo6IjgJ4UZMsA5Uh3UNImTJOfEYCeL3OT3CXR3zSHDOWY0D3QhhQi5wtD5JqXAauD+/XNaH/n446dAsrPF2LFZrZgvF9RFzXw5z/sepb2hxCTGETtPu22G8be0aFDWl1u6rmO9viHGyNXNDZ33STXsvfTWUJfJ3rs8OcvSmeBMwen8nKoSrARQjxWQwhBVWW+3PH76lHffe4fVasVPP/oZDx7cS2FWRpJjJANJ13WEoFhT5Gyx22r1PsAhu/N23xTlp9t1aBxAtN2OoVVdSPGnYeKl7ouhpP2PLEaEKkXy4Gyu6iSOQF6fpkK1pIkGNIy7kw7je9vsA2OEw6G1d+u5M0OZBrmLKCq9V99gjE3lBn1kdlRinWKKxOhjALGmd0ERxWC/BMAP0T8MifNfVNUnk8+/BvzPqvofi8iv5c//0YsvIeAy+kskBp9sddoHPaeH7mJg+7zDWqEoCuYLxZgUMD6nRTc3oDUdHbNyQYzXEDa4SvAmGexbo5RFzfrqGWZ2Rl1aOjVAR5GloxhAh/AoxWtLpCB0HaV4Pnj7bfyN5+9+/7eRoBwXCwwpja6MwrU3vPfmgt/+4Zp6Jpy9+Q4PcHz/d77Pu+++SxcCH338SdogroDu4pryvW+xevRDlkVNt0nB4NZaqqpKZf8Lpd0KtrR03lPYAg0tRiIhR5r6LmBQjARqWxGyN7koLVE9i6M51+uG7c2aRT1Laq7RFD4T+9AYw3y5YKZzNpsbAFSTqqtAUZYUziHZy+7EoNHjfaCs3BCWMi1MAUxUdkEkDotqqCOSoxi8+qSux4gjAWnjlcIkSaH1aROwWVHyxoP7PH36lJNlyWKxYD5/h/l8Tk3M0nPA2oAPG3zr8dlh1PkULuS959nqYgCP6WtZH1GYFEIzrZZfhQ4nhqIAl7cwsS79pmu3mCzFaBSabLs8WSwhRj7++FO+/d3v8Lvf/x2ON3NmyzkoVLaky9K1dg1RWtQ6VOeEmGomCHu2PTPa+GLsC5r4wVEUY7Jzd20g2jFka1r0ZNuNWyNPi6dI3r9qURWoCtV8iYlpS5qqdkkjaTqsEbxK0vei5rW7pSQxcGtLXPR4CRgxQ8m40aqYtaigROkTM3I9FQEbc2nASTC/DE7SfMCkedm0yZatqpSuolmvUVXmS5v9BAWKRcxYrNlCSl0W4VY82JfQV6Gq/yXgL+T3/wXwv/IlwJnE+GyD7GM5dZcT9VTX1TDQm02Dc4a6rlF2i9h677ODYd/rHBE1FDhCSKESzhT0e0v37ckxEQAsZ0u8lqxXl5wflXzn/Xf5e3/37xNCYFbO8etUF7woC0IbmM2rQS1++vQJTy6f88H73+XeGw94/PgxXZNUtHJWE5pVAtDTCu8DwceUI6+efnhSKJBLgNM7ZiZB3NOi3imr4xVHjFG1m7721dmNSTGn1lq22y1UFXVd79iDnXNstikOsg/Qvry8ZDZ/Y3esJwb9L2tPr56lbZ9lUNmtTREOJ4ua+6fvM5vNSNWJtjgjdJ2yaVMUhomBy8tLjDHcrDd477le3xByJaU+D95Zi8mSpYik8m45VKUo7BBZUNpq6PNBcdQEODHk/kcIubo9MKRKPrl4zvX1Naqw2Ww4O1rgfaQoBA0hmYaytU1iJPgmtSs793pzlKoSJ46WXoX3QAw+2cXbvnSesL7a7PR/n63V17pOjr70vp7XiVmgLGYFogajBlGTMs9s78C6K3wnYo1j5DVJnT7kdD3468lSjbkS/GB+k7FGbIzpO/VJ+k4mleQE7rqObafM56lcnJGsyh68ZS4u8ids41Tgf5TECv9TVf114KGqfgagqp+JyBuHfigivwr8KqRQpKSRmFwfsZ/MudwZ2c4DtG3MoUcOFNomsr65whaO07ZBzCzZVmKueqIO8GgcVRBrbap6IylsKYSQChBMoDPdNb2uLq/xZU3YrvmX/oV/HmkuuF6tcLZiPl+yWadtHTo829jRbDzN5obNZkVlHdtNy4cffsT52T3O7s34xjdSQPePfvwPuH6yZrW+QewRz55egVWOTlK+tVQWY1Nso0FAPaawBPUUUmRA8SkOLoeZCL1KE7IzZqw2k8B33MwuxrSPkeRiJsn2OKpLi8URqmEICo+xGyTK9Xo95IX3cXPTvO8+4mBUvcZtL2JUph7gvXlBnjvjsagEDbjCsVymuqf3759zejLn+PiY+XzJ8fEpi/kxP/rRj/irf/U/B+Ds7ISnT58O0m9VzbKmMstzSFjkHOX9mqGE7U6Mak+X15ts/+tGW7oPSbo1BotgnaMsCwiRtm2JMTCf17Ttlh/84Pf5p375n+a3/u+/w71793A5XKZXpRP4KSF0tP6G0qTiNdkVQ+dzlEmWIFNfNzshR0Okg7XJQVVIdpaNxU0A6nK3wImq0jSboSpT6FKuZGg7uvy8TgxGlIXN6QCaVknyBXgKI5SFyU7XSL+qbHYg9mM81chDlrbzt8NxnaT8/n/MvWmsZVd23/fbw5nu8Oaai8WZYnNsyq3upiTLkjrqblm2bCeIAicxEsAwAidBkASIDeRDkEQf4gAOgjiIBRsOLEeJ5MgJZAVObFmypFZLaUmtntnNbk5VJKtYVW9+dzrTHvJh73Pufa+KTdJSBG7i8t16795zzz1n77XX+q//+q+Olqelitj6Cg9YQK5TqtbghGTe1iSFROdphLFE73ysOhxeyPC3lSTm+x1/WMP5A977d6Jx/FUhxLff7xujkf27AOuZ8J0LLrxaoWp27vNpdRyIbVbjd9U6wXsTytGy2E6YAB6HMq7Tu4lUDiEdVlqsD20mBB61usiDBQrHTxOMaUgwvPbNb5CuDTDNAqF9EJt10evoPASgyNNQJuccWZLy4g98P5/73G/z2BNP8vWvf53NrQ0uXbrAt26/jbWWxbyiqhpsY3F1qJt33kKn4qMUSnmkEj0FSp4RHwkAfbxmwoFftjoOu7w6tdOvgvV9+HTm70IEuGC1tYRc8Uq7Bdrx5EJLAsOtW7fY2Ng4ZTjvywd8lyFigq4bSVQUMqZhc7yJELB/vEvra7JhQeMqRKN46rmP8OL3f5xXXnkFgEcefbgn9ee6qwxbGm7RKT1ZGzfRQE9qvac1Bmt8X2YZXhcgBefkiioUqFQh4zVprUEqDX5ZYeScYzwec3dvl9FoxPmLF5hNF2ysj1euv6R1lsaYUH2zWMQ+SjLg/07Q2qjC5Ze0vJBQUmihemNZRE4uQCZsT0+DKO4tRAydI6chMkw6b9Vay2I27+9v07QgQSPQ0jMYZ3jRzbe4Pp1FKkWeCHxtQ+AoBY6YPLrPprg65fxqngGJcsF7d3g6o9DKpp93+FhSKwRl3TvyorEAACAASURBVGDRWO/QSYbONDLpCi7UqbnfaR50wwHKfzBT+IcynN77d+LPXSHELwEfB+4KIS5Fb/MSsPtexxEC0u6LRKA3HDe4+U4sw6KwgXQZ5qVgRZYmNOWCJBch464VxlY95tOVKXrvGYmaEQ0LU2KFR5AG3c2uOiQmWJb3S/D0A9tcGF5kPU+48fY+H33qYVojODoqCYpFQfZYKU3uPdrD2uaQ/cWcIiv4rV//F0iRIKzBm5qDvVvs7d7A2pat7W1eef0bPKxS9u8eknMOm1n0wCBTFbAYISEPnrJs6T0IrIh9sm24ds4jhcJ634f2waM4WybYhU/B2+x4gZ3H2WW4g6dJ761477GxyqXzelYV0ttIobp48SKTyeSU4Xw3I3p6Lty7uJaQASzKOWU1Y319nazQLGYldWk4Ojri2rVrGGN49NELbGxoQDKfl71hnB5NaBpHuSj70Lq1oXrmLGk/SbJe3zPIDHYeaYguTKwq897hjEE5hZJBzUpKCaIz0sEDdXguXryISjQ3btzguedf4Df+xa+T5zlagVCKRdVwcDwN9dR5wvkLlziaLmiqGmcdWnq2RkFvYW2Y9derT6itwHTOBWNpbMM8GmJjujA+RB2eZeFIdw+RGbfv7keObmjp4TEokSJckGVLJTDuokAfW1YHhooWgiIRiDKE0Ja4jny3qO6938vw/HTZpVMh52D7vksCKwNbxhofuczBQ3fehiSYEOxcWAPR4rVHEEoIg+HsoJgOYFcx0pIrCaz3N/6lDacQYghI7/00Pv808F8D/xfw7wB/I/785fc8FqBEFx7L3vux97nQSgdl9ngOcYEFA2BbA84jdAhNnGlCiH7mGKm3KNeSq5waiTXmvqFj5/k2puXc+hrTg7eZHXmaVrO1MeDW7UNOTo4wTUKWDiHy4LTWHBzusbWzze7bd1jUC5xrUVIzyHKsbTG2Ik2DQXjkkUf4g7e+zGJRUuQKawKNwjkQPlB0hQ88TbESUp41MkuWQDCkoZVyCNPDJL9/46/T13L577qu+0W1PKbER6PZLboOUzZRMzJNU/CSqqruwbbiJ38gj7PDUgPGKXHCMZ2eoMUmd+7cYXJwgveejVHgYDY4lPBY2zCfHHHz5s3gRQmFUgnCyXhdFZblxhrS2+G8jAnc0JCx9dhY0ZTo8DuJC5qpCLBB3dxZYkIqinGsfB8pJUrA+vo6L3/zW1y99gDWWo6Pj9neWkdGLFenoSOBVgrvg9DN2ignS1NSrciURgiirsJK2w9hmZWh82rbtpTVIm6OFq2ysPHpjCwtGK4F6pVe0VjtHmUj8BzgvESqFCE8Vd1SJEnM3JhI4pdI6VhpAYb34fIpEauC/NLDe7cR8Nn7Z9sntQlBn28DnulhVsU5IbtIKTgTw6ygKivyLGDvXsl+s+0ir85LPV2x1Lm7f3zqSBeAX4qLQgM/773/Z0KILwK/KIT4y8BbwL/+fg6mZGD9K1yfRZNyuYBEVM/xUV6t8yQDHUFhvEf5Ep96rB8gmxk1ilxZvC9opUA0hiIbQj5Eun0ae8hYp4gkxTcph5VhtLFJaUODN5WEHuE7ayM213IG4gIHB0cg59TTA7Y21rh1d4ZSCYmWVMaGtqhak6gJrZAMhWSWzlB+xHxR8rVvfQ3rQ+iYSM3Dn/pJ6tE24+M7TNKGOYa0lmQUDN0g1O/GBWoFDJTCD3KMb0kGGcIovBgghSDNR5gaqvIIneYU+ZDpdEpapJSTE6SvUTKhNSXGtKRpGieu6Yn1wdMWpDEJ120oIQQPWagkDVzawSBnOpnE9g4aJRRNVVK3FcVojEgDwToEtwLhQlibpimtDytArlQ1CRHoQv0kJxQy1HXAa1E6zA0fwrfZtGRQjKmqgPF97avf5OrVqwyKkMgpy5o8y9jZ3ubg4ACtNmisxeGw1gRcu+0yvad/ShUyykHdyiN18LYbs1jCFJHCbWQQ95V4UBoPVMayniX9xlJHetgozcnyEW/euMVjjz3J8fEhlfMUzqElnB+n0UsVpMojBoKi0CRJglIJxFp564IeqDGGsgwlpokeoIRAJynDLF/itnGV30OzMybajZidF56j48Ng8xx4GoT3DHQKvg5q6mg8DiU9plGQFCgjgn4BsJEW2Dq0qEZ6dCTch6q3aAhj9FLbrvLKgZRYIZg1baCXeXAm5CqylNiLyTEaE3BWgmMRklyaxloG4wyVVTiV4Z1BiUChEtL3RH8hHLrXJ1jth/XH5HF6798Anr/P7w+AT32QY0khSGUAjL33mOi7Wx+k4nQsMfErHkhY4csFtuRhSjpVmw7rXMVMvXC42uCalqo1KBpEKtFqwIZqkIsFaTLCC8nW+jaHh0fspBl3rn+bc1vb2LZkY1Tw5s1bbF3IQp9oKWnbGoFHakVlj7n5S/+Yc5/4Mzz0mT/P7S/9Pvv7N0jXR9ik4LEXvp+tnXPs7u+Ribvc+sKvsmYX5HiaUjEXJab1lFWNlYIkS+hqjHtcUgaj5gE12eXP/Nkf4Du3b/N7f3ADr9aQyYC6mTOioV041rMdjMhwbo4xy8qoJNHYtkFIsaIwnmBN22eTtdahdDNuWMFJ8FRVxfr6OsYE4rxpA/VJJQNef/0ttE6QsKw6gt477TidMiY7ZfjjqXrrLmzWMhxBEcslhcf60H5XKYXwDts25FnCwf4ut6oZV648gHOOLCvY2dlhY2OD6zduBjk7EcLStmnpSNQ9Lh43isY098wn70WvVNR53MYYhA6LENc5MyHymMxnvY5mkmd976WrVy5QVxXra+uMR2mgfUUMWWWaIs0irlgx8DmJ1kF2DxFwby+QKgm9cnSKjv2RtFqKrXR9i5xzLBZLClKXUFpNennvlzX8PiZFfRRfEUQx7chOOWN827ZFOkFT1ygZjHFVt1hTYJ3r8dLWwaIN9xsR+L5pkaN0wkBPyaVCecdQQiIFWsJcEzcei/BBvazbwGgdystAIG9bWmvZ2NjAeIO1jkRH+Ah1xuUVIHTwcoUKFCUhWYolvL/xoagcCncohplCkPStXQNxvfve0gew+ew4nQDpnot4MSLxt/PSAe+CsIISweuzwmNsBc2MLCtQWuEMVMeOzDUU1AyTFNtUZInmwvktrF3j1t09usoYYwxSK3KTY7RnnJVMr3+RwcOPsnXxER557kXevPUOjz/+OMfHB7iq4sL6Gp//2b/FI2NJE+lUrYLM+tg2okW0IlTJeaAHuzujI3FCoHWDFDf5kz8w5oXnX+SrX9/lC99oKYqc2hu89AhKknZZo95hlJBEz1OFFsp4GtPSUYS7Vg0dvhk4mktxZKUkQTIsSN95IxjkOYMsRwjJ7du3GQwGQUotel9CKYTpylsjPUkFPFDcBzLps/PChYSDDxxfrQNlSGtNkqo+k5+mObu7u5w7dw7vbZ/cOX9+i9lswf7hlERnK90jV7Pn3U9JV5S3ek7Wtr0XbkyovgoZZ4gKJeHKuZiMQ0Uiu8FZKBcleRYiFOFbbFszGhSUixnSS1Kl++N775E6BalCwaN3kUbl0CrtDWPbhuqmaVP27+tpS86B1ytefHAopBRxM+wvcn8tuvXSHWsl/dP/zkfDKhRgIMtSUhlaumgpOe5iaqlAJSRaMEjCe9uofbpYzBECKiEZ5o4iFYwyjbUG64JgmcQs7Z6zKKGxbgniSQ+NtSAjM6InyJ81bd32vXSowj1WiJV7/X7Hh8JwWqAUoFgaBAg0FCeWBIUgdLGCw7ECj0QqRlhk8SJ5GcsooesL7YQnTz1JKnBNjXFgvEXrhCRfozItfrqIYHuL9PDY5W0me7vILAHbYKsJzivSRNO2NcYlIBMsAptNMaUgT4bYg+sc/Mr/zNuHEwYiiOZ+/XcM2tQMshRTVzwzAm0NczVEOY+yC+rW4dHUdYtXHq89oFDOBQMXw0SdSIwCq0dMpgkb00OurM3Z+r67/NlPXkYPLvCf/Y2XmJpthutXmQowxpLrLHj3MWTJ8wG/+Vv/L1pLHnnkEYZZymg8CILBzrEog3hGmkWDaxxCsuR1AkmiGI2Cd6W15plnHkeKlK9+9es446kWNSIJ060ylixJI1YXDKcgKP1j6Re5J1BNPIGbGmTglkRuXGgtcXBwQFEUZFmCVIosqmQdHh6SpmnknHoGRUKejUkSxe7uIc6KKBAcsEnnXags855UpD05bVXlyUuL1iIyOXTPKxXudEdNv5JoMs4hlKZuTfCUZ1Ocadk/qHjggSucTKaoWPI4ay3WBnyyWRFN6T/fd+cEXSlmoJF5mrozDEHHQQiBVNC3W4nv9/G8VJIujWDcMFw0iOF59D1c+LvzLvYAYmk4I39cOEgThZYSV1VsjeP50mX/l+tYqUAnDJ67w2lojaWsHW+dBNMtpeB8EWQiUxn0JET0pEUUPLaE0lyvJEUhMa5FaoUkWXZXVWLFuwyJINdREZUO0nayc7Le//hQGE6EwEgRLrHz+KiA1PevF6yUmKy+rZsop38fJofom72dzZj5CPh770ND+jjphZL4lr4We5jmPPLQNRIpGAyGTOdzBoOc+XTCY098D6/8ztdYLDTZYI2qbEgHA2pbIr2mbSxSpjA54GqmKVxFY8rQ7C3RNG2JUEG3s/UGaWu0CkImnTybcQ7pQEWpPHUqubOkdyjtmVfHtNZRNZ6EFK1uUc6v89/9F/8Kv/vlmn/8/3ybYvwETbqs1RVCRHm2ti8rnM1mnBwu0HuaBx9+sN+MhAj9W9KV90spMU0I6TseZ16kLBYL1tY2uHt373QFkV+KqNRRlUiqwKELBInQ9GtVxg6WSUJH8MRdfDR1Q2Ms1hNoOq1BOU+uRUxcJUwmE6pqwfr6eg8DFIOM8+d3mE7n1GXndXUtaAEEiXL9OSiVRAPlSZK1nqcKgRanfDDyQoZj4BVWSaSx/fXy3lPdvUtZlqSJiOr1nlvv3AlKSk2AO6yPnpOSeCGR4qyiT5cRNtAVC4qQHNV6Oc9XWQuBlrfSJjmG6qtJu1Oh+5m1JOiSOPfipM65frNTqACFWJCxCEL5JZdX6Uiad6HKCe9Rnlj/DlmRUiSKqnE0xnBcWXLbMM41UkSoZtkMJZyfAKlU35ZDKYUzIsJJndO0ahRXnzuE0P3G80HGh8ZwetW1kA27kPehYyQsQ+zTb7nXkL5XprYb1kW8Tgm00rTOYqxnNpuhdYI1DalOsG2NEiEkq9oGKTXj8RhpNe+8fRNnWgaDNcrY6bK1DtEkeCWxoiERGQKJ85a5GqJ1iqgbRNuiTdgLHBLXOPKBpa5BpSmJXmordhMdIMliqLtKWAcS4cEb9EDT+gVZ5ij1CGxN0rzMJ58a8uyTz/G3/5cJu3VNmnaGIOCaiQrhLsJzeHjIpfNbtG3L3t4e4/G4D9W1XrZP7j6/M6yrfcylhO2dTWaTSdAI0AErNcTsu7M9B/Ws4czTZdOs/hrETc5FEn1vPBG0TYu1jma+7Im9PkjZ3t6mbWvyPMUYw+3btwMdSEuSRJGsZSGLrHTEe7sKrWAsM70qcNH2c8vGks9OxzNRCVmSB8PY1LTW0NiW1oayxIODgx5XFDFz3toaopKP1hpjHUmW0jYGbw1ChZJWZz2IBIRdwbZD5CTsvUZvdUmsKqUvKZyhs0EnBh7mlSDUd3cGbgltra6rd0udBCfF9xxe0bYxv+h6mpz3sZBFhnvbtSnREWc3lQ8sGByJKFEJDBM4rjPmdY13DcNMIRKFcVEHIPI7+ygzRi5SithoL2w6qxVDS363ZyWOjdfljyk59Ec6BMhBFoqzjMfOS7zxNC7UzAoX6EpitbaQlV1CCKyoyeQEYSVJmoZwS3qsEVivcJkkSWVoB6wychJyZyhFjfCgVYpUgQeWpUOkd3zshWfxbcNiccxk0gYP9miXy+fPcefkmN3DE5I8Rw8GIRFBgtcykHeFom6mVItDwNEawXg8JhEK481KxQ44aZkvSoQHYwQ1ob442bxCRsKGHGNs8FDTIsFYQ5HEmy1Cu4zUZ2QesILKwGBokEnCpNqnGByyrQ/5T/+NbSbtiFduPsjvfv2Q+cKzyBcUucUZy9raiOnJEcPhkDZ2YDzcP6RpGgaDgs3trSAWnTRIlXOymJCnGRubI8qyJNM5ly6d5+TkgI88+TS7d27y43/6R9k7POTWzdvsHp5gnWe6qMDVQaBERKHkaLxniSNRAbNM1bIc0loXRTgWywTHKQWhJRH/eNpQNvsMspzReEiaeopiHOvXVcR0W/JMsDZY7zHBbiMRQtDYZSXUfD7vW2vMpjOaxjCbzfrP7ULys9QeZzrx7VjlIgVJniNtFDBWYSOSClocPlEgFK33gYEgY9TkA0EvhKjBEEkRPX/Rq9VyqsOlXSZ+pDzduLA7387P6EJ0AOFTcGWsptHBM4yN2ZzXCG9YH2fhs7RlKBRtlG70xsY2xqH1Tfzqy/JLU4X7JEBpIpQGXjqayKcNHR/C3zbzliaRlC0clRa/sAwyEEjKypEOYDhK0ZkMzoaWeCMRhM1JSo3vMuvxoYRE6qS3G14EL/ZsS473Gh8Ow4nACxXa+oquYdu9+E7/6lNhyPJ5vytHgxLYM2EyOt9JaxmcS2L1xGneYqfVifZkSag799YzLyssCoVgcjJlfbzGm2/fAKBpK7JI0Dam8wwcKrFYU+NpcaZmNN4gL0JVlK+iByV9qEkXHkQNwtG0LZP5lI2L56h8gysN64MRXqkwOVf2jp7PKj3T4ylKbqGVw9Qtk+Oa4ShnUBS4tgbdUAxvw3TEY5e2WR+c57ga87U3bmNcypUHLvPaa68xyAuqpiLLEspZg0w0aZqyWJRMZ2+zs7NDtj3EA1mWkGmBoGKQOR68cg1US6UUvm0o0hTlS3bWM85tPsEXvvISb1x/G4sk8RkKgWkcqlCh66DsihoEzgqsElFEJNKCfJclJYb9Z+55HFIlNMbiqEGHyhopJViDMSGBYm0oJb104XJQBteBejY5CtoBxtmgJhU3kG7hNY2Jwh4Jsku+rAS3QX0oPNexn40N6FpoLeg9zskYPtte5lCKIJAolzmM716W+h7RVRcNfFBP6r2OeerfHsrGBANlLEma44XAWndqbXWn6vxpXc6u0MR1CR0hVrQ2AsFeCckg11jjqeuWWQ1SeJAiQm5t4LSunJpzgYi/yiPtcfM/osvx4TCcInAxw8QRCNHESXN2J1/FNcWp51oEfpkl7OxOqFizm4BMMVS0LiQZhNEM8hQ5mYV6WxnoUC0BWytSyaPXrvHqq6/y+KOPoNOC88M19vZ2kVKyKCsOj+cgh2iZ0jbB2EshaF3oBT49uU1dTVHakheaPK1pzRyhNOlwgPOqF2HQUlKWBrylMVNkXvPm3nXOPfYguU+xRtDKvi1S9EJAKY0QmkyuMT0UuFkBgymJthTZFs6XLKYSLTeYl5YkOyIbzrk6WONiYbi9e8jWUztYlXDzeJs7b72DdQm7ezOuXj7H+vpalMMLlUqZlEwnE+YHM8bDjGvXHuBwesQzP/QjvPrG6/ypz/4Ex9N9vv6NL/P4936M3ekxl88/jDOWV1/9Dn/iqad56qGHONzb50uvvUwzK/EioWkcjfG0rmWYDqJhEgzHA0g1qdYIqZBSkTiPMAbXNDEU9P08kZHr25iWNA3CL8eTeW9ck6jL2VXOKKW4fuudU8mfvoNAxGBBRSw6eGU6tg22LmTblU4C8yGOVbgoZLTlCjYYnqsIeQjpwUWB4Lhxo5b4Y6iqaZcY8bsun5UojNNP3wu+Wv27j7tywAfPvC7SBYnc6o51odMR2jesDQfIpqY2lixRWHs/w9n9pmv828EN0TsNr+rfp7RAeIfDoLUk0QkTB95q2qZiVOQkhQ4etwx6nEILGuNIpMJ7osKVDFVCERroHY4z/32Q8eEwnHQ3P/AsvQyZv8678svN47uOEI50ArmhljhI1Wmc0zgfbreSQT9QOI/UHi2C2KzWCiUl3lrapuTShfP9oioXcwSO0XDAuZ0dpCoQIkfIPCrcJEuw3RmaegauQglFoiTGzEmyBKEchhbnLc5JjPckqEC8Fp4ky5iW85jkE9SNYZj6vj68X4ArySHnQLuEG69O+chzI2qzF5qteUGRjDFt0CQVKCgceToFSs7vFJy86ZFig0cuPcRzTz7Bl7/5CuVCIlEg2kAeNp5UJ6EUMC0gmbNoLX/w9a9y6YGH+eSP/ms8/4MNaTLi/MYFfvDcQ6BGXLz6FFef+ChawIPPfpL65JDh2ohf+Pt/j6dSyauvv8Y7t/Zp7RydFEipqaoq1OU7SdomERdUARCOyslnI46zm2mWpBi7bAVsIzbqQooeIXVPfRPi3iqmVTrQ2c8JWKVC62DorPEkOoTNXb17h43KTic1KvB0Qh2BJSAQzoUOBTHjHbqthvPyRDzz3QOve8b9DOx3M7pdaN9l1QE8ql9vYUsKXvD9jiCEoLaWRATsl9hmRCgN92EEdF9mNSg+XYl5Vs8gODXOeRpnQkcTlWFoENJzfFQhGDIYKTQi6IJ6EfQnRChE8DGCETGzLlay56tz54OOD5aD//9x+K5Tnwy0FCE/WKi+OkHCjZdB8BiJlypoVzsFvktKQNAvFD2/0BOaeylhWVsfkOUJxjaYukF6x/pwgLCG/bt3cVYh1QB8gneyr5uXUrAoJwjfolVgitnWUM0mlIsJbb3o1bFD6OBxwkYaXaD8qDQhQUEbNBMb69A+quT3Y6lyg2hp64Zbby6w1RqYAYIk4rsCmWjqxlNWI5r5NnU5QKkRaZoyHlQot4sr7/Lx5x+nXYRz37t7u4eQT05OKMuyTwLV1sXmaEP293d5+Zvf6Klk3gnyfAReMVrfxhCWS2UsxeYOTqX8xb/y7/PX/vP/lr/zd36eT7z4InVdUc4XwYvxHY7nMc7ROhNulgw6AErpIFt2RrBk9bmWIgrrBiOoY6a+i4K1UiQ6ZmpjSekqFzj0Ctf9Q+sUrVOSJEOpWNPtQ/JBa00nIiGlRqnQskOpJL5WB2Mfn68moIi6C110FQzZ6Z8fdGG/2zX5ox6d4Tg+KRFC0NZL6bq6XgpFn05ehVYoQkYDKemjyP6n9P2j0/vy8bs4AViDEpbhMKVtYH+/AqlO9bBaRhAdzrrEODsb/Ye9Th8SjzO0Z/Ui9P7RmaKc1yRSB5qH9wgcsX0J3RYVrlP40sYpMuWwZgbZeaS0aKZk1lPWE1S6gfY1moKyDiGiEAofkzVKJaEToVI8/8yzYedSgZ6jVI7Q0FQL6rpmmG0gxAVaq3HOUhQaoRLK6RQzv4mQFq1DqwFPG7wfJUlEjrQCLUwUbRjgE4HzBhLQrUBJhTEObx2zw2OKfIM0yymbBYVMqJ1E25bjCpJGkEvBogFrK3Kxzpe/epcf+eHnmEy/QiIEh8c1xeYY1sf4yZTDuxl7djNe9pZcJawNEur5dfJ0yKd/+Ak+/8Ub7B/sc/ncJutFxnMff5qqqrhx4yaT45Z0fURaFMEYNQ3/4H/6bzCm4W/+938fkeWUk7sUaw8zr+9yXlzEtyXf+dJvciFtuPrIkzTbz5D4A6QW7GxtIb2gSDW2XiC1CrQ0GaOF1jIsQoln07QkSlPKkqpqaG1QylE6itXGhWGFIMlymqYhi9hloRMqPN4GRR9BaKHhfCD9i9j+2UdGB/p0R4DOK0x00P50KxzKzmsVK0IyXXlp+Cqn6T6u6+vjwMeMuZShLlyIoLcQoIHQvXOZAxUIHxrgeSVC0sbFXkLCBWWxmAF33F8vc/U8Vp2N3oALE87bS5ABv/VO440D3WKtwjqFpUaTcmFLoJxFSxWKGQj3wpou8ResoxKetuNXx/93Pe9D3zB/SlLSC4/0QSBb6vBVpQeRBok+i+ehrW2OThZcf2PKw49cJUn2McbRNEEYSOo05jgkjqW8XIAjJF6kCATW1Dzy4MUPZLE+JIazc9HPgM/itG7fPeD0vUDMyuuDIopR4SJaqULm0r57/+SOkqG0Zu/OXRKx7P1TFDm7t2/y8COPcmt/gXEGKRVKJ4GXZhpMO6fHZf37gxfOfh8nQBpNplNAYp1jUi3I8lij7D1J3KG7SW98DEOdZH/vkJNZxbDYwLUlo1RzuHuEkZqNNEGnCW3ZACpIpjUl45EkyxSLtuThBy7zuS++hfcKlWQ084of+8yn+eY3XmK0ts43v/UGN+/c5fz5i5CkQTwCxSAf8lu/+X/ghWYwzvm+H3iI3Zt3ePjq9yJ9y8BPSHPFt197ia/8ypdo5vv8zM/8TNTSXKMs677kUyJRPhg84j3pvZIOs1IgrLi/56AFXoEuVGjS5hyttIgWhAvcyq4XlTEBIll6JCJeZ3ePYQF6Gtb95uLpufoB77vzdER1otf9bq89BWWe+dwPMk7xN+8T0p/Ca+PHnko6efDOYdoW50JLjRAEqWAwiWimB+ddz7X0kffaHRejkJJw7V3XhSloRSjpQYVA3DlDkefBo5QCYxrW1gbs75Xc2b3L1SsZWa5RKpQGJ0qfxgXiCLoBGUIEIevtnR3W1kcf6Np9KAxnWBAWH+lH9BPTLRdMJPmexUG650rooFJtARc0Mb1IsMJh8DTO07QtXkmEXJKKO2IvgCDBe4eUKa+98RZPPPoYbeM4nt7l0uULnLt0iTt7E77zxi6WdaQIWk5uMWdu55hqjyKL2UJhI44Wji0jVhSk+4kYZpcmD6R7Ij7WiAaJ5Ohwl8ce3CZrFAmCVrbItiXTGgi6j8IYdDZkWlfMjlo2N9f5Z7/2+/zwp55kY7DOwO2zubOGxVNrQ1NNWdtJmE415XRIUy0wYk6RWkYarmjPycmU0WiNvd1jNrfG3Nk95Pt+8EUAXvzRKe9cv8m3vvUye3sH3HrnDovJgI2NDX7jV3+d5z/6FNdf3WNye4/D47d5aHPE4TtvUx8f8Gu/9SavvH2Hl268QbkwXN45T9kGqbO0yKmbBh1xxKaqA1lfJXeIeQAAIABJREFUa6q2CpnvJKiRpz4lb3PMCs0mVJt0+Keh0CmCwOFM8zyURiY1UmZ9UzqF6NXqrbUo57EdRBQ7Rp4ihvdGdDXEFIhlTSDB7slTRun9hIJ9dU/kUvac2BVDeU8KKOyedCyS7rlf+bm6Rs6ume4zuqTQ/c4zHCJg7J0NMsb0FCNtLYlUaAmh53zUkbWR+N8dUzi8a+PnB/m4LsvtPChUrGMnsCe8p3FJgKraELG1DjIBUmryIlQeCd3y6OOb3HzniKpZQyVBPHqUnse6OnianHZiBuMR5aImyzytKWkqgbfj97xHq+NDg3EGI7m80auP7nerP+997kEsy9y8DNo1wgDGY1sH7mz1TRir2IhrDdPplKtXryKEYDKZsD4ec3x8jJSS8xcvc3w0jeRsD7bG1BNMPUHLFoRB9mGSD3hmz0Fdhl3dOYcQL2SEpZQ4BKNih0SOqVtP5aBOFCe27TsRWhsMRRC29bHPe8KicRirKOeO40qyPzfodEg5K6GqSe2CtUED7CP8MVKUKOkRvqa1FVIJtCnZXMtQMojCWmv5vS/+fi8asbkx4ulnPsKzzz7Dww8/yAsffY66Kdnf36eca27fvIsWGbPpAeXihN/+5z/Lm298iUV1QjvbR9fHOOP42//D/8iLn/hkjwGXZYmPJZVBUb3rkrgsAFBKIbTqpeu0lugo8yak76BQZJpRGYtxHpWkpGlK1TRY5WkwiFT2AiZhzrl+/ggZfkrFqWN2z8/+bvX3q6H78meX9V99rM6Bs4kuvzLXl2tBrRi2f0kH87t85r1r654hRe8Dd2R+ERCNiEd7EAqlQykyyoKyOGVwymBk0FbyiL5fgXEOax0Gxby1nCxaTmYNx4uWSWWYLkrKqg2MCp0EUpcMDfC6vlahY6ng3Llt3ryxh/OSNE37rgWr2had8XTOoROJ8y1pphiNBn0bkfc7PhQeJ5wOAVYB3AAPdzfWrzy/z4Qj4EJShFKqIOzrUFJ0+hAYVE+GOEvF0EA2LDg5OiRRAXtMM02iM5qm4vDwgLySFEVBIsC7FusbnF3gbEmSCxA2JA48sae0PXXO3WKS8VsKF8o+A2UieA2Dap/Wtgi1Q4LBO0lrJDaKPLfGIETIDAdcrqW10DrNtGzRRc6FnfMcHt1lahSpGFDP52hjUUNHLh2iANW0GCRrw4xZC4vK4OycJx48x5de3uXwSDAeF7zyyqu8+p3XKIqEi5cvgVM89/wzPPf8M8HjLGu+8pWvsYNk7/CAJL+Iki2TicXbiunhHlxJUNKwvbHOA+0Or776Kl/4whdYTGcIrdFZHkpMO5kvHwRGrA/N1XJCpCCRgZuZpGjdtfQI/aI6I9AITyoE3rdY0yJFQpZ6pNY476narg2EAKmQHeYoo07nd/HaOi/t1OYep1HIAHeG0fch9OlM8elMve/fK08lgwJpXfaeXRfarp7H2WO827o6O7rv1glVA0HrtT/2vVBDF5pD19AtlHtKGck8ItB/HAK8g6g1W7ct1gfBHprYJ8l39e7Bc5NpoBupNOmvA8Qkb2X7NsFNGzszCIFxAXZJVIK1luEg6CTs7U6YTWouXVlDuCQwA1Y2IL+C3wrhGQ4LhqMc1747hHe/8SExnJ4QgtP/PEUxoQvTv4vHKR3CCbwPSZnIQwqYYZ4iyVnMJPOmYTu//9cW1vDg5YdIkUxPThgOh+RpwoXtHW62M7Ik4fXrr4VZZVqsrcHXaNXihUOnA4xdhDhcqJAlFn75/Qi6jUuw3+Nd4IAqmeBUULS59CP/Ic89+ySbY80v/Nz/yrWiJdEG5yJPsQmtjxNC2LQ5Xmd+MMEVaxzM51xNCxZvXufi1Uvc2Jvw4OZDrBWaG9/+AzYyz2BLUqQKIWYU6wXGztHJNrMKCuX5C5/9BN95858yqybcviu4tD3id37r8/z4Zz7N26++QTJa48Ei5dbt22xtbfGX/t1/i8/+xGf52Z/7JzTzE8xtwWhcRAGQMe3iCNncQo032N27xfd+5Aq/8Iv/Oz/90z/Nnbt77B4cMJ3M+d3f/z3eun0rKv60JHnG5vYmrfGAQsokZqVT0tRDUwWVc2NC4WA0uo8rxX/8V/89/KLElFOsbVFpwqu3T/jSy9/ipdtvIrIMJ0C7qDdqli00BPTKQWdD9dO9aTqBkqglGppELOEDdxonXZ2zIobW3VBKACH8xAd+r/ceH2k93fvcMvI942C8v7HqYXbXKyRmOhrWkqIkTr8x9CkXAtsJsQDOG4yVWONxbvldZaqxTtBYjXEW6xQ0oYqpSCWpEgyyGJ43dQzfbcihxw+etGAdDIYD0kxT1RXeW/I8x9qgDeosSC9pqwmXLm3z1lsHXLg0RKQCU8neQTk1Qq0zO+e2GA1zvDWRgfP+x4fEcIYe2p24UyI1NlJtpA8d+CSCRIgeYIYlziCEACtRusY3R4GwbC14hRwWyFbilaX2ioODCfmlMU54lLAIrWkag6KiSAesFTm+AVeMOC5nXL12hWKg0HGXO563SJnjmKNXAW4lcU1JKxtSmSGlo3FBQR2ZgLFY3yB9QmsdrWlJMwlNg04zyiYw/YqHPsrzn/5JqmnGNLckusG0oWd1TagkSpMUn+UYpUArpG0ZpiknSBa14WhecufWjCsPp7QnhjttSXplhwef/iT24GVc8gbpYI31rSHziUfIhuPdCU6vsRCgyzu8+PwDfP4rB8yqCc5tc+vWnGy4zt3jAx4aePZe+xLCChbS4TYKzp+7zKI+JFNjpgtBUijmi5qdQYFWjqOjI87nm2wMMxLWOD/QvPzSV0h2LiKyhMPj21y5usE3vvEN0nFOMRxyPJ9QtEMKKRBig9Y4inSIkDBUnkEmmdQtMyVIVUIym/FjP/RD/OQLz/GFL/wmVnh2d++QKs36aMz3PvMM50dPc+f/PuDIC+a+ZVN1SjmxcqyJLZUTFSuGIImqTt4HNXTniHSjkOHuSiqdcKEz4wq2eVYHEyCNBHgnPD5mwrsQPii/yz4z7xO1NN7OIzqOaM//DJtK4OysJpTu9Uy70WkAhJTBGX6w1/H7OZyNyVZhqU3Y9MNnxuZnwuK9RkuQaUzC0+UcKpBgVTwPIahGKU1jOTlpqWN9uU4EicrJ2wqtoUIhnYTWY1qDTIC8xSqPESBlStv6nkLonEBKxXiwzVBrbt45wLQKU2Uo0SBEeg/015oKaaHQKVW1YDgcksiND2SvPjQYZ8drBHp3/NTf5f331C6sUx3Z3dqINi9JzNa2GGep67hbkTCrJTJdY9GcIJOGZ558lqcfuYqpJxQjxaKdsF4oUtfyxhtvYLwjLwZY6yMn0ENsodBRhREOGkA4amcQosCXKbL0JNKhfUbiFZiSTCu8FcjhAG8aZs7z8Z/6r3j+z/2XnMzXIBvhpCJJtoPYrwzEcOuJGV8FSEwbcLPRMCi258WYReV5/eVjrr9+HUSCTXLuLPa5Pn2b+c4Og/VP4KuHOXpbYI9zTm5r8jwn0RLXtLR1xceefZiqngajIAVJpvi5n/s5RnnKycmUwXDM0eSE/b09TFszW0zZvXsHb0LPobffvsVstmC+OOHZ55/hhY9/jFYq5sby61/4XcrW8cWvfIWqMZxMZjS1wRrHT/2bP8lf+rf/IhjLgAS7qJjPLIuFwziFTwWiUDQ5MDqPFQXnlGI4OeRv/rW/yrY74h/98v/G6299hzt33+LC+Q021nImJ3v89q/9Mr/xK/+Iv/DiM1wdedZU1wLivR9dn3utuuZoofWEUkG6TWlx6iEV6ESSpAqdyFPPQ5i89PiWnQ7ufbzbnD+Nla7I3n2XuP3sMU9Fde/2ebE7pRZBICQY/AgxWYsUDiUcAgvCIgmPbqjuM7xnRMm6anhgS/DAdkLuwE5qjg4rmmxArdfAJpBqqtziBaRFipKSJEkoirPXR/WPLuH3/DMfAYJikn2XaiBJmNPGB2hoPp+TbXyw5NCHxuO83w0NtjIIKUjfZaKD99m9rrenIgLv3oNziNhdr2mruBMqmtqEieuhKevQj9vWYGtE2+J8y3A0Ynd/n83NTVzT0pQVJ7MJo9GYum4RSveoq/CrgH9AYxMxwNkWr2uQkMkcnMMpsLTkecGkngapMllgypYiyXno6e9HXbjGUetQQlMbkFaQF0O8bKlryyCqiXdj2WDMYDw4l+CEonWaVsFLL98h39liJ19nc/MSr9z458zaDZLxJgM/wjrLvFEYrXCUJApaEaqqrK+wzRQ5XKNpDcMsY7E4CjzK+QQ2thiNRuwdnzA4PiLJCx599FFOJlPGGwX7B3PW14c4AZP5jHJW8tadAxoJw/V1BsMBOxcv4/DkeR5k2qzjndtHZEctTzz+LK98+2vkg4xFvcA0U3JtGbWCAk1aJBSJwA43WWs1AzHm+u/9Gmu2pB168sGQN998k2JDMz+Zsu49cxyvvv46P/Inf5yLm+tMxZS6WZb1gojYIiCX7RS6ZmgBBo3CIzGZ183Is3h57wScwUO7jbzLYp9W6jn9XtEnyyPcI3yP89xbKnn/3323teY9Z4ylOHUup9+jAEvXcdJ7T2gQG+EnOo8zPidU7nX15t57XCXRSuC1pbUVWS4YDjOOpjW7B4ZEOy7twLw1zBqF1IbTybL7J40FEqk0xtog1PMehQPGGHQS1LGUgyJLaUz9rq+/3/jQGM5u+AhCOxF2qwA8R7oES6MJS9WVcJF8oAa5GNIoATJQRWQikGmKlIo8SfBtg8KyqBa0WFKpyLQg8SllWZOmOePxBtPDY+oq4I5FUbBz7hK8dJO2teSpiN5mN1uCoqtXAWRWMsdag5EznG9QdkiWSer5HCUVWGjbhiwFkWgefeHT7FeOfKQxCxMmZVqQDTISb5F+bUVmJmSbXYelRXGQ1oNDY2TGbVfw2ltzbr30MuibPPbUNb7nhfNMFxM21mbsDM/RuE1uHcBxOefBIqVpKhAeYxqMN5w/N6SuQ0vgBZZEp2ipIvncsbV9jnm1G9oHe8OP/vAP8fd+9h+QDwdkeSCtV3XNW+/cJpEJ07JCDzXjjXUkgsaaXnA2EcGTPr5xk7X1dZrZjIGf0hzXfPzawzz+yDrr4zVGWnJue4dcKygSpod7iCNHM58y27+NShMyb7DTEx69eJ7m8ADtHKZuUOkamxcuMV5f46ELF7l+OMWcKsELjcacd4gohgynJf46BSa1Yjg7Ok83F8Pe7SO5mz5BYSN+53tuaie8vTSI+M54LoOu1YTQKma6GuK/lyG93+g2i+VxVxdiqLpb5SUrEcjqjtAhtHtFZ8+FWDG7wiF7LU6HQOJ1ho+1ZFqDsYLGtgxyaFxGVc45mToaIaidYpSpUAotsr4wYXWj6ZTbhQi0MusMpmmxbRBicV51Zxi+jw/PE62xXVIMoLXvea3Ojg+F4QwGkX6mLPseR2D8VJbPsbojE9/rhQv12bZFmBaRS7wBoQOn0whPKhKSRDGbtrg0YVLOOPfgi7zw9NPcffVzCDtlVIxISKkXC4xwVK5lNpuwc+4iv/fFL5PoIuglMgvhuvdITNxdJSaZoOUavhVkueZwAePRg3zqJ36c//MXf4bN9R3+1Kd+ivNXr9Aqy8vffIPvXN+lLq6QywGUkCmDdQtGw/NBtzBXaDnAtCehDlg4TOtwNsDp1nrwiqOqpVEZUm+wX3mczXFDQTHIuHHzmDdv1fzID65xe7LLTB6zNthm3+ygioeZmxuMRwq3mGBNRuot/+pnP8E//Ie/zu27d3jg2kVaL7m9u884GyCyjLqsMVWNaUoocp588jGeffopbtx8h3xQYKzlaF5y8coFZtOKxgnqsuSFp55hMjvh2qOP4fCMBxm325JcOX7sQcHWJlw5f41qMqTGsT2+QGPmtEfHbFy+jKv2macDqD2J8By3c4phSjVPkDajtR68xcxbhEhQSjK3DbJ23Lo75Ztvvs1Dm+d4Ym2Nb07mvTESQvQiyqGjZhTjXQXWYwIp9DGPAs++y0wvk0nOCbyJwWLMd5yqABKxvUt8X68QJJfJpftltpdGLlb1eB+jLd8b3dXhvUefUVnq6XfirIe59ESXr5MxWeWQicB5SWOjnqYHGYttRUer6z4j0rtU9MaFd7hkQfRxEE6goyFDapJiihgr3pkNOFksSBJDvjkIQh8iNHIUBM0CIcJ1EjIkYRGa1nlSHfBhYwzOBZWsFWWRfhjjaIVHOfCTBdffvMH3febaPa/7buNDYTjh3szgUrw4hOqrr4P7g7NyZeM+dVxnTqleZ4MRZVPSInnpO7e4dXPCoxcrdsawsb2GtJrXXn2DnQcuc3x0RJqmOOc4OTnB621Ma8jvx/sSDi+HOCuRYoZ1FQ8+9Bn+3J//jygHCX/lrz9JvWhJB4/TKEcyknzqJ36Ujy9avnHssE2FSnO88bxz6zrn19bRIqVuKoa5wLRdV77TZXNtG0QNyrqhThxaQZ0J6spRT4foyjJeU2RijZdev8Hly+c5mJ/gc8/tw4Y33rjDn/7kFqOBJ8kU5aIiS3KyVPI9TzzON9+8w9HkhPNbF3n99ev8iWeeCtlsZ9ne3sY7hzUNZVnysY99jJe+/fOkeRCtLcuKo5Mp9aJlMS/xqmQ+PUEKwcvf/haNylkvCrJEYVrD0488wNbmCFzDtB2wlg/JCihIaRow5QnajRhkA3yS4WzFYKhxVU2CoVlUoTNjnpIOC+bzOYvFCbiWUb6FEpJFVZI6Q+5MxM4j6yHyMr1z/XM4ja/fF4t8F4pc9677hfGrYXJHpbqv19MZxbhJ38/DvN/4IB7UqkF+1+M5lpVDrvse6tQx3o0X1TvTAaEgiVJ/SpuQ2sozXCVolcZQh0ZrPgEV+LZdhv+0zN7pax50QHXoUxY1FQSu11BYHcYYslHogTVeX+eNRYlWH4zI+eEwnIJQLx6ln1xrQ624tSRK95iFMTWpzmKtcBBzMMaEskcpEbIgY8ZCtbStoW5bcpliBSS+xaebmHqX2odKnAcuXOHW0YiFLXjzQHHuyHDxYM41ucu1q9dYW99iur9PaeYcHs+Zzi2DsUHSEJTdHUI70kRhnKVqLTpNSJsGU2imE8tn//rf4hvNMXU9QIjLyFwihMa2FnfgkEcSJUckSYamxXtLPdvl3OQlrn/pVZp2zmY2xKORaUYrJWiNbVqqVpA4F2TUUJyYBdqASwVJdo2PfvT7sG3K5z/3T1A6x9mWvRuS+YtrfO7zd3n92zMGmxVNK3jlnxqknfPClYZPfXST2bxhKzvhxY9e5UuvvUVzt2FzsMlr1++wtbFO054wHuZsbW2xe7DPuYsPoGh55tEH+f6PfS/feuM68+MJ/8l/8JcZjUZMp1M2tzao5jPKsmT7/AXayQknJyd8+8bbvHTjOxSuYfjYU7TTY5wSbOiU23ffYZYnCJWg8hRhK+r5IvT/3hpjrWVuxkxnjmkJ3itqMuzRjMbUfOapc9y95bBrksRYtjbGjDd3uHD1AumN11BNFASO7VOUDAm/1laxKV2glYUFKhGJ6ZXwEYGQnRAWt/QRd/YO6QVOqqDwT6eYFOXpRBvDedcvgE7V61QZ5Koxc/6UIe7DcUIyNFCDllSifmkJgRPh3PrNtv/zWYckwF1pqnA28JBlPA8nDG0JQja4RpJJxwCw3vY156t2bUlnDQk4nUhU9LCtDwUc1kUBj6ph0mQsjGNQeMbrYG3Dm28ZxiPJpcsDNGkvsCJiP6U+8pTRiIsEqRwPPXwlYKNe0pXTeqnwIQtHkgX1pqZqmXjHQ08/i3EtH2R8KAynQJAqjfWCRAXJV60TyqpCaB8pHx6lNKgMIUzk79lQK60VtkvUCAfeIrztie5AX5LnnQ8Sc3WFTmukX6P0CkPO7cpzYj2XHhiyqGraOzc5mM04P865fveQViQsqpZEutjGJC4I63uvoRaOgVI0dsGiEuw2nrZcoK1htL6JFwmzOoivapVi2xJ8KJ+0PmIztsU1JUNRMjm4w+bVx4IXRMjsOmfjggDvg+hvrw6jgkTe3TvvcPX/o+69gyzL7vu+z0k3vNCv08z0xJ3ZvNhFWO5iAdIMgBhQpCCRNmwqmRRluSjSpmyXZZoSSctSibTkcqlEuVgMoiRAlGgug02BgEkKBEiQSAtggV1gETZO3NmZnpkOL95wkv849/XMgovEYtnwqZrqntfdt9+9fe7v/sI3HLvO1uGTSG2xbUS4BER+9N99hNAcpii2sHaGkIqmlXjZ55krNd90v6O1NYWKGNngqwZdDJjN5gx7PZ47f56jR1/LoqlZBzY311lM9xnPZ5y+815e8+r7ePrCWYrSEIVkMpkQY2T32jZSQmEk1fg6fjGjryP3nTnMln6QoZK0i6vY2tKGwISCndqyfeEKrYPZvCIvM1R/wMnXbSFDzuahw7y0f4Hri4pidQshItWiIJZThA2M92fU8wVqpUDpEtvWGCTVdI6Pt/QvDzQ9080VDhhm8pa++svB8bcOfJIb659U4Xn5Rg98MQGDW1qc6bdGXnaML5qRfrF76iv4/leq2pxLrpm+C4RRiFRuk5SLpNZoJELX4MAFOi8guvlV13OMCVVgO+toQcAGnXrzIeKjOLABd8CiDTTeUfQStlMJOHy4oG08tpV45inOx+IV51e3UmeLougUrmQya/uCleBmSdnKtw1lv3drL/ArWl8TgdP7QJGVNLbtMsvU5I1SYYOkrRNAVWtJO68T5KNrqEuZStRbTcSWtqkHnid0wyWp8R6Uq9HCs5hNmS2GyGxAFh3ojDmGzy8KfNaw4a4RKGnNKjeml/FSg0jyZiE0CJE2h4sWRLoJbW3xKkdEyYl7vw1rG6hbYjZIG0cKQlQJrC9ToBNK4FBYnwzrFDWtb7l34zBPepkk9kSbzkGo1NgWEm0ygkggZI8+6LP6qMi1QYvAxz/2x2wd2cBWc7JM01YZMMDiiWEMIRCtQOQVwmRU9PGmRDQLvHUUpWW1zAiqZDqb0e/3OHfxMm/+ljdi7RxPZPfGVTY2jjBZCOaTMbedPAEhYkye1NSdg+hYyU0y4PMttvUoEWnrBZP9HVYHOX4x5+mLN1JzRmm8nbN6eJM7/qN7OLp1nM3RIYYqZzKbcWHcEu48zdXtHcToBLE2mFHJfD4hREMTI2UGbTtB64zGBaKbIYNlkGXs7k+4sbuLHHRKUV1WqZRKLpAdyDsJXacgqhD4TucTbpbtt1pY3xyU3Ay2LwuB4stbNHxh0HylJeRN76elw+vB117WC/1SR3qFr8mYAma8aUWikAi/dEMDQgLBt00a8tw83HJYJggyMbSUAikMdQNN935CN5ByncRj3XjaJLbZwbVCEq1WmhgFzit0B4B/GYGgGwwtcbRL6Fh6D/GW3rS85f0lW+mlUMhgMMC6hk88+cSXueIvX18TgTP4SD1dII0iiojROetrm1in6JUDYowcP7ZFvVhgmzmurpiOb7B/7SWgISt6hOi7rMERfUOMTcdg7LJBBNrk+AaQBqeHXNyviXlGnmusyaF19NBc3FecnZVkbo01fYTjtWW/uUwearRd4IosNdZFwNYWdFJUUlqxOo3Uw4BtS/782/4bnLvCPF/B5wbrPTakKbiQqbzSZgUZAiZ4SiGxwaNW70Js7XPvvZpnL11jf98jTYGIFmtT6WOdJS96tNog/RgRJNE5QvTYRcOgyHj6yY8ghEKVOZkSjHcuMeppqnaIdw4hPNJrMp3joyVzHqUN82nJIKwhwxxjGr7lkTO8671PkY0OozPBoL/O7Xc9wLUrFwmqYOvoCru7u9gmQYq0j1w+f5m777ibP/iDP+D1r389o+EAKZONcLQeVQ4AQeMDRX9AVVdc2Z3z+u/7O1y+9iLv+e13cbgwtKFk/txVdi9NmbWfRY4KRL/H3qDH1vlV3vrdbyMGnVTVcYzHe7z/d9/Ntd2KWHum4wplIybLGQ1LBlnk9pMn+OQnP85cy5vlZTcnkR2WvMhNusk90ClquSgSN1suA1NHQunYYZIEahciokTsXl+umz1pePnk+9be4q1BM70l1ZXxS2xkYNlOTIHxJrPoi/cov/JMVYlkhkaMiLhU2QclFIiQVPCloZcpMhepRY/WelrvqWqXTOpCoCwzpDRdUHdEAkrqbvCb+DyJRy5xosWJRJfWukeepQeuwLN5aMBTn73O2rqhLHvduaZ5/jJoig42Zq1F62T6aIw5CKbpEsiDTHWJm1USLp07i/OWe199P/DUV3ydviYCpwCCi5hCEfDY1lLXLYiM6WzMsLdCbjKu7F1OVDx5oO2egoh3aJlwZoKkAh9jTMIIgOOmK6MjQSBCVCgdMbOLZHbBfu8ovSbS5hHrW0yI6N46uxj8dAezdgfjvWus6gVSRmK0Se0IQZZnZHmerDmMJ1hHXTvC+EmujI+wcvcbsUja6JFSJMOp4IihJVb7KGVwosSLgkZoBmjKw3dzZecp8t4KYu8GrfdkYmm3EROrxduuTEzKUCI6CM2BrmS/KNKjpJpisdx5xwZ9o/jkp8+isx7eg8kNUnmaxiWv8DDl2Opx6vEU1wbKWHDnmRGDgUQWJdZVKFXy+c8/w+1nTlJkimo6R5mSjTXNRz/yQe6851WcOHaEpqm4dq1isVigBOhhgfTQth4TG6TWCf6lNftVy2DtMP21NZ776GPEoHlhPOXjL17ixNph1g+VIDKGocRNLHlW8rqH34iU2UFzTaBZXTnCq7/uYT7w/isE5ZCZwbiI9Kmto4g0TcPFq1cRHWTqy61be4qJk/3yUh1uZplfqlT/EvOTA6TZza7nQai95eeXaW1CEh8EXcGXySxfeb2SI+6gZ3AtSQBbGZSUSByC5J9kg0UFg5YNxEjjWnznJaRynaCEwGyS8MWr6yV5IXGxJj/oy8autZR6tE54lDIHJx+6tpR1jvF0j41DPa5tL9g6UvCF1OtbHxbLnvErKfjfeg09EWKgMBm5yejnOYWGaQrDAAAgAElEQVT4Mx4OCSH+NfBW4FqM8YHutXXg14DTwHnge2OMeyKdxT8HvgtYAD8QY/zkl/sdeVEw2jiMMAJrGwJzWj/j6Opx1qRiuFLw5je9hk8/2XLj6ph5VXFhto0oND5GsmhBksr6oiGPc6zeQkSHDZ4sOoSXNMqArQhGE/2Cwyqwteqp2gknXc0z5u4knio0TkqEd+AF+zFH6NvwW3cwZ8LATzjRnCUKRdXU/Kdv/Y95/plPcfG5z2DyAdJWjAYL3vvoT/HNP/RebpgdwnyT6tIfMrv8adbFXgpyUnD92lUmO2MaZRg3hnz9Th75Cz/Ci2df4B0f+A/csTXiTJ5Tljm2ccSFpbc2YLo3p9GRoRmgxBTfVjTRM5cVQ9vSxut4V1BmQ0LjUBGuPb9Lb1AyKiWVm1E7S2znlLpHFSVxfInv/9434CbnaGvB2LXM24yjYo+/9bZv4KcffS8mnmT9aI9Hf/U3+OEf/JsM+0Wy3C0LhM84dfI2Xrp4gR/+Wz/Aj/74j3PHbffxmc89xWtefTePf/yjNIsJGysZg80zHN86yrHNw8QqNfY3Tx6hN9zk2c8/idaB+Y5kfxxY21SsFAVS58x8S54b7n/1A5w8cSZlXl/Q9Lrj9gd43+/9Dt43DPM+83qBcpo2tOSjdf72z/wSWgfuuuc0sTBdiZ4QC9Z6gvBkUidQfvBpANId2+FRUqCkSe6bLuJkxEePk8klFSFonIdgD9pEL5NIDBYZ6CTj0hDUdiD3BDFPUJ5IJA8uibt0dVOUnatBbLuA2WmzAl7c0j4QS7B9stsOXUa91EuAgG9vin0smUwqOlZHgyTQUae+u7MBGSt0pjFCItoF/VDQ63uG0d4SoG5m021f4G0kKs/MSc5tw9GjG6yUMwZ+QQiCsTLsTR2mEJRaJgxyTA+FylUMR0PaJjI4lJNJuHhhytEjZRcsl0I+IUG4BEitDjyjltdAdr7ptz7kQpMyU+EDvVzSywyh/So8SvjKMs53AD8L/PItr/1d4H0xxn8ihPi73f9/DPhO4K7u3xuAn+8+fsm1lIFaKUdkpsf+3gItNXo9SVF513LvPXfx7GeeQAdLhkN3tPwoJEFotOh47UuMGslW+OaEsnNKDAJFTpZp5nZOQFIODHU74c7ss9ywx7hibsMIh28i6LRBy9jgg6fWQ/blkKhX6RUZR7c2+JXffZyvf/BeRkdqLpx/CiNgIAT7Dfg5ZE6gdp9n8dKH2DJz7LhltphzY2+HpjiE6B8iyhJpDHuLwL/6pZ+nNBlCJgBvORhQ2RYt1AE0SkqJ1In9YF1S4M6UQ0jI8DQuickuFgvyvEyspzxnt66IQeKnu/z1t3475UqPC9u7hMWUR+59hIfvOcJnPvJuSt1nv9UI7xDKkIuK7/yGh/jkZ7dp28SyOHv2LG985CHOnnuew1tH0FlGuTrkziObbK6t89r7H6BtFZdfvEJd7XNoXTMarnFya5XnL1xnZ/ca4fZ7WYmGYV4y258wGe+Ad0SZ8IJlv0cuM1zrKPMeKgqkMBxZ33pZtnGQESJASvr9PlXtoE094CQSoun3+0TZEkPg/e//Y978XW9ByqVSkDvoiwXfpT8yGQEeZDiu7Ur0mKxXJMQq6bLqoMEHQoj0RMY0pOl5jGkfLy14yXOCcx2BARyBsivMI5EQE67Th4DrtGPjARwpraUX2hKhlEp3ldABXY8/veFIRirpxVJZPqTWg+lUomIU2A7sL0VAxTRdT15DAm80wbWJPikEypCopzEil1hM4FZrF2EtmYasBwUQpGZncp39G5F7TpRE4WmtI89zVBmIQeBsQCvDklCQtAJSpjsYDMjzxZcLJV/Z6v7eSimcc0SjyPSfccYZY/xjIcTpL3j5u4E3dZ//G+D9pMD53cAvx3TmjwkhVoUQR2OMV77U78iLjEU7oRk7olDMWoeIlhA8xaCHkIJPfeKTBBtQwaK8R91qyiY1is6oPgKhU7mJnZK27wzgugCKTQOWqMCG5OPe62tCO+Nw1rLwW0xCD501ZF5TZYJgXcKFxYgXhonvM10Irp+fkpdn+OC5lq9/8K08eM/rOPepZ8FOqZ1DZRG/d4O9sx9nkEe881y6MU9ZbXmYa02Oj4Ha5QRV0gaFEA1G5wQrqeaO4kTJZLwgN1myRgWc8+S5RMkkytCGAK5haYecx5JYRZS2RBcQMlD7CqdzetOGH/iuP8fxFUt/rea+Uyexsyl5dFx78UV0URBzQzOzlD7goiNnwtffcYYPffISA5ugGzt7e/gIo9V1PvH4E7zm9Q+R9xM+rq5rvuGRN/B77/0gWmcsFjXFyRFatKysGoprAisVdbPg0+//OEdOnuHeRx7k6U8/Tr9XYBuHMhrR2YhIKYloooKIZuvQiVv3KHBr2SZ49Wtfw0ce+6M0LtOKalazChRZhlKexWxBQHd6nktQtUD5BDFqvcUv1XpSTwYhEgVWKcV0PiOGLksVLQqBVIogAt5a2rpF6+wWWuxNwLq0HhECmdIgSCLAPjHUnOMAmqSEpvWhC3jd5D8urTa6Uw0dKSaCt+meiT4QXNsNtyJ62ZM9CJwpSJqwlFJLU/MURJeGaolYEWPSoneRVIGFSBbBNTVNjDilbonnt4D6Y9JzcLbBE8kkrKwWzPYbLl2vWBllzBaBwVCiMolzntDchGRpnaV2m5TEGMjynMHg5gD4C9dBRvlKUNgv7P0qiY9JkMUYhfMtIbZf9NivtP60Pc4jy2AYY7wihDjcvX4cuHTL973YvfYlA2dT19CCySI+tGjRsnXkMOM2MtudsrYy4rEnXmB3Zx/XSGLQ1NEkqX4sORCjRAmBJuC9S+pI0ifBmOiIXiRsWQAjHcTI6uoqQq9x/32v4X2//1uMVpJi+Gvyj+J0zmebe9gJQ0ZtYOELPB4Zk8WvS3dwglZIzbx1/O5jTzNuIrm+E+IUXfT4397xixgBVswxYkSmSxauQKgc6wQ90RIVBD8ktqCVJ88Ctp3jvEAIQ1VVZGWBt448y2lai3WBnioJQmJIPV8jEsSjURm6nOFdhGDQ5ORCceOl63zLvQPe9ubXUVc72JlkNov0zHWKjYilBZWRrQrOX34JhsdYtBm75hpbumRN7WMXYyZjycbGBk88+RQIzRseeYhHHvkGbly8wGh9BZUp5nHMg69/iHe++z2MRiOcD6kvnDdMmz16/cBMBopccqwYwO6UFz71FFdDQFiLUpq6mZJlObPFlL5bJzMCoTXjWcVo8zB0gtHxAE+w7H9JTGGQUmBDsmFIRAGL9jCbTbA+WVAXZadUHkOHPewyeuhK9aWqUcr65EIQRCAPSQeSEMg7+5TYBkQIaCGhzHCNS7oJHXMmjeqhVR6tILoKokcBrU8GZ862KbB1UB3tGkRIUnMiRGJIN7jvcIcxRpYeRca7gwCiEMTQeSwtgfzxCwZIXcBNyBPVnWF+8GUvO+Hs7ljBp0REZ4YbdfIEst6/rG8bOwZUiLqbNXTTb6lZhAaZ95mHyN7Ys7YyJB+BNJrZzjgpjIXUMiizAi8tApEMFCWsrvVY2hbFW2LkshkCL+8zLwH78PLgqXSWHkCAyhS2rnHx/1s9zlca670ypE2IHwR+EGDYy5i5kqqylIM+tazZbxxFk6Zitd0l742orGRSWZSMNEF2PaK0aeoYMSIJC8QYENIjVezsVjvnzI67GUSycW2rBZP5nPdceJEzZ+5l8tLTyBxA0Y9TjpmXUO4oC7GCXfq+S0HQGrIB3rV425CpZL87my1YXR3R+oBHIZxAYVFmQGs11i8gCjI0oU1K56LMAYEUAWSyF2hjwABCJHkz51IJqXWiA0qjO1CvIDMFUic6WhlrbN2CbGkZEZCoPGfuHMMi8u1veZhvynJcvZOock1yZXS+wUWFFZ5F3XL1pRkmP4YUHqQhqIzJ3FHqhlN9yYvTCSdOnKACnn7ueV732lfT7w+QrcXULWHhWDmxQl1Nmc0mDIfDJFHWwXrGkwXKFOgIg6LkWmPRhaE0Gm09ZVZSu8jmygApJQs3o55PKAd98rxkpVC8/wPv5fDqOlpr8l5JIDKZTrHWcu75c8z3L0MHP1fLfp91qODYvXEFXRrAHgwSvL858FFK4WIaP/qOStjtWVwuECr5rstMg/W4yhN9RPhIJDku1tFSyoj1LnH/rb2pSi4gBo+vJkTrIDhcM0WSIG0akJ2NipRdUD4InOkGL/WS434Tgxpj7IbHyW8rhIALEdlJsKVgfFNseTlgTTJ2KSKFW2TmWn/TwsP6mwEq6MjMgYoJAndQ/MX0+ALw0hKjwLsOORDBOoi+Ytp48rzHS9emDDbW6Jn84PpqnTQ0vXe4EMhMwiWbTNHUX11we4WY0/U+YyLNAI116YHwVUrA/2kD5/ayBBdCHAWuda+/CJy85ftOAC+90gFijP8C+BcAJzby+NrjBbWD8Wyf61f2aSYLYi/HS4nSGffddQ/T+Yzd3esUucF6i8oKbIwspCG6hkIlSf5kfeDJNMk+AYeQhk6JDV1KFvMW7Qwr/YapdLzqdQ/we/ufJ6dmaJOz393ZFV5VbmOl5YnwMNf8Gq2VaO+QZsZAG6I0tHVLYXJcNNhKEIJEGU0IGdaPkzmaqfmWN/01fv/330Oe76CkJMv7zKqaftajqXaIwpHlQ1Q2JDQeF2taWxFajZQCp7rJoQBI/kpCKFogVhNee6gLqN4xHNXsLCyXKsOx08c4eWSTNTnlhrKMxiWlyojCM+h5SifYflbR6iGyL1lRaxQ9zUA0zNoxbTXA64aqmvMTb/tG/su3v4/5fA5CsagaRqvrCKEoc03hHMq2TF84SxyOeMMbH+KpTz/D+vomuzv7bG1laDlIbZL9Kec/9xxZUVLZhhWtuHrxCibvsbK6xqGBIbSWo4cO07Yti3NnOXr6NGtHDvO5T36IZ7vNr/KMPM8ZbaxjjGHQF8RGQpHTXKk7fcdAriA0C/7aX/0eJvWMarqf+M9pQ3ZCvV0w8Y7QNCng1fVNb57ZLA0i25pQNZza2uI7bz+Fa1ukUDgRuba/y3s++AGepcRamwKnczRtnUrqkG684xuGYZ6hlKM13bks6Yykfq3CErvhUJBdpnUQBJefp4/S5LgArXUsqia5AkSZXDwj0J2r7PCTmelsR7qHhUjUp7S/pMBkScsyCkH0qa9d145MR6ZjhxQwW/ZalwrLpOs01GXCKXdWJNZZpEhUyNxIvF+wdWqTc+ctKytXGfaH7I+nDGJqj2S5hJACXZ7neO8YrpR8MaP5L6S//onXb+2Htw4vPCHA5qEjTMZ7XLx64xWP+8XWnzZw/jbw14F/0n185y2v/4gQ4lHSUGj85fqbACY67ulN8VHhhpKHjm9AlFy/PGfSNLR4pns7hBCxUjGdLlhUDiET3VGGlqy3Tn7oNNPLZ8nUDVTvOKFK5m6Nm5PhcNbjM8fI9ShNSesadDd42L16laHrPLr6yZnIR0njHZkpeER/lrG6jQ/XJ5jMLWLucEXE9DJ8kBglMU3AC5C0YAEWGAzQMFo9TqOP8D1/5Yd416P/AJlratfQ0xrvarK8l24CF7ExoqVnECw9aWiBMjiiVoQsw3hF3ovkssTnOcoGvJKE0IlUaLCNZ0NpRr1As3eJyXybteMn6JeWqZGUwVIEg5lovMg5ItMwyjnJrpzRVjNKFSizgtotKDJJCBlajvm2O8/wzGxOPlij9g1Z65jbGxQhgrM06zl6f46spnzz1z3CH77/vQzW+ix2HPFYuu77dQRy1o4e4vyzZxmqAY13HF7vc2N/zGTc4oUEIwgS5vWCvtacO/ck9eIY07lgcOooZV4ggsf5QFtYKBW6kJhsyGQ+pm0d/ThOmfuiJrSBUycO86H3PE2v1+P68xcoehFTSoQrmE/3mFc3sG1JVk0wMXJ4xaBVg5Qt+cqA1jkm831e+8C9nD52nD/68GP41jK3iu1JxasfeIC33Pta/vEnPkBWb1CrVI6Ojt1PKSX5cMiFzz1NaMcUvYCr0+Aldn1OfEgKWtFhFbQVqS3kJTov8CHQdIo+UcjOiDBN8We1IeutosUOo6HAKHBeYmTEKIG3bdI9TtyLbqjEwWtLAL9v16j8HisjwWwsKXOPCxAz8LXDKAk6UDrZZdBJSCctxcJaTHcOy0y49YGiBJ0bFvMGIxacOOG5dF4y2tQwSZm2MJLGpUDno0NhCDFgXUWR9zqrFJEEfJa8dJ+wmymjlOn6AS4k3HOuU1YbQoBcsrG+BloxXwQmlaP4CqFpy/WVwJF+lTQI2hRCvAj8z6SA+etCiL8JXAT+s+7bf4cERXqeBEf6G1/Jm2h85MbCY7Qnk5DHRNA/c3qTuvFMKst891mMj6wLwYIGaNhvwDpBVDnrUbG6dZraOZquPMiweF0QOnuEBG4WNNFTN0kYOKDJhyOuj/cYrh9hZ2eHaVUz6BUIPNIkjGm/D0O1zZtUyzNxlUuLw2Q6x7YOa31SylGOsMTbfgGG7PzFi9z/Bsv29QsoneOdIxKpbacS75ac3iSePOhnTK9tM5sYiqOnAU+e52itcZ0zZNNU5J2NLbdsehkjtAsQhlwZwGObBZfPvcB1rbn/9N0MB2vkKqedW/COPCpkh2XrZRkhOKZMEUEhM8XcWWSW0UbFa+5Z54mPXmbQh6bSnLv4AnffdyeLvRlRp8Gc9Y5caI5vrHJ4c4N6MSMrDavlFnetH8aMCqpxw3p/jf7CU88a9kzid+e9PovaUtkWCIz6Jd57dhdzDg1yEIKd7Wucf+Esw9URW7fdztRa+scmFP0BmSnY396msTVn8hLcjNB0w0GlOXv+RXoro+S7bgIywKi3SpGXHFpfYTZbxc4Cl6859qoZzc4ed22MyKuGRTGl8JHXPfgQw7VVPvLEk1RUuGbCXAz43EuX+YNPneWf/nf/Od/mFKMjt+O1I/qALkfYds5dp+/jpx77GK707O1X6ABKtZR5QYz+pvq8NPRVjutrKgcv7uyzN1sgM8liGigKTdu2uC7LWswix09uIE2JWOyQKU1uBE2IhNZBBoNSgQooo8k62I7oss0QAtJC3daM2z2OH00tqHIjp3FAcKAii9ayqAO67ED4xOQWw5KpFEBKFnVD2VNJVNhHlErK9UuRE0itiROnVmjriOjU70OQKA3B/0khleXPLOX4XOdGKlJ/I+nwRo+Sydq7aVIveCl0PBqN2Dp+iCIzVHs3DnrSrvnqhkPiTwOc/bNe630Z33Jf1vWbIsmaEnSbtkRhNIXUSAT90nb9PolW8kBcoLGBUByiCZIm3+RFTtDTBoGmaqdEJFl9icXVJyi0Rqic8bjibd/7fczmE7aObqCzVWwzJ9T7XDj7DOeee5IyywBBYTLmEk4WORd3WxZ3fSvf8Zbv5ud/6d9xZV+yaJJ4rriFAXzrtV1U8+T1rRSjsqStZ0gBZdHDB4cSHu9tGjg0M4YrPbY2D/Hgax7ixfMXWBsNyPtDooRqXPH77/ltHrjvdZwZLpBXPoZzDm+bTsMUenlEtB7tI8EovFJYBy0CrbIkgABYH4gB7to8webmJmubG5BHKrfAhr3UByt1p8HYomi5rd/yI//mHOujdTYP3UbIpvyNH/ivWG9mTLavkQ0zyigQPhKipD6ywY//w3/CxrETDP2CbzYFO7svUZZDDr3h1Tw7vsq0qlhd2eC5F8dokxOEZD6fIgnkZYJTKaORdsFtR44yuTDGk66XkYZkS6Q4cvQoJx98mPXDR7j33rv5/Dv+KcZtQy3JMs12rVl/05/nuWfPcfnyZS5cPc/rvu4h1k+cpOz3DnjV9e4ux48cRkR44fEPsfv855H1mNp5Vkdr5EXG+bPPUhaaVhuEtdywBZ95acLu3PPff/9fZtPPOc9hLuxeoiwFMvZoWkcbBb/wL3+dub0GYc773vlr/PtHf53Lly9z//33sbm5CTI5rBpypNZMZy3/1zt/hze/5W3c2J+yNgxY75PjqWuZTcYMjxynGJ5ifzxn7zOPsi4Cd5w5g85y7r7jOLedOsJsvsfGxojxbMqgKGnbFmtt0iENgclU0MaKiy96nnzmItPmEm5WEv2081ZXKJdQDuOJRwvRdZIjDnHTSVJ0LgUxUai11uRKobI0kJlO5myuFxS5xGSCpz47Zzg03HF6hPeeEG91N9UHPvfEpAafMkR5QK201iaoWbyJTdVao0QaZJ48caLDtHpQEGxLvXeD0DbM9yesjVb5oXd86BMxxoe/kpj1NcEcIkZCbHAxcd7arh+RSYmW4JVkXNdICaFWKOHQKjJQgcJI1oapzM3CBGkDAYXMThCEoFSC1gt8EKA1QaS+GUIQXORjH/0ox45tkSkHqsW2C1RccOWl7eT1jKQtC/q2QsscGyHqyDNP/BG+2sG4fV53z6tZ3TjGhz/6iQOGxRc+kIYjQduOybIc3y4YGQnBIXxLLiUEi5AieawYhdGWQaG4fOl8cgiUmrp15LnpbBxuCkykp3I3QBAqla5WoqNK9sQ+lSjWgZfgo00QG6kxpUEoydV6nxfPXsc9azl28ggbh9Y4sr6K0AIbko2wDw6DQ80so7yltpJZO6OejNm7fJ1jJzeJwyHzeo6XAt+0lMWADMXpU6fYb1N23RcNMSvw1pMpTTSCYCVh0bB56Agqy6mamhu7OxglkTZZnwSvkD5Q1TXOtahcEH1AxUB0jkwW7L/0EpV9jPu//o1cv5Bz4uQW+1d2mI5n6HwFowSxnrO2usLly5cpbJ9zn3uB9/3RY/zkT/w0dTMHat7+6K/yj/6HH8VWNYNXPcALyvHM556gpM/3/iffxy+8/V/RO3QbtagTeqEwhEbj/A1KE7FSJxuTK9dZzKc0Yp21cgPbXkdksLqe8ZGPfILPfOpj/NZv/DKXz1/CGMOLH/gESEnT1sxmDcpAO4cTJzZQZcmZM3fxQ9/xXfzbd/xzzp47x2Qy4VV33YGoFuRWs1Guc+GFq/TzAuMrTt15O17A6PCI0ZER/tocmQmyXNFaS2stzlqEzrHWU82Sb9all27w6c+f4/ipXtKCkKBy0GQ4V6GFT3hWKdPQlI5+GhMrSKvkVySlIssNk/EC3ZOo2Nkyd9qlqYzOWFuPzKYNIbRJeT9mL2MC3bydbg6vlr9fSslgkKjZ/X6fpmkSQ8h77rv/brIsiXQnGmZiRSllqJuGQkmKXolQX52L0NdE4PQIZjFHOhJMwCZDLNf1LPKg0NkwgXRlhQWkl4xbRaxB1B6HIov7uAWsHV5jdGZIdAtUEehjqBeSloI9P2BjpQChCH3P85M55xcXWLnSw4YEfairecJsilVwEGaOT8UhqBX6maUVPcr+Kmefv0JWai6/8CG2L/UYCujG8n9iWd/Sayw4SdkvcHVDLlRS4XHJPiIFvQg5SBnZubFNXNNIcqx1SFkQhUQozYMPPkiu+rT1DQoJoZsOBxJiII8a7T2F9bggiErjpKHxNUorgogpgxQRIwwLl3rGphRc39nm+s42z+aGGD3SVvRk5NBoxJ3HtyiHI/7eXzzKj73jvSh5ivW14/zmr/8K9/zkj5JtbCDrgtl8D51lbM9ucNSu8bd/+If5Z//7L+JDRJdT1nSgihHXzlESTJFT77fIosEuaiSaIsspiozGLQ5wfd4FFk3LvV/3GqbjfRazGdeuvERhMppQY4qccjHm1PEtblzd5kjZQ66vs6Y2cM0UMZ8ynF3l8rU9VnLJfL3gmbPP85f+ix/EicgjD7+exz/+IW73hk+86zc5dGiD1gpO9I5w19e/lfc//jH+0t/5H3FHThFjzbAs6A8LeoNVnnju00hdUlUT5jEynyh2pmPKYo3gNiGOGMdtjpeHGWaK//oHvo+tI6e4886HuG3rXrSWRB8YDgYIAc2iwusR7/6/fwOTjXA07E5n/MLb305PHaO/qlndiJw//wyLyTbHTg6w1hKVBiLaQKOS2tB4MQOOsD5a4/yzz2NUhtICWzcs5jVlViJQ9JoGORB8z3e+kcc+/Tw72wsOb0iCK/GxIgQo82SMoaPqZPgETkSESErvCg5K6RgtoFgZFUzGNVlQHF4tyPME57IWoskYrSdKsg8Kk0lcUx1I0y2l+gAykyXvLZ/2uZTJrjtTkvX1dYQQnD+/Q1EU3H333UBgOh0nBXulkpqayolEDm8dZby3y+rREXX1/w6O8890RRGZ06aGb4zQofhVxwf3KDLvO73EzmtaJnBviILobcKwFUAGwfQR0iCVROmIix7vAmVvwPqhY+hCsGgtSMl4NiMTEttGogwUgyG1v+lMqJQizmpUbhEqUOsM4QOyLOn3CupmShQK2wYKs04b/qQmIkBUFYNyQCAybacMigLtJQtnOwZDSOKu0pDnCucsg8FKkskqC8qiTxNFym5YQjd0otB1KwjS9RNdkz3YJK8XFEqkzML0cnxMREDZXUPhHVrpNBSwDkFEaoFs0+bXWUntLed29rlwY5++nvLI6fv55vtOc3EnZfK7tiJoSRsdRhtMv6Su5lzZe4kTR+9ESslsd0ZvsMqigV5bY7KS+XxKGyvqIFnrDYghIqRiVtddRqJRxmBtIJM5voPFeCXQR1YZrg8p+33mOzssdseEZsZYVSyqhp3xhPvvOsGL9VXiwqGcopcpBkay0su4fH2McXP6QlAGyW/+23+Ne8t3cX37GgvXcPvpk7h6jl04rly7QTVbMLznPr7/oW9ghqaaTSm1oA05mRA8+ZHHMYMBXkMvKowYE0RJnucIFkymlxhXM8qyhLxgXkfywQrrW5v8he/8qzz++ONkRnPx3HmauubEbSe4sA3TWcOgP2Jvd4KJgnZSsb8Yo7VkMhujlGdQaOZuQVbPOHziGNcu1wyz0FEOI0ZKDBofJW6eyAWjjR4eCa3DVwlH6qWn7J/it9/9FHuzDKkVZt5ifEXeT/vM20CvD7nJCKLlpqc9sHQa6rblUmFJCIfwnukAACAASURBVOj3B1hfMZvNsNYyKAu0VhRGI9uWrABBnjCjcYK1S7hUGvIkYQ5zQKlc+jnlec6oLBEhgft7ecFwMGQxnWF9wun2ivJlJXzwlulijs4MUil0+coJzxdbXxOBM5CywRDTk2UJ/chVngDsXh5Y8WqVPioSF1VAEkiVGm8dbUhBdhhnWAKhlkSZkw88TghWT97FjWtX0YWirhfE0NCS9CeHK4fYmyxo6po802QagmtY2VxlOp0mxRiXMG+27ehfUWH0IFHG/IKl6LIUyRRuKeNfKk3rUwkxkANoE9un6LJqQiQrs6TGg8SYgrqu2dwYdcOCNKhq6hYRPDJCri22dxS382mCrSm0IriIDmnC2voAKk++41qjjEvl0xIcTIJvtcFTdDqUymgOtCS06Br+IGSW4CkRrB7ygStzVsqMV53M8GIO5SqmHtMf5Eymc5woMcMhp141Yjs0mOku+80+gxXF00HwcDDM6pY77rid2aXzMKtAtQhnGaysMKtakJGoJKpO17HVAZsbWp2xV88pZA5CIjdX2Tq1xfjKPrvXp8zchP1KUGcVezcm5GVJJW8glSArNDv1mPl0SqYNIc8oBgMe/qZvZPOuO7n/2AY//7/+FivH19m8424W8zHPPvE5nrp+g6wccMfh9XQNJ1MMDiGyxK8WHp8J6uCZ25ZIS7G2ydr1sywqi5MaKs+R1tM3Gd65pDbka2IbedXrvo7t3RtcfekK88ZT15G98xdYWz2N0X2sUzjfMJvNKLKMuR0T8eSmZbCximTA3jRgZ7vsLyzEEV7U3T0TQDjMsMArTbFeo6oRs2mFbSoybah1Ta+3wlzk/OL/8WE+/sw2hzcFGsv+zFCYyKrps3AzQhTYeUSZljZAIcDFiI0aLVPmGZfCK2JpAeKJoqbfz0E22Mak1lsAoQ19oYhSIcOULCgKU+IFTKcVwi3IRKAoCmTmEFJig8RkBZrIer9Eq4ymrQDYWB9Rlj2UkkhU8sTqtHtjFDhryZQkzw0yBryzuKr+qmLW10TgjAi8MJDYgujuzm39kg8iktWnCNQ+neBSdRoS7Mz5kBz0UOxVNUeNJjiBUpK6nZJlGc5KdncmbB7ZYDabMLm+i8MhXKBXFMzmk4OgXdctIdNkyjCv5gQZE9tDpydgoAGWUlUx2REHgUAf8GBFTBkxIiTok07hv2qrlC0KQdMmYeLhsEdTe4wxZKbAGIPWGVVVkWcriRftmySqKxP0ApmYFktmTJKJSEshiEIym4zJyx6xtWiVPKiDFJ13yy3CB+Fm5roMnCGog2t98DXA26QPGhAI4ZCiIQjJO3/2n7FoLU2M+DxnuLbOG775TWysrdMr4Vu/9Vv40GOfYKJg68+9gbXVVZ7d32Xj0BEObVqsbfn8hW02N1a48NIFDq2vcfXaNsoYAiGJRsTI/t51jm2sgStBaKJRjK3Drvb5yb//92Ga83M/91P0Vzc5u5hyZl1QBA1KcsNaPvO5y7S1wbaOKD2lEbzvN3+ZN3/7tzG+cokPfvCP+cf/6MfZm+4hY+D5ixfZmUy46/gpJuMuM3Oa2bQiywQLW7O2OkyUYAIrRcmnnvo8H7i8jS9LruztcvHqNkXfEJ1HfVyhYkDlA0J07I73+Z/+3v9CVc8Sd1sO0HmkdYJFtUeUM1bXM67vZExm1xPsZrHDsNQUmWMwGLCydpwr04rexiH2Pv8cVb1PyAVaB0qjefs7PsTP/OyHsdbz0z/2ZmLrWDm6Tm0V3gmK+VWUEEgb2N/Z5v47DxFjQ1MtyHRO6wVtbdM2dxFlBNElsDr4VKCLQBAR3e3Fm1lo+tyYdG8s9yukAZCMDm0gLxRZnnjjSkjqmBwRslyhdYbWhv3JnJXVDGNM6ltmBVW1oN8XByLGy3tLCDDmZoa6LPF7eU6a/Ivu/okE8//DHqcgSVjdWt7GmE5GxhQMYzcAEUreVMteCngAFo8wkbYNKJ9wXq13+AB5YWiaGqkLrJ9wY3eH2WxGlIIiK1IzGQO4rgTOECImVWkpsc4hRE5A4l0nz6iS3UEMSdHJ+0RJE0piTE6/TJzt1Y1VjDGM+utdmZCxsrJyMA2ENHEkRvb391mqUwOMRiOIiqaOtG2LEBatM2wHnTDGYF/BKyUIOkygIO8VLJVklJCIzmCMW6lpkQMYFdzUhzz4c9zadYiAXgrcLjMKD3hq75BSYFwktx5/bYd3/9r/yWh1CApuv+dhBrHFBYl3q3zHd/xldna32d/d5eqVS0x3djh0TLCyscblK1fZOtVDaoVQ6sA8TZLA3+PxPkb30Uan/pQO3Hnn3dzYvsYv/czPsX54hdtOH8NduUa1WGB0S2eATvAq/cNibSTPS37nXb/No7/yy5S9ARuHjrCxts5k/zqLumG4vkp16Sp52SMEh9YZCIExSfu8yDNAopRBS0GGQCrNNEZubL9IfzjgjjNHKXOFiJDrHJVnfPKp55A+kgmFsJ5CanauXuPe+x5AScPZ6R6EmAakrqapamazfYSMtHHO1XnaF/7qFerFJ9jfBxsz5o3jeKZw3uAacLJldzom64+YjhfMbcTgeOfvfZQ//PAl/uJbH+aBEzlaBmK2wqyG9ur1hAKJgKlBBySGiMQ7j+gYbVIqlBAEAoLEvUd0ykXL+7sLksuB5jKYJkcGhw8OgmfppRXxBxqbkMr9ZQDUsqvkvMdIhVSwv7/PC2ef4957XnVQvjdNTZZlCGsxxhyw79q2pcxKlJJdlei6af0rkR6/+PqaCJzGaI5sbhyIISxhCK13hCAJPm2Q4ANSapb6gz4knmwIAS8UjWvIspLZvMHFxEl1tk6Tu3zIeL7Ai4b+oEcbGw6vbRJjpMx7lGrAYLVAqTS1Dh7Ksk+WZdhWkuWJGpmyTIG1y+gtiLGjtEWJjRXBOlwH2fA2JA1Rkx9ks/M64TDTH7hlbXXEYjamaVqiTyWclBJjsgShcALnAn1p8NYlm5HOifEgyHXXcvn/pf2p1LJzwXQYYehi5gHnVy7FLbqncjpIOu5SIOjWLSUEiQPdBdiITwwRQIecWVNhXUAWiigjG6rPfGePLBe88IH38EAvw2UNO598H7/0/Ec5fv99HN46ShjP6C0qLl7bBzJOnDjNlRu79IYDonMYBeCpmwWSSLl6HDJoQwvWUqL4w0cf5aP//l2UI8N/+xP/kqc//RE+9bmPo1b6BJ0jZUOhLa86PeKF81fYn1vqucNFx+pwhc3hiMq2eAH/8B/8NPPFHta1vOEb38TJY0dZTCYMt9bxvuH8hcusrKzQNA1aG7a3rxCcZ+vQGr6pmFQVT128wJljq5w6sk4vy6BtsU1DMRwRlcb4QF9JhoWmbsa09YJDaxkvnf8sQih6JlL0N/GNRAXJmRNHaKbnGPRHrI36DMqcIpP0V0a0PrIyUGR5n8l0TnX9Ek89+Tjz2TWQh6gqgehJKhf43T94nrtv2+DJpwUv3sj4D3/8DHf+lYdYGazzq+98jLkX9AcD5m1N4yOaiGg868cOs7N7hZWixPuWVA0mAWclkqjHUgzllTJOAK0VKivY3a4RoofqskOtNQWkPqULqfQMSXVKCUFmFMlSR3db1GOyjLau8L5JGNGXOYQKfLD0jGFnZ4eNjQ2m0yn9fh+kJkqYTadoAaOVAdd297+qmPU1ETgFkJvUO0y82RSIRqZHCEmF23ZMicZ2ioUd+PWAS+s8zv0/1L17tOXnWd/3eS+/276e68yZGc2MZjTjGUuyjGTLlo2xwQZCwYQE2kINMQkk5VLSEge6sgpp2nQ1SVtoIU1YbdK0lDaUEEPB3GyMjcH4huWLJEuj0Uia+5k593325Xd7b/3j3eeMIE2rrNWuJfZaoyUtaZbO7P3bz/u8z/P9fr7xdGnriIzRUqGyCK4N3uNc4K1PPMbCcofReA/wtG2LEim2nAfGKUVAY63FWIfzDVXpyL3D++gJV2kCITn86b07CNjy8ecXc3unDxjbYiwoLZEqIsKaJp7U3gfa1nLr9l2yVNAtMpQocM4c5qZMp1N63QWUmscAEyCRh4PuNE1foZ3jsMr5+QNsvAMx17uJeK0/dMeFMM+xjxa/e5ShA6mIOPx8Dj+rQBw/QKy6cDjPqts4RkmLlMbGjrdpxsgUWg+Z0jHpMjiCy2jdhM1PfAaZaN5w8eF4zWpbPvf7f8DKyROkeKrJiDzvAIKFhQGNSZhOx8hMsTvaIE/7dNKCEAw6FzR2hptlYMZU0wqnEsqypJel8ZnIUt74+BnqdodiS+Ndy6RyTIyNBcA2WAzWapIkI80SXnz+EkurJ2hmUwbiKEpBkqRMpzPqukUrz3jSIETgsa96A0u9DhcfeZTzr7/Ipae+gJQa70OcNyswIf5+g6eyNfuzEePZmLxIGY9G1KXBu0CSBMT+FO8EeaZ4x9veTq4rmhloLcg0ECxlVdFTKYmypEnL7nQTOQ+EEwHSrEdTOcRkF6Xgc5+/QlPVvHTjJosrq2xv7pAkipdvrfPspdskuoMzPi4KhcI1Fnycr88m0Fmez+TTDO/+1ZCz8KcE6wcdJ8RZdZCWJJGkWdxLRPiIQogQC7IHLedZ5/NYkAP50UHo3WFgHpBlGZ1BMb+SRyuyUoqymtIbBobDYdyZZFk86FROphO8sZjgY9id+f+ex/n/+0sKQUemHCKvDrol7zA+wjXyLGB8oJf1Dn9f5CzGN7YNDsUSQbS0CxqVdSl6XUabmwQnETKgZEpTG6bNmNpUsfhoRRCwb8a42iFQeB+dBlLGQCcRBJNxRQgCJVNEpRE6ORTkCqGRQSJIMD6exJ5Y8CvvYhGrJJ3+EZyX9BcT2maCtTVZZsnzJHZuSpN2Omgfg6aGC714IpPR63dxWOpZGeepKsWLDK80yJSvbE44vyRovIyEfDXPYRECKQVaxngJETxy/ox4Ef/ipTg8sdu2xThLmmfoEL3K/hWiYh88uf6TFO5DQEIObWPwc22qDQ6fzv3RVmKER+QJ+AxvW4LzJEoijOXSs1+edx4Z9w8WENOKh4YDZKIpE2gaw2R/RE0gl4qNL36Rxx9/C9fubrKjh/S7BScfOANAFVr+y7/9gwwWF1h1NXVraJsSIR2hrXjhxXVK0aUVUxazjG7HoUOXerrHm44bxulDSHmXW5cNotuJNyDr+PWPfZT9j/wWCRIlFEVRMG1Kut1lmrrk67/mcYK3bGztcv23fw/b1gQrsDYmkyqVobIuKkvxMqPT6bB++yqj7Q102onPgJ2x0O+xsroUuzO5x/e97210ujnBjKkbAyJQV4FWxudaKkXA4a0gzBy9vMfMtIgyfkb7k5ucWANTBwaqYHkxotTOHQcZprhU8ImPPkltJI8c6YAyOG8omBOeepKO8gS/z9qZnLKuqHWEaadZ3ElEq6iMXWeAID0h/i1KChIVaFGo4EhDgU5q0kxQN4K6aZBSY+oKJSJFyvmWTHdoRIISgYMch3oK3Z7G+halNEJp0kJjAlF90TqC92gp6BcLVFVFt1tQVXUssN1O1EUTu9lgDVefv8ypk69EbPy/v14ThRMBIZkH18/dAADOpyipIpi1GqOlirTn+b+X4oDq4ijSnGAETgRU0EihsdaTZF2cK3GuwQtorcONpvO85rhZGY8neOMxxhL8wZwzIZlTW2SIzMt4dY1LIGfvzQKTOQNTSIkUWaRRB4FQgSxNAIkSXVTaoUgLjC0RKiURgtAYklRSViOcDZF2lMR5z8wadJFRVxbhK5SIs7R7VJt4EpvacnLtPma7L7EzMaQSirxASkWWKrQApSTNXH4kRRQNCxWv+zZ4QmvngFdFsI62bnDKHw7VvQ8EG0jTlNqZeUzrnCY0n5WGZs5AnUui4oLqsL0lBD/vVn2cExJ1py74eTcNSqVz4G/AllX8/3jLYqfH2sIRdqoZTTVlqLt4NPedfoA2G3LrxjWOLPYpq4osZEg0TWWAQBIEdTnDJwoZJEk+5OQDx3H3Ce6MHD6MmX3lBTZ21zl26hi93lF6esDs1pjdpiJfWuPu9jZBCk4dOYrzsLCwiHOO44kiTwb0lnt0Owv85R/4Xj7+ux9jY32DnY1N2rZlOp2ysLDA4mKP6aREZgphDG98+CGEjLzRJEnx1iDDgIVBh8WlIdZ7siwjSRWpUmRJQl23hBAPHO8dwQYc8aAVaUrVznDOxG6rL3n66afJlePs0QGhrTEGEmbY2ZTTCwmdtMO0gjDdJxOS/pIE4RAScuERZKjBEtpzyBdtTMuVl7fIcz1vXv5vvtIH13VeMT4Uc67jXEInxD1QyYHGUstArlNE8HOgc5yXHnzXDpauBzNQay1t6/EyuoeUSkh1RpjbLmWaIkQU3c9mM/b39xkuRkRhv5cz3i3Z291mf2/r36hkvSYKpxCSROcc0Kj9vM13xIGwDA7X1Eid3GPwhXmcwBxl5ecLHK0TbIhFoZ4Ta1yIM8IouDUUA02SJOzu7tLr9CnyFNdUKCGxwWJtQAmNMy3eQ5bqeQGJCwApdHQi/akC5p3HzYtSnsXCZf18BhtSgpaYcID2D8zKkm6e0OsV9AaKuq1wtEhZoISk0+kxHo0Jbkqi0ojoOrg+CzGPRIYsFexXExYGOasn7yO4mp3xBGsdO7NZvLqgSJKULIc8y+LP4EQcuitF21iEj+i9OCtytPPwq6j5jPq3to2LqcN4Ailf0ZEq9EEC6Zxcbue6VncIUoyE87hcm+twQ+SaekL8zOZuEAkE58kCtLsjyu19VDdnqDU9GRhPZjT7De//kffzU//138cOOugsQ1qH9RqtU/ZHd+j5ll5XUAmPtYLnL11jRsr23W0olvimd72Fc8fvp3zHm5FXP4lYWSJp9ji+0qfe2OXpa7cJqSLPU5Z7A7xUOCHIkhQVAuX+jNc9fJbv+NbvZe30GmfOXWBraws1fxaMueeXLqspKtcoBUoGvG1QCDKVUbcNuXJkOpBJD67G29gbWS3RKqITY7S0YDqd3tMlek9jG7pZQVmWfP5zl7h/OaWWOb6t0UqRZpagLYuDHIPl9In7UVKwNYPF4ggBx8LRVbZ39ijLkvNnT3Lz1i4f+cOrXDyWU85qxvsgNehcI4M5/K7+q9ZtfyjPEAdzz+CA+Vw8OOLSMi5ho2SoRQQbLZZt84rvN3NCfyycB4VWKY1to40yUQlt25Jn89hfF73vB6FtWsfv/MGSUQjBc195hv3tOwx6vTkv9dW/XhOFU9mKwf5XoptHQEDjBTjRiRZB55BB4emjdPfwzTyYhR78ytMuJtS0bUWaaqQQtJOW/qCgLlvKvRngGa4topUi6afMxjN0opGVJHWBLMkIPkoblJSoJEFKg/XERRDgMYCeX9MVQsUvSJhffYWI89JgDW1rsd6hBGSZi3HG+yOcqeikAp0HGhcjdBNdoEWK8DV16yK6zDoS5ZBYWp8i0HHbLTWmdTGeuNlkdbCIaSpu7d7G2RZt49LtvuPLqDQ5HJxPqrh0EiHyKasqgjSqehZnfEqRaEmmE9T8IMMLrHU44Um0xh9czXwseAdsAce9YiqERwpBkiaEOfbMhYgfs8HjQoScxNe88Ip7h4ISIrqofGCibITuioBtpwgLtfX4Z5+lsfAP/oO/ijU1VX0CVIIsUvrdI1RlRZpYchmQqWegc5rgCFaSFV0Wj6RUswlmPGEvaWiFZ9l32dncYcGPOdKVLF48x+99/BLCOFLvWN/cojItD567QGIcqXWcffAi7fo6b3jnu3j5i5/g6LGTLPR6zLJ9+oMeaZHS2pa96YjewjCqA6SgnI6RwpPqFJd0MFWDchOcM1hvCEqSa4eOmcrgWpTUJDrhwoXTCCEoii6f/vSnyZIckxTYtqGaGIQFmaR87skxvkjYmO7x9z/wDZw9vgDCUdWGnavbXHrhGW5sTfnub38zw17GaLTNWDcsHz9B205J8g637iSsZAYfwBI/l06mmIws5Adgj3sFNBbJ+YEYLxhYccAMdTh3jwkqZYx3GQwWcC6QqvhcS/Th/uKVr4PYmBCIzUVeIEPNbDpldTmyBaw3VHWFsQ0nF84wmUzmhTnyUJO0Q1NV+GrGSreLty11+WfROeQ9tpoghUbqqNkKUuC8jVcT79DpkNpKSIo/cZ2PMaHQ+oApKxCRgmLMDJFEW2EiBYQW08yoSs3duzWDYY8sSdFSMJlVOGfwjvnSxtO2FqUCWvvDgbRHRouZ1Agp4wBHisMYYiEjcMSLgMAjpaDoRlxVNZvGRVFb0u91CT4jWIfMBM5YvKsp6xq8IenGDXynkxK0YFZJOgur+HovDuvDwdbbA5JOMWRSWazNmFaCJM2w2lIHmIzKw64kSRKUj7a+VGtUoklk1LbJRB52kcYYptYSGoNSjiLN4gkvJU3jDr/4SoQ5TDr+voPD5uD9cAREEIdaVzmXPekAYv7FcrE2xuu5v+e/N87FjjMEjDWkUsWgsECUfXlBJmQE3BpDkmh2rl2j9vEKuLpwnN7SAmlPk6SRTxDkPPk0GKxpME0DokPrNV1fYaf7yL0tjq8UeA9NCPSKDkmqWFxZZFEt8/Kdu2RZTpqmaCzSBd7zte/it3/1F1l/4Vme/dKXOHbyfmwTOZwHKpGmaegNOiRZGnXJBwQpLQlCkqRd8p5H1XHe54IgSB2v4yG+f24OFj7wecfn3JDoaHIgATsHdhx0eSpXWKkonSEvUga5pDQNnVQiH3qQ/oU3sPubv4HJMp67uUGRtGS9PqQaawOtCEydoTtY5sTJfoSpeMOtG7dJk4xmHhr3J77PIeB8tFIT4oEnIc7mAe/gkAwvBCG0h52h92AagxIBdWAO4d6tTs4XXtY5wCCCRIt71/44OshQWsQkW5XQ7w8xpjm8sjsXyBNNPStRWlHP2rm07NUviF4ThTPr9Tn/1rfEh/pArykEofI431BOd7h1a51EJUxCFNzGE+3eaVe2lnI0Y21twPkH7keGGtdEaIBtA85O6XQ03tYMs2V067HVFLM/pUsCNuCSDGMMTRUlTG1TUc0C1ulDRw/SIqUmyWJGtFIKPRfoKpmiBHOkVRo1p/Pr/L6XDPon8HXN9qTBOcd4NCLVM5pyH19vopSjLWck0xqUpzEzZJLwyBu/jjDaxpMghZ9n3ShqX5MEhXEVaaIRaY43ktIZOskSUkKaeiQW71qaakKWdmmamlkTT/ssmVOpZLR8BgRBFwy6fU6cvp+1tTVuXL3G3Tt3CAHGo318Xc2jl2N+uJgX8k6RkYoIErHzQLfE3tOZBqnm74cE3wCCRGqCVGQqPoq18fcKxLyTT1QnylRctIMqFU8om6YY6+efiSCIhCACQgXK0S47oy1uKcHVrEspLWfXljk6GNI6yAcFZQNaTClnm6xsrNO1ULaOO5cusSwkveU+jQNczSDPOZIWZKc6pFnOlRtXqeuKH/+xH+UTv/Ob/NUf/wAf+Wf/kM3Q8vKLV7hy8w5+OqVpGsqqxDiHbhr8/h5N1ZJmmiTLGI/3cbkimZR0U0WiYiGQ1mJpcVlBqpIoTpdE5QawsbXJ0uIK9XiMR5DmBU7UWD/F1PsUBbRMcEmKdR4jCibTGttorKvppF3Ov+cJ+sce54WX9nFyxJcuP88bzpwnTTTtrKEpa06cOs/pB+5w+txJdB747V+/wv5+yeNvygniX19orL0XKCcESBUbDsI838h7CPF50Kkmz+Nh5E2LlIqmquim6fyKfiBRjEXUGIPMo2zQGc/S8tL86h5/pWkKCrKi+BMHV2xGYg58N8nJZE41niIdiJARSZiv7vWaKJxR/pUShMBYG3N85mLqoDS2t0yRb1ITBdAegZABYQNCaibSIUXKTOzxpZc24epVvvFd34ipDUFKVOEofBdfRPvdzlZLlsN08zpTKclMQa/N8WGL3c27GBQ2ZNRNglTQWo+QOgrme3kEKcxuI51E2JbCVXQ7KUtHGwq/wNm3vhO7+THk+DrOzVjrFOz0a0ytuX6lQ7+3g0Kg+y2nipz8OAxyT5amJLrAGUcv69JZ7vGh35ywnvRJ3BLdvMZag0wk3kq8q2lqT8oUmR0nVIqZqDDaoV3s5CsCSZKT5gN0b43WBjppTeoFVT2llpCalBAqVKqihTXXVKZl685dJntRlN8rOsC9TXrb1jgX5V9VHR+4qglUGKQIJElKRJND0cnn+LKGVOXz9NFYFMs6dhvexptCkFn8kghPRgLeIX0HoUpCIpBGkMqGKvTRFjKib914TyIkWgpmbcUUixBR3D4TBiUVBsVePaPXOcbYelwimU1g9egaZtjlxOmzXP2dX6BIltktZxxNwAhDWmja/THyVBflFApHJi3DlQG//L//Iu/+9r/Ixbe+F28sl55e58yFC4x/9ZfYNlOsiQtPRENVj0H3EdLjKkOmcnrdIWmiULKhrGoyQBlHp5+gvUH6GYlMqeqarFOgM40XjqX+kOAtWZ7gfUs5rVFJymTaILRna5JzdDlQu0DQkixUNKakCV2aSrI12uL3/6uf4satyywtX+Az2xXPPTvhsYsWUxssFYNsFYPmGx/u4swttvd2OffocfLeMmJqsZt34qJxLnWrrcOpeCMyrYujLHx0G2lB6huCCLRG0bQOvCLR0BrPYrfLZghUtiGVAnTAuRBlbN6ChTTLCcyAaLW0pkYhaC1I42OCQp4TZITB1FVNv794OEOFuEyyBJoQ6A4WmUyn4KAJ1b9RyXptFE4RMf0R3ipx1pLlOcE7PBE9JkTsceJyZt66+4BOEnY2N+lkXXSaohJNXdfzE8rHIYsPBG/QQeBmuxzJRmRO0JVjFovTqNzx8FlPr3+GC4/8EE9+8SPcufY8t9cTajcFJP1ujm1b+nlGXQfk/gxXW9Jsn+/4twPOTVi/OUNONf3kLG/7m9/D7uWfxFxKKMU2i7qH7SzyO/t38MrSTXsomVEsGvLEkcoapVqUbKAQ+HqX6Rj+xn/07/Mf//Je9BvTm9s97q+CagAAIABJREFUw+FVTSYJMvShlUgHXXkUKxyjpCRRGcpKXOvxziHDBCUz9loPRpKnBVIFaifIsyUMMfOlbGuUhvFkwqwsIUQrqELgfYsSmjxLCE5y8eJFXnr5MkopcjKcN3PRfpzPpgHK6QQpJaPRiOFwkUwX6DSjbVuSLI3XM+tJ0xj9kCTJYfcQQsA1Hq1BCoeXGTYYlIw/y/zxmWtP46JAiSjTEfFOi3dRohI1hJHrKlUkrr/7HV/L73/st1k7ssyogcX+KsniEnu3b0IYgw/knQxTGzp5wWg8RYgEFzx5miGMYfzyS3zqw/8zX/3nvofn7vwLbk32+bqvvZ8P/+Zt+kVGYyVl1WC9IxeK/tIiSgr2J6ND7a93Bm9bUNG+qBOJChpi8AWpzvCVBSNQEtJehzRLCFIwLWcRql1WhyOsum0RIsVag9LpoSDdO6iqmjTLuf/Iec6eOEpdea6vb+KqjGa0R5XkrG9c563nV8BMGJw9w/nTb6CTjRkEjUzglz74ScoWOv9P4HTh58qL+I+JjE45oRRF6qJJpI0uoYPY6zTVKBzhIOPI35PCwT3CEcTdh1KxW9VCkXc7EWs3n4N2Op3DEUCedw6NKEo4pPIkqYo/m+AwiuTVvl4zhdMAKs/BOdIkoWlbdAAvFGmWIlVCqlIUcQmjkhSZxtPNAm0wtNbgQiSpLwxy9kcjZIg2La8a7F7D/Ucm/Og3G9Qgx5Q57/uhzzBRKdfO9fm295zh9IPfxeJKys/83V/j1p0litQg6NBs7pGi0bRIp2kDeGPoD2v2NjbJVEFqE9xKlyX3Cba+vMXqYxdh+RnMVJPMMm5tbvHn3vsgH/7dz9OIXTAF/UaQBE+aQCpASh87PyVxMrBx47fJ7V8mSSIsJC6aYs6BMYZOloN1KOVxxYD19U3WdyYcO9ZFqZoizUikxoaEbvcYgQbTDhDDG+xUkoHt0ZoGozVeSESraMqScrxNmjh0okiEjxxQKSJOTKQ435IqzdOXvsjy0iJZlpAmAZ3kKFxccomAlC0qW6DodugOH2E4XMA3jnYsmEwm3L2zQ1nWaFUwGo2ifVLGz7Wpa4JU9PIC4zwyGGpbki50UZMRzicHjw+EODaQSiDmVlgCYNw890bQyXKUDDE1MRQsD3L+6IM/jxOWq+NNxtvbvOXkgF/56EdZ0Yqvevw8k1YiEo1vHN2iYLjQIUlyVleOkeJZ6BR8/sMf4kuf+xy/8k/+FxaWj+NVgTK38E3DoIjzylSkNM4zyDV4T2sNd7bXWVwYMhA9nCtRvkFJj/Ai0q2EiKF/AcrZBKUkQqc44Et/+CmEitEuWqd4GyjLMkYTG4f1cc6otKCuozHBuwiPefKPP83SsRX6Q8nJpUU+++mX+eOn77CQ9Pnwlz1/6Ud/gMHuddTks/j6Dn/3Z18gLz5FUJ67+3Ek8s9+4nv48hdeOpSexRlk/DofLIgg7tABhIRemlEUGZt3KmQAV7cID0IH+r0uw0GXyWxGN9PIPGNcgvcOLRISpQjIQ/AyRJkcSpIVOUrF0dl4f8yRTgc136RLCW1r6BQDnvrys3zqU1/mh//D76ZtGpKsC0GTKEtCDrx60MdronAeIPfN3FfqnIsnUNMczjKdC1GKc7B4mFOig5Z0u12u3bgeST/OMRnX1E1FUeRM6xYvZGw8pSBRhv4ja/gipVOPIfVIrdi6NeHJJ7/Mt3zPLa4+9xyjiUXkAunBNQZv44zFakiUgEpST2acfsNxQjOltn2cG5G6MWXTp778Ett3lnndE2fQa2MwkmN5FzsNdEKCwOOlROoGoQVBOpyKSZfGVCSauIFvruO9pfY12dz/6+dLIQBHQKoYH1uoiu//rvsZTUZcemHGbBJ4+skd9mcNSR5YOpWyMDzKUsciZn2k05hkSqJgVk7mMA1Baw2tFHEJhgYcTWnI8xS8p6xHkeOpFcw8NzbuMOh1CVaQ5zkLgx5FnpFqxdGuxJtAYy2jjZtcr14k8R6R96jKmqLoc2RpQFk2nDtzHJX3sdZS1g13t/domgY58dRhk7oZ0ZfnmO3UDIPEan8YEnYgbUIElFRR1XCgCpi/sixD2AaCQ8y1kGeP5CS9nN1ZQypaFrpQ1yOWTp2HRNCWDYNOQVu39BeXGFVjZrOS0e4eJ48dYTTawRaBbm8FX25zd3cP0e2wtzWmvyiQqsCFMI/aFUybil6RkyUp3W4HRcAHG+fWwsXbFA5j2vl3oSG0gaU8p5Ol6DmmLenkIAXdxT6Xrt/Ay1dsn4UiiPl/pyROSAImpgQ4R6cTSfe9hYfYV12q1NCXd0iaCRvPTfinH/gA3/3Xvol6FugtHEWrS9SiQ0bg+HLKxs4+VV1yEMv+iqX6K9xnr8hYnzuH2qZidWmJHV0j7VxDbD1ZLskSRTpP7nTOEZxBzKNcDpgKAVBpEgtiqubkMc/29ja7u3tMy5Jut8vRY8cAKMuSLCsOjR2XL1+i04mLqeAVARXzvdCvADO8utdronAiIlPvQPMmpaRpGjppikNhbbRaKh3QSRpdOSF2EQHBrbvrmBD1blIWDAcarRLaqgLbkroUETSl8uxs7zO7fAu3NGBQJHS14tKO5cKFo9za2uaH3v9Oji0NWF55E+tPX6KXdQmpJZVdXOWwzT6PPvYQrzt9jM2NG5y7YKlNYO+u4sSp06ysdslWLd37WvSwS233SHwP7wckJxJEmbIxrji+mqDDPt71cFYQHDinkDpGW9TGg4EsnWHaMSJbwOKQKsHaFi3E/LpryWWHqp1RpCO++U2GMF3HvCMjlQJfe8Yjz3SisGGJLb/IMzcN7/u3CpTe59/7OyeQnX0Whvdx8/oLnFzrMan2WT1ygjs3b6K1ZzhcYPHIIm9/+9u5fWedly49y+72BrlIEFhCUNQ+xyvLpKy5vj3m5KlznD9/gT98+SZ7e3t0coHZGvHer3snx7KEnXFFZxD40le+TBB7eOVxbCK8O4Q6HMBP1ttL/OR//7usXXyM/+aHH+bE4lH6aQ/RRGPCZDJjMplw48Y16rokVfl8pBMjlecWaqbTGToYVL+LkA7flJTTDZ546Kv58Mc+ydqJY5w8cYT7146QKcPZNz5A/exVTu2vsm2nnHvkDaxvb7KoMi5N91lausjLe7t0h8vcGa2zvHgfrrOPF5as0wDZfAseSJKEJEvRKoqz27JhmOdIGfPmnfWE4DACVCswZp7MKhWnjp3k+ae/wu999ksUeY5pHRNvmEzgA3/z/VgRmNVTUpGCTKIbDhlVDRJs40mUoKoqptMJr3/wAXZnI9731/8BN0e75Gsf4tc2LjEqHRcfzXn84YcQyvPJZ2/y2Bvup6dy9pqSpEhY36n4mZ/7n5g+/auk/5pac6/jDIcmCSHAOc+g38X7ncORU14UeDvFOYdtTQQqe0ciFEqCVnM9kw8EosIFKSjrar4Iytjc2abT7fHYxYuHV/qiKLh06RJvf8cabdvy4tXLyCTQG6aM9jbpFl3aUCM7gSQRUfL18qsvWa+NwkmgquJw9mDWodScz4fEW3eP3iwlbdtgnSPLCkIIDIeLiLKibiOsAesOQSHSOzIh0Cpjq20IStL1Y5p2hmscZ44nfGF9xvb6y2y4nCKzXL21wcryMXqDRYRSlHaP1jQIG/iuv/heFnqKyWTE4EiXYnFCua/Rwy5L9yuWBxDyHF2UwB2EF3g5IJEeMjAoZHcFYz2Zm4DzsSP2Hq8CGIHxDSrNyMmwNbT1Pv2FVQjtvSvQfO7jjMW1M0QKk6DZrDw9VaATFaMBUo1IW8pgWV1L0Ftjfuq3Xub9X/8ghTUsHH0jd6sZiXTsm+ssN5K2cVy9eh2MQyYBnRvqjV0+/olPUZuWanePIisY749ZGHYBhzewM604eep+vuVb38O3/oXvpK4Nvp/zoQ99iF/5pV/mvu4Czoq5hGsFT+DC65/gpRsv0Yoa19TkyhLwOBf/fMF5jhdH+Ym/9T6+4dv/Xdjqsb+zw/Xd24ROQ6fT4/7TD3BkbZkLD56JPvgm4fr1m+xs77K/P4lic6Wo65pCzVMRgVQrksUVLr9wjUF/idZ4+oNFFoar5DQUix2WVpfIrrdkacpgaYljJ06y/vLL2PkBPysbekXKUGXQ1Cip8UJFxJ+PrMfodvGIBPIkxROtr7OqwQmPzDRKpzgT1SLWO5wH4yzaSSrnWbjvBOnxG/SO38cXnnmOxIAYQKUEFkGSpSinaJr6EDBzYBsWIuB9YLS/y2SS4+da4//2J7+bQa6pZ1NuXZuwuJRx8wsVC3Kdx956go3RHZ6/PEP0PUuuhww1Dz20xg/+4Pfzd/7S/0qq7wl4Xk3DdlAstZZ4pQ+hN2mm+cLnn6Rta4L0tNMSWWRzx9ArOApzr/orRezWWs6dO0c+X16qeQSx1prpdHook8vzlGTuTgy+RSc9UBahPSIViOTPoFcdPJ1Ojm3jULgoCqxz2LLGSWLGtx4ybSQlNWmhkV7ESIWsy2LRQagEv79LEFFKZJopuUpockUtwKoZGI8Y5rRJguw4/A4kfUNncJJv+ZavYyA9T3/ly2yNNvHes1T0aMspSh5B+z3uP7HE2oJib2eL1NQI3SB1TVu1DFctq2GRqidJFyroDcAnJO00Fn/dYKYFaaI5c27IzUs3Wex18b6mNfMT2hMteDagDJisIqguIgHrGopU0dQOaywy1SRpjEpwWmNbhTQTmu2jJNkeZlaTpDDxAWNyhKvJdclOtcvdm/DUtR0u3rdLc/23mLr7kYmn1ymopaA77HDm+DJ7mzfp5kOaMlB0OgQbH/rOwoBqv8HJnNoJtkclT7z9Hfzt9/8AXqf0Ol1s3dBfOspGu8k3vfff4R1vfw8/+sPvQ7mK2zYl1AWt9/TlBpnTzHSCdg4vPC4oMpHgq5a0GDByKcNqm9sf+RBJNsC2iuWVFtveh7XbvPzcJYSTBD1DZwsUVvPgI0dJTp/n+Vsb7O807NYTBr0h9XRCNdmjGC5itSJrakLaEqTATBUjtcOwO2Gh6JItr3D8pKHz7IykG8jzFS488ihKB9pPfoy98T5KE/NrgmXsNV1jWclhE0+/aii6CmNqlE7By+hICwojJdY5tBIoH2OZpUqwbUMmM0IrkBoqMyJVJyi6Xbb2Sp66+hSLi11srWimDcFrXFOiVY4TlrRYYGbvxD1AmqPtDC+hkFBNE6wQWNNjIddkWVQevPjCJgkaUwambcV0ts9C7zH+/Dd8M7/3+3/EsaLDSxst2VqXBy6+DgK4yRRTEDvBQ7iMRCJjBpSKaQ6S+fLOB2wueerldWQhSJXHIZi5imAVu7LHi/uW73z8HE+/eIWJtzRGkfW77BsXGbDM6Ay7GCyJyOaLQBH3Hq3HqQYL5J0j7I722dnZZTKuKDo5vW6HY6tHuHvnNoQEa6KUKU81mXY09Z/Bq3oImitXXmK0fRdrKoosZTqNVBhHwHvLmcVVkAlNJWiqeAJNyhL0PlXVxgevEczqDQb909TpCcb+NgVzt4EWBAl17ZHbBuUELijWlhPGqstdf5q1/Ca9PGE695D3egN6R4/w6CDn4bOnUbbm5rUXCM4hk4Thgicp+hxde4jFfh/1uoIrn9jnqae2+Kf/aJ0PfuK9rJ6rQe0jxREy59hfv8YTjz3I9adeQrQtTZjLfOSBiFfgbEz2NK4myyXCx25JESMkiqJAKUFVzvDBYmx8j3Sacef2Pv2koeho0gxccHinMbXm2uWK7qpGB4cZdWiyMf/Fjy/w0z+7ww/+0PfT7wZubdzi7t1NrCt5+Fu/iSNHV9jd3iPNCobDIVu7EzrdFNsoqtmELFM8/FWP0l1Zgzynms7Y3d5i4fgR2tBw/9pbqWY3Wcxq/sUHf5+Nz/w6H//oCyDhDU+8nSNrb+TWBz+Iu3OLtu7hMx0dRqQICm5u3EUHQaZz1tc9DevUbcVsv8IXW3hRgUmoK4MuNCtLxxg8cIpJ05KLCafPPEy/c41TaolmFvWhWuo4K5QQaotpAr7JSZPA85dv8+gTb2bv1hjX7zI4e4b1G39Eb+0YL96+xmOPPcZ4f4/lI8e5evU67/nqt3P5qc8TvGch75G3DmdKdNuSFX28d5EyJRx1s49UDpkuErwl0RqlYmdtg4xz40zgZATRZIMORnQYm5KmNZy9f5lHh0vkacJ99z/E//Bzv0DblMzqKIer6ym2bXDeMJvV4DtIQLcSG2A0kvzBJ77CAxceZDjwdArF9s6Y/uIKw1Mt1sGDZ4fcvLnNT//0h2jahpOnTnH+dYayHnH1GlRLl/nw//GPGI+uohRzfXN8yeBjFAccanvFHEAe5m6i+a78UH8doeEa37ZcvryLfeMDKNmhNgYnPS4EvPRz5oFESh1t1POuMniYTqfUdcXq2irWeoSzTLfvcPJYF+ErvJX08j7eOhYH3cOlUWR0znkLWnLgoX81r9dE4URCtycZb09JQ4Pd2+fk0ioPvfltJHmGaWqWi5zaQdZZZGVlhbxIubm+QdHtsTdruLU3JhU5aW7Y3m25W1nGtYjOCx23e8a11MaiZIZoNG09o0POpAy0Rx5m+/qzVJVh0Mk5trjEe594mNDOEHkHX49w1iJwBOGZtSMeWFlhY32b1eWCWbnNv/zFDv/b//h5FjorfN+Pfg3HHmpBL4LfB2ugHZCQYaRFeEjDCsHXCBnmXE9AeLRKMMaRJZqyLFEaUPfsZwde94NrSLR+xi1iOWmRCQQPppX4YBHCY41iMmrZCX3QDV6kTE2Lt3f5oe97N93MsDfZRiU1wuwTSLn03DVA8sxTz2KMQWvBZOJZOT5gZ3NKr+igUsVv/s7Hue/UWTyCRGmMMQwXuuTdDrabUm/dYfvGyywur/HV549ihWHmdhisvI5f/+A/5tZzW5RpgS0Ug2MXGHZ61NMKGWasnT3Le//8+3jhypOcP3ccVZzh3Ose5vrVTyPtHk21yXi8y+Nfc5HPP/0JTqy+ngcf+gB/8NTfYnkw4PKHd9i+UjIolrHtBBEOkHmgkyRe1xPBF5+5wlufeIxZaTj74CKjOyUuS1AyYTLZZ/H0Saqm4sSpc8z291g5soYOlq2NTSpjcQ5sVZMlEtNGqK91hizJD5cyQnqEtJGBYJs5kzVKrhItSBMZ5UY6RcuMyZ5BFoFmNuP06dOsr6+jREoqFTdvXmFpEdL0wJvtKMspweU46UhUdIDlec7F05ZLzzkuvfAiyx34oz9+kiOrnlR02NwsOXt2hcruYVzg9rolzTxLK0vorOTatRuIdAEdFBkSVe3y9z7wY5weNlg3X1HO7Y9CRAFDdM7NVQ3yHjP24BWC+BPg4DRNuXjmfj76zC1MU6OFxEUyZGxXlT40J2mtcfPrepKkKB33Ic5FroIWAh2gU6QUqUaKMActSx5++GFeuPzUHCAeC2c6XzwdzEZf7es1UTgHRc73ftt30LY1Qkls0GR5j73NDXZ3RgRVozqSnpCMm4pnXniG9fV1eoMl7m7vsjupCG3J6uA0UrV0F7v0E01TSUZtRSoVKgkcP3mcnm6oxtfxswZr4RsfPc/Hn/g2TPc5Oicv0Lz5Pvo6oZq1PPXUl/DC4NqGbpFSliXHjq6RZAULRUHlBNmwYJrB3fVj/L3/7g85c+44RTHir/y1lMnVMbkaksgem24dub/Ezt5JfuPXL9PlKJPZBiLNX9FtAnj6RU4IEmeiu6bf0VS0gEJpSdvWaK1IM02YRDgG8zjW4BWugVYI2jLgEEhp8F5ijMTf3uXv/I1ljhbrMNL48ZSh+gxlscrXf99fBwS/8J/9GNvjls27nu3mJWyzxGxSMpncIpeL3Km2mew1XLiwRrk/5dY4sH1lA6sUShesnTzDfml51yPnWblvhWuf/TQ7N6/z7FOf4S88/ja+evUWu61i69M/w9sevck7/sqb+OwfP4tbXCGcfge5rvhPP/CTvPH8m/j6r/lmTjygeehN30iaDch6b6SqDEePHePG1XV6RY/RaJt8EULW8vSlZ5mM/wlveec3YNwuv3v3ClVj6HZLtJTIRDO1Lcozh0a30UtvHKsrCZ/85NM8+OZjTMoJwTvIIkMzzTQ3r11FZV1Wj5/igddf5CO/9i853iuwCHZ3x6ye6IJQGBFwXh4CU5IkxQWPt5a2bUkTi/OGeegJAYc2gkRKrGuxrWMWKnrDFD/zXHlugyc//yWCzpjOdpE42saxMBR86Df+T46tLZEkNVpGpoAU0ZcopWQ6rdncSrBJwIgOtdKw0FAlik6R0ylrJjt7DDs5Wdrj6myLXHZ49BHB3ZsDjjw6Zroz4YnHz3Hjdy6j+kN+4ke+h0//yj/nuRcMnoiCs8xv68IjQyRwgZ8nN4jDP+srC2bwkd1pQ8vqiiRITbAThGgQhYQmzv+FnFt7ZZxpRvhxtGu2bcvZ02dJtKBuK9I0p2pblleOsru3eS9LPQSSLOP1Dz2CTKKtejods5h5vHe8klj/al6vicLZWsuotNRNy3g8ZnNnk93RHtub++Rpl0GaMjwxZNAd8uKV62RZxkJ/hfGsQYqMXCt2fMKVrQn9ocDVM06cvojXMzKRzXOco+PGWs/eJhQLKd4JnnnuBZ557ud549seZQ/FkbVVpsGTdTq8813vZrS3i1RxFtS0NcuLS5Hekji+fOmzdBYU2eIy//Dn/4DukZTeYIlcBm5cLnFe0Jgx/WSJXZ8z2tihtEtUYYVMGlzYwjcH3WN8L4TQTExLomNcq0wEVWmohaDTm4Od59e/2HkyX3ZIGt+gkx7CxYPaOxG3qyHSaDqFpi+HlGIHM5YI5QmuoHG3qHe32d+8yfDIEZI8Y0kU3Lp7l/MPXeCLf3wbrwpEkuJ8AFEwWFhA6oLGzmhcDMxry5bB0ird/jE27lxmtj9j5fgQNewyqSq+80f+E0ivo048x2K7ytUrL5Og+PD1L/Pud7+esLxC/viPMNt7mtc/8os8eOECx+67H2M2KLJFqlqQ9RrK+iaj3as01QStBUUamFa3GC552rFBiB22th2XnnmaNGRkRZci1ZR1lK8IH2EmzjuqxpHmik42AAfjvZbF4QJK3SXzASYTtvZ2eL0QlPuTCNbo9Vk7eZyiW5BmioFK2NsyLHUz2rZisd9h5NrDCNw0LWBuyNAqhXCA67tnIQxhF6xEJxpURusFkyajqmoKvYDIh0zrkgded55gxjQzh/EGpfqAoW5mdLIckSQYMdf8toZUC8ato9MDaVqCbckSS6Z6uNmUows53VTSLRyt2efoUbDWc/vWFnfvCBaXoWocLz13hbdcWEDcmfCff+Af88azOYOOZFS+8orrgYOcKj/HK0I4AHx4+NNXdQCkolMkIKIJxhuLEzkgUQeSCCGQQqGkpmmiVOsg5mZjY4Px/h4XHzoHMr7VxgmOHj+DmHN+k0zTli1F0Z8nS9j4vqeR1iXkq7+mw2ukcN66u8XP/fMPsdTtc/LICg+cOsbJ5VO8sLDB5voWO7OS21dHEAKnj53g2rVrZFnGyspxEg/N1j4rocPIVwi5Ryo1iWnJwy4N6RxO3MxD4CSIDOsCoWlYOnKcbzj+tTy/a5jZCdeee4FTS0tUk5r1zdusri0z6A5o2hlJotjY3EFrjc0trSqY7afcvjrjs5dKHnz4Plo/Y+3YA2ys93DphKQ4QlUJ6npIcJLSSUKe0IwVjiGBKIaLxTN2nUmiqatIgW1nFW3jIddzIMJBnoVHoA6v61IojDdIGSEIUnKIk7PBEYAsF4imRcmCICpanzJ1I4YFdBPH+otXGC4fZ3n1Pma3N9E5vOmtX8UXPn83SkEEZFlCExzWeQISnUYRem1apEwpW4fqDphULc8//xwnT55n7dRXId0neN0Tb+fJX7lBeuw8rzv6ML/wqz/Fz/7M97Fz48X/i7r3jrLtuu/7Prucdu+dPm/K6xXAQwcIVjAgSIKkKFJsi5QsihIl26IiWdGSluLEskM5jpjIXku2REVOYqrFkmUxViUFigpJsIAUOgHyoT289wC8Xqbfetou+WPfOzMAQRFMVrzovdZdc+bOLXPP3ft3fvv3+xaSmZhl30HXIHyDJFZsLHXpdk9w/XV30R9otJzAmIiqsNgyR7c0zTThkW8cZ9/rb+T88mWeO5kz/eq9nHzuAm98/Qd5+q9/HQYNfCMwjawJSkuhPuZJG+P0ywFx1ERKxbnnVxlrtEizOBCuy5zSlGxsbCCUx7vAcjlw6CAokJGkqQXjmWZ+epwsm+H6G47y4IMPk2aSZ545HbrYMkCnpNRYEyilI8Wq0hiyRowByjzh0pUBJ05cxhAxcDUxIXZICQc+9HqEUyRRB1MU5HlOlgUhamMMkZJU1gXhm8oxPT3DVU1DNdYmqoIxXacQjGUGlKOZQL/dI4ozdBzTSAWRzmivrzM7JpB1k4VxS6RbVGIdMyH5if/hX/BHv/rLpEEfcBPu9eIhtsXGF2/Xt4+qNMF40etNjCVREHQZMZ4EWwI0I9GaoPKe05jdwdTEZCiJ+BqtmigiWmPT4Q2UYL29gVKKbn9AksabHPaR2PJ/kTjORGkuX7jEWS5w/wlL25YY7/jBu+6iiiNKH5NlY1hrudQxDEQTETVJp+aw/T7ziwkzzYyl+YKq3ktZlsRRBDbBFBVxllNpTRo1cLLk8lpJ1lFUFiqd8cBajyudHOUMKsr4gz/7DHVds3dhgauTSd5yZIFiecDxUyfRosOg12Z2cQ9jO8aRacR/+PTnqa1jshHTtJIDB+dYswV1dwKZSyIFVjSpnMBbhVae2gmMc9iRspJ3IeiNAqHS1IUldVNUxQppoxkYE6MF5+SQrmcZyIjElHgbkSgFKliNOOdC19UH10zrcgploYASAdRoBP0SEvMM3Sdb2OsOc/T2V7Lx5Qf4wOvfSTyxl4H0CGqk0AzKAqeDUANSUtWKxvC7KVXJ7j076K+tkZllls8VRL7NpTPHuO2OqzlhDpnCAAAgAElEQVT9yY9xfavNV//im5wU32RuagaxvMZk5OlfeY5kZi86dmyYFZRosFas8Jd/fg9HbrqDldVVarvKRH+J9fULXFk+y/5D4/zHP/wSN7xugZmJ/bzjjXt4qPW3zEzGzO27g//wf/0ZvfWcSFgGxmFKSW0sZZlj6prWjmmK5w3eGmbnHN1Bjx27wPlV0mYfbAcmPe994508v9Jmdn6KCkGSzrJz3wF2ze9lqmwzpmsWZmPu+8r9vO41u+hd7nPrEUEaN7jlyKvY6Nfc87WHKFxQTffeU7mcahCIHtZUNCsYTxvIpKQ3aPMD73k1tx5sEo8rUAmTjRaf+eo3UXaZpbzk2FOXqQuF8xt0BxG2KokNTM5qbr1pgRhoNpqcvrLK0xsCIQLjTgzVrMCgI0Fl81AjdxVaO37mfftZW19lzLfQWpNXNXv2HWajnuDXfvdr/NhP3cjbP/Im/t0/+yj1WATGBnda6YOLaiBGoUI3AO8d0ofdUTTUJy1NRdpIQQi0UjhfYjowYTu45g5kJyeqawoZZAu9Byk9eIeOFNY5rLfkZY5QnmYrpSxzmtEUwFB429LpdMma42QqQVIGGqcHVxuK0lHVDh03EbaP+u4Szu8cOIUQvwe8E1jy3l8/vO9/BH4SGMkm/1Pv/V8P//ZLwD8gQLx+znv/f3+n96iVYHlMY/HUKJxKkEryR19/IGxDh1JjURThioooClAEe+wYEPxbdG0pjCPSCc0s4fWvuJl+K8INiuBXpCTGVNSVAa8pKygNPH96lVO9Nt1KUlaWte4qpy5DWVsu9de578T9/PVnv8Q//6X/hh/5yE/QuXiWLGoxsI6Tpx9nverRLS1Tk02Kombf/CJKRpTGUhuwlSSKg0dKVVuskWH7ICWm9kNtS4ckMC2Ck2fAd7ih4nySZEFqTwXVpbouh9RCidSK2iuk02AcziqEBmSE8yVVJVlZKYgjwfyuaFNBf/sNYHV1lbmZNhdPPcFg/BC33PEuLlypWNh5NQf37mXpzLN0eg4vFFZGxHFG6SVOKtAJwRhhER3vozIGUdTYyNHrbiCFRzpLM5WYqiZNIkRVYGYXcaKkbx1xOWCts8qYD66b4+Pj9Ho5yITf+vhv8cY3fx833vQKHn3sQZzNGWsFZf1bbr2J2++K6HUHrLXPcmDf9Sy0buP02nE+/KGf5EO//16umdsFIsjqeWpmxqa54dqj3PPAvSw6i/KOZhaBM6RpgtKSLNIgLMYYUgTt5RWmdywGvrX1NFrjzM7P4c5tkLYUnZWKooDpiSaittSqB12ImxWNOOKd3/c6fv33vkBrahEXqBrhQlYaGo2MWCdEOsX4Aik1VVnSX+tSljMkYwofg/QJCM36Wp9GPEdrPEHHJVPTC2SJ4+tff5qqAhm1MEJSIXCRRkRm01CPUc1RBl3NWAYXWUSgql5ZWqPRaBLriGazSf/SZfKBo91f5Qfe91Z+8E3zfPWz9zC/qNjouW8xh5R+y65aebBilDGGi3mS6KFXVoop+kHzVkuQHuOhKgaB+GAdmK21/53GqEE2woGPtBycC51zreVmeSAQLARmyHwyhiAT+V2Ml5Nx/p/AbwF/8KL7f917/2vb7xBCXAv8PeA6YCfwBSHEVT7IPX/bYfGsexeaHIBAolDopEEkBGYIDK6tRaSaSgiEihFRCCTeeApZoxOFk54uDm9K0rKmjGIGgwJjSjbKDu31DdqZxKiAMUuUZHn9PK993R3s2TXFysoKv7D/PSwu7kI6T6vVojIljWQch6cxL2mkCZGeRK2scfIbDzMwnlffdi3jScKOncFBc73vA+vJOTISXOFQQgR8qrB4HDUGSRL0KIUIV2YRHCqtgUhrytyAVyidYAVoHVHXBik0tbHUtaXTd0zrlLrocuHSgLEJqPMSa6DfhfUNyLKa9YFicdZtTqxAbwvfQSEGzFvHsb/6PLe+/xV89djzGNHj4//mXl53ywE+8+yXmZ2Cga3Ji4hUS7Sr8eWAFIdXinR+J2mjxYXzT1Bv5NQ6Is9zhEtIZAPqLqaU5D2D0glmfZmV5JWMZQm6lzAxNQbeUpU5C3OzXPJ9nj+7xI64wT/5+Y/y93/8Rzj1/H0szO5i7/5pHvv6Chcv9Pmbe57jF/7xz3DgwE2k8iqeevrP0DR58tzn+ON7PsFnf/uzPPv5e0miaaSH9dU1vnLvl3AR4GwQzRDBLkQ5xerKBTKlqO2AyFSsPv8s9fo63hRDX3tFc2Kaa2+8hacuP0eSepbWG7z1+xeJbY/2ag+nPEaXTJRjKBkho5Kf/OE38PVvPsGxs1WwaFGSibFxwkWyoCgdtShB1Nh6QKQjnOghtaasenT7G7T0NNYmvO9dB0lUhfKW5aUOjQSe+GbGoN8BUwdoUD2grB21VUO6fqCkhiAZgqcToXmiRQQoZLNBMj4VtsHWUStNry6p2iWf+sLX+L2ffRsf/OmPcrAxRa9ax27WNIf1TA9qWCoSUjISFfTe47BIVSOsQYoCqJBKoRCU0pM0NaK2WGOpjB1mxlvb/C0b3+23EDE2bWyGzg5pGnZZo/ceBdRwDixNndBIwFZlCII6Bl6+mPF3DJze+3uFEPtf5uu9G/ik974EnhdCnAJeBdz/d7/JUBpf+AA1wIVU3xkEaliTirC1JZaSujaADUZj1mKtRzUi8kEZApD2dGyB9hV17QO3HGiMNahrw/pqRTSVUDvo+pqT/cs89Oe/S3c9YMPKrqUYeFKZhhpIVTAzmxKnFh3XTE1N0+/0+OG/9wHuf/Rxds7NYuqapJEiIkflLbYWOC02dSaq2hJHcthJDN1E6wgwIxgyjDyhIM4m9MhLQVUZ3GBA3GhuZuBCBJZIkZcUNRRYWlqR5xapBXU/BEVjJUgYVAaTO8aaIzdRCAs2vE+t+6hUMjU5w8Nf/jTveP+P8typY+xq7GXl7FPc+bobuf/eB7BFiReCfrdE+JK836OqKrz3NMYrVN4nKvuUzlAbg7EVSZyRD9pD87E4cKmjiOkxQXNiF7oURI2KzvB71RJsaZmemuJd7/khPvmf/ghrPdYYJhsNjj91AuQedJyiXMzBXTdwcP9eHj/1aZ498Qlu3vlGXALXHj3KVz77eR7/+mNkUYZUoIUmigKls8YGhaZYITBoIVFOk+oIZ/toPK7XZ2NjnW57NTDSXIUSKSpOmZtf4GkUWgjKvKIZ9fFVSaEUricxaYX2JVkc4euSurjI619xhIef+Co6ygDo9Ht442hm0BxLqKvQwHJS07ehgTmeTlADQsYMBl1qM8AYTSzspjhvbbpURR9TVyjpaaUCJR1KgdcOix96QPlNNSlrt+rmntB0PHXBIC6u0B3kwS+pXXLXmw9RxTmONXJbYoFkqoFcM2C2NCxHwBDht/jlcpgxOnhB/R3Cllp6B0KztBbgUKYKV/La2aC7+jKH8Q4NGOcoqoo4TZGRHgoXh9ccUUG11ggHU1NTRKpAGIuQ8ct+L/j/VuP8WSHEjwGPAL/ovV8HdgEPbHvM+eF93zKEEB8BPgKgs6CpCRBFCinCgha1R6nQAfW1RZrAU20mGbaqRw28wMqtPRqCVa2S2MoQWTV8vkTIQONUUUK/gJZIKE1JZVIqEiyCRrZBFEkaScCWFYNAA01i8EbjiLEq5tJqF0/Nk6fPcnm9z6H9B9BaMzs5gVcG4yXWKbyQQQUGgbFBwspbASJBkGBNENDw3oG3waXaWyItcS50/iIVIYSnKHNkmoIZcvQFFGVJXhZUVjJwJdPjEYKEsqxQpFTlgKIu8KjATlKSqnrpyVhUNagGamwHEy3Fg1/+U+bGUqZkk12Hd6Oc4RU/9RFKb5GuxpogAgICU1VorTnT9bT7JbOp5qKcpLvWoaj66GYGwlNWPTRDg7ayAB2xemEJ5zrsSVYR6UL4noQkixOS5gSrVy5i3YA4llT5gDLvo30w3jqysIv2ymU63QucP/s4BxZvZq7xKhrtnTx79nPoQ9P83m9+kuvn9xGrBsbk+GEH2BmLjEL2aB0UZcHUdIotDMr6wHEvCnqrK4xNNYnXOkjncbZGRSlCRezYMY+1HldDI64pOx2SJKJTDIgHgkiH3UddBVk+4yx53OPAwhgrbYdVGXnR5cr5kp07YTwbQwkBQnPmwhpFV5CXin5+msRbLrQ9t9+4C28dqa6IyKFS2L5jUBa0Jlp08hzrDWkzxYscEUuUC2r9Qohh5ukDjnhCI6UL4HuvcdZx6tQaxjh0FDx8klhy7LHnqKWnRZ/LS31e+8pbKdvPUQwG8KJ4MwqYwjN0Bxhmi94DGuckSsXgA8YyNIQ8Tz9zAiEV0gtMbUAoXs7Yvo0fKeKPMkulJDpS1CZkks5bpBBY61AomlmKqAqEEOTFfx7rjP8d+BVCQ+pXgH8N/H1eurn2kgUK7/0ngE8AJBOJl3aosWdGC1vircdYjxB2eDUTOOWo8moz6xIoUDHeWSIdIZTCeUdRe1pZhrY9OkjmJmfxxjPRUvTXUorl4PlT9teYUU3aeQcdD2eBUJSVQSgNXlB4kDK8p0MgtCJKWjz82KNUdU4aZ6QqQrQ0RQ2VDTxoYRV4SW5Ai4QyrxFWUDqDNzHaR0RVsClWUgWlHwGVE0ivsSYIux6cljxjxkEGE6pgVuXQSuBdjdfgRY1KY3QSI+oUIwRpPEE6pVg7twomZSBzBmUQUBxh60YTPY4SfuPjf8iVRkZsPLFPyVNDQxAap4OYTBsGkScxiigLtp/BJyZYfyTZHM4rvJQjJTf+4N+d5cqls/zkz3yIa+YDP1mUHpUqOqrHbASPPnKJ3Qf65LMF1q5RVgPSNGWsNQaujanA2R61L9joQjSeMrOwDxU3OfKKRd7xwR/gkQe/ybHn7mX3zPu5/tARJk98EdaOM+MiRGGJo4oyaqL8OikVZX8NObVIp7+BaNZ8/1X/kOb1u/nG5x5H2SmcvIwvLP21c+hqQGwLBnXOxuVzjO+5llhPMLFnH+fyHvsO7+bAfs3ahqYea9EbnGF2apq6runnA4TIiXRKXmdUuubtd9zM1x59mqfOrSAcXHMw4/SVnF5ngywRHD06xdrGRaybYHY6Yl4mCCHYIyRFvUFDlRSDFjZqYk3OufWzlJWj51qUYhVHEyfOgtdUxkAFLoXDcymxrzEiJtIeU5bDuQAQEpEsHm2BDaIxDF7dVaS2XD8h2FgfMB/V9McmaDQHdCoTyBYehFA47wMbSkyRVm06icCtllx93dX89Ltfw9ljz3LdW15HVcNv/vmn6Jw8idNzHJ1t84Y37uJKu4ePLFpkiNqw6Vs03JpXJiioaamwtSGOIpZWVtDA4q4x1FDbUwiBVhFah95GmqYoJYaaEA0inSB1hMlzlANp/jN01b33V0bHQojfBu4e/noe2G5QvBu4+LJec/MFtyTTRo6OErEZko2pt/4+tCb1LgBhG3ETtKT2BlBkjXG63T56ZA+hwApFWZdIARFgncDYeitovvTnZRN7Nsz2tNbUxQAlJY1mSiNrBa1MOezc+UA3E34kezZCsDGkRIyGBALfd/tVxzmHkQ7tA8Nh5PwY3Dy3aj5KKRpxTCaCzFZd1yjrgptmLaj6FdZ6yjJHN/TmdiX83Pp8XkaoROJtwbU75xks1xzv9zHZOLFw+NaAiphGHuGbOc4lICReVuhojKS5SBwZdCSJIoXWkijWiDRhanqOWPawpUU1FJX0NFyXyUZG1BjDaodWlsgHWI21Nd4FXcqqDDJjUirq2rK4ew/gGBuboteveMubX8mD93+GPbNvQvu93Hj9m1B6AlQKcYpVJSQRtXEYn1MKw0rP8/oPfYjHPv8F5mjw9ngPcx/7lxg0H00abHT+ClWATBNMbnDeEDcy8qLi/MVz3LznGmzdZ2aiRdLMePb0k6gs4uTJLgtzMeNjCTbX6LjCmuD3HTItha88Ze8yr7zpME89vYbAISJD4aBfGZx3CJXQbKQc2XuE3XvmuXjxMhcuXEBFwR2zrHJ+7f/4HMUgD8hJCbWDJILJieBjDmCtR2vQsQ6wN2eC8lAUkUiPkEPP+20xQ6nt7YgtXU0F2CjC2Zoi7xElwap4tO/epFeOVrJaxkaCA92Y+ZmMb953ko89/Ax7ZMq/+KOvsXdujLd832v55EPPMB+vMjuV0hyUxK5G5AVNHTHYtkxGZQCtwxyuqgolhnCusqTd67H/4AHKsqQsy+AoOhigVPDvarVamzYcQjm0Silri5AReii5992M/1eBUwix6L2/NPz1vcATw+NPA/9RCPFvCM2hI8BD3/kFQSZiU39vNCTJtuMwEkI3dVNr0YfjRLbIZIJXksrXFC54UcZJhpGKsnIkcQPdiCgigao9VVey7nVQ1PHBmdH6UfF8OAVGIN7hJHLDrUGV98nzkkOH9pNNTZBkMZWUKBucLL0TaLFlH2z8sJPqwUsNOsG4YC0gEMHqQobj4HTlcSLwzgb9LvGEJ4kicmMCZWwI4m61WjjtEbXFoSjKmkRKDIYIRT4o0FoyNpaxURW4ZHP3xLadFMblWC3xueBNR7uow13eyyR3P7XKM+0M7RSJ3qAYi4mKFo0xTV1bxprTZA2I44odU5Nk2rJjJmH3vgWSZpPDC7tZ6hjKqk9++jyRrzn8pr2UxSL93ikud5e59dWHKE7fB6kCPM00w9WWZtbAq2A/LCNNXtccOnRo+N1Ljp88wTf+p2X27/e84sOH2X/rEWpaICbp1JKNpQ3+6198P3/4219ibmY3+YWzZHFGs6xpOuD1U+w41iFfP8XSh2/HUJD1x8jmLc39Y7jSUqxUFNUAlyqWVq5w6tQpbrztTWipaIxPsefo9TSXEh478RSdCYlMEp44XnLnzUtM6inoe7yMGdiamcmYvDcgj2OSqI+vHCKBWhpaccSgqok0aDyx0ChrMd0BNs9xVYn1Qch6enqSu17jUHocLYd22l4gokYA1dd9lBcINHFkKStDoxWU47UDUxb4CrJoNBG2AtPWwWhuDH+3kiw2tNKE667fxfETZ4kjqJ3Yeppg04uqwSQX+x3+8m23oouS4t2SeKykrA2DE4L4sucnHvwcuxYzTJFQiEn6awOO99o8s+5pTZTsmku3ebOLoXJ/SBC01njrKIqCgwcP0mpkwSY4irh88SI7duxgx44dpLHapFjGcQDDf+Wez7Fv/7UkrUnaS0sh0Rl6ZL3c8XLgSH8M3AnMCiHOA/8cuFMIcfPwrJ4GfmoYIJ4UQvwn4CnAAP/oO3XUgSAzprcHzeFVjO1K0mE44xDChYAm5LDLpjCuYFDXCIISdO0qnLIIrRAy8IGFkoCgFhpBkO5aH9R4K/BoBCMLU/+C7G97ljY8J5RliUcyPjmDVwGzJpxAeIV3IL3EbKu/hER6ZC8sUVJjAT18zHYQblB9iTYzalvVqCHGM/iNi80idxRF1JIg+lHWGJvQTBIcDlsHrGgzTelXnrq2WB9tqXIjNkH3ygexWxk1ECLDm5q+LJkYn6V/ZhmXJ/z8T9zKVx95kuWNNUQ2TpqGhaoZMBZrxpua8YZmajJldmGCielZZg5eR5NpbL+gffn36JcFt33gV9DNgzz8qV8lL3osTsQYVSGyCpBoFTQndSwonKXIcyYnJ7n77rtBKKqiJI5jDl11AGdSrj/6Klrje3CuSZJMUjuQUQMtEzrdLq2mgqpPrBwbpkfNCkf2z7L+aAM7sYf9P/79lPP7SK59K6YoWfrNX2Z17QJ784JBe0CSKuygBm85eeJpHILB8HzO7ljALF2k7kfIKcGp8+coew3ObwATFcoZsBonHCoBlY/q5+t8/9sO87W/PUVMxtU7YtLdLdb7S2SxQJNRVFv1usB4MkglqKsaKHBOgorAh22prTsIHxOrrd3IqFHjhcAaH0gRkUZL8y1QIgBv5eaaG4HPw5xXOFFibcSTx78JchLrtxKaF4+BKNitHbZMYGBIbr8Bd+UJ4lVPz15hbGwae1kSq4Qpoei2K6akYooU28kRk3qzSx/gTWy6no4aPloGqckLFy7gcUyOjaO1Jo5jlFIkUQRDDc8kSTYx0kmSbX52pRTa1d+tc8a3/dxbJ9L7H/beL3rvI+/9bu/973rvf9R7f4P3/kbv/bu2ZZ947/9n7/0h7/3V3vvPvrx/wxPchRxOhEzLCYcRHutduBHsZo1wGDwGjxXBUdEpj1CgYoWOFV4Hb2UhAz5MSoGKgtma9R5DhhUSFUkqC0mSsbg4vwmHglFd5QXnYfP+8L9AnGakzUkMAiM8RQXGCayXWB8yAYfAeqhtUCi3DrwIlrDOC7wLAdniN49Hne6Rt5CxVfAZF2JzexLcHzWxjkiSDKF0UBonXEgqUyN1RJq0cM5gbU0aJYwsWL0f1ntsKHU4Y7GVp6o967lBpBIVGfbP1rzvtYeIauhc6fGGmyd4x507kVUf5R1K1UwowbiPaIqcRFZE0tFsNmk2m1TjMWJiD82Fg3hRIJIYZt8E2Rz7jhyhrg29jVU6g24oJVCSZiEz0FlCMjZFrGLGGmPs3bOfXbt2cc0117B7507e/tZ34L0ha7bwpkbGY3iaRDJhx86DXF7uMDVzgKW1i2hfE0UTtOKYwnhmF2/i1W/5MWauy/AHZrDzV9Ft7CWevZbkff8Ak2WkStNIxvDCUvQKTJFz5dw5IuXB14xlKXt37mLHvpR9V+9mdmaSg1ftJGk1eOjxAZe7Gp0KJKEZU1UVXsDJJ0+zfqXLNQf2smt8HrkRM7iyQffKeRZmWygZSjNCKVS8BakRInxPHstVV1/P9dfdwpGrrgcfI2RMq9UAEUgRQqvAsFES5zxxnCJ1RCUgN5KBU+ReULhwC8dQGkVRS0qjXnDcr8BryZNPX2Zyao7VlQ5D65/NJGP7lr+xXPALVx0mecVOVsoeG4cN5to53IRgYmcDN6VJU3B2g0T3GORdElUxP56AAW++vY3F6GIyCpLBSgP6Rc7KygrNZpORVqc3CkWC9DGuligSLq70KGsfMlhnRwit72p8TzCHQCC1eMHvMMJ+De8ZBi6Zxpt/M87hXdiyR3EGRmKFwjpBZSVSZ+h4QGHCVtz6gKHslhll3mYqI3Q2+xUX8nNDuAabuxM32qaPJu026JiIYiZ27GR8ZhHjO2AgMhKXBPks6SUOv9nU8i4Izo6CqZYx1iscHjn0a7EC1FBktq5rUCEQDno9mkqACwpIVVWhpUIOgfWdGqp+zY6JFnlRMZASmWryjYKBLRmTjjiOyCsxFDQYfcjwgbx3CNtkItWcWR1w8ZJgesExr6FqrHMkybn2wxFPPXaeSV0QrTv2LyScW9sANc7BBU/qz8GaoO4oKrHI8tkpOis99jno2ufRG+fZWIuYmIs5/gd3cf0P/QrPP/hpotY1rIsVprMUfExtLxI3JFYYRDTJ+MQ+tFdMT84wqwXGGxRw8/U3EEU5b33bm3j3Bz5MXjt04YibPYxt0Vw4isqn+P3f/2MurW4Qz0ecWTrL9K4WC605vvFbP87BvftJM82Ze57gofv+V9bHJ/ihf/1vmToyx65X3gzdVcraIKKahoS19RVk3efnP/R2io1z9KvgG+/GBhTVGhdO57Sa02jRptLw1/e1+YdvjnH9EqJpllZyZiYmufeZdaQquP/kF9k9N4sYbJBWCTIRRFnMoBhQljnVIOf8pdNkWULcSIaSeJJICqYnZ9BRxGAwCEGiLulYRdZsEKng+GiMwlVDIWAk/cpQ9aBb10SRJ9ombDFafcaOKMBb61EIgS00szMxn7r7WRbmBIO2wIkGUDJSRdr++D/9wK3Y6yLKyxeJDkf4f/V1VDqLntS0GzGp8bx2zfNAa4xO1GMu2kEjkpy1bUQygc/zAGUKix0Qm37q3nuSJNQuq6raFG1WSpEkwQRwamKSLEnBlURaYE0VUAJJQqcGqzNcvYp2dfA2ixPg5W/Xvzu4/P+PwyK23UIGFoCtEiGCjzZSDkUuQqARDK+qWmJsTiEqpPIoBZ2yh5YCr1KEl4Gr4SyqrogbmhLJcp2E2o8pqcxIwSWMkJmF2qSXIWh67/E23PK6oqwLvDdIgoOfTETAoY4YOTZQI4WToD3OKnIHynjqRooxQw+hzT2Tw2LxOmbooYs1ULOK9PGwDu8CZEsLokSTNhJi1UBauLxeUYngXFmVkqg5RoKjMI7aasoqJ889XjgcFmQAQXvhMK6mBrCepa6kAawqz7iaYrVoIXyXhfmIpbMOm6bMxhGlVxSVRfYNzkoGPiWqDGZ5nSePX+LMmfM8deIix+5/mCefOkddt6k2LJ3z57jSPo9vLgISt14ihWOAJRISkp1MLbZwpWHH7kXqKsCRvAKVSJJmxG23XsuFpx7n0pMP8ru//jHSxGBVTW402hWI1j7GF25kZmE/5YpGUjMxn+BdTauR8tAJxanBIg/c/xDT6TpvuP1NvP/dP8D0ifv5/Q++nSe++GWwJQOX06v2oibGaE6nLM5FLEyCdBWtpMCLVSanxji0+yoWJyao61WO3rqDvAAXQzK5E9FsUKqAVdbSs1oYrvQEp87DxQ2DHG8Q71EkszEKDS6YqnknSGK96dIZjLME3kiEAucNcrgt11FCFAtsXlLXEd6EBoqwHrREC0uBpErg+hv2MznZohyuu6BzKQJjTQ8TBBV441maohVYGVw6V3qesyuCykdIUWEQICK89GgZIIM+B/NfXYvMJiknCiaOjtO4YwFVlaycaGPrBHGhz42Hb0QlOa1qmh3NDmVe0C8tTnbJY0HkBdoP/YbE0DMMTYRG+CEOVAa9hEjHeMdwh+dJW028ksTpWLAYRyCiGK+SoQeZw9hiCJkiAO6/i/E9knHykrmy36zGvfAK+C3PGTIhpJCbW2rjLHb458rUZFlGkiRDnJdBqEBMSJVkbscYz1/c2hpszzq/5X/aVrc0mx3usDUXCOzwqaFm4hFeBnsB7xlVTgN7QeGUGoq7Or139/EAACAASURBVJwXSILSjDUC4UAqiUXgh+ZVEG/WOUe1HgCrE7wOFM1+XVHLjNhD3usSEaO0xnkYExLnt6EERik1EiUEcRwhGHD6QsXgiIBakJc5dVlSdiQTE33GmhkiTRgXnicuGp7vDzi25LhtX8SzlxULk1Okaz2ePr/M9I6I9PwF+u0NMtHj7fsnaa+s0WhO8sDHfoS3/ZN/z5qwzC3+Y/TSp/Aby3TLdcaz3ew5dAuJHmdsagrRlEgtEYVBlYoojbn7M5/nQi8liRJ+6oPv4p/+dx/hV3/rrxBa4b2mOTGFIuOWV7yST3voDgaIuiZuTLHROcsrP/ROHl8ZcFX7au7994+Q7L2V6ed2Il83w48efQf3nvobymsW2NmY40LvJCZqErk233jk4UDddBVaelzRw+UFZy71GZ9d4MjOo1xcvkBzR0b7Uo4yHjcUqHBW8OSZmroEqT3veM9bWV++wulnj7N/vIV2Dk+FjiJqK6iEIXrBfN86XF1Z32aT6zb53IpQx3OAjhvMLrRQY5Zep0+eFyipOPHM82QNzVTmSKOYJI43oTpECWVZUlWGOq9JY4tTjiQL6I18BdbLmGjcM5bFFMWALJEIqbDOY4wk79dU4hKNi5eoLwnUv/p+ivMnUG/cycQfrLD6zceQ44qbbjvI1G88R3tinWg8I5YC0yuprGM8zoZN2fCx1aYqnRsK3agXrEUhVODj+7Ae4zhFCEFRlVhrhlbCijRVqGETKzBQQv7wX+ZWXXy7wLh16IeRTG7SrsK9DCell2pTA1BIjzFgh0VxL0LzaXSsk5jCOLyvmJgYRw2KoCbkt7YcL1k43yaFJQBbm+F2YlSnFCgY1ipFYDExxCcFt2gcEofADyO3dX5YtwxXSykkzoFwEi99YBF5g3M1DFlDI/VrM+ywK+lpJoqGTEiUDzqTtSeSEuFivDN4bwN32PshXjQ02MKxD/Af4fFOstFz9G2ELCxSF0SxQGmwVYaQhkG3R2ssYWFScex0zWlbc8OuhEbikMoSUVEUBUsbFS1nKfsSr0NTJ9Kapctt0NOsnznByWNPMv9TC/TnPsDShY+zkxSsZGJ8L95E2Eph6tAkcghKW9BIU4ztsmNulpmxMWTd4K4734WQEmNylB7HOYVSMXv2H0IoTVkZEiXBglYZ33higjODWRrCYhZnWH/tL/HksZz/vv8oiHEOv/rddPvHqMqaPM8xSpJlOsBysGgtqYqcqYlJJhpN1pcNkHL66fM0WhHryz2yWBHLCKliGELvz6x02LVrgX0HdvHpuz9HrIMI8J7dGukNUaQwMJwn375jcerUs5tKQSEpyCirXkgiUDgHaZqxtJFz69Gr+MIXHw61Q2WJFZR9Q5FqOoMKegXOhf1WlXdJEqhryBLF6lJJlgnGJhylragxWC+wKqNfFcN6edDLrCuDjhLyssb97SqyuYP7znyFH7j/KGm1gYk2iPf0aD5q6c9GdNQal/Mu6TRUVYG0KVpGWFeH4C+iFyQwIzhgGJItWOILsXxCiE233NGa7XS6JElCmmZD0eJAO1Z+uPH6tmf6pcf3RuDkpQPVS0tRbT9JITUMSj0CKcGbgImsnB2+ZuguehEysmAzKje1EMFtOit6E6TTRoiMTSjEtxEZMKYadtuHSkUjcJHwWC/Q22FTLjCYvDeh7OAVXkTDgAsiyF2HBeNcyKA3+b82BD9sKFsIN2xPgVSQaU8UgYolDW2QLlgZB3ZwjLUOqBEywg956ngxVMsZNoqMxQ9ZHN0aNgrNmBvQjCaCfbHrIYcYQiESbOHYNRsTP2tZH0B7INnZgrIcIDzMjE9yPhcYYbADR2siIU0jTLfgyW+e4q4Pv5tvfPlu4rUpVs6eZHrv61nY8040wY9hZmaGzsoATMXayhWW1tbpFQWt8RbT87dw4exFolafs8f7fPA97+Kut70d5z1aBwibVoGVNbewyI033cLa+vOMx4ZGNoNUsLGsmZ6/itf80s/y15/8XYrVk/gy4Ssn/4Yf/5d/yUy9zpnf+QAbpqJMFU2hSYyjFA5XeYo6p5WmxFGDxZmdnD29RH9jhUbkmRtvMpmusbIWhP+tVxibY4lZz3OUSvnb+75OlGqc9zjvWFrrs2t2PNCOjWWTFvd3jCwLtM26Dla6Wmu88eSDAcKF+52tefSJ48TNBrMz86xttFncvYj3jqru4W2NlhIdx8RRSks3aSQpeZ5z8sRxdh/ayeXLl1lb6nHH7bfwjcceAiqEr8hSGGgYWfpWBmpf8p73fR//7Se+wPt+6R9x48d+mT/55Z/jlcVz7Di0i1VWOXesz3WvmcWuF1ypJHuFozAWYyu80ljJJk3SDU3a/s7h5WbyNVqrUTRcWz6I4eSDklglCCdRUoaXdCOUzHc81d8yvicCpxcCr18i5r9kvNpetN56jvARSkpsXQVqoTMYKTHOIrUOtVE8Ok4QKgvAVyHobbQRxAgvN9/ObXsXzwu/t9EXo/CYqtoE/lonhlmjRA875gaQbnhVdISMToAXKsCfZDRCIGH9CBIElRHBK0YFBo6zNdbkSMZDgPcj9lBYXONphu9aYhypCJlwZQUqjjh1oU2UaMbHI+rKkkVbikhu+D+BQLgET4C/mERy/LTg6klBb9BmfDxF0KAsLEmWYb2g3x8wnkleNQuPLsHDZ+Cu3X2wgqg5yTWzcxx/9CLtdpvIKfbPLdDpBnHgmdmIp5YKFqsWx/U6u/7s37LjF95GMvsahD1Np+yRTWfU7YqBa/Ole05x+2tvZrD8LL7O+cJnvsJr3/AWpmcX2fPqPTC5D5s0UWoSbAIyR4gIY0q8FcStCdbP50xPLWBciRCC5uBudvJ1ls/DK19/Gw31OOXhMeYWbqX9/F+AL5l8xauJpq8Q33MekXk2bEmqmmipWdy1h8NXHeGOO+8kmjhMMvUprjx3gqrocvb807zhhnnGU82V9nkGpUSlkieeK7i0YonjNioVWAzGQqQTnjzVw1jJVYsx3geXTDmcLy81lAaERYqg81kUfYRWZDJFSkEzA1UXNKVnraNpSElv5QqJFqydP4sxhoZXOFOR25qy9nihGThLFGm8DRC44ydPgYX33L6bnTsFZx8XDIxE1AGTLKUhy1KKukAngPDc9+C9lFfD//ZHH+eJ/+XjvP0D76T6vo+wWlfcefOt3PQ7d9A+9gAfedWbWdwPlYOuUhRVTUcrSgVYRy08XoIZFu1GKktbY1Sa28Y29IFAk2VNjHHD3VlMXXuUiui220RShEawM4ghh1/+Hdn9S43vicD5cscWO2E0XhzWth43AqqPGjXWBxl/KSXNZouNoiKLNVGiNyE628fLkedzLoiRvPixo0bSC7OG0bYidDjDXVtXSO/FJsh+a0sicCJoGoohTGl0dVdDILBSCsuoVhpqPbVxQMhwB7WlmWV0ij6amHRzor2wEaaFRggTTqe0dHqexq5xKtvGUdNZF0hVEqUpdtico/Lsn415YqXgynqBOAjCeDrFgPm0Ih9cpBZjTKZTtNtt3GxYAq1WxsUH7+Gm97+P2nTYObWXKj9FmsxhxAxxA4SpUJFkcno355YfYv3yeT75O59gcWaGv/ibe3jjO+6ktClzO3bxxQeeoKoHYArmZue5cmWZY08/ywc+8F5uue0m/tlHP8pPv/N2ipm9NCcNzmTsGmtx1237kfUyg3iCuf17yKUjGmSYY19C6pzaz2KWu1QyxtqayVaDdrvi8P7dtMZmecvb3sEDDz/Ej/7iRzh78TTHH32Efft3cXHlLIk3LExJltqC2MfU1rC8akg0VL5G+QisC408VyJ0woVLHY7unsdZhTHBaoNoiwSyfQQ2lcS4AimCVJtHMBgMiKIEVwOipuhanr5kiLUH4bAWGllCWQZt1/m5MQ4cvJqz5y6ytNym7HtuvGEfnY01TFVi6po4TUknIy6tLtGzmsJp8Dk6k/gyMHeM81gHcSKo65LxwiIkXH2kwZmv3s3yfXdjNHy1DTf/3M8zNa1487tu5JEHHgn+SB4G3uFEhJNhbXm2cqcXM+u2Ju+25Glb6hjcEcJa0lpjqpqiKLB1uQ1VsvU88d3Fze+NwCnghWZJwyDg1As7XX5ITRydrABRCttOIUNA8RJSqajjmKo06EhRmjo8Toa0v1cF6pbwltpIWkmMwaB9OB1BIHjrai83aZNbwHgvFf1+SWUrrFMIoZHaBQCxE0MPIL+ZUSILBmRIPIUtUa5EJmPInhx+hIBLxXtiqahwyNrgY8V4NkmnXzE5RWiS2CBgMIJhJGmLUkmcqDF1RBJphA3e88ZBHOdUPZCNinZtaYoYYyweSV1b0iQi910y36ByklYtOLlac3tZUbkEpSFLCmIlKSqLUiWWMXzeZarZYmUAKrYMvEX6iEQ3aZ97mtdfcxOff+Q4Tls22jkPXdrPsyef5g37pmj2u6z3BddNCsr8BAx+k6RYRk+9b9hkk+w+nAEOOXEjZ77yOV53zW50q4XTMV/6kz/kuefP0OuXFE6SNhIGg4pEZ1jrWV1b4o5r93CqGqB9Th2Djiy9vseJmtpdIRt/NWXeIKXL+vMnWLm8wd2f/yJX1ldRRcXePXt455tfR6LbSJGQ5wnXXreP6264jTSepFN2ePO730v34rNcfeAA8Q/+MGVZc/XRG3j8C3+IqQcsb3hasQEfsV730HGKpgJnETLU66VXSFky8AJjNcr3QUlUHQfXxs2AYF8QHDaVrYZWk96K8DplDkJQCcHhm67myfwsppeTZVBVUahLOsfUdEp7tct64zRRnbN/LqGuNZ2V5xhrxdTS4xPJ8kqXzz0Ag34nYKK1wlcgyuDdUwuP1xphDQaP1558qAwvXYlrafpCkMaCQVrz0J/8BsZOEvc2SMcSlPWUXjKVOvpK4ipFND++ibseJR2OoVCHUgF94wKCRkVy2IQVCB3hymJYvgi1TuccjVZgFp05dw4ZaZyASEZIp6lxqOZ3t1//ngicHgK9EIb1ii2Gzks9VgypiIGGBZsNG+FxcojFFA7r6sA22Fb/8N7jpNoEi4ca09b29aXGZvN59P7b/matBaFetGV40f/sPYJQhxnVPDdB8MPnvJC9boYY1sDXDq/tcMaGWuk2ELxzDvki2oPfOiVDpkSDsjtAiGjoeim28dXFZoau5KhJ5RlUJdY6qjwIvTaUxkc1/dwxuyPFVxahY7xTKCIi6VHROMoVDIo+Y1nNeFJSawsNSSkk6ULK6YdWuGPffsqpjG88fB/dgxHXX3sUc2Kdy+mnWJx6H6CD3N5Qt7TqrnHPZz+Lal/BJZJ+b4Ppaw9x6rlnsdaTpmNBUcfLYUfZozQ8ee+foteu45qjNzExu5PKGIxwKCDvl5x97gpX1rucP3+Wxx5+iAjNcrfASEmSNLiy0ua++x4IsKAkwllHHDfIS086njI+tYMqr1jPl7j//vs59/xzCO/orp5jNlN0ezVeaIyP6RcEpfTQXfqWIQgT1TsFKISUOAx8m3m5OV+93GycOu+CIZ1kUwzGGk+1kWM86FhS/z/UvXmUZNld3/m5y9tiycilMqtr6a7q6q7etLQktBiQjECDbA3SSB5jxgwDh/EABttgGGwQx5wRRxgwPp7BCB+wGAMWZjQjZhjbSIzBshYWo4VWq1uN1Iu6urpry8zKNda33G3+uC8ys6qrhcTxH807J09mRkZERsS773d/y3dpwPUMPs1ZXhSkx1bwTUWeZngnwFmKLKfXyRiZEh88qWp1Hjzcee4c165do0hzrHc3vrzQEjgkB73+gGyhg4HGuUhUqVKujPc5KUCHBGMqesuBV922yuOfvYZv7X+D0Hgg+Pk6hWihoeIVc2QuoIjwJKREWXWD5uycRTUXQxeViZ+fknGm8bwWwJ99vCgC51FqZSSJy/kfbnFfDu530JcU836nR3gP+Ljj2gjnmOPADhZby+/1IVLQvhy6lTsssFtQbvzN2pjVHiqqAzeU2+3LFVFxe/4Gwhz/dgs6pwhxzBQVjgOizSjmU8J5GSKlPNgkaF/TwTRWCIyzBBdIlEYIhbMhQjZaJIJFtMOh2P+Nw8aAU1CaKAKihEKFtN1kDInsUE0alJRMyia+99oQUhhPPQs0WAveQAgjAimm9KAThHcsDlaZ1CULOufZxy5zUWe8/KUv47O/90m+4fvfCOEahGWQHh96aOHZu/wwfrbFIE0ZG1goulxe/yJJkiClx5hDokRjaoIyJEKzkMB0/ykuP+mgUpg0WvSGoNjcqfjpf/5rXNgEIQyvf8UiS4WkdIHhzDKqZ5xY6DHaGZOELklQGFfx+c8+jvc9dq9t4XcvcfvJ2/nClSGf+MR/ZqE3oF+k2MkedbZH01R4cnaHDdMy4o7jYC7csHHFE68RQQEC66F2c5nBcOP95mswzK+T0AbOiBaxVezxBwFCara2drAJGN9hVgWUr2ASaELFXa85xxN/+hxZmpIqTV1ZtI6C2qlWuKoBBVmS4IJFpZLPP3GB1dUB1kxbWThwLRQw7ghRGvGoMM4cstdYwaCfMtqq+fHv/9uo9af59Q99HCc9HaW47+wKX91ILk03EWaKF4N5QXlkJtyu39BCvNpAKiAGTaWwUmBsm3y0UnN7e0MSJdnY2ET0FuJ1pJIje9hfQLM2BDfK7x2Uty/0gHmpfuR3KUBKAh6Lx6vAzJQUSX6w6FzwSARGKeoQ1WGMDS0jaH6Gnn8cpVseZUiEAFXV0Evyg96jPIIvu6FUFwnBBwgWH1KETHAyxbXoTRXiFFwGT6oMNkSEgAgKKeMwQIXIOwrBo5RGqKhf6ucaky1Sy7cXDVLT7+cYWxFoMD5Q6LSdWM7VZKOSvECgZYTrmDRQhtaXSCgqZ9i6bjl77jjCjmlMgkoqlAC85Y0vXeKjT0145OmKv3xvQSZLhjOF7o6Z7I7JA3S7M2aXJbcNOuz0Ky7tCd74nd+BufgYD33maV7zIx/i+s4zVNcf4vZzX4VKDPhFnNb8zu9/gQ989CnWFhSnTyzRHaxSbl3n/vvv5/d+74/QHUnVlGRZRghgnOLOU8f44Ec/yTRAUv4+Lz3bofQrdKTGNgmVSLmwZ5n2AplQbGzWnDx/B7PZk1ijkLrD/ad73LU24P99/En8QodOJvGzHcY765x76YNIM6WrKo55WNU9pCtIa0EmF9i42uCyjKevjOmkHaxtL3RTt9Yo84ASF4hGIXVCWdcIV1E6R0enB5v6UWGWw6O1iGifxxuHbKsTrWP23QQPDfzjd30bv/Gv388dZyVve/M/4PrOJR576BP0ihWapqFsJjSVYGk1ZbTbcNttfUCRJJLhvqHTlrIKCMGQZQk0Fo872HjnXckQ2mSkxS7PxWQStcxwvIvWGe9/z3vpKTg2yNlKLHcsrXD8Fed5cPz7yJf2+ULpmd2UbYcQELLNZFvwpRQC8EiVED3qIxSwrk3LaQ/kWcqFC8/QLQpCiGSVEAI6yWiI4s5afGWB80XCHGoj0lzEcf7zLY7QfnDzLPLgGVqXyPlt4gikIT5GHPYtZcTKuZYdFEv1F2YOHP0/N3PYD5Ta5/jIWz3+SMZwEFSFJLSyXnMc6PyQSqA4LKOlEi1xSh4AnOfPNwdB37Bjtjz54KHbKxDB0OmkpKk6KO+PZrhz7m/g8HYS0EmOlx5HjRWa9c1o+FE3lmnjSaQkTQS3H5OUU88T65adUpAmOYkuyFTF937vD/Dff9v38MA99/G6M6t88xtewp/8wQZfvLTD+9/764xmU7yrefoj/w556SKLAwniCpIhttlBYvn6V57jn77r7/F93/s/IbOEWeO4dHmHu+66i9W1AcPRCKVtK/7sSUJgkC/xtrd/O+OxZ+QlUy8Y7Q+ZNhUkDi1rFlTgxELOkpYMkoQrzz7Jffef4VWve4Dh3ozjx/poFaiCZmtoeG59ElWXpjCbeaTK2BuOWFseIJVv1RYc06pkZ+y5eGmfzW2LSgtIFBIPL6BeNnddrOsaHyKSM4K9w5/xxcHP/siEU4hYulZVw8k+PPLxD/Fj3/99vOvHfpKf+1//BVeeu87pU0u4MCVIi0oykqSHVinGxraTFJE91DRxw05kFOMWwVM31Q0Xw9FWVSBmoZHoJNovqM0+WmumYcY3vvIsiYdyWlF4jVcNtt9ncOIUWkcm28F7ORoKDgLckfUuxcG1TiupZ4w5wDvH6wXuuOOOA63OWKqrqBfRZrRfyfGiyTjlnDcrDnub4Ybg2Z6UuUdzABGOBBwfPUpEKrFAMhGMaVhLOmghCDLaDFjb0Ol2qCLUEecgKI0M5nChthzZeQl0dDOa4y5DaJASTOMJLqqWS5EigwUh8DZO8WMLQVAZhw4C5zOk8tFbJVuK1NLGotKE2imubU84c1yRBhNZQ43HCoMb7cPC8YOgKaVESRhNxwQrcALSBAQG6wW1XOTatWscWx2Qqj6djsNUM7QWRLZ37K660ICGWjfYzOIbsD3oh5RJ6dB4mhpIUz7z2BZv+wZBmmbUQbHXELPJTuCdb7ubP/zCBSZNpN4pV+FLzT2Tj3PmjrupXrXG+vpljmUZ3/ZN93N54yquEZw6dZrr+1f54kc/ydbSOV716hl+sU+2tEi69BSz9RnLZhN9e8akkvzEj/4ge7sTiuVVqtEWy+LNfPqx6/ynT19EjS8zzhPuvPtVvOsX3sVv/sov8WM/8N/xwQ9+kEYn5MGyP61Befo68NI1uPt8j3tfcScv+YavpVi+i87ZVzKtS74fx//9Q3+V/PjdjCcCkS8i7BbTiUJpy2t+8AHOPvASFgsB6w2v+abXYqZX2buyyeUnnuWn/+Xn8cki3WKfUWO4urGLkgKVtUQLKSOdt4WVBSVJlGF30mGlJyiSiEVWrQX0zeX6YRV0eJuxMxQpPlh0kuN8DaKLb2r2tqb85Lv/Gfc/eD+9bsKjn3mIwUpCp9vnyvoG/c4SQe6T6cVocCYXsc0+ufaoXLYIAAjkTOqKLEuxrokZsI96C4loqdMikjYykdEQy3ntctBjKt1jcRBYaCqOd8ANUmbG0V9epHvXvayOEsLndulOR9gQ31+QEVniAe3j78yDnYwTcZ3I2DYjomTqZorSHaw3aOl53de8jqeffpp777+PJ7/4LKlyiKyP0z2s2EXWL9B8foHjxRE4uTFIzpvdNyNTo1nT/Od2mi7m/jnPP+bqQvPHRoaRiPJvNy3CmyEKN//fFxoe+ZtxTO3zBW7Vl3r+/5BSInTAekdjDE0drUuzQqHQUQjEeKbTKYtS0ul0KJs67qZJ9Jf2SlE5H39uImUvuBpnAplWhNZbp8jzFxRsDRVARjMT2DzQEQmzsaRfBI6vLXB2eZX778+oNz+NsSoygaYNQTte8aq70ekSz23usr2+xeLxOBCYlpZnr+5CssvG+g6b65ewrqKTd9nZMayuLnF87QQ6SXj4I3+M4wpmcgcraysU/UUuXd7BVSUqL0g6OXvjMZee/XecvfMu3vTWt+CXl3jjN30jd796nR/4iQd5/3t+BbF2J83GE/zMd/9NqvGQv/UzP8kHP/ABBgPRDioCPoX9quQ1b/nLvPZtb+DkHcfRCydpZj0wPbpJgauu8Ne/9x/xu7/2frzT1GKIkqCkoTGbnJw+xOyzj+OWOvQ6OWbDMFy/xmRrxp8+9hSlcKSqodvLsNbiPaRJynRaI3V0NTiqZ+19VAQzzuPatSuEiO2dI2vw1qSQdp0eKSCPrte5rFoIHFhLyERhjSfPo6/W/v4+3Qw6nZwHH7wXpROMMSQ+tn3SVFOWdVutRIC58A5rbh1spFIY59BJxKp60yBFhh3PqC08cmEIqkCaAq8mZJ2CJEkoel2KLCfT5U1txy+dEjob2tlFhB85Gzek+LlFMZzJZEK3228NNNvesWwtRfRXlnK+eALnDWX3POOEo1D0OKO7seSN9z8MfGLekJaBxjVxkbTPKbRC2kgrDELhvT343zf3L18oWN58+3xgM7/dEaJvDC8cQONxuMjn+oIq0WQ5iCSPLIp2ihiCI0vUQVkd7U0TEp0xWNBM8w7DlvoWLVE9eSI5f+cqlatxxpIVKZPRhCyds5/n21Nb8pPQ1IYH7jzNteYyS0XGS1/5MhRDhMzYN9tYs0VVQ6fwVM6w0OuSa8XvfujT6LTL6TPH+eqX3UuRa5559iJLK6vs1ZKLl3fwxtPpL7O9tc7+cJ/tDc/+Xslvuw8BOSduu52V40t0spTJfsXVqxf5zBMXKadjVjrHKE1J2s14/V96NeVswoc/+AHy/ATPPfGnbG89S2flNu5evo9f/cVfQfamvOzEMVbXTnB18zpn7jjJ1tVNyDpgK+pCoIuEt3/Pd5GsnANVY6a7CD+l3n+UWbVDiqS4+37e+iM/xD943w9R2D65SNgXNdPhiL3PfIwT97wMmS6SpCso5/Blg53OSETBqCpYSyqOr67w5DPrJFJQVZY8SXGyQSlF3QpLeO/jsFJ4jLMRgxwOURg3XCdHA6I4vC3c4j7zdXlz4IwY0KQVy4mSd71+FzOboGTbssGRZBprG6xRRxwiBd1u+/stkobD1yBa9XWJUAKhCow2iGCpFDw5tnSDY1k7TOYoBn3wjl6vQ7fI0CocEb+Jfci4aucR4FAk/PB71OeVWlObSE5xNpBkiiwtSHRGp9OJ9i4iheDbBEy+INHghY4XR+AUEI5E/IN5imhxmhwRV/VzQNBchDeSzIME6QNagAketGJaV7AgDlSApFaI4AlBQ5Jga3dgDCfboaBogeeHwXD+Wm6cfMfvUFXVTScvKjyJCJzACYFs/dHn94nBMAZti8CFBh8SgsxYWs0pPTGaW4uUkX4nREDI1nleRXfCuaWG0jlCRXFlrEUKBX4cG+jBo7TEmIY0T49ACOQNya9VnlyXLGcjThxTTLeG/NYffIrhXkW/3wdZ4qqE7/72N/DYxz5N0AH8DKEkRQ+mdc2Fa1s8uzVh6PaGCwAAIABJREFUb3/Cxv6M3mAbLR1NWbO6tMRSX5INFjl19+3c85IGU09YWVqgnFkubw65fGUXV3hWOl2kTLGVIi9WsColCEVlHA9/5nE6ecHKbcf41CP/iTz0SMQau+sTVr9qhW01JTEZD28MEZVh4ff+kO//hz/Cf/zoh/mdD36MbhItoSc7I0I+wNUlMnEk/YI4sV0k4TTIGomlTrp87qlf4e9857v49GeewyYwqhXrsy5ZuUvfBPKqT6pgGPYxYYtRmNHxI6bTLteurGOcQKUpqbSAJVUpdd2Q5ynWWpyL1thOwHDSsDxQSGuQMhzQhOdrbs5wkfLw/B2cUSmjIleYkyVaP6lW+XzeDq+qiuWlPqPxlBPnetQlnDrV59p0QllOubJ+jbN3nsV7z6nTp7j4yGVk0iVFUpYz8m4fN6rp5TmmqeYYwYPxd/COqbIkUqGahixJWDl9G/sbX8SmCbZKmSiJG82QnQIRhqydPsn2xct00g4ry330lWsH14uHNotq8ZxzxmALqQkiBmfVvkGBYDqdYppliqLAmmiN8fKXv5yyLEErlCzA7ZHLhmD8DaLjX87xIhkOQTQOCzd9tY55N8j5H07pRDtRQx7e5yC7kxGOI1rsnJsXQDKAaElWIQJsD4Jke+6Pft3cLrj5OFr6HmA026+5ULGfU8OOnPz23RDQ1C0EZmt3ynDSsLM/ZdY40JrQ2r9KKZlOJ2itoyDJkQFPrJYk8ghWDcDWcdeNVhxRpm4OFblxuABCKJpasb/rubzhGNk+o12DVgWzumYytJRjg5OOs3efp6pByISydqBStvYt+6WnCpLBiRPkgz4zK0nSjDN33sXysWPkvT4WwR9/8jM8+sSjXNna4plnL7O+dRXjDUlakCBxLjAZz/Ba0jiPEyCUROcFlYHJtGFSeoqmoOM7COspVMrFJ54FA9rUWGdQCfz+px7h0s6Y4/e+JOqhOrBNQHtNIhNYWCAUSzRhCRv6eOlAGGTLF1e6Q3psjV9+38/wptfez6KU5L2EvemMyeYOsopme2U5pgmSyir+ytu+nUIWWKsoqzhkE1K35atvz5E+qFbi5x/XWWMczgecC1GI98jg52hFcbDmbliN8sjGP9/c1RH42uEQSilFXbvWhgKm03G0e9FpFPw4aB2Yg9dWmYY0jT1EhKBqmoN1f/PRDQLtHFQQGsi6y/Qmns4M+sOS197e52vuW2a5OyPVgl6vx3RnF2sbep2cLD0cNM2vG/claZEtHlnEbFdKHRXSfEQADBb7bF5fZzjcw/ka4R0yVLEfj0DfivL9JY4XR8ZJVD26uaRVN+CS5s3wI30cOR+yRUiRwMdsKz6YytToLCWYKCtlw9yrXCFUlIKTxPJaCPElTws8v0wXQhyoTwMHC4oQcCIqr4RbPetBVIbagw2SvUlgOnWcPL3CAw/eyeUvPkrVGLJEMZ1NOHn3MSZK4ZwlzQt0UkQKmXMsLx/juUcdvTy0F4TBS0FaFHHhAyE4tFA3DXXnn7dEGos2Dd/x115O6UaEZpHbjvfIeilb+9fpphrlMrY+v8vWrsOGDtNKk+cFZ++5h+U7Mj756YdYXEypRkOSpmKQ9piVjo31HVRwLC+m9AYrVGFCtVsyWFxlf7aHCAYnGwJjtM4YNhXojFE5pchShANjGzQO5z1WCbLco3oFo7okZJY7Tp2D6YwzKz2emRpWmgjjmokZ7/uVX+VNX/cGkiRhOh4hUo2qLKPg6NcVdV2jC4lKBKUBrToIvUDCpVgimilyqcdP/ft38fM//FM89NELfHHTIJuMhWOBJBF0kxQ5Deimx/Y4YVaUpCLHbUNVVgSZ8Te++dt561vfynf9rW9mNHIUPagq0DrCypCeqrbYkGCsgxCf+yhh4SjDbt4yj5AkbmwRhXCw9qy1LCws4D3MZjOaljnnnSBNNQvdnDSNDqpZ2iFVEq2jLbV1zcF1AxHPbL1DWksib+7hH1aDUsVh3NtfcopkWtL325z91q/jjvN38cl//2H2hxM2JpZOdxFmE7IkZfvaBlm/S55pik5GmFYH14kXgJd4IVsLDQ5ykBACVV1RyLnLg2fQG7R24ILgYlL2wAP3oRA8fvEiWgWUL9HCYKznhZsOtz5eJIEzIFXLBoA4dW5LUfCkWuGDxTSOLMtwLu7IUuWIVGK8o6gstQ5gGjIpqG1FN4AMFRLbBlwZmRHK4dQSTRiSEDnDHtuKFkiUACE0TW0IwSNb5835YozfE2QimFQTjI/Sct5VpGm0350bvDkf+65SCUyE60Z9TQnkCd41dFQfL65z/FhKIa+zdcGSiMBe5TieDLBmxqiaknf7NE309XZhgrOWNO0wkylLvR46CIL01BKyFo41d9kUaIwHFQ4Bs4ebgMMkBqEVf/zwBU6eOMWdd5/gwjOXaazh8aeeZNDP6PZyzpw+zoMPrtLv340jUBnPH37qM1y5ukMqM2SoEDJA0WMmAv0sYVZbrFIYa2lmU3ZnJWdWUybTPfIkUNXRZEtphaktaa6QWpJKQTfLUUkgbXvYRgacEGxv73Lu3vv5wkOfxWmNyDJKqzm51uXJP92k7ubITKED7E5G/OGfPIyfTBFBYo3ANw49bZALKUUaHTvBkYsSbIVMJYEuihonArghuXW88x+9k386ew9h6xIbzYxre3DifE1tU0YUXKxrvvA7v8V9Zx/g8vVdVleWeHZvgkwr/u73/HXe/VP/DGs9vV6sDvI8rrlcSara0lRQVg2BBKU93muCt2SZjlVY20Yy1h2pyKJohZSa0HhwOSKdgE/JsaTdwO50TFMBVUKRLCCSEo9lfe8aqggYOyMosKpGSE8zqeh3BM5YuqqgMhOSpIhiM04hhSdVHcpQYYLDtkMtGSCRMBs2ZP0Bv/b76wQgyfZYeXQDpR7DTRtGwzGrS/Fjn00Vjz+6jpQJZ2yC9w1ZkoKZItIMawLK+TYmRwiREA5J5OhbQGUpjna9C8n2/ojt/RFnTqzS7eRo2brAuobuYoe822C3a2hApKKlt/wFm6oLISK0gTnO0EWxYaFQStDYOppQyQ4+zA4U4L1rIi/cG0zSpWlKklRR1SUi71LZtjwXrTe78ATlMbgWjwZCRpEOKwJKRYxXZB0YhIoSVHO+sAytHigQrCOoOMeMmpgKJZPnvbcgbsSheTiwAQFIBEz291he6KMdJNQYa3CuJhFxGjlYXKAxM5aKgk63i1DRU2jeuzoUN/a3LJtudRy9XwgBbwSZEkgl+W//2n+DTALra2vsDfcZrB3jYx/5zxSzGinjBHYuCt3YWFqu3bZCEJI0lTQ+0DQ2njsR4V/GGLRW1KYhhEDjosJ3IROyrO1dtSwnBSQiwTqFF2nb50siO0VE+txo1OCyCc/uDDmxtsTm+gYZmrVeh0IWqBAItWM2hte8+fV4N+OafhrhI+bPGUdVzeh6G3uBWhFaLdeYqFnmY90IKYvsFLHo+NGf+wH+yXe+m/VZRr6p2Prj59janDEcV3SXVhnVDWnRkEnH6Po+aRaYjeHH3/m/8LsffYjFJX3wuc+JE7Wz0eI3y6iqGq0DUh1mkHVtECLQyXKUOnzs/PoJIeB8FHehJUmEIJHCU40d5WSG1hAYMZnMEK7AVxLRpAjvSJUmEWOUSKOlsUwAzXA4Rso8trY8KAHWBHTQLaxt3uo5XO8A7/rWt/D6B87wfb/4QfZCj/7OJYYyp2oqFlcSlk7exnK3z/r6Jkkyor+m+NQn/oQz9wyQUpOpPrB3uGClgJvW7JeDvbx06RLdosPpU6fQqSJPOgyUxu5P6LbeTLYxX3HT8kUROK231GaKlAnKa3AK7yXd3OGdJlU9nAo4alSmkUkg2ADeIhB0pKBWQ1KjaAwkaY/ST5C5RaYG1TJlVFbjm4qQSbKewu4GtE5pvMe5Go3FO5BKY61DEXCmwdtW4guBavGPvSQqu2tXReoZtCc3/ngDv10cmcn4Q994iEG019VUdLl2dYPbzxVsXNvhzMkuy4XClA3jskZ2ZoxGQ3qD23DekqQRpjSbzciVRGcpzpXRYkHdPG08/H5zE3x+u3OBKsB4NOPnfvGXaHxN0lmgrgxCabonV5EE9oxkZwS22qObaxKlcQGcs2Q5zEqPtZH3rJRHKEk5HqMTRWlSkiwHPMOyImhNkWic8WhaixQdaGYe03gef3qITYaonOjTniSMJjUqEWRFh5WdfbbxnM57pEmHsqrokBCE59qVGuGhUPB//sbvMJtYzp0TaKk4c+oU06ZhtL/D8ok1EILgE4QMsQeuAEpaWQmCUO3AzYFz1PWMH33fT/Hen/3f+eiHH+L+ex6EsEgdNvBTz0K+zIKtGfUs3/SaU5y+d4Vf/Jcf4fKl63SWUoQIB1NqQewnSiVJtYJGsrq6yKDosrlxNUJ5vGcyCdx91xp7e7sH3vWibQvNB0bW1+QkEZYTDASFtzXn1wQM97n7ZArU9O4q0GXF6UWDGF9nQSjczHM892xfu0ahwdX7JFQsdyWumdFNFzClZbWboE38jCtrYx8/RMD7nE7qROBnf+s/8K7fADMGG6DWkPqS4OH6drxUFvv71HVF2Uj+zo9+kKVBxtd//YzKGoo8RTD3GBKRu3+AMmh9lI706o/OIo6STYruIlIItrb3QcRN81hvQDMbUlFBY9BSUI2/suHQiyJwLuQL/OXzXx1Fdq1jNhpjjWd3tIX1jrLep6rHVM2M4WRCaK0qQqt1qWXMWPFQDCQ2QB5yJsMZ4fy9HGQOyiOUI+nkJHlKcBCEigMkC4LoH6Rk7BMmCaQC+r2MRCkSqShSiZYCrMGJFJlHi17XbvZHM8yjwdMR4s/tyZ/fpw6OQGBUVdRCYJMeFQaRpHgbdSXTTNPv96i8x/tYFiVa4YOLTAjXihjMUQFSxADaHi8URI/+LLSiMh6jMnZ3arqDAllZUAqEBpli6wYvJc6DFAm21YKMu4KkrmIH1XuQKiCkxwVBlqd4Y0Fl1F4itcIYi60bTK6RIeJrfQhYIk0uTXOshKTTw8qKJgia2tHpdambhtJZUpmhiEFoVteUNlBWJT/zy/+Ypd4JTFUizJRO1mFrY5f/4+feTb/XIdWKUgSED4RgI/7RebwXyCQKzghvWxKERwYJIW6+TVVhhULMNviu//lbOXPuTtaW7uDaczvsbRyjl2c8+adPocSUYwxZn1T8P//qERqRccLs86pza3z+4ubzroFAbK3UlaHTXyEYH2E8CJIkQ+sKH0SrwXok8B5hfjnnD0Q15gMn4yzHj0v29wLBK0oDKI+rPUUXTAM6hTzvkiiPmdYsdLukQqJkhhSSznJCkA0+9SwMFF402KYkU7AbVFzn7XuIAQ28UfRzh+9lNE6RywpCQpIkVBN70JeUWpJkntkMqmFNVTbUTcQkz40S56nl8wgAt4Br3Twnsc7hxaEivBeQHhtAKZE20EzGmMojUw1MXiBCPf94UQRONbAsv6VCugxf5WxdgXLScGbzjWgrWcpyXnnqOKdW+9x+rM/+tOLK7j6fePwiw7IBoakElPI+7v7ab+TE7ad4+Dd/iun+Mwi91dIXQSRR7d05Q6ajiHBpGoSGB9cWCLho4asKdsM2q4t9Uq0J5Zio92IILhBRJRYrDbUXeGvwCJSWbTA+rCLmntC+RaFCzDLnPyuZR4OyFCZBcWFbsZ+u0StLbtMWJVK8NYy2N7FLvShiEGKmiRd0ii6+antdMtI4bx5izXF+86n//NUdXZTeOWRaUM8ElXTYqkGl3ViOO0OaWvqdgqaOwbGbZsyMQwtPqiM8SvqIhki1oipndGSGzRQyGLy1bGyO2JlEV8LlwYBGSTangFRcub7H/siyspJSzRpQI3wnZzybsJBrEiXBOYq6oQiWIuswGk1YzRcYTidsjMecPHacZCGnu/4cX/Omszz8ic/zD3/4Z8gLyDPB6soanTSQ65ru8hKf/vifcObl58ALvGk3FR8xwMFFBEbELjrmqqtpKki9BZXihlPe8uavYndPc/7u0/Q4w/bWPlc3nuHCVc3+VFLJEZ2FhHpS0zl2mj/5/AWKQh8EvDnOt649TkYlqtFwwrlTt7OxeQ0XLN1ORq+XUZZ1ZLfhEV5Du66ljP1fiYt2zzYiOVA5k7JCJ4JsbY03/ZU38653v48kJepSSki0xnqL9jV50VBXGc7VIEqkSDCuIVEW5yxagdUC4wSLEk4tF4RQEzwtuyccZKCljswc7y2WCAGqg0PkAicrBIK9TchUDk1DExy1g3IqGU4N3kb3zuCis0KQh+pm7UTsRnSIvGHmyhzI6AWkScJ4No0e6mlC6SDpLlPZAbLjSZTA1TV8+pEvO2a9KAKnyALFPSWKCoVm8WUpkpzxEzU7T3o2L80YlcvcLiXSCbRQ5LogLQaoUNM4SUg9MxaQJ87y1Gif3cbQ6fcQYjuiKoU4YAnMaYtCgQ0e6T09nTKra7wNJFlCpiTSGpyZkdywqcWomCagpDiYUnvvCTagWuroYUg6PA556oeZaDfr4KYVTVVz9sw51kcVLtEY2ZDkGTqkVLZhaXERcfw41lqstaRpikRFq+Cjr+4mdMLzANRHQNNHX2CqMvYmJbbWaAVJ4kjzHkHUaBmHBGVjSGXA1CWL3WWEi33J2sTPs5AOhEcnkumkJvgEX4/pphLlHDZoTAi42qDKCKKeVTUIRS00Lgvsl9FozBmHl6AVGBmimZhzpEUGStP4mtqnqFmDbSYsLfR4xUvO89JXv5LuYIF3vO1baRrLsZNdTOOBDC0kt60NOHHbAtOwz6/+q/fzLX//W+IpnWtatigN0cKGYmTyzDEXQSUIBH68g0ssIjUsrzQ899gFHn7kKa5e3acQx1BCk2UFpfRM/AQjY+BLxKEI8fx8SSnp5pppbam85fr1fZa7fZJEEayjaSpM7chb5lfRSbDmiKrWvGpgDl2KKli0VtlBLJJkKeNqyPl7b+fq+hUQKc5HDQKVgy0h73c4fiyhtxB9ea5cvo5EIYVB2AGOhqGdkSWanoO+MAyPrKEQ2j6kgI7KEaknMRWZCtQSwsxGXrxXaFWQyklsA+QLeFlTzRx1FcWuq3r2vHX6QqypL9XXl1JgbEOapnhvaZqKIknxRuBEhkgklbP45C+gOlIUP1B47VlzA/6+ei8X/KP8m3t+EnWPxySSp5/eZ/LF2zm/9GbEoKGrUh7u7aKmU2qhUZXAL6zwhjsSfvmPtkFYjAmYzpBOVqBChpEzggqIDLJlTYOOzoBC45IE11hUGmiaOu6g0iK9xYtDL/f5qatUhnQGzCT+PVQI1JFB0GHf5XBxx5I2Bs14osrJCCECC0mHTqdie3cHEY7TTBwuc9DUNKaitFOuXrjIS16+hhQKSZSpk8DEOFTap6yGaJqYAYgjMnccwZjOGRg3ZaTTpiRNEpQE4xy56hDMjEwEplWEawTAWEOmFGXt6KTRrmRvb4csK+h2QLiAK6ecO3+MS1eGDJIiDi3yPpev7NAbDChtSTnzWOcYGSK91AVE4zCC1kZXstrrs7TQZXPjCgmOhQXN8sIis1nF9rjkZHeBr3r1PbzmZQ/w8Y9+jA996GP83kc+jvc5vVTTBMu9ZxbpL3TZ39+lJySh2aerM0aF5Y5ja5zov4P3/PK38/Z3vA2vIUUgGoGYq1F5H1EQxPZKcA6hPDJLSCyEyoI+gT55D6cqxec/9+sk+ZRAdG3UqQTrqauard1rpMSs0gRPJ9d0U083h6KXMZ44wkKKTmBjaxtXO9IEaush0Yyqio5KsLOAV/IAyzx3SpU+wSqNNzXInMaVfHHHILZ30E9vsTMW0dK3hlQrjBU4W2E9SJWwN6woezViOkYFgdFAqHntOGHqhuylsUd+mzUUUrA5soxSxbk6wQnPbuqYOkiNJHhDKD2NCdzRL1BJhc8FXqtYtYQGAmRpgfWmteGS7Oxv4ieCykcInUdgXINSASnTA2EcvMB6iwcS8uclDIdrG4RUWBdnC0rqA/dbLQMieBKpEaL/FcWsF0Xg9EEgZQPGsqWf5dd4F2O7gVWCRCsMM2bnK2bLGrPhaYIl0TAoUna0RvkM70p0MSCRsL03Y0k6sLHf50XrLSkdyICUSdzxpYAgW1fKFvV2EFBaodQQ7StultaPu6tsQczuAGT8Z4JBbzqKboeqbvBe8/TTl+guLyG0o7AKh8MpRz0BVxlSraM6UggYY1EovD/MbY/uzjFziiXcYYl+6/7m0d/DHBdoA045nAuUdUPeKeh1eyRKUZZjnPcYK1AyHECwvPcURUplLNPZjGAd3lpsUHgpEBmUzRiBJJGasrLx4pfRtli3vdBOp8N4OEE4iyln3H78OEqDpKGajLm+MeUX3vMTVFXFI48+xC+85/0oVbHYWcH5CuPh5G0LDBZzpKyoxlu4coLoHsc3jqaK2Ns8T1legb/9P/4b/sZ3fBt2b4jsgm9SBCYGyhDAt1Pqdn14Z6IPuU5wRnJtI+XUPV+POL7CQl9w6fELfPa3L6BCwfnz9/LM+if4t+99H29+4ztYXhLUZUAkCUFB0JCkRA90PJ1ejjFRQAYlkcEjdSucITzCgxaCmnkfM27IEd0YyQPOWgwBjKFsQGlFZT2ffuRZlIIk7VAZjwxRRT04QFg0oZVci8/tJEgXe/Y50Y0T7UkcFF6iksAsOLwNcXgqweAJPuKjPbFst86hZIjCwe2UtPUTJASHUgnCGXQSs27t5AGxJK7RQ7TIUXrzl+Ltf6XHV/pcf2bgFELcDvw6cBsxTfrlEMLPCyGWgQ8AZ4FngW8JIeyJ+Ap+HvivgRnwnSGEh7/0/4gy9tg+Tsy4GB6jKyxOdwhYMvoIJmwur/PZ6QXOzwZkasAiEq8lsjIYASrtUeGYThoWQytkKjxR8Mu1QiIBoUR7wuK01BjDUdOheTnrCNFzmZbL6g/h7CEOr6MFRQhoJb4sQeSbj7KqcUGweX2bU7evUVtJllrUTKLSDFs3dPIcYQRFv4gUvQBCthqc/jAwetFuAsRu/QHutG0vhHCj9N2tKxwZJ6Mh0NSRNOCCJ88LxtMpqU5orCd4y9RbBt0OLkjSJAUcxgacUGzvDNFJhtIe41J29ktUHm1yC5vgvUUnAmciQ0aJBOcDSRZpiN1ehlSBEAzDnQalA9aV5GnOm9/0Bv7F//YLPH15B5XCUqdPkRWYuqGz0HDXsVOcueMYAks5SalkQYc+O8NRBNE3DlM3LCz0QMHaYs5H/+3Hef1bX0EwOSKMwSoQ0espKpDHz08KQGmCK7Em4IOiGpxHCAuDl3Lswa9jOilZLIbsuV0ee+xjfPUrXs0f/X8fJulCFRJEKqkdeGvQaaA0jkwqRHA09ZQ8z6JCkUpwviZrFc+ddRgd4oBufu0E0fbMoWkMqAwHlHUThbOByhoyGZXlA5LxbIZUgkyoqF0bDjdRGyWz4nppA5/wAR0iVrRWMTnQPgZyK0ELicJFfVYZCR0qxISIlsljfYslOWpD0y5F7z1KgjeWaWPpybRlSjnwskUO3Hqjv/m4FTUaDoez877+0b/9eQLwl5NxWuCHQwgPi5jPfkYI8WHgO4GPhBD+iRDincA7gR8F3gKcb79eB/xS+/0FD49gRMlUDslcQh36NEoyYIpEM3IViZJUIfCvb/+/eM3k1fzVjVdCnjNIBkxnW6ALElXwjKkQ9QhtLcgIojeIODGXDu8MPmhoPYq80Gid4hRE2932NQUR04HgcfOMjkMgkbeRqeEcKN2W8H+OwIlWFEnC2dMdvJ+QdfpcW9+gJzLqLMH7jOAdnWLA9eEIfEArRYgU/bhQvGhdNVtf93A4VQ9HpPeCF89Tc5r/zSMAhfGC7anFjSzdTp8gBY2z7D17hU4noZMUbA4nLHZycA2TOkBwZKmgKVI0rfOiy7DKsFvl7I9nGKERWRozEdegpAIvUCJmt0oFennBrByR5BkieKpqhhWePBPkvQ7lLNqhPPS5h5CiZLmnqZqUhdXjZJ2a5aShX5ymliVXdq9RpAkShU2ieMZoUnPfudPM6glIwXPPXcJYUGnD3/3un2V3HNgcvo+6rlBJqw8QYF4dCqIltG5Vx6UWyCC5I+tEl1LGlPunuf3Br+N1r9vgEx9bp3QdmA753Cd+m7/3tq9hb2fEcLhHVnTYGw6pTfStv7w1RAF5mlPNmtbqwWMFuNqgtSTXCZlpe4WFIqjWBdKDin0ETCMQpFSNRWHReJJURB0G73G2IRVRHcjqdrMXQOscEMLc1yscrHfRdp00gTpR1AnoOoAEE4XvyJFkIdpa+yBapaaYwRoX6bnSeRBtfzf4FnvsqK0hI2AD7NegkyZem97Hjpebt0ssQunnrd959nmoIXEYnI9avvnDuejB/f68WeufCfsMIazPM8YQwhh4HDgFvB14X3u39wHvaH9+O/DrIR6fBBaFECe+1P8QQElNrXNGXuPkNn2xzwjNFAjUjAOMmRGE4UL3GR4dfIFO0qGT5DiZI9BIF5iSI8wE5YloXQfBtfANH8uuueCtP7IzCXHojHnzcVSe7uBzaYNQCBz4mfx5jrquMfUMmhIVDOVsRK/TpdsVUQPRa6QyWB9556nSrTBEzDlqYw6C49HpOW3pdjRoHi13bvXlIUrUWdifwWRm2d4Zk3d6rN22HA3uZKCqA4vH1lg4toZIO1zaLClD4ImLO0xKh8PQNA3Ow8ZuQ+mgNDXVrMYbgWkck3GFd7FkT7QmEQJTlhRCUA9rQm1IhKSbdVBKUE+nSA/Sgqs9qAzRvQMtF/hL96V87fk1hNZ8/sI+66Meq2dfT5XcyYXrgVFYZqcpqGrDtJqiE6jNDIeINEUFvlAcX855+tFLZEUPKRwCG3Fqrv3yERQf/coDSoBSAUafQ4ZtcBbl9kgSzzv+h6/n7OklZFWw+cxTFHaHsH+VRdZ5+ZkeZweGu45JXnJulV4mSDWRIjo1OAt1bXDeoEPCgpGszCRHujkuAAAgAElEQVTH9gOr1x1rW63P1NFz6kFojwsW5wJ1A87LSO5wAR8cYZ4CqIj89N622ebhBizbDHMeTkKIKBDhHImJdi62hXLJKEwbH9N+RbsX4sbt5q6sgWZeFbWp8oHaErGn3T6M4bTCOIudD+vCYeD78xy3Wuf/JUr8r6jHKYQ4C7wS+BRwPISw3r64dSHEWnu3U8DlIw+70t62/kLP64KnDjnYKIhaScUIS+lHeOnxSmKpCUICmnW5wW+uPcF3D17LwAzIR2k0GNMTrBEcKz0hDCimO5SyRtoJKpVUBpCSvFRMa09IU1RQ1M6QupREqqiF4T2dVEWRgNCKJLQnz80xmFoytR6nQRoIWiHs0ZPywifnEMgLucyxwaOSGhsyunhIIZAicMgAJusw3L+OXFxl1sww1tPpdHHWEowhSRRj1SfFYBqBpsEnMU2y4TB4+iDBSxLhIDhc8DghEVITao+TNalUZJ1FpvWQYVWzOFhgpd/Bu4ask9PrLnDxSkmWeVwTBT7uOHOK8Wwfm3Z44uqYB+49gc8sGxNLY2qEgG6ekqZpdB9UGl80KKtY0g4noFCO25ZPMao3aNJoyyGxpE5RCU8+6fPszoz3/tY/5/7/apV3/s2f47d/+xP4At7z6mOkeUXaL/jAf3wac2mdP3j4CzgbqAMocYV6Zviak1A1NXbWY886egVoH6iaQEg8vrB8x3e8GzNL+Q8feycrg0VsbZGZw1YR5iUSIgPNObwXsUpxM6rL65D2KBYyTDVF0fB9P/521E//GmJ2J4udDsaN2NvvkAtHntT80XNTru1vsLbQ4c6TqwwnMzb3GryI9EBpJS/tLCAvbtMRmtJaukAK7OmMkCdgDSNhSRDIKiFVgtpbJhNB0fVYQHoILY8b7yi9wCcFuSvRat4bdRgfmFlN6j1aBmYy0BeC0jq6MqFf5MhqjETTyTJu04bL0lJnjuMqY1BVrCeKRojoRikCUgpKYdEGnFZIFUVqqsagpUZIRbAzUCmialgfGhZ1iXUhUki9wXmBdZIkTQ4k946iEgIOZxVaqYh48B4hZAvTisgPgWjnEBJ5g203tLaIL3i93ur4solGQoge8FvAD4YQRl/qrre47XlbhhDie4QQDwkhHqq2G4yoaERJI0tsaLCYAxl8T6DBU+PYqys2AmyzwP7xXYRfouwPoHM7U6vZm0IVJLWYIDuCugJnNd4KvPFU0yaS/oMn0wlKy+fZSdzqOFrg3mD8xmFf5Sv1Zr7h8wiHz/WC9xFzCbxD6bColhTfQ4S56IO/31ymzxvt1juM9TGJcuCcJ1EaLUBIy3iyj1aB4D3j0Yi6MngT+6N13aDSwKysmJaW3Z0pSvTZud7QLVIW+l2GQ8P2zpTptKabak4dX+LYsQ6LS5LlxQwlJKoCGRqUcQyynNMnV5gNN2mqikQqtFYURUEIjnQ349xZy/9P3XtH2Xre9b2fp71lt5k99cw5OkddlizJki0Z27IhJBCbEggmxaFdhxjTAmmA7yI3ybITcskNxIHgBAI29eJFsQ0GHK4LzUbusixbtqxyLOnUmTnTd3nL0+4fz57RkUBgcb3uEs9Zs2ZmTzl79vu8v+dXvuWN/+NV3PI3Oni3x7mN8wgJbZuy9qZpEk/aGKRKBEkhBFJkhKCZTpLpmGuTDqsSDiUkNSUUKbNytSbL5mmc5VWvfAMiM4QwhjBAm4hQLSJ6RJjhOqOH4Mm7MmFFjQM/xRQKZMS5wGu/+9WsHs8JTBCxSOZyosKXxxkfjFjpdVhdUowOWi5tTmbXsUmiHwSy2pN5KFB0tQElk6q6T9YaXoDyET3bF4dvR+UroGUSx/HeE0PCMmMrLNCGiI0QpCKKJJCBTn5Y+AThu/MVt3D8xgFejjh1vEQqx7itab1jyQrWlvpYUWFVJOKS4HMANctAjyqaEGitRQgoCo0LzRHsCFLg8N4noeHwF8OMnvH99UUcJMEXGDiFEIYUNH81xviO2cMbhyX47P3m7PFzwMnLfvwK4MJTf2eM8WdjjHfGGO/MljWW1I/3QiZb0JmDpSfiYqCKjn0sYy3Z9ZtMCHxueYuwFOnlA1Z6XUy9hxzVZESW5rpJ8MDm4AwyKEQbyaLBT6fgPLat8XZWFqinT76PaImXpftPeX2+kJfxaddfFnAP/0/nXALAO4fW+qhFEGdB//IDwCPwh7g+/0S7wXqH9REnIMhksRxnmRMSZJRokfp6wsLa8gKuaWmaFu8D1qaNfTBukarg3IXdpAzuAtG3SJWxsV3TnZvj2LEhaytDqoMx2xdHXDoz5WCrxkhL4TSFjKwNl8i84+zjF9GyopMZyqIgUwV7exVROn78P34pd95mWD/9LlobyVyfD//xJuUgpyjAW0uZleTa4FvLdJLwuUJGUBYhHVkJggKlA20jGO2Djhnre5Ha9xGiwDvJ+tYlnvPcKzm/7pjsj8m7iuj3Zq9PQASbAqe3yOCQIYCwuDCmmlzE1VuEai8hMqRG9ODrv+2rGS4XiW+vBKa7xO//ySdZWVScWjR0c83GxgiCwgeL0oIYWqZ1Qk4cwsBa19IKTwuYNlDbliY4DBIdBS4E/IxV5IJDyHSDH9rxxBiZ7+ac7BuunMtY7mYsdTOGhWIuE8znkp4PlDGSRUfPRW44fpzYMSxfc4Kbnnc9xlrWji9BR4KMXLswpLZjrr/jObzopbdxcq5PzwVUCCgfU0vBR4JPmzyb7du1tTVCTAHy8nussR7rIz4+IdT8xbjH/sw9dTme+a+wvpCpugDeAjwQY3zjZV/6HeDVwH+avX/nZY9/nxDi10hDof3Dkv7pVkTSkqWSNUpk0PjgGekDPI46Bi7FQCU9Ul1MUAumfOr8uzjRX6Uo70D0c7LHzrHYSlYLw4rPmMgh66MJvtaExhFFRXQGURQop5BeIDKJlhpnQ8okYWYylXo7UogjRaT0ZI/GR6nkJvVookvP/emUpJ/qPRcvyzAl6XR28MT0e9bUvjxQhxBSZiX1UY/TGENsHRJBG0BIQRTqyNIgAIfiHzFGpNa0rUNGgZQCNSt5Jq0lqhxvNXIMqgvDFY2iwihNp1OkjME3XHv1SU4/8hhFNmLtijl2dh5leTHnYG9KVFMCAjcWNDHCfkSbxNzs9ZMFQ1tFpHaELGPa7CBRDIoCrSWCBIGa1g3dvmBhocPpT9/PDUs1F862ZN7yE9/+PZRrDd3hCnNEJntjeoWh3p/yA//7v+QjD57hXb/59uQJJSJaKmKQGFGwvrnHiRt6tNOa9bMTdqYfZW+r5uaTX8bifAZ0+MR9Z0DCDVf/EF/z8lv5uV/6u7S1IQZJLhKUKbkszqbWTVK96mQi4RODpHUS6RvsdJdqf8RdX/k87r9nnUcehLf9/ue46tQ8V51cYfdgwh/dfYa51ZL9/YqyyJlOHZNxgJjxka0trpCwiCcPkLk04ZBjiypLolEgIjbM1MyFSAiSo37ezMbCtSwUklPzOWVzgPeQXXb3H7YSM5WD9oQYyKPAP3yBT6zvU0eJdp5OkOyxT64EtgW7vc3EGN577xlGkwYlBGtGszub6CdQUmp01ZPU15yMa7a2ziIBnalUfgeBUIL98ZSDuRwbn8iaj6T0LoPbPZN1+dAozTLS34qYXce/wq/9QnqcLwW+Dfi0EOKQk/SvSQHzN4QQrwHOAP9g9rX/RYIiPUKCI337X/YfhOiZMMLHiIoSERSWQI3H4pmKwJRAEz153cd+dpOeLfjcL36U05v38vJX/Huq02dp1nf56MXf446br+KeD76X5ePXUD22z1SXiIPI/JImOsnuzpTx3gTrIsIkfBntZW6VTzmF0h4QR5PG2WdH66kUx2e6DvGfSlyGu+QJuMbh8zrU/jxkPmmtaaoaGZ9QCo8B/JE74mWDrZggLL6e6dPLRNnzrU0bJypigFxXvPylV1JJ+OhnzzHdreisDfE+orXC1hOkucTqUo+29UxGY7rlgMk4Cfqq2aRUhohRisx4lILhYIGmsTTTCqUSfrMQhla0FMIwHdXk80Mm1R7OR4RKLQetNesbirVhRj4XeMdPvoPJQy0XNyRKjojTiuAWqSZTilJzaXeTW+48wbnHr6ZTdCk6Qyajmk9/4j66fUntNNZVLC8ssb+xwWT9EUrZZWFu5scDuNBS6IzBsuDd77kf7/4RRmi8mxLlUYp0RHAoOh1i3WCrGlMU4CxSCLSEzd3dNOCSkRd/5Qv47CPv4JZbj7G6MGB/VPDeP36AbA6U9ugcRBBoaYAktSecxwePAwokXgiciIy8Z3dvjDKSwfJiGny61LeOCLQ2EANaCOog0MCxuZJObOjKGRV45loJCVYXIhA8vnJ0uzkyRlTpkfmEzCbl/LYN+AAharp5Tq4bpjWgFUFKmsrhtD+y4PWIoyCVRJJT//GwWmqtSyLCsyBZ25bGaZyQR4kM8ASm9q9wbz3dQCjM0ANCCJ7A03xh6y8NnDHGP+XpA/JX/DnfH4F/+kyehBeSfTRWOYSKCCKWgMVS4ZiKpNwTYmB80XLiQ4J+u8q11qOu7HD2of+OLrosVopmf8Ldn9tkWkt2dnaYCx7lDSrO8/B9DzOuPatrK0hrCLpDG5J5VaFzGtukv+HwWsfZx4enZ3xClYUjZtBlgFz+avM/ETlyUnnKa/mkzRJCmuhqkyTd8jybebk/Fb+m8DO745D0cAmzYKq9Zto6vG/RCk6s9Oh1CubLiqqxBOvpxksc2Ck7+4Iiz1lfnyBwFJmiKBVi2tCOclwAFz21mOCcpywzhA9kMmdttQ+ixfsRIUDrRggCRR7wEYyUFLUln+sTx5Z/9uoTvOkXN/CdjCA9PjpKpdA644/WM1ayguPXCb7+/3gPr/nynLe+8at5zet+i6VSo0i2yRc3z/N9/+F7yVZeyL/9gf/GK7/+y1lZ62BEl7te+HVsfOh3aacg9ZRut89wDu5951v4m1/7T7j6xDyfP7tHjIJup0SrQB0a+lfCS57/b3ntt76U137Pi/AhO7w6s9daICeTdJAVhqYdkWcSHSsQAyajEStXrGBHNWQ1/9v3vYS3vulT7Lc9/vBPP8o1t83RThzjukqOq40nIilKCWpCc0lRFzk7wbOLZyOPVAbqTiJcZHVg6+IWBnnE9/YeiCXOtiilaWzkRF9yYqDJqwkLc11qJ5BxjMmSw0DbRKwN1DbZz2jR4DUgC+rdSKklUUUWOtlMh9UlhEonY0m3SGVZKDVNUXCBSB1CmvTP2gfESFYE6tqmQz5EWucT0B+NZ5aNNpbaRrx6soX1oazjF66Y+efcZ+IJQeggDmFWKWiKZ5hzPiuYQyJGCgwTX4OSFNYzMZI6NjTRM8ERJEjvyLXBTU/Q3crYbzXXd5fZ3xozuPo2tjYfQjcbaJXzvJvuoFw9zul7P4iMLZRTltUSx2POrj0gMxmDXk7VSiaTKVZOKcukvCNEe6Q2FJ3HzxjpkYiMchaILFpIfAyI0KClQSLQR2XFbJotZuwjeRh8Lz8BJU7n6HqLVmWIGLBBYoh4eWibICHUxGCZjA7wTcC7hiI3hDaikFjhiLrAkDNVDdYnIYbDfqdzpKNPGDyehcKQScX8Uk1fOEK9S+M8JqSbbmKmGJWTO0frWqoA/bKDc46GGhE0wjSoEBBeoG1Cfs1nAqMUKgTaajf1XIVK6vLG4nVJFh0xHzCfNYh8TBSRUS3Qk4pp7ZDKIc1sEtzNmaoKwZB7d6YsVw0rC5EzFwse//TZNIDoKNoDx45s+LYfv5+NpqA32uDL//ZdrFyxwN95xd+hP8jIOw0//4G3o5xEs0C/zBESsmrKdHKelbllPvPgBJMLMgPeBUwsYFownKt466++n5ySb/quF+B8Q9npEv2UZgyq28XIgBCWTCeUiK8iodulUwTs9iamP8fmOPALP/sByrjGO955Nyevu5IQKopCsVcFGlchSI6YWktcA0FHdmpPZ+DAdtFzDjJP3qY9KZLqNl6ADWKm+NSjbStcoSltQzSw2uuwVO5Tj2BkI6on4AB0SJq1Nip8CCwU+ZGnuYseaJH9kOinMxykIlDOJPgy3yJMCuKFlkTjWY2RC7XGxcCo8gnjauCgspRCJh3PkLJcrSXbTY6UI7q5YLIDo7UCw4RgE/yulWBJbpn60FdICIRKU3Ln3MwD/imB9rIhGSK1C3x4QnXqkO2X5gDPjKv+rPAccgK24xiUZhxaDpRnnwZHAnXHy9DlsamJ1EzxjCaLLB17KZ+3feZNH5zhYKckxutZO3Uno0mPtRPX0x/MU5YlvW6f3qDPcDik3+8fXYTDQYvzT7gOHl4EGzyBQ9WXNHDxMwWYQ0eBQy+UECPO+/QW0oZxIX38Z6bclw+a4pMvw5O+dtnnUspkANfaGdvCHPnWSMTMFTBRRY05hFFppFDJa8dafIBev8Ox44bClEQREHnA5BqvDJgMgwLrufKKLqWJzPVyJA2Fifg2AaElkSIzdAtDmQkWhr10YwWPkJHgfVLUkWAMCCWJKkOYgoNpRYwRpTjqX2VZhjEguxrhC0rZx1UNWezS7/TZenSKQPFt//gVvO/BPd70ax9nuDxPO24I2jOiZry3w+riMbr94/zPn/sJPvWZ9zOebBPJ8WFh1u+NtG2LtQ0+QjZ/jDMbB9xxxx20TUQTyWOkKwUL3Ya5ch9Ew3Al46ff/G6MyZEiEtp9hO8nV1IxBtFC2yYn1QhZMWT7kQuY7rUwvwK9FV79NT/L2Xsr3v72D9HpCUzuiLRIBUWZMtm8MJQdAyKQFxJtEpnSehC5QMYUxJSQKC2QCoxKfkJKSPJMIXD0+znBt1x//Rpfda1gtdR4m5N1NcNsSjke0zGCQgt0iPSNYNCRqG5AlRFhkmqQEZAHyOmSi4IcT4dIH5iLkjyCCQHlfDJmC5augGFRs9JtuWZRc92i5sq5gpddPceXXJFx84rlZN9y9VLOQh65ejBmXgNN6pvu7OxgTNJy9Udi0pf1Op8F61mRcQYijY/s6oZSavaIKBuZGokX7jBkIpygPeix1ffcvrhAOd3l9Kf/mO/9zn+PaIaEfcXKS7+R7uqtfPhjv4AuFvCVYlFLio7GThRNcCwtLWGCYnxph6bZQ0o16/slaA5KYoqcejJFKAhRgQAZU19GKIjREBAYbZK4h5SIaGfGbIcjO47ojtKnvxQOs87Dz+UTgVIk/yNCkg6DJALrEYQAvaKgripMlrQxm6hmkyw/gyqR+M3SMJ5OIUrcTCknEBKuMQQeObvPzaVEN4FgNMWgoG0CYzXHwX7NcXNAJkvuuNqzpKGNEYlDKqhdRvCa/lxvJrB7gBGCGCp0nkGcsWuMREmDMAItNJM28uDZfU4sltQxsDN2LOSAhEnbUnR7ZEbR5h1EOMCLGhk7TKcb3PGCF5P1cpr+gKt9zn/50VfzqXNDji8XHF9S7J37bbbOPIj8yO/ygpPHkHQp8hXe/94tPvDeH+Kfv+613PGim4nA4soCWWZmVsyCxeuu5JpbbuPznz2DjY7hSsl0e8Q1xzU3nhrQz/vYGBg3keB3eOH1r+enfvYbeNGLroTMUVW7FEUBIefixjZrp44jzJDf/fl7uOG2q1g8PuTHfuTn+Eev/Dq+/bu+lp/6md/mquuOk3Uc4+kORhVUkymZ1PQ7IEgQM3KDcy3dYYnzNftTWL7CEpylh8B3EhbRx6TRqgAZBPhI3jPsVxU9LTj98EXKnqJ2B2TaoGQXRJNMzHROaB0yKsZ1hVHw7f/wFBcu7POZz27y8EaiOooCTEjQqxhSiZupZHjYikCmU9cqkwJjUumvmoQg6HUNRs9sKdwUozRz3YxhB0LtKYZ9Jm2gkGNues5VPLrpuO+RM2zSo7/ssE2LUBlSGbQxf2Gp/tRe5hcTzvTU9awInB7wAjSafWyaKOsURGa5HCLKJCumPW4t46HPnuPOckA7n3Fw1YtRDw+hcx/ru56lfoYPittvfAn3feQdGKkwRuFNQLnk8lfo7CjjjDGmwCcOwbMpCz10A3QuICOE6I4wEoc/czgFnyVbR6fiUfDkcqvhJ2M/IeEr/SFBLT65nD/kjSff7YhrW/RsKJSEWUOSlTOHGybMGByBeipQBpxMJU6MEm8VIRc4F9na7nDV6pRmGpmOBdNpyYOPt5y5cMCr/ja4VmJaGBYZbcwoCo13FVlnSGVzzpw7gzGSGAKmyAgi4l2D1pKyY/DWgQhUlaXINUHmBGVxStNUY6wk9dBCxHlQJgGj7fiAgdB4qVkfT7n9lpt4xe03ct+l8zz28Qfo3vJ87PSAN/7kL0KERu2TN6+h3n6QP/iD95LRwYZIFFP683Bs5QQf+MDdPO/22yhLRVM3BJ/RzqbjatauXpgrURJGE0/VwrT2dLKcPHiMjJTdHo82Fzl13YAf/oF38Ucf+37ayRgV+1TjA7plztLSAuPpPrkR/MqvvI3feO2P84Yf/Dlufs4Sjz30MD/z5v+HYllimaKiRMkOWpZ0Ss3OZB+lkrFaJKKVTKVpJ/X2VUxMc9tCpwu1mPVfRESJdPia3KC1pw6eXienEBGpG2RWUsQxKliU2EfqHs44jKvQOiEwhh2FxPP4J8+yurbIV33ZdVz1+AXWNxsefsxhpUtaD4UiisA4BkL0GHL2bRJEUVpAkzjmQUOYRsSImQAJND7gSQM4CyAMLk75ihMZX3LjbTx0YZdPPHgGl2WsX9rj1tU50k8nbYkvdD3dMOjoPpy1HI7ew9OiYZ5uPSsCZyBwQdUIAiu1ZGwiU+GJIiKxxOjAl+A0kSnf+bI7+IB9iHcf04yWJDeILZYW1lCqS6bH7G5vs7J4nK/6m9/Iox/7baTPqOtkvdDLFhCFozQlZVkmjxeb+kWKSL8sGFU13SzHZUUqhYWfASqSGVoaArkZnKLA4JHK4K2YCSPMms2z8l6QYEKXe6sfim0Ekb4vzGZNgYiIMSnKExJ9TYhE8ZORzJgUVIPANi15XmLDJPnGq4ikQaPo9jSXdmti2adqPE1rqaYWXYHICvbOTCnKPivZLtFlFP09brpVcuqanPvPSkT0SRpFSGpXo/YDtglgknp5kWmsT7jSSdWilMDkEVMKXLBEJVAyWVX4AE1URF3gvCfXkTZqmsohdSAoiEqiZeSx0/BLb/1+br1rjk/+pzdxze0n2Tn3OZSynOyd4NOXtvjIJx6lmNzOl7zqdZx84VdDvJpi5Thf+623YafnMeUJmhjZGYHR++zvbvNd3/x9/OArh2ys7zLpdzADjTIlk11PNaq44thVPOcKzfntKSqHxzciJ4819EQC4u9XFY9tQtY9IPbhphvfyHve9/2sDR1VW+PzCWY4hDbH9Ja55saSf/c9b+HKa4/TmVvgdf/md7n1jpN0up5pnaoAYxzOT1FmxoiRgqxIB4jzjqIj0doS2kgfAbWgPYC14x2KbrIJ9i4NWbyfAfKjRwXDeL+lkYGgITZjlpaX2dmuyDoe7RqEk1TWIfKAlIogNTK01Mrx2MYFBpMeYjrhyjnNc17YTR5gSuJlTtXAuQuWaeUZicA0BqwD16ZBpAdKl+4YpaHMIv1Bj5PHShYWhhw/tsLkoOLuP/4E1SQw2Q/8wcfvw3Q1I0A5j5+A94Y4yzGDc3j1F+OtL1+XJytfbAwoPEsCJ0AnwmKj+cfmOn50+kliP5lICRmf4MFGibUat7nFgbzEMOYUvkvuNVnRMt/p4WxFRLJ64ipikPSKktL26c8NoG1wjSbLZDL+mq0YIz54ityQ5zmNdWRaUxYFTZNc/2IUl0EiBJCwkJlJdgBaGKx5wmL4UGn9MED6Q0wG6e8Q8ulLiTjDqx1lsod5dwhkWcZkWiEGPbRO5nJJvCB5y0tSWX3s2AKX9mp2di1VEwgyMJgDWymsdkjj2N/PWVkCEVp21vvsjyZUvkH3O2RKs7NXI3OYtlCq5A2OhExYfAyozCCEoJl6nn/bcym6LecvnuNgUqGMwtmUFYUZ3KD1jrp29EpwIdB4MDN3Ue/Tzf+xB96A2fk8pz/1Ca6cv4aP/O6HufKKaxlmgk8//Gnaa67gihuOs3mp5e5ffwt//7lfjsuGFEqBWGJz/2HE2Q9yfm+T93/4t/g3P/gDXLrwGPNdRZZltA6EkDR1Mrvb3N2g3D1PphpuvXmF3rmaid9hOoZHz+4z0AVV3MOiyBYKpFfUsaKYi3zr3/spfu+dP4jOG6ppS6YbssFx3vUbf8j3fOcP87/+6G0s9fv853/3LhaOtYhMY11gdFDR63SRxtK6KVrPA4e2GIJDnU2lFFEljGguBMIKvEvVUEOismojU/84JpO1uq2o65aIRoqAUo5pk3Pdas5jj2+zMwoMCmiapIM6qTzTNqmHZTLynDqSZRlaZBxMYDCE2k5wY9J+FjVCwepqTBqalUSoYrbrkqUNSDIZMSZPjgo+4l3A71kurJ/lU3c/iA2gexI9ADXoUe2OiLUgZobdOtCoDBdkaoPN2hHJm+mLGHT+P6xnTeC0vuYu3+dmNcX1A9ICJuCjTvhJV0FdokrB9sIyVXaepbkuL1o6wZzzmJgxanJ0kGh5iZtO3snB3oR+7DIUNbEVxLakUBLR9CmMoDQFwbZIKXC2Qcg+nUKwc8nimoDWFjttyBXE6GcBPJ2AIhiyUuDCmKuWFhhPIo3eJ8Y8TelCYq94N/t+WSScoEiT0BBSy2Csilk/U2CA2DQEIQhB0PpEv5M+Q6ldZFhB5IpMJtdIIRWNc8TWo5XBhZLWSoJyrOldTi2ucfHcJYp5l0RPYnKRL1pJJzc8trdOt+zh6jEHARoJUmW0rWIyo8b5CsoiR86EnYVPmotS5Iz2GpaX5/iWf3IHdbPOfR9/jHaUDjonI8poolQcTByjqsK24DpzCLVLdyJpdUChUCNJ/+Y7+c2P/D0unf9j6kaRtY7mJZFT193J+ls/SWdpiBg1bGfLyO2GqvU4PeLj73kzL3v591Lt74uredQAACAASURBVJDNLXNi7Xmcrd/PC27+Mia7u9xxzXHu3jiDygy2kexMQGiLrS2Zysn8lPb8FmJpyMmTQw52zzM0fVy3wTsYT2raBgSSQni2fI3OQGZddkY13/TdP87vvfk7QDpsIfjh1/0sb3vrI3zfP/0ctz/nav7Vv/wd+sslx684idIBLQvKvqP1NdJrIh1sG+gVGZPJBG2SbYdRAuEcUkRGQCk10706yRdOA1kXjO4kCqXwtK1jbAW50YwJKC2wjWOQZZArtvYnNAL6RQmyQmUZtmnxCmKuaOrANEaM7uBFpI77+ElBPmeZTLtIOSVGgfMB10I7mnXoTYDYzBIFeTTo3IuWEEZYP6P1Roh+hvAocogBJwROeMTEQRZRSmFmgdlZTRAVQtTUQaMzA0qTTIg9YBBRz1jZgiA8PlgQCq2yI3CRuIzTfrSOkDFP+DYp9cwGT8+OwBklVsOv613e50ZAiTY5bWtTmYsn1AU5XRql+ZMz93HnbScpz93Ot8tvwSzcwuc2Alm3T4xdEI5j/ZKt82f4hhfeyg1DIFe4SUNTTfG9Ic7W/JG9xKcfeQDXRlyrKAXMlYqqI8ikpzs3YLOqZmDdWZntZxciiCRTJyLLc4J+rmjdYOaBmXjBPiaBgQQEjlgrjybffraZDmwg2nBk2WBtSzD9mUZlAGe56YZTuLrmnguW4PxMDDapwEspqesGGUDQUuiYRCj2HCcXL3LuEuTZHNaNsW0KjjpLZd7yYocqeE6cOoU8gIsXL9K4FiktUkmcFwgTkaIFn1Rw+l3DTTdfw0Jvk9C06Dhm/f778D7gZIfOfAFOcnZjl6Z2VHUgFo46wEAUqHqXxpQ8eL7iBXfMk8s13vSr38bG3gd5+N7H6YYFHBtk/Yy3vPFuXveG7+bgqhHT0QEd1UGdOYsqeky6itXY8uF3/RbDKLjpG7+HGHaJOBbVHNML91DbmnI4IPpAjkOKAu+hamva4FFFj6tOXM09n7mP59/1pawdO8UnPvYYKlq8bzFZxpzOUDpPHHihWZ22HEwsF9sJ+RAuHXT4ln/167zia/8GP/1f38E//OYX8qP/5/OY7J/lDa//ELfcNU9/vkvrHO3UUw6GKJUEQ5qmQQiB8xZHizARrRObTUoSo805yr5A1Mm7aX7YY3tnynA+tbiEEOR5idKCvDslVAHTyTh9rkFrGI1b5geC0w/v0u3l2LbCIBGqRWOw0TFpkqlecBHRNFStA6U5s19TrBlM3tDUaTDqoiKS4HUxRnwzC4qzoJqeVcQFkQKUOAymkkloyQpN09YzC2iVfIycT9bFwaEFGBLkqfWOXArwEhfAxHgEWD+s356EPrk8Ns7e/3lF+p9fvv81xHGm1QUi20S09wi/izYlsgm4Ok8bTY4QQbEz6nNV/+v44Rf/EHkLj8opmcyJSmOyHCkFsRoj24CLnrwwyBzqxlMMC6SREDKGZTHjxidp/cW5OWh2EH7MsLdCv19wYDbQOs4gSoIwm4QLpZAybZN+R5EpRWOT+G0MAhdSw97NpLWsj1jJTM5O4mU80k5OMrAC75PHd3BtElZWEpRm72BKt9tNwg74RFqZQURVFGRZjrSa4JqEbYsBrTQxOlbnCx4/v8/8UM+gK6B0khvrlD0yJXjo9DkmTWruay0QM/iSJmIMxFahUMwPJLe/sEfdbLB18YBeBmhwSjKuLRu7sL23w6SNTH36y1zHEWqFUX0q9jAeejj++088l+fd4ZD2Lh45/TsMulcRJgo/nzFuJCYvWeuXPHLPaS5OxyzPL9AbOa47tkqlJGZxCSFbFvZafucn/weqM8eNX/kVjA5qpN9m1IyZTCY0o21KFRA+wIwpI6Vksj9hsKQoOwOU8FhrmRsspnaHiGQ6I8SIUpLMSGJ0ycJBV6wcy1lZO0FtWyb7LQ+c3uee1/8BP/i6l9Dr9OgUgh97/cfIBgVCGYTsIYDWnkfQSUBu51GII0fpdvZ5nAUHgsTHJMpRdA11HdBC0+vnnFsfMYyC0HqigCqm4ZoPyUxusWs48A2xAV0sUpoGs9cSZ/hM6yNRJQ1PKSTReYgKQUAUPfA1o0lNbWE8iXS9Sz36GNEkzKhJcZEmyhklOSRF+0N6sD+UWoyEGW6viBLhPbmBpoYYA0bneG+RSpOEo2cUZJH0clGHDKL4JBNEeCIAPlWA5wtd8TIb2i+6Avz/L0uAJNJpBC7PqAk4BfBYkpqeLnNX+894QfEKbl1+IatXR65R0JGB1lh6qqBfRrTpMlBDtNul3juPFnP08g7d3EDmMaXDBk85UFBD1xjGlaMgw2pFpjXjg11WFjSaiuuuvY5L649Tt0kLM0qBEBkxgnWa6BQiZgx6PUIn4Fo/gypFvEu4TTvLOK1LXishRKwXuNl0Xwg/4xcbfAgENMI2uBCZ2ozaRdY/v8Pqao42JUYqgkrajanMSD0wLQwoUIXGt4ptY9jfsrQ2UAygJRB8oCxKrLUordje3CVGj9aavHQ0tccYiVYCmcGp1RVefNe1CH2OT913lq1NePCzESdqTAbbts/+geChC1NsDDgLkQwvLFInal0VcjLZUPvIi19yDT/wqpy57DSi+iz7DwvG7ec5OFhhf2DpDfvk4zmQx9jfmvIV3/h13Pvhh7j3oQdY6S9wy/Hr2D97HpYHyMozWt8C2RDnlvjQ77+dPD/g8Z//ZUbXrnHXN34HB6OGfDLiX/zQd3NhfED7mQcQGbhWE7xke2eH8ti1LF6xQaDL81/8Et73h+9l4+wGC3PzWNsglKIw5gjJ0Fu4liLLyaSg24G5QUkuutTtPmurx/nsg2f5iV/+E77kK59DExqqaoJ3gbqa0CmHTKeaLEsHqDGKaTVOv1sY8k6ODy1KxNkUOaJzRVyG7fWWgSkZDCR7j8KNWZ+oWpyHx87W2NDQtFAKMEUDZZf5Tsbe9g6mzMlNgY8J/yszQ+tblHfkBoZdQGbsTQLv/MweqyUcX4RukbOx6TmxND+DBV72b6Zc5p09CpZPbj9KQgx478AngRxjMqrG4ZVBaMH2fst8WZN0xXNMFnB1GrDqQlA3lrJXzO4lki21Sn1/EZOIcwIWzLRkZ8/hMHgeMv8OY8zlz+2IMTv7Jc8UuvTsCJwEFAarW1ScYsQ+hXM067dxo/tbPD//Gm42fws1hkyO6HRzPntpRO/4kKg8PuYo5VMAiYpOluNDRSwc2AhFAhTL3GDQUOT46WSWQSYHxzo22NbTtg2D+QypJPPzc1jfkncWsG3Au0BlkwiF9Y4YkrafkCWZdBjZJK5wkCgRknbnrAcjRFIx8iEpY4vZaeyiQ8VEQ2xnUjFeFNShpWodUUjyrGDr0g7DhVTmydlJe7kUXZYVIBTOR/ZHFduTithoXBBoowlo+l3JqGkQMmK0TIK1QiCEx9lAp8hnqtuW/sBw8/MjFy59nL1dS9VkNNHRipqmgXa8wPqlnVnGIyFmOBILJYY0YdVKUMqKB9bhtuf2+Mnv7bN58T7cpQGU81TNJZAO7S4gOEk10VRG0BjPoF9Sjx3H1+bwz7uBrce2qA6muIOaaSEYKYvsLtJbKYijTc6cPkuIivujp/3QJ1lcfg+f/NRnufLUKg8+8mluuutOJvvbCQrTKmJU9Hs9VG+OhbUrGS6eoBj0eNNP/wSPf+5x3v++97G1s41Sim63SyQJX0dRYKTCuT2id7S1I4gNyuI4D52+yK/+339Cf0kjZAbeIaPE2RFGSdomkOUNSmVHPW6t9UzmLpCZxGBJOpIJaiSEoLNQopUleIcPNZ1MkmcdKufYH02xLmVlJhfIGIkipxq1lDM4m8BhbQKUCwTe2+RcoKDTATQc1I4QA7WW7FSBY4Auc87vHfD4ZO9or2nFTMA5wfdUDKiZlF0+e0wIQWuTD70Nh7bByVdJZzlKZMjg+JqveD4PP/AZ1sctNkYKJZO4MhqtJX6GNLhckPsoYgiOIHxPlyw+NUM9evzPK9XjX8ceJ4LALjZUqHGX5dG3cKK9kReob2Uh9OlMk7CtAiZZn5GAdV1w770b3HTLMkUGQkayLEfVmtBYOis5W03DfnMAeZ90EUVSB5KCtrW4EFHSEAJM2gbUrJdiNEJqsrLAecvOpVGyWY0CaxPu0kULPmUKggytQUaHF+ayjDPi9EzyzSRXQu8DVimUDWgv8DhidPiQ40JiEe22DtCM6obCCKKrmOv1j7QWhXBPevXquiaLLjGclCKgmLaefi5xVaRpPCbPaasGr6DMdSoDo6dXZjN4VEFdtwgRWTlWMD+nOPv4lKbOqNqcoCKylFza8DS15KDaQWhDY1MAcE0NJYiYWgVGK9o6Mt7r8MtvuIKv/5ouv/kr9/OlL1njwuMXUaMKb7sYNcY4xSSMCWXB3kAis8hkusf+TstaX+GPLdNzBRfvO4cymqW1VfT8PJtbZ9nbPaBQEttZ5OLpT/Hqf/EdbDzyGSp3iS9/2Sptk9EagR09yrnxPioDJTOUzFFK0URBOVjgI/fcy8qJFeq9czRbloVhF++muBCIIWkYKCVx7Yi8o+l0NMH1CQj6gyFLS0P+83/5HUwXVtdWiGJMmXXxtoFgEwICqMMW0i6glMIHl2BmSmFji0CjpUeppIMJqZ3TG3QxxQHtxOK8oNsbMG1apk3NwQEoXaIyQxA1oqkJccKpU0vMlQWb21Wyj3GJH56bZESnZIbWLf2uRqrI/qjFe2h1jqQCoImWiRbsOsiETlhmm7zgwyGjB1B4JJ5shoWWgE0OcEei3YdYSdc0lLSUOrK7e5EbbzjO+r2PE2NiPyVR+UOSyZOjxNOiUC6Lgc+MOPlXX8+KwHlruI5X/OaPUWTzbEeFOnYzUwPdTodMRTJhMMrS1YZMBoZacmK1oL/YpWk8jzx8id1xi202iXGXbtaQtZGeLOit3YH3DxB1h5yaIOcIIiMTDUtzhlBFGiWZDxnF2kkunb/I5z+5Q9kd88EH3o2382Qm0ut0sdbSLXXKFkisHS0Nv/SWNyNFYHWpj7WaLMtYPraKMYbhcEin06HMNaUyiEzRWo8oFY21DHqrrO9ZLmxugRZIqSmNJgTPYj+fwXQcra3oxmRZW85MvMDhrKNrMux4ivUS1bazrEqy0ybes1ICb6d4EcmVwQhQRiGlQspkqeCCZW7J0DrPzsixP9V0VMZOCOzuBHwrGIfItLYoowEN9tB+WCVZ8toj8y7T0LKY9fiu15S89LoLdPOHaB/t8mUvseztT/jo2RMslJdY6+Q0TuDciMHoNLU8wFyv0LUm6yjy7hqPfephPvgz97B09ZDV51zB6POfR33sHAd3wUK3T+/4Ip/7zOP0O5p3/taf8tCju/z9b/5KHn/z/0XTKShjQawnzM/VnP58n/0zoE5VZK3Gu8in3/0evJ2gx9tsrT/ItLY0TU3dzBScMn2kC6mUouwP6HUHCDXFtpLMdHhsveY//Mdf4vkvvAmdWVyo0XpIVY8QKJQqcL6lbmqMGiSP+smUPJPkylDVE4hQGEOWCRAObwNKdrCtwDYTTl69zOfv32X9PAwXBa3XOBQmj1TVlBAFdZPUkIKN5LlHaEtsHZiSuaJi6YRmfOC4tCUoCrjq6h5tHIFQdDoFclrTFRUCxeZEsmgixkaKCDPI+qG2OE9FBUWgPtJrA4TEzZxBBZBJRZhRmq0QaKn56P3rXHVqiYVhn929ClpoUTgjUcHh2py6zfCuBaGgAB8VSiaTxRSQBZlSM9KIQAQxM2VM61BJzBhzZNeRRD1mT3P2Jv869jhd26A6ip2mpjF9ZOXoZ3NkAgoBWYx0MpMEdnVESDDRMdAKtEJcs8yDj02pqk2quMVCR6Nll1A3KNMDURClIPqkYiFVAClZWVmiFMm9z+Q97v7QwxxfvppOvoQPSUbLiEC3lEwmE/KyQ9tUSKmYTh1FWZAbzYkTy5Ra004nlIN52rblzKNncM5xsLcPQOMmECWt9/T6Q8qyy2AwYHN9A9daFoY9XPBkKicXgRglnTJZTXgf6HRKil4v2aZKKDMzy3xBCosUCfOW1MUCdjZ5Sntopk4vkv5hFCEJ/YY4q2WSQ+aocTgfMVmXUdWyPnWMoqeyJSFYGt+SH0JRLzv9Dz92Emprmew2vO6fD1HjcxysZ8RuROXJxmHOaP703DH+9A/O87IbLJ87PeK5t6/yDS/YIFf7ECSDTHJ+4wL+vi02P3QPz3vZjSzcfiWbYofl3nP5zNs+zvGXHafMJc10F5MrXHT0+/Pc89H7uO6Kk3xufcjc2YeZ6xd86dd/Kfd98KNsbh5wbH4erTWTei9dl2qE0ZE80zS1RQuBzA3OxtkBMVOVN+nALLIM0wm0dRdTNswNB7zpX/8a/YFiebXH9vZmwi1ai3MOY8wMOgaZTrhX7yyZMWiZrHx96+l3NQiHztL0vqVNtryd1MfOetDiiFO49vrjXBjvYnKNRpALi/AhBTMHShWoOiNY6BmJsYYMi2gk0kfmux0aN6FpIqqQCCmom5ookrVSxFM3AZNJBoXEZF32RuM/c73TxyRqsXhikp12VFLh98SjoVecPRajwDmP7ErOnN9iYaGDVsyCrU2TeCFwIRJCRMzEnC9fYkYceWqdHp5Z/LvsFz6zXPVZETiNNuStoA2CUEf8ckHrA6tKMpCQRejmYG2S+JcSuiJnLoDD4grD1Td1OLf9Iszeo7jmHE61ZL0FynIVqR8HVRM9SOuJ3qJLw8MPPcR3vurvMlxc4MGHznHH827ENhXrlzYRquDSpQ1ECFgy9vYO6HQ6TKcHuHZK3xREAQeTEZPJBNXtoXQXG8egIwuLJTFGBgOdICfNfKJX+oizMdEl9w+Y7wpimTNuRkgpyQR450jBbkKmQzrm3ZjBoIcxyUs914bd/X06vT7CeKzSKFlgo8V6h5D6iIYpZ+8Vgt1JjZgZg0Ha+DECsxs8ANPdmrqBoA1+2iKlZ32v4cSJPuONEeXck7fx4X1UH8Bzr6u57a5jPPiRA66/os8jkxFr/QKpNaYvyMMBpz9yD6/8By/n4c88wMmTE3Y2JvzC2+CbXr7E5N7HOb3bsnn/JU5dexMvfP33E9SYg90DToaca26/ke3G0Pz2J1l45U2oTp/H4i4uSLTqsLp4grvf/fu85vU/wl51kROX3o5aOMnNt9zCu3/kv/KSF1yHLCe4nubs+RGT0QHD+Q5SBLQSGA0xKubm+0c2JVmeynqlFOhI22qOX7PI+TPw3a99E9c/d4nFpS7WV/ig0LIkMk3qWbMsy7U2Adebhl5R0LY11XRKWZZIFKNGsT222M2E9VUIgrdkWdIbUFbgCmhrwX33PcawBFUIZBNZyRNWUgtNUzuE8OxtrCOEYEhS6x96Q9iwdFQk1lM6uWDnbEtvQbJ0bJHM7BAQZCoJ2tRBkElL3wS2RyP0k3qATwxTfIxH5fERGYPUFpBCHMklHhkjolKvVc8k4pTn0qThZEclAewQEdIRkLTO0lhFoU0q9aN4Ik4+aXz+hEMnzPqfsz2Znk8ihhyKBemZF70QKhFsZsnDM1nPCrmRGCLKCzI0A53jnCMzEi0hkyQAeoDWe2obaCx4Apkk8dAjSCwidvh/qXvzYFnzs77v89verbtPn/3uc++sGu2jXYDBBkyAAgdwUon5gyR2ElzBTsoVinKCq2Icx1UhieNyFhPkCnYWm8UstozkiEVCCCEkIWlGI41GGs1693vP2su7/bb88Xv73DOjkSw5cRW8VV33bH1O3+5+n/f7PM93Eayh9Ci5pTuLkjlCKgL+pJAEb3F1w8Xz57j//DZvfe0DaNfSHN9lfZKxvb3J/tEhm7vnOF4s7ulko6DrLGsbm5i8AKkpqyk2ZgRVsjdbMl/CwUHPzTtLrt2cUfeG3hU4UdBFgxWGXijISroosTHiEARpmGyeIaoMJzJaL3AiZb84leFlRogOKVLGTggJhYoQafqGED1d3+CDRcrklORjwIVI7wO9h8Z7akfSYltovcJicMIwbyOLDu4eeRZNpPeRqha0EXYemPCz/9V38lM/cJHpWpESCV/ldm464nXnM+TsDk10PPWiQXWC+R60C0HjIkdNzgP3TfjMJz/MxTecI+YaXbV0W/BLH32O6vIj9JMtnnix5s3fdZE7s+tILWiUImTrPP/453ns29+NnXleevoazcxhsgqTZQiRopNdeZGf//mf576H380sexf/7Lc/xa/9zM+QS7BFjbSeUR+4UG0mNDicjatI2mRXBnmecuCt65FKoI1KBiJV5KXnIn/1J/4XpjsFZy+soTKPtR5jcrxPRh1aa/Isw502oI6DYXIARGJaaJXhg2T/uOfmXs/eUc9RA300dCqntRKdKUwGeSaRJqUFWBexDlqbdqARBVIQRSBohVeaNkSijagYiH0kdp5SGaRzVEpzfCvwzJN7NMtIDBbnLN5busErM9MykdiJL7vFAfC9EuHJ+PK0g1f6zEopcb5PTBPrsNbT2ogiLZPgHj/T+ogLCTicuLgjv6JontSRU93QKsUhnbtp537v4wGxnkKZfyzpSDoz9Fqw8BEz6JadS5wxIyFDYp2nd5Ysz2DgT7qBaJ6ptN02apBF9inG1MjVE6SI+BMVgYwBoTWj0Yjd6XnaxR6Xzm8xnhRsbazz0vVbjMuCi2d32JmW2N7z9Befo2mWaCK+axmNNjje26f3cFwH5vURKnpGukIaQ1VV3Lp1i4NbB8lFqO7J8/wk1zwER57nCL2OCJ6oxsxdgUOhsp6sSNzBlX1cCCHltAhBVeY0yzlSZ6n1JiQqUwjIMIRzhZW70vAmD6srvKCPwLCJVSpl49y6u2Q8yrFOYDJFCJbPzkb80J8y/JUfuswffPCD3L0eeeCM4qnbr96qv/FNgcz3lOR0rYWqxrmKuVpSty3lHljvIVuy6wUvPnUNIaeo7pCiLOlkw//2i7/Jn/y2d/Gu73+M2/V1fL7LzTvHjKe79E3LCy88z3k9YbZmyGeC5aFN2eN4oksFa1/OOPrCAZ/50If4vfd9BHX4NLvjEkLL8fyIQE5Z5dy8PUvmIlrjbLK+U6SORpDaxbIsE2FdJtdyERVrm5v8pR/7X1nfyjhzsWCxaMgyQ54JYnQIGWgan9AVqdVv2+QMlOc5dTNH6wwpJb215HlO5qbYuqXuAKlYCBC+I2Qt7ihyfs0xySqOZy7FtEwlgVQkfQgoBY11ICRCRnobBltDiELS2paIHmJ3HShol24gwWd40aCESDQfzYD8AkprLMlk5PRx8vrLVyebJ4ua0wbEiVuMiMkA21nI0vcal+z83MDyUID1gajB+xOqeyrIr6AVvfII6fLxr3D8MaQjiQC9KsnaApsHJk4htGVNKYx3mNxw2AR6KSlloA3JZ7InYJQhREcuJONRRnesKbQglwW9sqA8DR2lb+lkBO3INVBERpvbZF1HIQoefOg+UJKyyNBGIF3NevTc6Ja4LqJszUMXz5LnObPZjF7BZD3nheevcunCg9Rtx3Q65YWnn+aBBx6gcy0Xz22ztzdDKUNWuJOZ2Z2DQ5AZAsPSduR5xeJ4hlg6lDKomExZlS7I8zzxP4A7hwuuXNlmUTfEzAyUEFCyJkqJ1C15MSK6lnpwagoEQhys6bxEGEPXCazzBOHpbU+MHqPBecvtecaP/rv38+9863ne/97f5WjP8i9++XMsu0ixXsKdhmOv2MwFtvVoMeagXfJtD51hzd0hasNCZgjV0bWCJ18I7GxtslY5pF/QR8HrzxQctZov7d+guvBuQqZ46eMf5cd+4s/w25864Olrd3ikvMatg9ciwh7js1fo/IJMK7be8KaUE/7GC9y+OeP673+eM9/6ZkLfYoVFxMD50WUu3K84eu4p/vxf/++Jdcff+OEfYPfsiNvP1+QXFNZ6RJTsXZtzdrtCipw879Geob2ukbJCaok2BhcdNjYc3jH8p3/573H/IyXnL55ja2uHO/t7uBBwIRXXVChbQmypipLj4zSGUTrdootkueaomackTx8I/R7jccCMs0RUDynTSgoDlSY7ssR5zVRniJghY0jFyETymACCG8xjnAchhpg3rbhrm2Gbk5CvWDEeo0+Ef2WxNi1yMimxQeGCxVFRypZ1I2l8GCJkhvEOq+J4b8wYTxUfFZOQgChwqe7ReTfMOYdljM5QSqDnLaM8ZzF3BKUJwuIT3x5nwfvEGPFE9ClkKCWIQYV1TzqZHnvye1UE0shgNXZZdZ0MRuLiK8ekX9fxR6JV96eiTV1vEd6jiag4hIkFQQrJ+8qHK2CgQEh655lMpngS8kxxqBqtclAFIoAIktC1RFujTYus0lX74nSdcxsZsalpj5bkWiO058x0ytndTd729jdz5/Z1MqMocsPm2oSNasLOdIN+sWStKLDLJefPn2e+OE78u9EIU+QIrZiOcwoj0SKwPirYnFTkCiZFhY6CUTmiynImZUWeF0ObVw6mu57RaMKjjzx8EgfsnBu+ZxFC4X1CpsSU0+MDWJdIIz4m1F1OpvgITdvR2p6290Sp8FFwewYbk7P8J//2o1xavMB7//HvsFwmvXqMnvHYkBnBlYs7uNbT+2SpF4jsrke2pslTQESL7WsE0HUWqRUHszld7+n7gG07cu3JzRpnpmP+/L9/P+V2weZZePOFMde+8Bnm+7eYH3muP/88s8bTDLJX6x2TzXUa11OuFaxvriEKibo7Z6wKKp2xvbXJxd0MGwOzrufq81/m6OZLlJWiXSzxQvLC7ZY2djSuPRl7wD2UnriyGUZlDPH0SJEzmUz4r//mP2D37BqXH7hAVA4b7MDFHJZxJ7aCCT2lyOb0msR4L9LZWpt8PIe/u7qfc4EQElshBlIQX0xWgZHBXT56moXF9wpBAarEkxO0IRiV2nSRguocgcxzctMBZEjpk0Ikl3Zr7alGOc1dBCo1tavZpEijdjmYkKgBGZ5uy0+nta5Mo1et/MkcdPg3RpEeWAAAIABJREFUDvf11lHmSSgXQkhZ7Ku2fGW9ePIYXl7honh5PRCvuN+/zuOPBOKUUrK0FkVOURQY11F6xZrIkULS2jTHkULjvMf6gI9y2CSnF9MAvYusb53F+bNMijscHh3SOUVwOURJVhiQGXH/NvXePpMLjyIf+R60KmlufJbyzFliO+Py1etIK5hurnF4+waVEhB63vja++m7jlwG+sUx22sV5vwOTetp+5boWuZdj3OO+65cYraYs3tmi+VyycZ4jaOjY5QZ0XTJ5/P4aM7+rEWoLJH2XcDHdBIZY1BKked5cqiXhrpZcOniZQBirFMMrLPY3mPykrq1aK9xLrKMgvXNDWzvOTqeYXuHWiywwtL1Eallkod6aFvHj36zZn10g3pvn9t0hADlZEQwUGWSSI93LZfOTvmWnYt8dn4NEzIaEbk0Pkt5pqB70SBGDqKnXYI2JYddjRRQtDnC9RhpOTeKEGpuzBa857/4J/zFv/ljfOHiGf7prz9FuazBZ3z5IPC2RzK6u3scCkOwnrIaY92S0fY2543ktvgyYnSBc4eKLz73RR76N9+NM4GgHSMxoakP+LWf+s/J6p6NyYiPfqGmVwZPS34M7SyntymkrHceRMD2gRAceE9ZrWO9Ihs1zI5K/upf+IdsXSi48vA2QWQs6kPWppt0XUdVpWiRvmmpqioVUhHpnSMrCjJtkolHTC5RCkWeZzRNg5SSMp+glwHb9iipUQKEVPi+BWmxmcCvSbouQBOI5PS1RywDa0IgRVqqvOy8AkQUKAFu0Hc7BDbhMBjsZbohHVMGsDEiCCiV0fhAHgRKB0wviRJWPrOrDjoEjzqt0BmK52qaGImEYYGkBlS4CmyLweGs58Hdkt721H1KBSCCH9AgJAAk9cuRZRQSufp9SFRMmvhkJbdClpI024zDORNP7g8vL7B/LGec1lm0ytDGUNuGSnu2RpMTPayzq+iKNM+JUXPi7gYIBiPgIAhRkY+mxHCAUmnRFELKxEZ5kBEhPXmlWPZzpqol9nMy7mL35lBmXL35ItvZiDdsvZbdtTHz+T4CiZI5d/ePkEKxvrtN2/ZkxZgXX7qOMSmr5XjecOfuXXrv0UDbLxE+EZUXiwW99WRlhXcRqRXZkNE6X9aMR2sEAXqwGFssFmhtyIyhXi7JlGa5XOJ6iyIShUiRujIF3EGap41ywzSOOTw6oGk6lDJE5bEhadRVrk8suqITjEdrmImgDkuQnkkLXudEZQjBDZp7h5KCYBfsPKDpP6+Jbc9aWfHW10ZMPOC5JUyVxHWBqhB4a5GZJwS4sTdjfCYjeo/WgaxfkJkJ3/1vvYX/42d+jbd+62t5+5++wos3l1y7+jy5gedvznjsygaHe3tUWU6Rj+ltisP15Fx46H6eeerLLAq4/8JFYq6JwtF3GtHVPPOFLyG8pg4VT79Qc+A00VtyCZ0Di6bv+xOjCCEkQqRt62RDs5j1FJOcerbDT/3kzzLehLe8/fUczQ/wTlPmm0gSxWjVBayQZ0KX/t42nnsnbowxoVSRHLR0SLO8dF9JDKkt9dYipcbFmOS0Oo2nYheoY5/UQlIRpQTv0Kfq5unwsV5KVm5Eq/MEIlaRpLIhuVmJwRB5NSOsnSMnzcz7b/CcTn5f8eUjyRUnDjmczx4toTIC2yZ58pBcSCC9FjAgUdQ9BCrkyccBeVKQ0zclXw8N/v9L0YQ/IoXTaJM4ZDHl6hB6VOhQssKJtDH0QiC8TzLJk+gJThCnwiFixLlArnLaJiJ1PrQ3Kffcewfa0HczqqIArSG09O0h6AWH117geNbz3X/6O+mXx8xv38SoklwGnnvhJXZ2dtm/dRuhDRZL3zuyfE5mJKNRhs5GrK9NeOC+C+RFipaIUnA8m9H2gqPjOXXdsKx7lk2HlJLnr16l6zratmW5mDFem+C6nj4EtBT0bUdwnlFZpRTjtubkjeEdeVbQK5kc1wePT+8Dz1+9gTEahMQ6hxCp1S1GGW3jkkFJSI7jy8Ux/bJkqiJ17wjTTUyMyXNTK1zfIIVESYWzHQ9cmCKesDi34N3v2KYLns8/ucedvZ43bZ1Hi30EqUVtejBZRhcje0cdO+saJQJFLmgP5/zuJ67y4sFVHj3c5pnHR5y/7zJnzp3nk5/8MF/eDzx4eRe6QxaHmszkFNtjmtZRZgW977jvoQcYWc0XPvj7XNEP0ltHHgLHN17gxvPX8DHy7NWaF1t4x5unvPjiMdKCyiHKJcvl8oQyBPfypyKBakNQTXL+o//gZ1lbT6+5xw5hagqjcgSKoihOCuYqVQDS+/keReaezM9kWUJ4Q3tugyeXEKVIEdAhoiRok+N8xEdLjKCUxoqExFoiXQCFYyQDhU7RLic0nBhP/GPlQG+KgQFrph/q/EAl0pLgQ4pXiZCL5GbUWMdOppEyOR4RSQupGE/Ov6+m2lnJHcPgDBZE0kj4GEEkgYcgUmSgcTQx0keBXMmR1TAY5d4IJf3ee3v6cOItP9SCU0jydCDiqkrc+zd+xX2+0eOPROF01uJ6T6kUTggIlkwCMhKkoA0OjKHve0LQg9dlagNSXl1kDTBKc3S8oFrLuXX3iGxznbYR+KJAVJtEL2hdxZe6N3H1+iEffbHhc7/yOLv3vZ4PPXsRfcvyFv95vp2f402PvYM3vu5t7B88B86wMZpgm4a1UU5ellRKsogB2bcc7x8RlxXVqKTteryPKFWm4b6WqaXuPSOpmazliPUJQhkWi5pLW5sIJWk6n4qcTUYh3keapmFUTaiqMXVd8/yzL7KxvkVwfaJwyaTtRXiaZgkClvWcnpR73fWg5L0AOiEFfT/Y0okBAIQUvXDh/odZ3v0s00qi+gapBdElN3ejNYLkcxjp4Oga/bHkwQd2Wc8cv/n4bW5ebbBBs/jsAWfXOh7eIaGVjGSsqwwHfaDZ87zzLY9w4bEL/MYvfowqu8bDOyXzvcjnucp3v+6t/PJ730+VrzF5/Tv4ux//Q37y7Qu65YIvPXWVB9/yXUidU5iScrxNreZ0dsFDP/gu7n7mGT793Jf4/m9+kEcfjMTDkre+4yJ1O2WkGm52Pe/5h4FmMmc63qBrl3ifXK9igCw3xKARItJ0EuQWP/ET7yGfwqNvfi2ymCGZokQkcJtgFb7LTgrgis60mmVKqZP/gE8G1FKZ9N4wmr7tkpolRsaj0aBbV4zWRgTrCNYSBfRziy5E8kmgQ1lF5TVSOAIp6PAwMwhpTyJ2hUhpq6utNs4nVOkjPia0HSN0w/WiyDSu7k+cLhNlKLJoQVcapV1aPLGi9wytOsmha3Wc3kvHMIC/UwslIVc8zWRkrYDpZEzwC1oPPRLjA6gUGX4accLLi9yqaN772ukH8pWo82WO8PIri+Ufy1ZdmRxhI6mHysgqj+h6Cl9xs4dlbig7UKOSXAJuH61zmjBmIsHSsgiCaGcpGbO3mFxzZqLZvXgH70Y8c+uYf/SRAz714gG/0T5E321CuYHYvIS+W2JHZ+GRB9k7fBt/49IxH3/yi5x/4DIPXXqERdAcH88TmtA14/EYlRmiqVksFuRVASJS13UaGoRAEG1KunSSLMuStyaeECO2d3gfh/lTWuzkOiVWehHx1ifunwu0ywV9U+NcoCozTKaoawiuR2qdQLOsKEc9lYROaZZzR1E4qAVzBROp8cohvKHvAlopCB0NUCg4aAOL+U22xldolnt0WtP1C0qTYZQZTkaIWEBSiV0euuxAamZ1oJ4JdIDv/Tcu8cTj18hHD+KLZ7GuRDRzvBljUYSuZd8b5hce5q/93Pt469kJftnS5Rt4MeddZ65w9epV/uR3fBP/9AO/w5uk581/9vu5+aVfZ6JmbJSB5qilzBrsWgVdR1EULJqOSbbDr37kn3Hx0nnmywXve/wGbQx893iKKBrmXcOLn73N9taCplAYPWNtVEBMURVlPkIJhTMtfd8STM5P/Ph7OHu+5L5HzqFLR9uNyH0DwmK7jPG4QuYCe2yT7R+cmFUXowpF5OjoKEn+MsViOaMoCqRUKJMWREop2q4DKZlOcsLxkmgADK1tWdvNWdIhtGBd58yeazGFIfaKECN9DMkMOCSTaohIGWlg2LCLIXBQEIVIM8fBRl1FhQ0wbzuqKmNZ90wFdNGjVKRxilmAicyYa8esDwgtED55aSZ1j03gQEA/MAEQIIMkhBUiHRZJXiOFJRcCi8Fry3oeKC20XiMUNDGS6xw9MEGcFKhM0Q9BcUrrwaVMpdECiogmSEGQyZ4xRI8QaiigX5lV5OOwgRf3YoTl6c3W13H8kSicEJM+27WURUkMaVB/FKDpe1wmOOoNxcC09sU6XSvYMSlsa+SOGUfHY9NrXN1f8IEnbvP37j6Iu/5a+HANbIM7B+rNsNZARfLkNAJRSoLqEHi0N9T3X0aIyPbEMcm2eOb6s6xtnKXp52TBUOYREedgYZQpxlsFL873iDHSNB0xpBfVBZBaM5pMES6Sm5ymabG9o7fDPA3F7HiR6LlRonWGMhqjCzSQCUXTtYBic32NZrEkOEdmFM6pdPX3glGhmC06jkRGJ8dYteAHvuU8f/9XXmB7A/rg6ISkCMlOznpLLtJzJ3XONO+o6yOCq7nvwi537h6e5Ki/2nEc9vjet13mvb97SK8mfPO7N5gtN/i9Dz/P2d2SCxcX6KbAq45FYRC9pfAt4uGzPPHENZ79hU/wgw9vMGVGtnmWp6/e4sWnD3j9m97F0x/9ENf/8Cbf/+3fxYc//Jv4Tyn+zI/8OL/zf/93vOMBy9Gtj+PZ5eL4EmMpCfWSD33w4zzxyWsYBQ9MS5566RogsEry8+9/ku31HXy+x/WFZbJVUDoH0bGcL6k3ZyizRdffxXcKSyD05/jr/83PUpY5Fy7dRwyB3i7J1DpKCdq25dz5Mxwc7N3zhAzDdtp7uq4b6DACaZJaKCApqoqu68i0OhkPrNBq0nEnVRsMxPIA2sQ0u4yAi6gI3iWWyWrFo2RADfSdZH8Y0zw6ORbSOX+iEAuBIUNcUAQYl5p8lHNz3zLOK6ytARDR0QdBax1GSLQUw+wzeYhqsfLHlGipkUA1pK0KIYnl4D0bEhtASkXv0ibdRYcSkmkhyU0gOgYT5CHxNbiXkd5BfE1EmJDpvbnn6QXQiffcYDD+lQqhQQX1DXbsfyQKZ9/3SDwheKKzeJE2y76GIstohGesl4zlnLdemJJLx4Om5KW7T3L1cI//51Oa9x14rk8e5cDnYCTqvoCJHjsp0VbCEoSLBDMiiAKpQSpHMUlPeLtomGQ5jYosbls2NysWN66TrWfYvmaUS4LvqecLvO3QuUYNaGwyymjqjp6ACx4pDSrKZP/mA962uNYSBxf1fAicEghyla6ATdfhnMNZRdvNsNYiVcozcsHTdy0+2NSmx4hzPcYYok8UDqUEQVccHjvGpuDKViJfSw9oENKQeHxhWIAkalTbea6cWUeJOfNlnbTqSg8mIq9+6LCJ9C1veHBM8JYnPnuLrobgSq48MCHEO/iQ5me5y2g62Lh8mY99+llmjeKx8R5xkaGrihhvceVMSTSCT3/scyzano2tXX7/I39A08N4XPD4b72PH/qRv8DvfOAf8zrTcORv0taWclIxm3ueePIaQhuEsbx08y7b9xmMb1CZoakVt4/32J83dKTteXCp2GV5xrLRXL/zHIKMamSQcpv/9qd/lq2dikdf93oCHidmhDAiRH/SNtZ1TZYVWJuWbyGkxFFIGfFN02BMfnICr2hPqasQeD+01UNRUDIMAX0D/WZY5Jy0nIM9G5GTccCqOVUkPfuKk3gi49ZD8VyZVZIciBhmnwGHxrM5mXBnL3EfXQChUuH1UdI6zyhXGCUx0hNkel8bJREKOhfIzNC+D6QmISLGp4LkGeiCQgz5SQlJSqEZZR7heyJDlEw8RT+KDMuq4T+zKp4iFf0huIOvVMjDvQJ5SqTxsnfwK+8Hfyxt5WJIGStGq+SoEsBHz0LCrA84L/i+zYw3ndnm8597ksfrhv9rLnn/0VnuiDPcGq9RVB3OVIkxKwzeSzyCPEDUDdY4TKgY64rWJYRJ8BgjmB/NUcIQhWNNO67ttzx0ZY1u7wbV2n30TU2WG5bzWTJIaDyNbWnqeQqk8hJFYH1c0nWp/TqatyxnNbPjeVpoeYkYOJjalEiZnOe97RNBfkWzQIBS6BipuwbveiIwLoskQ1ViQA2WrKqSUW704AMuRuaLmnKUs545zm9WtLYe3oSKELoT+gZRoZXluHE8emUHEedEmXFr74BCiledA60OIwy2t9y/7Xlh3tMvDWMlOHdlxNHdwM5WAcIjsh6jeh545M18+vM3qSg5NwnczTS67lBYprkm+IZzm2M+9/zTdOUaZW7Iippve/f384H3v4837ezz5Kf/gD/xHT/I3id+jXXjsPMbPHG15epLtwkxQ2WKoDzPX5vx0NaUifUYleGFI0gPjBB0VGXF3v6SzsPBvOOdlyYczSybG4bOwk//9D9gc1OyN6vZ2C65c+dOkha6SFFkLBYLtnc2B9nkkAYwIM62bZlOp8OCzg8RGeqEy6lUzmJRI+Upigyp8CFPhwEmWaEYFnhi4DGLMGykA6wKqhz4leJUYRFSDnrtZLChlExJqYETUw4A6TySSKlhlBvmtifLc6xPNCGnIq2LbI01ki5lSTmXCCrBIwJo1DAnTq7yWql0Ieka/MBHFYBQKZs9V9AMqHVsMnBLhJBphjosfWOMiXP9NVGmeDmyPCkmpwumJAifeKe8SvGMqyXSN05n/5cWTiHEJeD/BM6SXq33xBj/rhDip4D/GLg7/OhPxhjfP9znvwT+Q9KA4T+LMX7ga/2NEALSW3SW4foeqUuaZonKNhEjSW0dr9nq+eef/B3+Z/t9fFw5xP2ai9ISG8M4zlhjA99A9Dn45KoUrWURlswXNRk53d2ayUSznklwnp3pDle/+AznJ2MmozGRHq0Vj8sL7PgXGa9X9Hlke30TIQTrOxvUyxZRlvj9uwQb6Js+ySKVAgJVqfDOU+USLXMWS5doJ70H73EIFosFwQ96XCcSCdklowYXPK73WO/QWU5RlWRVyXStYrmYYYzAdT1llmPbBhEi3sO8cWwIi96qsNZTiZ4f/NYdfu4j19HWoVyPFTKZJotE7xLDwP9PvfUSz3/+KjGbcNx2bO6OaNv6q75eatxhm4jqenZHI77nWyoOlnfpuwNEnvPC85H7Lkm6WlO3hg++7wm2dyecKRtaB5f7jiNh6GYtR82U7S1DVu/x2CXYeeM7+cVf/S3uO7/F4x/9AA9dvkAnZmwtljz7289x5nWPcvjs0xw98zi/9tG7FFqCiGTa0vvUPv7WJxt+9Htz2r7g7v6MzQ3D+pbgD592tMxY1HDu3C6PvmYbWSpu7M+R5iL/09/5eTbOQrV2gW97xy5dXKLygmiXKKWp2z02N86wXC5X5wbOBrzvKMvypGhCWhQ57+mtZTReo2l7qlEBUgyR0wLvXEJjRtK75L3Z2EAMYYjBFXQu0juIIRlPB5HQkjICaZOSJvpAECmLfaBWkLLI5UBKj6mgigG5yaQwCgK0lPh2wdY0Y77vaa2E6JlUgnzrEnFxi+h7qiKjCw4dC1QMVDnIDEZSUxiPjD2hjRAsCkuoBvSrVx6yAq9z7LLjxTah84oqjQ+kwbqOoAandx9OjJJT6sY9KtIqb2ioHNxDj1+t+CX0KURKED3dk8cYEd8g0lwdXw/idMCPxxg/LYSYAJ8SQvzm8L2/E2P8H07/sBDidcCfA14PnAd+SwjxSPwaifLaaCBgu54ir1g1ISYXzNsaY0pyYci2HuCJ67dxVcmWXCMzhm0B5/sC2/cgEmetdorbh3OMloQ2Y9do6rv7nDuzgy8io2yEjNDO52Bb+qVn3h/Rtj1UJfV4yic//QQHc8lkzaO7yHi8RlVV7J49R985HtrdRQhBURTUdc3h4WGK79UmkXPVCOc8i0VNAGbHiRhtsgyAiMcHj3OSzlmSMl+hhDyhFSklCcHTNs1Je+acS2/EgVgcYyTPS8qiYuY61oqCoy61XTuTRHyWATIRiZkhdn3iwg7CO5NrRsUwk1UZWieVi9Dqq5L3rB/TLe5QdyXZrkTU++jS4HuNc7BxrsPaCTprGR8JXjMFYeb4FtZVzqH0FEGjgmC8k3Nnb859U9BecXD9Bb71m9/B45/4KK95cJPPPnWNs8UWek2Qecvl3V1ufPEJXrq2xKicrFTEUJ/kNykl0OsCKS+xt/9lNncnlGXgcC+jRdALQblesnN2Cyl7hFYYs8av/NIHOHO+Ym19yqUru7SdIjcjrN1DUtH0e4xG5clsMssyFvN6UGlZmqYhy7LBP9UPG9zEx9VaU9c12iRhg7f9yYb3hK4UkiGLs5ygxSiGi+lw5sgwGFcQT1x9xErAHQA5bKKjHDbggwIphoQ2Q0J1IQyFM6bfDxBijwggVZq9t7Vnxh7nTMD1DiUNCkFPinF23qOtoJz2XNwds7s+5Q2XL7M73WBUjtncGmGM4ejoiDt7d3nmmWd4/LZhJo643i3pYwQXUIPWPSHhe8ucGMPwHL2Sk7kqll/jeBXr9yBe7iG6GofcO/5/3qrHGG8CN4eP50KILwAXvsZdfgD4hRhjBzwvhPgy8E7gY1/tDtZ6NkvYjxmuXSb+H2Ns2yB9hfaWGZ5L4w3u3FxQhDPcWEItD2n3DhivTdmyjnpnExs98yJgnnmW9a0p5f33s3SByQOXuf2pJ7jy0MM8P9+HzuHnC0pVcdh25GaE1AYRDNfGj7Erfhkx8eRmSqClDdAuaq4/8QRd3/ChZXqz99bRdD4hOKUTbaTpTqRmbQPT9QmgOX/uIkVRolXF7u5ZynFJlQf03CFVjg4NnTaIZZOuwFEghUEqzfZ4xKHu6JggTA02AB297Sm8xQSL1QLXHmGkxLeerdLha0tWVoTeEfoepSNSliz7hlzAd7/9Mq45IogKxBIRFXszz3Rc0S6WGF3R2yUmy4hR4XpF3R0wXt8lky37hwc4UVC4WVKnBCgRRJbYVtKogFqTLOaBtarCFR1hHqlVRyegvbWP0XBzoZisjahfegqk5g2XR6hQ8x2vn5BVU27uzZnkjqc+8wyffLEgHNSoXBJChwlgSpjoksIERrrn9t27nNmo6MIFfvcjz0K5ZNFKxpOCRx7dxbueprVM187x3n/+cfIso6xyLl7ZIdBgZI4QFq0iTbPg/LnLHBwc0AuL855MCHx0SGkQq3Z9QPDOJ/ZEDI6qLGmaZlhPKPrWonVa7K3kl84ljb1ROX3s8D4DWSMcGJUTdU+wnmChcxFhBLZLp3qmNFGFITgtnIjI7xVlCUEiYkQMDE45iCcQgrp39E6RK4WSPR6PDB4H0Pfs154HdyuEajmIgmo0YXNrjMoLXLPk1qLjhS8tcP0+v/DBO2mMBBytCoyQJ5LTvGvTtVjAuTWNiJYs5ByFhEyJ9+azLoD10HaWySRH4hFKDsT4U7PMGCFAwl4RZNqSxxhxAqRIaFVxSnU0FMkgUoGVQPzXuVUXQlwB3gJ8HPgW4C8LIf494A9JqPSQVFT/4NTdrvEqhVYI8aPAjwKcO38W23cEWWBkQnFN07A2TlQRR6BtHOOxgfXt9KI6qL2mKM9DN2MpBPXtJVmvyTfHjK88gjw3wklQmWK57Nl+zYP0SMplYHm0oJACIyS5qYY5kkHFwDzbpkPTtT0mT/yykxdLKhAKJ33ahmuZTDSGHKLWBkyZJVqSNOhMctQ7slHFx556BhsCISqWy4blInHpRgIm0x3ObU8J+Zi/9mcfY7lMM7MYGrquY3b3i4xyRbNIb27rkoOScClDZrV4WF05LR6FpW+gyxyZjESRWj2xQhoZnN0qk4pJygEpDSnvUjJZK2hbkJkBMcJ5jSxqpLUs62MOD45Zm24TpKVuA2CI0bNy44a0RHCRFI8scqS3lHolgfOAwjmHz3KWjWeUCbRUeNfTR09mDHt3nuPy7jdx4/bTfPbZq7QHhunI4PrAemWYRsB4tIBSCc5uREZFQzHa4b2/8TTjSTJizkea7bNrSKGwsWYyGfHR3/sEeZZRjXLe8IbX0bRzjDHD40sIfzKZ0HVd0stbO1iipVn2crlkOp1S1zVFUZwUrNWcc/W8rj7XWuO9HRZ0Aq01fZ+28EYn7bgUgoHOiA8M5hapK4gxgpQn7aoQySxYRJEKwfC446pExsgrS0IcZHdKCUQURD/ozyPYWGKkRcQ+UZhILkkiBrRUHBwdcWf/AJfePsgqmW0DwwUh/d/HUQyzz4D0kRzJQkKUEuMCG+M1iPNkUzegX79CziTc6YfxxVcPUhvMSl7leGXa5WnEedqv81/1+LobfCHEGPgV4K/EGGfAzwAPAo+REOnfXv3oq9z9Kx5mjPE9Mca3xxjfPhqNUo60EDjbIUS6kgbrIYI2kt7CpMpgPMVFED4gygluVJJNcvr9fdYzBWWgwmLOlxzt3QQivrasC03IE3dOeIfJFEKLZNM/zpMdVTTE3nFsNrHZ5ITkm9ytxckNoZLZQohpPhl8kq7FQJkXuN4nDfiyxfZge8GNm/tElRNETt0FvNSMNyvkJvRTuGsPeOr2s/z2448zndSsjedsbzVM145462PrHOx9Cmvn9+R6Ic3Hgosn9Jd0kibidVQRGTyGpE+OMQyG2QLiYHmm4MxWcaI/PnGPkQIPWN8O5rKWRQPPPneE0x06M8Sg2NjYYlQZRmWBGGa2MdwzuY1hMINQht4JjpYWL/SgrklniPUBGyQuaua1RQiJ8p5cKPLcoKViYhTHd59ktLGJMOt8zzcpzj20w0hFRGuZlDnSBaZFy9S0nBtBNdrixh3J+pmCOjbcPZKcv7RJXqUOR+ss0b50gXOBR1/7ED6kDXnX2dTuBoF3KZeqXrYoaZJAQSjuLWnkyXO/KhorhyROoVAhZbIuvOMNAAAgAElEQVR/0/qkkMrBHORkyTEsmZIpLyAlfmiziZLoQ0JGMp64E52YaMR4ckvfkyfemasT8OR1Ge7TO4sPyVhEC0mRgwlzMt9iYkD44WTOekqj0aQwOQUonSGFoKv7gfAf6b3HxwQYrAwEA1ElOeci9GmmKiQjCZVKJuQtluDjsPCMw8VBDPP+5Mk51IuBSZA28yvfTxkTgn6launVPl49VyvzkVVROq3w+nqPrwtxCiEMqWj+oxjjrw5//Pap7/994NeHT68Bl07d/SJw42s+CK0Q0SLpyDNJYTRHtsPEDklBJaFRE3bcXaSMhHyM6yMPb0E7b1mojOnDF1CqooiCqVD0MsXb+mVHrHtCptGLBQLFWiboGkfu4ejmHcozOxzSU5gxUnvM9hWO89eQx7uEqE4RecFGSRtkQkUh4DxpQRBSGJzVEmdyjpct6Izj5RLnwCtF7FoCkSamHGnvWjaKKcvFMSUGrwTSNtjuNlr1ONdSForRuGV3V3L11lWkOoMPaSZl+/QmWrRL2roZjHRTZEKmDX3r+BOvGfEHN3qWMZJ78AqUtxhjqK3nwlpJb2dkKs01fbBEoalbR6nP07gjnBpx3LWcfVTz/vfN2NkteOc7e6KzCF8ig2ZztMn149lJq0Yc0IJ39N5SFmMOjiyF9hSZGiJQBF3vMZlk0faIGDmqMy5sTHDdDBE6mt6z6A1feEry4Gs6Hr50QKcNb1q/RX6+YP/YUo4jm+sF56qWzdGEna0H+blffxwzyWmXHdOdMWfv15SjQPCSopzwmU8/hZIFUgXe/a530NslITqIGqULmq5FasX65gYAWZGzXC7JyiJt1J0FJdnYTiYuUaRER6RivlhSliVt2ySHdylTwuPgioQUdLbHKI1QiUmSZRoXHc5D9B45XFtCSFr/ROsxRGlBxhOFj1AiUb9OF4t4bzYYT1WOKF5ePHWeIUPawrc2/e1Hd3JGeSpFN+ceawXBl0hqlBTkWmODIw5+CuPgiD6NJwUK75KiyWTD4x/qkZIwEgKtBOfXS7SbgQYvI8GfLloyFV8ideNxIRB86pbS/yktYRMtaaUQGhZJKxpWqkkpWyi+evE8/ZyIV/n6v+z4lyJOkXrU/x34Qozxfzz19XOnfuyHgM8NH78X+HNCiFwIcT/wMPCJr/U3nPfE4FFSkJnUDiWJmsVoyFHMfeI/BgKlspThkMtrcHlS8Ma1nG86X/KGbc1DE8VYevThHDNvCDf2sLcP0IuW+pnnKYOFrsH1NaKUrF3YpheOkZBI5TFGIQjo6f1oIelDPCHyJmPY9K/1jj56vISApveSphcczC37Rx1BjjiYdTRO0guN8wldBS8x0hBjitE4Xi6gkARl6bUjJJtEnA1kWYHJRyyanp1zFzFDi+ucQ4iIcxY5tLqphVwRqiXRg4+aBy5m2NbilUIGUtaLBAg0DZgo8cGRaXPP2i94PAKdZ0Qki7phvpQc7EVGWxPy0Q6BNH/NdIGWjjKTg3kEA81jRfUYbtERnSW4iI3qxOBCqHTlz7KknFr2nlpEnAqokCFlxYc+2fHwa9eYZsdkuSQsekQcc2EnTyF+Wc1O1rG1NmHr7Ov41JduMFpXeGwqmhcypkVBDI4YAl/8wku46Gjdgre89Q2YTCa6lk/P3aq9zrKMrutOFjlSSuyQJbT6fl3XJ637ajG0spBbmX6suoTV56sW/rT1nFCDybZk+D0DWZ2BYO/8oHKBIIYQtAGprrau90Yk9z6Hr14UfEhzehssQmp6J7hxN3DtZs+NWx1CKEalIbglUg0ARwxUIULy7pQSpyRBqqRMEmnpKEJS7oiQbt4LdGZOXL/SAxCoYBAiEkU4Ib2Lwa0pZQ6dKvavRIVfIyfola16/Goff4NIc3V8PYjzW4AfAZ4UQjw+fO0ngR8WQjw2PI4XgL84PJDPCyF+CXiKtJH/S19row7pSlUpzzgrUcJwJ0bGskORoxRMMsmsjzRC8khuOLudM+tzPveZuwgyfvhtawSp+OAXDzg4bsl1IiTPVcbyc0+yvlGxXu0w2R0RgkXUDRtrE0xVsVALgvXkeGTZYtoR0TtyIlGOCEJg5XAFCz5FcEiLVxN6H5jVHXePO4JU1L2lcRLQhK7DDy5OMXp8WL2RV+RlSSYMBQ7fZzRB0Hc9bzi3iQ1LpIoEmZNXGVGW6KygqlrqzhNbSxYzorDM3QylA95bsBlhsKWLaooJt3nrmZx/kcNe6wkTSd4KHB7pAsELrFugHCgjwadBetM0TNdKNqZn6WwLwkDjOHxpycOqY2k9oRmhleXQOqrYEvIiFfAQEYNphERw4AK5h+21jFkfsb7luHFIC9Mp+E5ihKHvW7o+Rc9++Ut3ubSbEUYlH//sMbKY8IE/vMn3fU/B5l3P2lQhq3XWzR5ve13FelGxVlb8k4/d5M7nPst6CNTOs3shZzotqPKQctDdeZ74zHOMRhl1A9/+ne/A2iQ80Dq5s/d9T9dZ8nLE4fE8sSbaHin1SdsYfDKmCR6UNCyXR+R5QqTr6+sIIVgulwihyPO0HCrLksViQZZlCBlPZp1915OZHOUkNvTYAEpEMpnjvMdJR2lzuqZPy5SxIWpAWnwU9C5F6Qpxr1CmuaY6RY1amXKs2vYIeIIJ4DWZzKidZRkiUVharxBKkc8CbYw8eClHip5CCoIIZAZMABsduHs5Q07EIWgNrPNJ1cQ9uvqs7lHaMp8LrqxnXFpXEEocNS5AkBE9XNyjkqiYvD6WrUWblEUfg0cqlfxJfQDhUVriXKDQOiFMAgKBGqSmqwufHy5UCWEKvJRoIArJN1o+v56t+u/x6nPL93+N+/wt4G99vQ8ieItoD5HZBkU+5sHtMyhv8ZmglZFMCfp5h94WhP3IC/tz9vqOK6OOzWmOyjw39yV1Y9lYm6IJNHUNKrL12vvZOneGRfCY6OlsT66mICKhnzGSHj0ydK0kKyYcLRomc8vaxg4HrqHwYJ1EZA6pwEZD5wx7y4b5rKFpLT0ZTWsRJk8EfMS92dKrXtHkPRrKKmdFCLz1XLh85oSKJIe4Bikl1ge0ybELS2/bRL7WCYmskFAQadbVty2ZktRK0/2/3L15kGzXfd/3Octdu6dneTNvxQ48AATAxaQIbqA2iiK1WdFqV9lO6GzlyuKqLHapUnaSipM4qiiqbHYcOZbKUmKlZJUlUaQkEiAJkqAkEiRBEiAoYgfegvfezJulp7vvcrb8ce7t7nl4IEHKroJzqrp6ptfb957zO7/l+/t+W8Odt2xy+al9vLEokYJwXXZcYp3oqrspQrjOe4p5PCMdabHCrJ6yvlJwEHbJBDjRIs0ISQvWoZKStu0ZuLue6BA7YUaJYmujwAXJbFZTjkqqdka1k5GKjFExBedwJoKirTMMBoIrs5bnz7XMdM7Uzqhtxs5Fx62rObUP1E7FVkDfUuSCfTx1K1hVYAnccsuItChJiwbTZqxvbPDIx55hOIDZtOU93/dmhGwJQZAk6ZwWrmkMKysrkYRCRfB60hHMQOxFH41G8yJR27bztsmek7N/TklJ0zRkWTaHMS1Ye5hf92Xvs38sSlAfze8JxJFw+9UA4gsYj7jmsVc3D9/uOan0PCKRIcLZpJRI5RF9ztAfpZELQBC9QmXEh3o0Uikq72h9C65BiGz+Hn8dE/bdeoX/Ksd3h/78lzyyNOW+e++iGJVc3LnEpz7xMT79yQd54alHuPTMIxxceJJR3pIoT5Z7igxuP7bCHaeOUR0e8Mxz2+xcPeT0+pCbNgfcfGzA8UKwmQU2jm91VFkJpjakwCCVZCKgpUKlGaiUrBwQDjwn11Z49sH/h60N0DrF1x2ezCuUGnBYJzx38ZDzV2fsG8HUJxzUFitTJnXLvPd1aURH4PqnelEICDQN3HHrqVjt7AkIhKYNgaA0G8e34i7rA8YtcmZt25LneaRDC4E0jfILLk8JUnDH6RVcUHhLJHgQChRoekGseLw9d6TWUSHTYNB5icCRpp5USwZDyBK4cmFMnhaxSEWOIH1FSBVCYGtQsqIDw8ThnWA6jXRoTimu7s8ivVgQmCYloMm1ojaBaZszMSvsNwqfOYqy5eK5BJIGRU7V7BPsjOObA/Rold/52EVMaPFTh5BJ9OxCjTcJx09vcelSYGUocA7e8Z63IpXrhO3kPPS21sb3LWEsbQdS740ZMNch6tsolVJzKeDecC73r/cGWAgxf65nUOpp6EIIBNmT98p5iC9CZH33Xc4uepNdiCr69tnFbLreWDbI/X3/d2yLvGa+Xtf/kizaEkM3cx1CeqQKaBnIFOQ63rKkQOuEIDxCBXTmEQSCNDQ0bE9bnBMEl9B3hC5vCEIsPNm+CDc/vmvXVwiL374MK/o24PZlBMR3Ol4XLZf7sxkffuhzPF1lVDZQ7dekeC7ujDmWa3Y2CprtmzkWbsFPE+6++SzHNRxODymTIY1IWBeWMneUmWU6q1GZBiWZ6IbcC7QLJKMoD5h5S2MaikIzmu2QTq/y7CMf5ZbBjJtPneFNP7bB0y9+jlBJ1I2nufDyLt94+hyWhJkQNN6gRDHXONeZwjYtqVTYbsKHILoJ4cHLJWNytOpspMI30btuDuGum0Zkad15fh4hE0JScPrWu3BW8uiXvoLEMqkmWBoymeKVQSjJwbRidZAgvaBpGqouh3X7umVAgwwSJyTGQyYVN2ykWGDWtDi34KIsy5IsyzBuF1hBJJrD1nAgCw5aTRsMqci4uH+IysE2U0QSsDYgdKzoShk5F9O6whuLk1DN4rxuJaiyYXIYKMaQZ4Y0N7gAl3cSxpVi77BF5eB9fG8hNdt7DU2qGdoJZ0+tsLn+Jh5/6YA/eugq6bAEBGs3NeTFgJWBxluB8SM+8vuPo7OUQb7G295+N1JPkDJjWs3IdKdA0AHYszSl7fKY/aJaVsLc2NhgPI5cAn0u3rmAVppq1syRBVIqDA0ieExdxWaHsJDImHuRPclH6FjRQ0cC3FXHZRC0NnqfkUotxM6irqTc5/IiWgIWxjPmCkMIqC6W70Hf82hHxJsJsZIvWKAAouzvwqjEvGts24xwNjcnGZEyoicSpRdGWVYQwFmNswJvHC0C13p0OmDWTjBCIq1B5gUhRNih7LxXKSJESUhFY3yE930LIydkPLCejPnbjR6SdfT/1z5eF4bT2pYzG6s8/cJVBuUAVUdwrE5zZt4wmRr+7DOf4VQ+5edv/VGeHVfsC8FwRXJaCaRLkEpibMu0bmi8jNRRxiItmMaBylkrHCcHCZvTXV54/gme+8rneOOtKbeeXOP7v3eN8089R7qzw0t7hmObBV/cm/KnF89TjQXpoKR2hsq2iCSlntaxEi0CTdtESV7f9yDLCBuZd0PEMU/cLxlPK45WAEdFDAezLMN4gZSazZNnyEcj2mmLaxuSPMU4SykzAjFcbExL1sGtQBBUgrRxATvveMOZlKe2Y44W4cDmHD+mkDjwgSTR8zY3pTRaSywOhY2V+kIhs4aL2xWphvU1i04jPZXQtiO7EPhYXu30nqCVgTyR2CAoSo8Q0YNTXhG0Zm8yYzMXJL4El/D8/j61AZUkFMqilKUERpmlKGE0yjiZ5Nx45nYe/vIlHv7sy/h1Bzrn9Jk08mUmUFUZeal4+MFnGI7iwnjvD9zPwfgq3mmqdp+iGCBDwmw2QylNUZRd2sPOQ+g+RO+r4sDcO+21hrz3DAaD2Eq7xACfpmlngP2RaMCZJkYFQcUcZ5oiUBEyFt+MoO9+iZ0+LMGL3NIi71BMLCrM/RN+PveE6FMEi/t+9N1nS1PzSPWkT/9oJZEyFqdkN6+l9IgQv8oTxdj6jy7ymJPMpSBZgUGhsSFjOjtkfw8CaQzLhZvjK3uYEABSEKyPkKx5J9biwK5v6JY3jVcvk1+bLvluxuvCcAqlUcaTBs1kWqN1RlCCZJCjK0sTHHm5yXPPH/Cz36f48qHmigm8dFVQhARv9jDkbAwF3reQKjYHBlnt8/hHf4v0cI9bT6/xwTdtsbY74eRpg3iHp3j3CT75kYf53D9/lHywyVW3z1MvtzxTtWwEzUSnZKakzmfUDcgwQBlLqBq8lDTOgQiYEAgukCZD8BWwhGkU/S75SpoBiMxIK8WAsZtSpJLbbthA7F/ANC1pPqKuW+49exdXr+4ilSJLI85DJTFULHVJCIHhcMiVnSgi4lpHZVLy1mOcQCYZD9xV8szVKSEYshzMjuCmExrjJkgpyYpYCXYuhq3Ggk9SnKtZzwdsH+xwxw2aVBSs6CFrxz2SBidWsXKCKEZ4fxXrHSKJC1Yphc8TDq2lcQKlHdIbVoshqZ/gixZjh1y+NOV979lkdjDhhfOSYerJMo9uC6SYcWwzcNtoyH23Fdy1tcGgTPnP/pcvsXoqp14xbJVrHDs+gKwlBEOhSyop+fQj51g9lmFNw7vvfzvOd8J2NCRyDduCdzVJksyF0/p8Y79Ye5C71jqyUXXV9T4sF0J00KN6juFs28hcleYpduai3hOK9WMbXdFI0LYt1rYIInNSkRZRXM9HL1NpFQt9oUOdxEAXRaSIiwZz2YD2HibMPSnReWoczYcuh8R90B3fFa1mIG76R2A8vsWHWHQVgQhaB7SXRwTZ+vc404IX1BbUJDARMCo9WyO4677ApFXI2hN8MscNRy98gSeO+GmJdz129ujxL/8v5gG/fM1Gsf++a73P1zJeF4bTWodODcYKyjzhoJ2wKkqq6Q7B1QzUOq1u2a8uwN4et2+eIq/hRHPAthtiS0laFhT1Hs997QtcffYbrOWWs7fcxNvfcZarl5/nm0+f53sKiV+VSG9pFXi/T6ENSTpk7MckpNx+bJXnLk6YOkcIhpkWuLYA4bGhISiHV1G+KMTsN1poggw4O+sKI8tbduimowc6BhhCvE5BoH2LpUEqwa2nT1Cqlsan1PWYcrTFiTvuo64NvjlEHjuNENAqTWaSmGxMPKvFemSCrwVZmWJUQ1EmGA+tc3h7ldVBiU+nDEKE/awUNatJSiYdSVkSbIPrvJeqMeTZkGArgpfsN9Cokta1nLxxRBCexgWsgyENlkAwNc4FpEyxbUBIgxCOSRv1gQ4OA6GFJJOkfoIVUKohup5w/73HGdgXWR0UrBUelWcYC8PBBCXg5lV47/1blEFgBym//cmXOX0soZ5ISg1rJ0Y4OWOoZKQrW7+dhz/8WcpcY0zDe773HVg7A1EQhEcGTZKoqO2tFUpHvfHgIg+k1IpgBUJKptMpo9EI2RV6UiFpWxNlWGCexyzLEuvaGHkES5Km1LMptm1RIoLXTdMiEVRtzKVq3XmkxFzqrDkkeElQLZ4SF2pc8LQ+eqs6iYxJSkoSH0k6AyaGxM7SCcID0AtMhBBz2Mu5vB43qVzs3J36lDwYWgJKxJYJLzSNNxjoyeKoW0sTAsGB8pF2zuCv5w9gfS9rEebMT9oprl4RvHB5ymhjnWOZYT2Z0FoYJpLdyuMiVQO2aZFK4YxD5gFHAyJn3pnGEmmJ6NgtXDS0qpMMjq/pjqL3qAEpJIjYLYWMxczv1AN9XRhOKSUvvfQCeX4zNliGZQGVx7iGLFH4YFFKcHA45jd//X/j9u/7cd7w9ndTnip4+uKED3/4N7k18RSbG7z/phsobngnj376U3zpEw+jU8WKmjKdGFyzhgmSPFe4EEgTTVmWBGdxOFRPktCNIOSCUXZxtIjgvn1OZFk3gH5XeyUPYPCC1gWMgJtu36SpZzRN7IcsVza59ex9tPUE4cV8QvRystZ7pFSvCGOEEJimxdR1p+EUqcdSKaAxFENF3oVKdR1oQsswT/HOYnwk0zXtjDQPMYebJ+xcmeB96NoKBU2HY7QhnpNZVcXdO7a5oHWCs4G2TZnWlvHEkKYaJRUyNGRSIZ3kTW/OWElbhE2jcJ2DVKUQDqNRXMn4wPfeSTU+QIw8Dz7k+OKTl8iKjCQ7ZGWwhU73KfI1hA8UZcbTTz/H2lrBZFbxwPe+BxcMSulFXrHDTgJzueU+5F6kW2J4Pq9wL4WLfatkVVUMh0OappmLvvXXZlnuoS8g9eF+j5bAx/xpURT41nb4z0X1vX9/l/Xs/g5zlch+rvbe5qujGo+Oa+fLwuPsX7BUbFkuyoh+XvuuYu5fdR2ozgeka28MAvbryHSfCri6v0e6mlAokHJx5MsGLHr/AG5+bpdxqvPjWipGiuXHBNc3iOHod303YfvrwnB679jc3OCbF2cEGahMQ2Y0aalJk04HXQle3p/yi//1X+X5/YaD5/+Ez3zm81ze84gXnuJxE3h+OORzX/pqzK85gxA5txc5b7x5g92XryBD2/WoJhRJgQkeckEINaNijboZk+sBnq4P3cnoAQhLzxUYea6urfD1BrG7HTGa16kGznOcAU+CFoJ6t+WDf/0s1BO01ujhOvfd/35cyNFiTFsdsFqcnU8IpRRBiQjCnpr5d/ThJdaRJZJZEwtIbd2wEjwrpQYd0EFyeXtMPTnEEthaG7K/P+H45jHWBxrbjNEiR6cJO7s7qESiUDQOEhFI08jbKAMcThuslTFNQMA4h20D2IztnRB1jkSgzMG7hiIvOLOlWBmBbuFw94ATWwFrWu68MeOwavFqyD031dx65iQnN0razQH/9299mWf2BGp9hY01x+bJ07TNPilrWHPAeLbOFx9+hvXVIVcPKt7/gftjlBBZfSPZhEqpmgkQFUGl0AgE1kRwetpJq/bh4nA4nBeHrI2NAnHOekaj0RzU3udEe2Na17M5XGk4HM4r9D1w3hiDMxGqNH/d+pAQIj2GtZYgA1KKeR6zF9jzPZdH6Fs1o/rWtxvLBjMiNgLBx0aEfqYKYnrgaPgtoiQNASvi/PMEnAhLs/vocIiYKgi9Ce6KXVIhhac2UJEhBxmimUWBtv44O3+5D6WXj3959GtoeW29liKP+C48zGvH68JwgmAwLHFu0uEWIdUaj4u7tJcIIcmGq/zGb32MZy5d5dyVHbJihMjWkatbZK2h8VHTW2vFrJqQJoq9Q0+RHUNhCMGhEQTTEkSCynOObR1DAW1jo7iVUjgCiZSEXnhLXINyWE6mX3PDX2s0v7UfkEiFax3WeG69cRVzsIPKFSFRiCLFmJZgptSmmhcnkiRBiHrehXHtgojwqehVuSDAS7R05BIIDmkDeZpQDiMZSSpbRqMRa6NVBnnB+fPPcmJrg2Alk/0DLl8d47wg0RkqKfG+jWzlSoJzBDTG1jH3JhUETyDFeUljDFILsiQhYKJ4oXCsrNQMkzWm45aVUiGCwoaG08dLnn9xD502bK5ssbrimVHyT3/jU1yZQJASW1uOra4itSEjQyYOmQx47I9fYrCe4QK87/3vJMhoGLROaFs79zKdi6TERVFQ1bH4M2dV77unrJ2Tdiw/74lia5nOIl5TRLiQFIq6qSkGJY1psZ00sNQKnSaRIUl1rZcywpe8cwyHQ6bT6dxQ915lP89AIJd4LHphORf8/LXCRy94+XWvWGHXw3HO4T4eoQRR29MvP9V9qey/nMBCijpGGK9igLpexyB8ZwYFSRcWOxM///BgiilLsg6wPgc7fRub9ufFdR6FZS3uv5PxusBxhgAvPH+ORGu0BN84vPFIoTGtxxlH0xicHPHgUwecn6b4/BT7lGxPp4zbgDCOUpX4WiBcCr6AMOS5C9ukacpgUPDy/gEy8QTXIJEYGxisDSkSifIC5SWZzuIiEREK432kjOslToMXr8CHHan2if4mF3/3gPdu0i+8VIk3LakU3HV2ixu3clQQnLnrXt79gZ/Ah0CWeA4P9xBZMg8l+0W2jBmExYRQSqGTYWzF0xmzFrx1pDZgRADrGBaSlZWCUVFw04kBzWSH2eEVxuNLnLnpDlyywcUrUyqrOXPDzRAkh4dT6ukMVawikoK66YpIXVhaG48gQaoVLlys2d6dIrUhUaCIrodQgsZaLr1QoGRgUEKSesrRaap2wEpWcdcNJQ+8+QRvuT+nViv87//4UbanUfjjDTcf521vPEa24Sm1Iks1Xp3kwQevUKwItq803P2mO3DdeZcixYVoaJIkwxjH6uoqRTGgbS3WxvBPSo2UOrJcGTc3oj2YvTe6fWGnD8eXr31RFPNQvn98MBjMZTXatsU5N6/U53k+b+ksOz2ivh0xfn7U4kkyjUokHo91sUTkEfEmwAvZERxff1yL3zwyXyS47vopIXoaG6ATXiMWf6L8huggQQBu7ple7xbneyQKDiGADzQ+drglCSgpYr5UpbG7aCnt0K+jZfuwCNUXm8pr8TKXf/Mrfvt1ztFrHa8Twxl44IEHaGqDtQtAsWs7HXUfoRWNdQTtCRiMrbqEsCPxUGUJxYkNBpurjOs9ssxR17s0rcV2nTGHkymEQN1U4BzZoKQY5LRN1eVOFtW8+RB9oPFdnqrrgnAXWD5vLfv7NW96452M96+SZBmr6ycwPvYd+7rBBUjL0RHvpzecy/AXWEyAuuo6XZxFq6h9k+c5rfMYA01T07QVwbdo7RkUCcNBwnAl58Vz53npwhWaqsZbx8HeLqvDguPHNrBNzaXtHaazWWyrkxJrTNQB19A0ht3dMWkiyLIMXOg2IAhe4ZxAqIyD/RmTqUWogFCevT2DlTPG+3DypGY0mnD5xU1+49eepKknKKHRPmVzlKFUhUk1UkVI0Scf+iqDdcn+Vcd73/NmykEEsbsQGYD6RVdV1bxpwBjTee4LpcM4ndwRMLtSCu99JCB2jqqqyLLsSB6zp5tbBsp77+dY0H6z66/Tcq60f5/uWJOWF3ZnexZV5qUcbf+YFGrBavUdjGUjci0A/nrzNQQxZyXqo6/eoF3vNj+aEOYBmE4kVkSJYiciAcj+JLLpX4/mbd4EIFjkhf8lj+82ZH9dhOrOBy688HVyYZi1BbapI5C1zgCBQSCDBR8ruRZBkAnBGBSBqp1AK7n4/POxMhokVW1AaD1RbdMAACAASURBVEwBL1yZcVp6Llwcc/ddN6CqAMMAaoiWCbZ1JKWCUEGYIdyQsZyhjSFTJV7EjiDh4y5PkPPJEHdWuTRp+t5Y302arpAUFEjBeH9GMPA3/6N/kw/88Lv5gfd9gNlkn2eeeYHGpJx7ecKx0Qk2Ro6rBy+BNdjDHQbHT6NVLAiokBHENikCqUckiccaGQtp3iMTjXGC0DqCgtpZJIq771B86ckpWseKaJYO8WZCCAO8MLQmMDOGNMtIZcLJ48c7VcYkgr6bmptvOUlVNezv71NkKUp6iiIaku2nx3hhkAkILwi2QSc9ztCitEYLgRKOagMe+fyMn/kBRRCSy3sT8AX3vTnhxptv4itfa/ijP34cvwpt0Nxz5xZ5LrFyTJqvkqM5aLb4xEe/Qbkm2N5p+ct/5f1sXzkg+G6B+UDa8RZoqeZepAsKpROSNEXWNd5beihWkkQ6u0XxSM0JPIwx5Hne6afHAlhP6ddzyM4xmT6mW5qugu4JpJ2hdqaNOFkbv88Yw6Q1SF9COOi8yYZUy47owgChMxyxar8g3hX0icDrd/wAznc5wwVuEyRtCOQ+Q1uHySw2RANmVWSyT3DkWlA7hQqexhkSKXACTCeAql4ltxqW7mXXCx6sJ1USEwKJiOoGL09hNVWcKAUzH6i9iy2dIiHLOtFAKQhE71+mkVJxbrpEvxG5+f/9Y3SA/le0uNLDuTovVAbCt9DYut54XRhOgeDd73gvv/vo7yFGOVIrbGPQnbcmRUcrBfN849xV76EJ3fYclu8BpRL2JzNuPpYxmdU440FJqmpKIQVpknLD6ZO8PG2RYjOya8uaBBD5CIME1+XB+rxmt6NeL1TwPvaZd3ijRftik3Dh/C4/9VPv5bf/339AcIIXnjvHx3/3E3g5RBfHyVaP8/jFb2Cyksn+09xx2wCcZyY8iS7AR+9mVlWxOOQXYfJyniZ6Wx7rIumG9Z6UyEAUEBgXMM7jrEcDMtEEqXBtFeUUfCBJFC+eOxc91TRFS0Wa5ngTvd0+v9rnBIUQNFUgLzVKWpyUKOGRos+FdRzQMuJZfZ2gyhKVOVw7YbY74ewtsLV1mkcePeQjf/QCo9OaXK1w9o51jh0rmI632Vg/ybSdMjOb/Mkff5FjWyn7s5Z733gT1cyRZhKEnFeye+9veXyrMG/ZawKO9Jj3n9ezIIXQk3Uw9077EcmQRaRbE5FfMqhFuKm1pu1QD0mSYGzMWcd8ozxyDBHMvsBpLudBX9P66rxVz1IoHHxsVMCz0FwNc0o2KTvPUhwFyMfP6zCfouuf/zah8uLcxrmllewwo3TXp39tB84Pr5KT5ZoK+nzCv0pVvT/YVzmmf+2r6gJ46ME/JJWSunVY4yh0QQh2ccFliHi4DjfWhwl0Xp70YV7MCT4a0hACMkh29g7JztzAAQnewsy2pMITmgMQNV61GD9mJZygNS1GKIZK0JiADteTtKcL7fvwqZ+M8WatR2tJ29ooA2At2xcPefHZj3HjDas8+tlPceXimLJYR4oSmQhcfRmTS5q2QhYrTIwizUq2XzpHO2tR6aKaayMGCJ10xaeeuq0vFghF3TYkSmJaQ/AeqTXjw318UIRgESha68i0wrqAbSMzvdQJbV1hqwqkQHdSxj2OMZEJQYQj4WOfOkgSSaIzCDZ2mSiJMx3YRdG1F3qc82S5BjfDhHWMn3DrTUM21ms+9cgOD31+n3ItwzWWxhjywYzZoWGQDzoyE8XvfPiLnDq+ShANb7jnLBtbA5I0w9gp4hrKNuBIT/i1hrQ3hr1RW84b9xRzQNftczTH1hvoqqqOFHiSJME4S1QXjS2E1i4QGQvquljtb1rfwZE4sviFWFTPF4bkOy+O+K4yH3puWRG9MYTvqOAUUth59R5B1DjqfytR4A+inZJd4NWrUQa+fdGmf43sGOwDkdrOOhDSxcIhywgCP/eiXwlS77k5v/W41tuMHxbxsNe88tt+1vJ4XeQ4G1Px1rfeyeTgEs1kF+UFtjZRA5uo5RO8ojUBbKSTEtYjbJj/7azFW4ezlmAd3sT7JBQ8f+EqPklpZMFsvyapJ5TVGLG7jRgH1oszcJhwsHeBm+87ya/+jft551DigsHIjt6/Wyh9keha3F//t1Ki41QMaJ1y9o57eO7ZczTtH/NnX/o8X3zoT9C1ZZSU5DLFoXGNxR3scPjsn3L/5g4/870ZD7zzHfzK//Rr/LN/8I85dfpudJGA0ly+vM1wOOxa+BxSRU9E6UWeTkpJYwNBZiAzQsiYTGvyPGdaWUJImNSW1gkmdU3dtpSDFba2TrC6MuKWG2/k9MnjbKyvkuUxvGxaC0pTW0fdGAIS6wJNa6kbw6xqKFOF8AYpQCuBFpBoSZEnlEVOojxKWFLtyJ3gjbdJLu5cwYWUs3ed5pGvKf70Bc/whEZJzz1vWOWt72pwxqNzQUPL3izlI3/wApun4PLuAZsnz3DqhmN4wNgZhHQ+r6yN8WSWZXNI0LXXrT9nSRKJQeCol7mQFBHz3GZvIL33zGazec+6MWbephlDf4N3BmfrGJq3DcEt8qa9ce9zoPF74rG/oqAh/NH/rzOuVwgRQhDk0sYql5wwAUI5vAwYI5FCxr5zHVMUSi9ytj2Ivv8eJSRaRvZ1SUCKTkDumtuCiCTE3rkABIGzMfLzAmqjQAW0AolCiHgMMYe/kCGJw7PAurruFl6xoV3v3BwZ85pGxxv6HXqdrwuPMwR44oknOH/uedK1FikhVzk6z8iyeMuzDCRY11eoPcKHfhube5/Cxwre/OR5wWHT4GxAyJTDgwlrqxGDqG2NVYKJ3+On/tr7yaTnjh9+I3z5IR5LDZ8IkkZYsu40zff75eQ314bqrltcirpq+aX/8ZdJkwIlbuH3P/ph3v7mt3DjqbvxQVC1Y/arlwDY2jzF/ff9IJs3nuXl577A5z77Zdw0MK0MxYmTBF+BY55TOwpzWiyqMD+O6Pm2JiBc5P9MdAZCEaSK/JdNQ5oIjHM4E3PI3oOUFikCuUooBxm7+wcx9FSag8M9cn20WNEbJK2inIgQRMlaGcPOPvTDWZSCtWHOVg4rA4+dCrbWJR/77HM8e8GRjAK+1QjpMOmMhDXyQmNahcxSHnzoSYajEdPJmFvvOMXZu07TWoX3hyhZYuVBbAfsjGOWZfOe8v5aLS+uZQxmX8xZLvL0jElJksyLSsDcm42tmguvu/dAlVII47sQX3bGMfIy9EWpPjTvQ/eeScmG5esZuuvbR1txwX9X62zpb9GlUJQWyCDxPhJkCNkRiISoY7QIxcWRyEuIviNuqUO8j0DEotgjhJh/sVIJ3hk8AesdSaI7SRERU2MiIINAyAVBybXm7Lqheud9Xi9Uv545/P9NqJ6mGXffeZJ773sTF6sD/GGFmjqEMVTVjIkwqMaAl0gZSLKMaWMR5YCV4YAV4ZEipw2BurEUacZ4bw+sIfGC225KaQcVo7TgYlqz9cBx0kmNu3oB/fxT/PT37KBmX6BtKtzz+4gnn+Lx8y8jxTGGkxEumc5TA95HWI2fz0IBPSOLELSNiZ1JzpHqjDI/jmKE85pf/tVH4mQVCX0WdHf/KrPDCV/49CP83r/4LKb6GISWZjbGiYSxUYi0JAQFsynl2ghvO1iS8Mh2RpbkjA/2OgOQIIOnaacYKzGmjjAbL8m8ZTBQmLohSwXTiWW0mTCbSXLRopKoBzSdxb7rLJUENFtbx9jevsp0OiHNEg7MjNzqbn0FnASLI8s1VdVCC1kWIsFIcHjXxmJVgEGScNNazfFsyP7Ucftb7uXDH36CJihC6TBOct9bjyOTAwpVIGmYUSD0Kg9/4musrA9precnfv4HqaaeumkBh2tVJHSuiKJ0nRdX5gWmabCtobVm7tn11fMQBFonaK2p6xYh3JEQ33vfFXsEpnUoreZA9r7SbkzvYbrYFKCXLAce50LcmIQnL6JnGlDkeWSQl1IiRSR3icUMFVneO31xiDlJIXqGDYfqNI/mWE8J1wvh4yYByxyw0QgGEhUZ3ZEeGwJpIfBC400buVGjLidWZXhjokyxjqB852WkjNOQyI78xPooNOkjHlRJkEicdyiVgLKxey1YEi1QwYPz7NSB20tBTmAiLB6BsRBk1CASWnUpMIem4wXFI9FRTtsJIn9U9EARcWM6kpcNSxjn7nEfAvhereA724xeF4YzV5IfeNeHuOPWz/Nz/8n/gS5zRF7SMEGurKBqQzuU+KZBIQkusJJr9usDrlZjdg5qjDcMtOLO207xhrMD3vvv3szWZsHdt5ZwcIH9K5I/fUZidrY5/OyU3W3Py3uXeetIsb094KQqaNYMuwdDjv/ZgINZiTzmmfkrZAy+5fFfbxe01qJFpGgDQJbs7I2ZTBsunNvl8OCQ2aymmjVUh2MSK7CujIWryTbWSZwJZDoDFPW05uD8S0gRuhBUUjc1OlmQU/TVfCkX3Ik9jV2/eBLl0EWGVg5H1EwKIqG1BhU8rXEURREnq/EENLNpy6xy1JUDAlleIlWDNQ3BC8ZTjyPHOoNOuvyiAlAIJxE4EikZHZNsrAROHFsH13LmVMq/+K0nqIxC5QnOeO596wbeH5CRUGQJwg+Y2pRPP/w1iiIKraEM44MpUqRzUo7ldtTem+shRaEzhIuCoTpCHrwM84EwD9GXtex7yj1YFJt6T7Zvp1zkQBfibdEg1wiYh/T9cRIWc8Z3gPmwlOT8LpEyR8arFZJerRr+at+7bIQkdL11dMxNMZdLF64HH0gUSBnbXIUXnYcqjrqA3WG5EJAyQSkXN4j++LSKbPBhwY2KXpisb5dTfeV5ePX/v9PxujCc68OMpx/7X3nmyd8hm62iR2eZMsEYiTl/nhvWNkkPBDsTKIcl41nFxM3YGChuObPBD/2l93DnG0re9qZbCe0OsrmMP/d5qpcvM/5GSjVLWNl8GzMfaPZSWrvG6fIE+pY3cGkIV5qv89BHH+T+t7+FN/wbH+JQ/l32dQ3tAKlWwS+4Ga9NUl978bReMANJ5Jx1xwE6HTLQI4r9jMaugHZMmkukw5J2/2WSTOOaKTbsYawkVRmJSrn4zDNcuPgCpbAI77DWYFzAoxEqi3RuHci6HES4jA0a6SWuq2T6TsBrUEisFfRiP42D1MAo11gX8MLh66jomIhIjry7f0hdWwQJRVGSZSmHhxfxOGoL42nO9s6M9RUVdWlkNALeEQtMYoCzFac2FZkybGy0+KTkYJxjnSMpoaoCOlUUucI0u0ifRS5SmfK5T36DLIesTKkqzw+9//uoaotz5khlf/ka9eF1Wzddjm6R2ujzmr1Xumw4+5xafz57AHtPOty01bwS3gPZe6LiPM9pTIv3bmEciR6ulgrBAtweDcECaN+0DUmm8T7Me7f744QFrnN5HA01F5v2tXOyf6/sC0JcW2h55VgOseP/CiFs9/eiSNXDeqRkHl4rFcPy6IUT8/Bycbxy4fhG7956hNRoLRAYFApPIJEpjgbvIirBydfAEbH8+1+jcfzXNlS3PuG3H97ni39yhrAyJQkGadf4zD/8+yTra2QiAfN3ILwFXIDqAmHvKcZPfQUPzIqK8cVVfv8rz/L15y7y0qUdPvBDP8+LLzzL737yUUJiuHfry/zwrafxfoNbbz/NbAKHOxdYGxwjT4+xI1f45FMXWTu8gfd95DHU5s3kswPatMWHlGuN5fWS0f19XdesrKyQyJL19dXurZYgaoSUHL8hZXVzFWMco2NTvvn415nOziFMg2unVKZC0mDNjER5VssUfXqTtSLB2a8xXM/Z3d+jahtk1bA2zGN/+xxEHTA2IGXAWBCyK4Z4wbG1gvMXxwQBUmn2p46DwwlaFnM4TRokQniCPYxEHt4wWCnn3zHd32fvUFI1Gbt7FbWxoDJc8OAdqZb4YHA+UBYJw+Ehm2twarXghhuHXLmwzq//7tPkpUTlGlMXvOntCiFbsmzGMB2yMhjSmhP8wR89Rrk2pKoawgx+6EfexXg8XjIyMuIkO4B7hElFo6ZUgvXRQEmlkbEETNsYXPBkMgMZ+9SV0JHezHW5UOs6zfN27sHWdQ0sqvB9eB55KhdM8t67+ftiQ0eCNS1lWeLsAsZkbUwZ9IU+pcURb7PHXl5vyDmyhK6hcTGuNQSK2AkcQkSm+HD9Akr/3rD0t1g80UGr4uNaxq4lrXt5FxBiQaRijCX4juhYRf2f3hKLsPh8CASpaY1EKU+W5PG8uRnexSJUW1ncSkAX6aI7qTtHfZfSMkRx/tvC4nivd15e7bHXMl4XhvPK7hU+9dWnaAYamd6It4o0MbRrxxh6BXqXyS/+IunWDTh5wNWDjHOTk4w++Hd59LmXSa8onr96mcc+/1WqaY21lt/+g9/hzrtv5+3vuI2ttTXeeeed7D72cWywPL9fc3a4zsY9txEmLVMv+Ou//M/5R//z32M6qWhykGGXxilUGCJor3vcy5NvudiwsjJESsmsmswvjAuaRJcID8q4jkDYMjv03Hn7vVzAMt65yPbhJbQICOFJdWTFbpoG5wIvX74UMa7WorWkFPmR41mEnYtw0gcbgfud4ey7QALE9r0QeQzrpu0KKSmmdfP3ti72VCvlsNZhTI0VgvFhYHu3oTEgRMug0GglkJ2n7UwsBG2MJCtDSSY8x09lzKzn13/3KdQgQZaGajxktOZBeCSKVOUk2tI6z0MPPUk+HOKFpWoM3/eDP8isGqN0RgiWnjJsGdnQS39EcmJFEKCSqDCppLjupndtyD6Hy3QpgN5AhhDmn4eIWFnRFX7maYGleaB12oG1Y8pkXj23S9XprsLe388X+qtYzf44r/VAY/5u4VUvz00hBdILfJfKERwtJF7vO673fxALYxcBTP05dHjfe7u9AkJvtEApAURM7/Jn956nVx2vgjJoWSAlmEDc6IgQKudC5F34DsZy6uzPUwi63nhdGE7v4dJeizCCYuUqQZbs0cLn/xrc/x8y/Z3f45e/fDfPsMVecoLZwQG/8Lf/U37hv/37/PRP/yxmr2ZzZcBf+vm/wkvnL3N1d58vffULfPMjn+Gee07zqU9/jifv3uc9x2tKnTM8cYZv7O2w/WzLlWdnqINdHms/z1TezuPPP052WJBnEreaYMYzSPWRRdYXiq4dIQROnDjObDZjb2+fIhuidQzVjJLUwtI4jwsJTQuHE0uaa/Z290jKDY7fuMrmiVtYV/vUk0Oe+OJF6lmgajOqukF3LaFCKWxr4oITCmNiuJrnOePDfZIkar4HEXDBEiURYmOd9yN80HE2oiOfUQjMWodIosRBcBGek2UjptMpeVaClJi2pm1rnnxqwmENXkqSTDNUljwTKBkLKa51rAwUaeJZKwPKBc6c3ODRP2n44tcOSc8ozBSm9YA3vGVGoh1FOmC0MsK7lsac5pOfeIJkFGhby/c/8ABSGZpmjHAZSlukyAgyhsR1XZOm6TzH2FQLUmEpJXXn/fVFoTzPj8j1wlJFuDOCWqp5T3rfqrmcS+2fE0LgOsb+yM1p50J7rhN/k5L581mm8aH3TBfM8UWuqdsarVWHcfSLSvcRY7lkEK8J1ZfHUQMRi1W98Yyv/dYSE9HbXITroWNp6rtyoqRvhJ3Jjl3EuYB3caPJc9V9Tnx/VbfkaSTAmedXu/3BqxA5MWXsZU8TTZFAliVMZhZ8PN+Hhy1lPoqSHp2b7QnIbpN5NSjS9X7ba3nsW43XheHUiUZQQ1JjTIrMFKppqO0bQbyT8+f+GV84PMXVMznFuMIIz/7M8Tf/nf+c++65l1/65V/ipSsXGO9/AkfF+vo6s6rlrjfcwQfe+T4+8O4xo9UNLnz5I2RFznOPPcGbzg6450TJ6tnb2d/L+INzLWJUMLtqkasNXpdRATJLkS7QyQviiazuMmSx7U1YjJ1CkGxunmASDHvTFt3LLgSNjxSxYAS+jYw9UiuEkqTJgGl1mUxkWFujkoKLBxMyucpb3vVBdnfPszOpqaZ7DMt1dOKoZztk+UrMbbpIHiEDOONQQlIWGd61SKFRpFE6OEisaShSRWUNTkqYeVbylCKRHNYNjZuQJZJBFg1qayU6lbRtjVIJk5njuZcmTBuFEo5cRqlYRaBtDeUgQZgWJaLh1cFR2IRGtuwbySNPTpBDQWYSgmkZDgQ+GBJVsD7MqKsLNOEe/vhz34Q84FxGVXmKUlHXpuvCiqQcPrQIISOLulBHUhVKJ9C0TCczTGvIk0gYPDUNAMVwEEP5RGMms2h8ZxWyIzRLdULV1LHPXcRLL7XCtjEEz7IMoRTetJ1nFY13wHUEyRbno26RlF2ftVQY09C2AdmxJOVpStV1gZmgUDrHmClplpCohKZpEdojZR8phAii98xZjKBr0Aigl5UzlgyB9307okD13iwe67t2yBCinLOMuMqgJEFI0q5ruDJdh5RtGRYZxjWkRYp3sdUxdJ8viB5zkiyF+J0dy1OJ7AuW/VPzkNpxKFJSnRGUoTISpTJaVzFIMpzNIrdEmuKDxVrI0iISEnedg7Kr7C9+91FD2HvLAWKDjFjAur4VNvZVbdZ39Op/ZSNw45nTGGPY3t5m+8oBRT7g3NVNyt1tvrJ9ngZPdekyutxiahouXrnI//WP/gkf+tCH+PI3niAdKH7yp36OM2eOsbW2gbCSw8PLXL084blzX+fgYMp7bs3x3rGerzHUjlQ7aA+guYqfbnLDTTeBUjSNR2YehEQRySKuzZ/U7Q5pniGEIniJEppgFWJvj5EXNCpyZxkX1TIFHWuRhoODCiFUBE3PYtudCB6VJEzHuwhVEHAcVg26OMFzLx0wLDc5NhrRNoIi1YzHY3QiKIskHkPM/ndhk0PKpOtUAUGC94YQBLO6jvkmqWiN4/DQYDQEoUhSQaoDZSbItGRjLacsBGubgqpqOLFynG8+NUFJR6IUWkWqsOjDeAQGnUCmcxSePAWfWEaDm3ji8W3KYUDlKZOxYWVYcurGhCSsUOYKYzRJWvDxhx5HJ5Akkr29mgceeOPRmbLkUfT5QWv9XN8HQGiBDRahBd54bLCgIHExHI5wrAgFCqILZVU0jDpNsL0h6OErYRFa957nMtGK6lIGWmuquu7C7kUn0nJjAhwtSvWENoRodKTsO3VcpIkTzNt24+83OBa6QTH90nuQ1+txY27cl8/fsoe9nLpQIkRoUwCp+hZMaJ1F68gY1qcVYo42MtP3ueYe77oArDP/vmtzA0eNu58fk5QLeWmkwzrwwVO3hjUxQIpFF9jyeb2e8VsO149iP/9843VhOK11PP3MCwyGBXmec+LEKbKs4P986Cn+/TPnubL1Fzh913l+9b/8H/jGE19iUA4pigE3/hfHaduW++64jbO33USYTvFVzi/9k1/h4s4uK6OUn/3gX+XUDTdz7tJjIBOksLQDh1y5l29cqjiTX+LK1ZxnLl3gh370g3zu4S+QZTLKsrYOXCTNcM7hYB7eiWKNSdOQKkWaSjbWR1zeeR6ZrROMJjQ144MGrS2WBhjE8MxYEq2pG8P+/j6haWirGGqOxxOKrKBpJ4yrKco5bFAUbLJ3ecaxQpJno044K3qYVYCNtYRZMCgVqewa05ImRZy8XSbeOo81EcQcyXAjFhDvsQZEKmJV3UcpCC0te7svxGJTEFgbcZlKCookUpABEBxpKlFaMcxl7DoJDSMJNsDXnm/Y3z+PTHJsgNBIbrk9QWcTUrnCjSdWEcLj04KPf/wKuoBEDxnvt/zoT5xFhRSCfAWdX1wEkaV9dXV9HoYLIbB+AWLvDZQxBiUkw+EAay31rIqtg11RpzcGsMg3XtumKaWkNVGK2bbtnEWp17b3fpEKqOp2bkx6+j9jDMPhkNbURzqSpJR4ZxDKkGgIwkKAItOxl1z7ObQn+IBXxPQLAu8C0vXQqWXg4pJRYkFKM6+Ih0Cqe0iWXORYccQI3SNFQCoBweCDQmuBVBrnW0SIBaIyTxZGz3kaO5336ffnbn5Ic1rPa9IKhE5CROBsQOqYP0aqiOf0cW4yNZw6LuepgWXo2fXGssFcTnUslXlZeKavlT8/jteF4RwMVggqY9Z49scHXD2YUeQlG3ef5rBx/MzPf4itR7/Mky8+zYMf/ziH4wleSD7y+3/ET/7kT/DjP/7jfOqTH8cz4fNf+Ty/8Hf+K/6tf/vfQ2Zw4403snPwEh/96B/yI/f9HOCZ1YYvf/XrnG83GJ4es3XqJKNtxd133cMffvihCD8xjhCiOFptWuxy/kQopKmRpiGRBUUxoFgZMX35AtR7rA9K/uIH72NlsIFAE4g9yPSEs1IyKEraFcvzFy8yGo2Y7Y+7nJyOJVAn0TpFBYc1Uwa5QCQt6EiT1jYNAkWRFkC3uEWkCBM+IELbtddFfsmqaZAix3k9l40TQqDznEQKpGzjohKe4IBgUFoDKhIzpIrgPGka81pzEH6AVEGaaGSIG4lykmLoEOkWX31uG50FHDO0kuS5JM9afICy9FhX0bgxj30hShcnOuNgXPG2t72FEGpaGyiumS/9dVimfwPmchbLjL7Li7Tnv+w91T7P2Buxnn8zy7J4mZdyiAu4kkeJpR54qWjpNdPtkUV87ft7Iz6npAs9fEcROt5PLWLorUTsB5ciEmp7H0H2CoGSPdlNZFiPcsFiLoHR/fLF9/c95qIzFF37Zk/AEos40dNUqC6sjf9LEedTqjMOJ4Zcx8/SicS7eKqVVvPcfyKzOaIgfufiiIRYbHjLQwAETwhRV77vUQ8ejLVkaYZE431PO+lftc5w7bi+x3nt+46qOryW8bownCdOnOD73/cjvPjis6SJZH11jb29PTKrkCua/+a//+/42MOf41f+6a/x6ce+iLWeKzu7bN5yAz/8F3+Cn/mxH+ddP/gu/uP/4G8xObjMlYvn+Ht/62/zzHOPc+dNt/LRf/ibTA4maJ2iBTSXKs7+BXjum3ucLvcgE8LLewAAGldJREFUXOHH3vk3ePapp7n59E0olSCSBGsDs6bBziuFC6KDOhlyeFiBn/Kj33Mzt5zc4i+/8Qx7dofgCs5d2uHrX72AI4KFRVd1zLOMuqpBxa6WjdU1ZrMZQitwnawxCXm2gm+biAk0VykHKZeuvBSNelw+iOAgtDgX0wXOgg+aqAwYPYir4yleJggx5PzLE9LEQ0hQHY2Wa2uQgjzN0BIIvlNXlDjj8MEhVKxwpqkg8SltaBACci3ItWQ1B6kMvpas6ISNzZSHvzDG6Sk6l5GgRWnWNlKknpHnKwxyiQiaVpY88shVnIKkLDh5+gY++KNnaZqrNNUaOutJVJaZ9eN9WZYdhCpO+skkyo444aN4Ho5ZMyPLMpI8QSj5/7V35kF2XXed//zOOffet3a3Wi0pshZbwnEWUsbICx7icYIdEmMWmypS8cAwLKFgBkygqCnGITUTp2pgioHADMUULmaSIRAmhkmgMCZAEtuJs0zi2I4tS7Idy5Ec2VpaS69vu8s588c59/VrqSWrSau7U7xv1at333233/n1uff+7u/8lu8PE0fY1FE4G9jbA11bsBhVZMidRZsFvlNtlM9OQKgmifddIkRx0lfePv1JL0rlcfjUtEqlgtW6TyGHeGWdpQt5qEYMeeFzLZ1AbDQK8eWjLtAVBqeIiCDOc9Q6vWD9d4tzA0cAplyqB9+m/6pst7EQDQ9/idbBj28ckY7ptntQ5BShUimKNHFkyMWilCMPHHNF4UgLRxyCqSX67gE14GIY+N5ojXLSt/x73Qxt/DFG45dIgVZvZnqOer1OpVJBAjWddTlKFj+wBrMGzrY4VSlEPwth+SWsr6o4RaQCPAok4fiPO+feLyK7gPuBceBJ4Cedc6mIJMCfAtcCp4F3OecOv9o4H3jf+3j/vb/BI488xObxDcRxzO4rdnN69iSjE5ehY41rJdRMTNyoMlob4V3v/HE2Njbw/z7/JVqdSY4fneGLjzzMsRPH+Y7dVzEzd4Jue56RkRGuv/56KpUa6VybzM5QqTQxyTjGnKaXFbQ6J3hi/0E2jW71+XtFgeiIIsv7QQdrLUXu30d6Gbe/9Ua2b26ybYPi5IlJJue6HD2TceToEU6mc5ycTskLi7gCUVHI//M3Sy/LOHr0GJUkodPyAYokSWi35rFqlsRE2KxAxwK2wEQWTY0iVySxT0PK8i6iFi7SskpIRJOlljTPiJM6s62U09PzmHgMXDcEe5T316nSQ1mQOQfOkuf+5tIFmFhQ4uu9tSuwtuPz97QhNpqK0UQ6RXAko44tY4qpUwqrDaoqdNuWej0OZBBC1oNK1aBkDhMJjz56FKsidKyYm+/wnW/cTmu2Qy+FqNoiL0bPe83Ecdy3HruBoi3Pc6yWvkVZWvgQrDSjsRmIUqS9Xr9GvOTZHGQiH/Shlb7AMqruI/i2H4UvioKkEtHpdvtLfP93gzX95U1s+77SwQomz/Oqgp9RhXLAAqVMX54i98v1UuF5d0O4VxdF3Pv3L6rfzsUtYgVyaiEZvwjBoazrXThOAr2xy8kyR5p73/ig9aa1Ji96iPJJGt6HLyEodnby/tJR/9IC7SfpK+X9qKFbpY5C0YAIxsiA/3ShLY1z7uxY0EVhsb9z5ZfqPeAW59y8iETAF0Tk74FfA37fOXe/iNwHvBv4o/A+5Zy7UkTuAn4beNeFBvAOe8dv3fu7/Ed1D5/7/D8SGUW6QRipb+Q9v/xv+eAHf4ep+eP87L/+aTZvnqBWq7Fv34t89KN/zme/8BBd5vi9/3Ifn/riP5KYCFXdyOTpb5DrOlTHGHn9Rl8GmHUgKpg7Y7BTMzScIWsd48CJvXzywc/xy3f/LHNzDjFVrLFgM1rpLE2ziZ7qkOUVtjULfuH2GzgzP0ukTvP1A6c4eDLn4NFjtBXUqglOK8aTOomGLhF5L6NerTA320FLxOmTx2nW6sxPT/noe5GDtSRakaYKiEHlpFmH7eMT1ONZWu2aX1JKjrgcJQZHhGdHUiA5URSIXqVAdMKpKWFyyrNs12WeQuVEURmh9fRvCN7HZkEpoRoZxDpsPwWlR+G6nivAaWoqQUubRFuEHsYqXNZkdCO8dCbj2UPTpAbIc2o1qFYdUWKBNhOjY4zGPWZbY8TRNqz5OroCeZqxc+s2uu0eSimSJMLmEWIzrI2JooROp0OZPL5AKAxZ5hPT+yzr1tdA28zSqDao1Wq0Wx2K1CtZCektON+oTIkhz3yAyff/MeS5jzpHke9jXyq3vlJQvnZdGUOa+4R6BhRElmU0m01Uz9/YuS2gpANUGgqLFu9LT7MekS6wRUyaFp7MpmepVxw2t0RRSOCxnuLYp+FIn6VLQuuMSkgFcmJDTm0oZyQDpbE2JPirEEWOrO8ZVfiacnJLZIKbwxnIwHdQNohWkIAr0uAq8lamCpVyokpXgCOKfX5CWSgAqh8A9edJkOCnB7ybwjjSQqFcRrMuIEJkygfXQnCpmwluvsPmzTmeHFshOuo/NJQrO2PawDC6WEH2XQjgCSeUoNzybc5XVZzOXwnz4WMUXg64BfjxsP8jwL14xXlH2Ab4OPCHIiLuQg4JB4XKODY1z92/8hs8/uXPMVpxjFWaHHvpBN9/7Q285S3fw+NffYi/++u/pdGoMTPf4j3vuYczrRl6LqPSzHAqRasKZ6bmiRLFzNw0x84c55WXDvPwZz7Jr990NacLR7V6OS8cnCbPY061TnO6U+PETI33/+ZvsX/vY97n5TJvRSUJLm5w5sQ0V792M3feuYuiI3zma/t59hsniJM6e777cva9so9NIyOkc/PYvGAkSqhtSMLyHk9kW/in9NHjJxgbG2F+vr0ka08c1cmyFMlB5Tni2kxPtXAC1Wq9z/1YBj2yLFhAVkjTjChSzLU1rxyfRcUV6hUfAScvPGGxDZS1UnIvWow4dKy806uwiILYhNSfwjPoaO2oGks1alOJKxhlyXs+p665uceXn0pppxrTUJBrGpUa1To4O0tkhB3bxnCqw3y2ib0HjtDuTvveQGnM7be9jU57ZumL1Bjm5ub6ymswaHO+hHbwPtBGo8HMzAxxlCBqMWuStZYiHF/YzFObil+qpoEf05cEFv2xe70etVqtX3fe7XbJc7892Iuo0Wj0+wuVFmrW80qn/LskSUIduyJ3itn5lCgyZEUeLFz6VVFAaF9drioUJhB8GyNAgU4WWoGkeYa1ECuFFRuINoRI65AlIrjCz5lCQPtKstJffJYOWOTnDbesv7aLc61cAKUWLPdBc7CULxC1g1jixEBo36yjon9MUThgoccWWJTWfT8oBDdFYUGdm5fqggP3bLeB6wu7sBJRl4LkQ0Q08ARwJfA/gBeBaedcOcsvA9vC9jbgSBAyF5EZYCNw6gK/T7vbIs0doiN++iffzd7HH6ZZ0yTacOSbR6hXK+As11xzNUeOHGFECVu2bEFrTaNWIzId0qKHizTzaZexaoJrtanHcPPVl/ND/+IXYfYEFdNA1CSX7XwNsdpIJ+nQ3HA5b4i+i8kTpzAmol6vMt1KoVAoJ2S2zbtuvZHvu3Y3s+0On3/+BZ49dIykNspINaI7c4pqBLNpxoakitUpuyYmSFszIJ6X0hjD3LxvCVKv1+n20kUJ2INIe5ZqPWZ6apbxhq9fNzqh1Z2j2+0SocjyXriQo/7NWhQukEhY0AlGt72P0hXEFX8D2sCwU15L/qmvUMqTK1AGCZRCqzyku2iUt22J44JEgbIFWU+hjKXarHLyZIdUg2k4upnyfI6qh1Ndktgw1hzFMU9Bwd79p2h1IUoM3VbO1i0jZGmHyPh6+bMx2NunVHgiPhhSvoDF29a37+1TteU5Eqyjwq+Z+9aIowjLX/8rpXIY7BM0qJDL0tTS+s3zrE8A0k+JCoGkMiIfRRFFCEKVMpWuBGsthTW0O11/Psv21DjynlemzjnyYkGBe95X/+SrVgxGed5NW+BbgBj/sM6ynLg2kKolYFOLLZznWFJqoKJqoefRomh4CKgoAXdOoGUw04Gz/mbxOexbmELfcoaguLDez9pXKdJ/UPil/MJ50VrRaXdpNKtBOS5kFJzPPlsqFSnYqH0ZloOLUpzOJ4hdIyJjwF8Db1jqsPC+lAjn/Dci8vPAzwNs3b6dNHekRY4i5c1vfRv1RpWxRoWdV7yBK3Zexptet4vO3DzNiuFf3riH2dlZTr30Aq9pGK698za27rySiZkz/M5P/CumT03SKizZ9h20nv4b3nlVxGXVGdp5l88806KVV6i0e/TaU8ykNdTuCb7rHbfwmU/cR3d+lkYco1XC0akOSX2cj/z3D7H34Q/wlQPP8uCXnsfaDkk0wnxaML55I1NTKVMn4ObrNrBdoBN1mLA5adKlk/UQUw0dFXPiOEHE0e120FotesIvPEUd7XbOaFNz6qW9sAGIqvRy3yUxiTzhbqfTYmSkRp77bo1GV5ifm0Np76eqxlBvxuS5b5iWK4UzjoIyGOCXS97v5VnzRYQ40hAiuIjP7TRKiLWlrjQ2d2SSYWIY3TDBU89NkUtB2xmKnid5qFa7xLEw2oBqVaHVLKJ3cGDvKdrZLDoCh+HOO9/hSU3SlEiPAK1zLp7BKp1+KWlIv/GpVaWPzH8GR7PZDL47Tx9ndLSoGVqapt7PSEkcsWD5l4q5HK+0tkpfaJqm/WZv1lqfnpTnlIEbay22yPtdLct+RFjn8xy7vcCs5CujGo0Gx890abUsJvGBEBVKOSuVpH+N6AEyEyWeRNi3jQlR5iJDiaBM0D8ClUShFSQVjRNfdivW9w3qFUVIahKfKuZcYOlnsRbEsxU55wL1O0hInC+XyGcrpXKufclqYKeSsh8HPkDmfMDIkx4pFARWJQmVV17Re3eS94UWzqEFTk+eoVHbFpLvF7PBL1KeVvr+Yxe2bRjbrwYdONXPPLhYLMs+dc5NA58FbgTGRKRUvNuBo2H7ZWAHQPh+FDizxG/9sXPuOufcdWMbx33+lgOHb12x88o34TJFNaoxNzdNsyaMNSJGGxHd1hkMHb7/5ut55w/fwu7LRqicPMJrklf4vj0VfuZHr+RNY6e5+wev4e17YMv4cTIO09y2kYaqQzFGt5PxyuHniGLYceV2Hn/ym0yfOs5YsxY4AwtGRya4//4HOPTMV3nh5VM88OnHiJICLSmFS0k7XcYbYzSLFj983S52SZetsWNHQ9jWSDBphziqkub+IipTZ0oux3a7teRyM89TsswhpEweO4wC8sKnq5S5jGX6zCCjeclCDlAxjnoFFD3E5WgJddzKYpRXhEY5vx+HFs9wowUoU0YKv6SKtCUylkiLj0gqRxTFJNURXnjxFEVUo1WAdYI2hsaIpl5X1KoRVRMRa4MTw9PPfJN2mtHtQVGA0Y5ub9a3qjARqV2aE6BsZVH2OcqybFHidjlvg3N4NvXb2ceVZMODSeqlUrJ2IbhRKs5yzku/XalMy6V4GYQqKejK3yrTkwYJk8O90ZfJWutbxlivYDRgRC3KGy7lLh8Eg/9L5iypXVwKrLVgIkWcmJBnav05187vj2OSWBMZCcqJvtXsrW4XfJbhc8jrHJRdRKO09NmPym2lpT+fg+dj4X8umwwt+DAHO3WKk0WKbPC6l5AKZi10Oj4g6IqFh97Fwv/8PyGiFPCqilNENgVLExGpAm8DngUeAX4sHPZTwN+E7QfCZ8L3D1/Qv+l/GJx/Ymhl6WQ545t3gEsYH5/g2MtHyPN5alVFtzvNG666nK2bRzly6AAHDzzJhrriyqvqXLMzZyJ/jt6hf+C2Wy7je68doTkxS7wtpvK6nXDZKN16j2p0itENXXbu2sCWHbt45vn91BLI0w7KejKIeqXKJ//uUxzYf5DO1D4e/dw+Rkc2Eolgo4hu0aM1m7M5Mdx0eZVrtziuaiaMasdIbKlry/YtPvqdF35JF0XxotxBWPpkR7GhyC0zU6doz53hyEsv88orR+h2fOCkbM1Q+tXK0+iZxXXIAuhQrWgqRjAKtC4VUJkW4m+KfpsDWajtLlNT+st5bdHKWzliFTqBWnUDL74wS6enaKVzIA2iGGr1gl7aQyRCG6hEIemwGKGXCxJ1aFQqGKO59da3YLRFqwhtYqJk6R4yaeqTzsvl1uBNefYclkqwZG8vioIkpBChfKqPxaEj02+KFq7tvh9t0KdXflf+9mDOqLf0/eeycKBUxqUiSJKk/5Arl/glqUf5O2maBhdF2XK4VOIL0etBa9sYH7wroZT2Jbx4qyq3/pg49v+jKIdROlQi2eBftBjjLb0o0oHU+FxFsjAv5edzo+NLvcrrfPChcj7kOX0SFS2+v73WEeL8tdP3klqvoP180s+ksC5f9NBcDVzMUn0r8JHg51TAXzrnHhSRA8D9IvKfga8BHwrHfwj4MxE5iLc073q1AZRzZC7FKcgzhzKabt6hbTWjFcNXj7zI4ecOkHaF79zzvYxvuoLRid0cnpxnvoiQeILX72nCaAMju2j0JsmyNkWWknSbFMpSqCpRfZRtm+ocfnEWPd2jOHma/ZO7eGLfGd7+c3W+8LHj6JEG7Xabj33ii+z/0of57Mce4ktPPomuN2gXbSgUVlW4+9abqPQmyaa/SSWJiTo9dG0cYx1J3kObEWLbo9uxxKJodX2HTSl8xcZ8u4WKlGeOEUuWd33DucJSFCmFtRw9tI+RqubQi8c5cOQYcRzzPa97DdVYUCEB2Vr/G3kelquFxRWaalTl5eM9Rjdl4DRFYalWHdYpYrOgtD0xQygBLAjFe57xvGIMIj0qAjhPKGIjS8Qoew+fQTe9BV11NZzqEhlBKcdI09BsWLSGLhX2PTtLWrT893mFm952I85ZOnkPlPJLtiIHLMosKBeLRRnFaHOs779Ms9TXkGuFloW+5Hnmb9RarU5h876i6ZX9zoMVlGU9atXEs7A7gxITouVtFFCrVHBWfGQeSExEuzOPc87TwhVlsruv1KrXayGNBjrdOWq1Ea8E8FZxt9vty6JCq2LfiTPHOkG0I0sVpydz4sR4RWtTlCswLOYK1cagjbcAcSVzk8YVkKc5OgrWJoLLC4qQ5hMlhl6WByUWYaJQalm4MKsKnEE5i8/+EZwVChei9ANNM7TyPtRqXCXLcv+PF7bvawxZ++eUpiZJhBWv4IxW3n9pfZ5wrJXPAgj+dWe9vzXSgbbPmb61q5Sj0AalNNOzLUwijG8cw/ceyrGui7KeH15EQOVoifC8qLmn7nP4+0x7q5mBB+LFQlZLQ19QCJGTeOfWeQNIq4wJ1o8ssL7kWU+ywPqSZz3JAutLnvUkCywtz+XOuU0X88frQnECiMjjzrnr1loOWF+ywPqSZz3JAutLnvUkC6wvedaTLPCty7P8WqMhhhhiiH/mGCrOIYYYYohlYj0pzj9eawEGsJ5kgfUlz3qSBdaXPOtJFlhf8qwnWeBblGfd+DiHGGKIIb5dsJ4sziGGGGKIbwusueIUkdtE5HkROSgi96yRDIdF5BkReUpEHg/7xkXk0yLyQnjfcInG/rCITIrIvoF9S44tHn8Q5mqviOxZJXnuFZFXwvw8JSK3D3z33iDP8yLyjhWWZYeIPCIiz4rIfhH5lbB/1efnArKs1dxUROQxEXk6yPOBsH+XiHwlzM1fiEgc9ifh88Hw/RWrJM+fiMihgfm5JuxfjWtZi8jXROTB8Hnl5maw5G+1X/gC0xeB3UAMPA28cQ3kOAxMnLXvvwL3hO17gN++RGPfDOwB9r3a2MDtwN/jCyluBL6ySvLcC/z7JY59YzhnCbArnEu9grJsBfaE7Sbw9TDmqs/PBWRZq7kRoBG2I+Ar4X/+S+CusP8+4N+F7V8E7gvbdwF/scLXzfnk+RPgx5Y4fjWu5V8D/g/wYPi8YnOz1hbnDcBB59w3nHMpnhj5jjWWqcQdeLo8wvudl2IQ59yjnFvLf76x7wD+1Hl8Gc8XsHUV5Dkf7gDud871nHOHgIP4c7pSshxzzj0Ztufwpb7bWIP5uYAs58OlnhvnnDsf3ePHw/6z56acs48Dt4osUWO58vKcD5f0WhaR7cAPAv8rfBZWcG7WWnH2KegCBunpVhMO+JSIPCGetQlgi3PuGPibBti8ivKcb+y1nK+7w5LqwwNui1WTJyyfvhtvyazp/JwlC6zR3ISl6FPAJPBplkH3CJR0j5dMHudcOT+/Gebn98V3iFgkzxKyrgT+G/DrLFC7b2QF52atFedFUdCtAt7snNsD/ADwSyJy8xrIcDFYq/n6I+A7gGuAY8AHV1MeEWkAnwB+1Tk3e6FDL7U8S8iyZnPjnCucc9fg2cluYAXoHldSHhF5E/Be4PXA9fg2O//hUssjIj8ETDrnnhjcfYHxli3LWivOPgVdwCA93arBOXc0vE/i+UZvAE6US4fwPrmKIp1v7DWZL+fciXBTWOB/srDkvOTyiG/X8gngz51zfxV2r8n8LCXLWs5NCbeCdI8rLM9twcXhnHM94H+zOvPzZuBHROQw3v13C94CXbG5WWvF+VXgtSHaFeMdsw+spgAiUheRZrkNvB3Yx2J6vEHavNXA+cZ+APg3ISJ5IzBTLlkvJc7yPf0ofn5Kee4KUcldwGuBx1ZwXMGzbT3rnPu9ga9WfX7OJ8sazs2lp3v81uV5buABJ3if4uD8XJJz5Zx7r3Nuu3PuCrxOedg59xOs5NysdCRruS98dO3reP/M+9Zg/N346OfTwP5SBryP4yHghfA+fonG/xh+iZfhn3zvPt/Y+CVF2brkGeC6VZLnz8J4e8NFtnXg+PcFeZ4HfmCFZbkJv2TaCzwVXrevxfxcQJa1mpur8XSOe/HK6D8NXM+P4YNR/xdIwv5K+HwwfL97leR5OMzPPuCjLETeL/m1HMZ5KwtR9RWbm2Hl0BBDDDHEMrHWS/UhhhhiiG87DBXnEEMMMcQyMVScQwwxxBDLxFBxDjHEEEMsE0PFOcQQQwyxTAwV5xBDDDHEMjFUnEMMMcQQy8RQcQ4xxBBDLBP/H0yZC9rnzJFPAAAAAElFTkSuQmCC\n",
      "text/plain": [
       "<Figure size 432x288 with 1 Axes>"
      ]
     },
     "metadata": {},
     "output_type": "display_data"
    },
    {
     "name": "stdout",
     "output_type": "stream",
     "text": [
      "설명 :  로스터리 커피집, Cofffee brewing, 커피티백, 더치커피, 수제카라멜 & 다크초콜렛, 페이스텀블러, 그리고 쥔장의 소박한 일러스트들\n"
     ]
    }
   ],
   "source": [
    "print(find_place[\"Name\"])\n",
    "print(\"분류 : \",find_place[\"Function\"])\n",
    "img=mpimg.imread('image/'+find_place[\"Image\"])\n",
    "imgplot = plt.imshow(img)\n",
    "plt.show()\n",
    "\n",
    "print(\"설명 : \",find_place[\"Details\"])"
   ]
  },
  {
   "cell_type": "code",
   "execution_count": null,
   "metadata": {
    "collapsed": true
   },
   "outputs": [],
   "source": []
  }
 ],
 "metadata": {
  "kernelspec": {
   "display_name": "Python 3",
   "language": "python",
   "name": "python3"
  },
  "language_info": {
   "codemirror_mode": {
    "name": "ipython",
    "version": 3
   },
   "file_extension": ".py",
   "mimetype": "text/x-python",
   "name": "python",
   "nbconvert_exporter": "python",
   "pygments_lexer": "ipython3",
   "version": "3.6.0"
  }
 },
 "nbformat": 4,
 "nbformat_minor": 2
}
